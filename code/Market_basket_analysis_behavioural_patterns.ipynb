{
 "cells": [
  {
   "cell_type": "code",
   "execution_count": 76,
   "metadata": {},
   "outputs": [],
   "source": [
    "import pandas as pd\n",
    "import numpy as np\n",
    "import matplotlib.pyplot as plt\n",
    "import seaborn as sns\n",
    "import re\n",
    "from mlxtend.frequent_patterns import apriori\n",
    "from mlxtend.frequent_patterns import association_rules\n",
    "from mpl_toolkits.mplot3d import Axes3D\n",
    "import networkx as nx\n",
    "import plotly.express as px"
   ]
  },
  {
   "cell_type": "code",
   "execution_count": 77,
   "metadata": {},
   "outputs": [
    {
     "name": "stderr",
     "output_type": "stream",
     "text": [
      "/opt/homebrew/lib/python3.9/site-packages/seaborn/rcmod.py:400: DeprecationWarning:\n",
      "\n",
      "distutils Version classes are deprecated. Use packaging.version instead.\n",
      "\n",
      "/opt/homebrew/lib/python3.9/site-packages/setuptools/_distutils/version.py:346: DeprecationWarning:\n",
      "\n",
      "distutils Version classes are deprecated. Use packaging.version instead.\n",
      "\n"
     ]
    }
   ],
   "source": [
    "sns.set(style=\"darkgrid\", color_codes=True)\n",
    "pd.set_option('display.max_columns', 75)"
   ]
  },
  {
   "cell_type": "code",
   "execution_count": 78,
   "metadata": {},
   "outputs": [
    {
     "data": {
      "text/html": [
       "<div>\n",
       "<style scoped>\n",
       "    .dataframe tbody tr th:only-of-type {\n",
       "        vertical-align: middle;\n",
       "    }\n",
       "\n",
       "    .dataframe tbody tr th {\n",
       "        vertical-align: top;\n",
       "    }\n",
       "\n",
       "    .dataframe thead th {\n",
       "        text-align: right;\n",
       "    }\n",
       "</style>\n",
       "<table border=\"1\" class=\"dataframe\">\n",
       "  <thead>\n",
       "    <tr style=\"text-align: right;\">\n",
       "      <th></th>\n",
       "      <th>ID</th>\n",
       "      <th>everbev</th>\n",
       "      <th>everherb</th>\n",
       "      <th>evermed</th>\n",
       "      <th>oats</th>\n",
       "      <th>lacttreathome</th>\n",
       "      <th>lacttreatstore</th>\n",
       "      <th>brewersyeast</th>\n",
       "      <th>coconutdrink</th>\n",
       "      <th>sportdrink</th>\n",
       "      <th>pinkdrink</th>\n",
       "      <th>noalcbeer</th>\n",
       "      <th>beer</th>\n",
       "      <th>wine</th>\n",
       "      <th>lacttea</th>\n",
       "      <th>fruit</th>\n",
       "      <th>veg</th>\n",
       "      <th>seeds</th>\n",
       "      <th>beans</th>\n",
       "      <th>wholegrains</th>\n",
       "      <th>nuts</th>\n",
       "      <th>meat</th>\n",
       "      <th>ComboSupp</th>\n",
       "      <th>fenugreek</th>\n",
       "      <th>thistel</th>\n",
       "      <th>shatavari</th>\n",
       "      <th>goatrue</th>\n",
       "      <th>moringa</th>\n",
       "      <th>alfalfa</th>\n",
       "      <th>fennel</th>\n",
       "      <th>milkthistle</th>\n",
       "      <th>nettle</th>\n",
       "      <th>domperidone</th>\n",
       "      <th>metaclopramide</th>\n",
       "      <th>increasebf</th>\n",
       "      <th>increaseexpress</th>\n",
       "      <th>skintoskin</th>\n",
       "      <th>shield</th>\n",
       "      <th>massage</th>\n",
       "      <th>pumpwhilebf</th>\n",
       "      <th>pumpboth</th>\n",
       "      <th>pumpafter</th>\n",
       "      <th>warmed</th>\n",
       "      <th>reducestress</th>\n",
       "      <th>coparent</th>\n",
       "      <th>family</th>\n",
       "      <th>friend</th>\n",
       "      <th>lactationconsult</th>\n",
       "      <th>pediatrician</th>\n",
       "      <th>obgyn</th>\n",
       "      <th>midwife</th>\n",
       "      <th>doula</th>\n",
       "      <th>nurse</th>\n",
       "      <th>wic</th>\n",
       "      <th>hospital</th>\n",
       "      <th>books</th>\n",
       "      <th>facebook</th>\n",
       "      <th>instagram</th>\n",
       "      <th>twitter</th>\n",
       "      <th>pinterest</th>\n",
       "      <th>onlineforum</th>\n",
       "      <th>blog</th>\n",
       "      <th>websites</th>\n",
       "      <th>searchengine</th>\n",
       "      <th>app</th>\n",
       "    </tr>\n",
       "  </thead>\n",
       "  <tbody>\n",
       "    <tr>\n",
       "      <th>0</th>\n",
       "      <td>1</td>\n",
       "      <td>2</td>\n",
       "      <td>2</td>\n",
       "      <td>2</td>\n",
       "      <td>3</td>\n",
       "      <td>3</td>\n",
       "      <td>3</td>\n",
       "      <td>3</td>\n",
       "      <td>3</td>\n",
       "      <td>3</td>\n",
       "      <td>3</td>\n",
       "      <td>3</td>\n",
       "      <td>3</td>\n",
       "      <td>3</td>\n",
       "      <td>3</td>\n",
       "      <td>3</td>\n",
       "      <td>3</td>\n",
       "      <td>3</td>\n",
       "      <td>3</td>\n",
       "      <td>3</td>\n",
       "      <td>3</td>\n",
       "      <td>3</td>\n",
       "      <td>3</td>\n",
       "      <td>3</td>\n",
       "      <td>3</td>\n",
       "      <td>3</td>\n",
       "      <td>3</td>\n",
       "      <td>3</td>\n",
       "      <td>3</td>\n",
       "      <td>3</td>\n",
       "      <td>3</td>\n",
       "      <td>3</td>\n",
       "      <td>3</td>\n",
       "      <td>3</td>\n",
       "      <td>2</td>\n",
       "      <td>1</td>\n",
       "      <td>2</td>\n",
       "      <td>3</td>\n",
       "      <td>2</td>\n",
       "      <td>2</td>\n",
       "      <td>2</td>\n",
       "      <td>2</td>\n",
       "      <td>3</td>\n",
       "      <td>3</td>\n",
       "      <td>2</td>\n",
       "      <td>2</td>\n",
       "      <td>2</td>\n",
       "      <td>2</td>\n",
       "      <td>2</td>\n",
       "      <td>2</td>\n",
       "      <td>2</td>\n",
       "      <td>2</td>\n",
       "      <td>2</td>\n",
       "      <td>2</td>\n",
       "      <td>2</td>\n",
       "      <td>2</td>\n",
       "      <td>1</td>\n",
       "      <td>2</td>\n",
       "      <td>2</td>\n",
       "      <td>1</td>\n",
       "      <td>2</td>\n",
       "      <td>2</td>\n",
       "      <td>2</td>\n",
       "      <td>2</td>\n",
       "      <td>2</td>\n",
       "    </tr>\n",
       "    <tr>\n",
       "      <th>1</th>\n",
       "      <td>2</td>\n",
       "      <td>1</td>\n",
       "      <td>2</td>\n",
       "      <td>2</td>\n",
       "      <td>3</td>\n",
       "      <td>3</td>\n",
       "      <td>1</td>\n",
       "      <td>3</td>\n",
       "      <td>3</td>\n",
       "      <td>3</td>\n",
       "      <td>3</td>\n",
       "      <td>3</td>\n",
       "      <td>3</td>\n",
       "      <td>3</td>\n",
       "      <td>3</td>\n",
       "      <td>3</td>\n",
       "      <td>3</td>\n",
       "      <td>3</td>\n",
       "      <td>3</td>\n",
       "      <td>3</td>\n",
       "      <td>3</td>\n",
       "      <td>3</td>\n",
       "      <td>3</td>\n",
       "      <td>3</td>\n",
       "      <td>3</td>\n",
       "      <td>3</td>\n",
       "      <td>3</td>\n",
       "      <td>3</td>\n",
       "      <td>3</td>\n",
       "      <td>3</td>\n",
       "      <td>3</td>\n",
       "      <td>3</td>\n",
       "      <td>3</td>\n",
       "      <td>3</td>\n",
       "      <td>3</td>\n",
       "      <td>3</td>\n",
       "      <td>3</td>\n",
       "      <td>3</td>\n",
       "      <td>3</td>\n",
       "      <td>3</td>\n",
       "      <td>2</td>\n",
       "      <td>3</td>\n",
       "      <td>3</td>\n",
       "      <td>3</td>\n",
       "      <td>2</td>\n",
       "      <td>2</td>\n",
       "      <td>2</td>\n",
       "      <td>2</td>\n",
       "      <td>2</td>\n",
       "      <td>2</td>\n",
       "      <td>2</td>\n",
       "      <td>2</td>\n",
       "      <td>2</td>\n",
       "      <td>2</td>\n",
       "      <td>2</td>\n",
       "      <td>2</td>\n",
       "      <td>2</td>\n",
       "      <td>2</td>\n",
       "      <td>2</td>\n",
       "      <td>2</td>\n",
       "      <td>2</td>\n",
       "      <td>2</td>\n",
       "      <td>2</td>\n",
       "      <td>1</td>\n",
       "      <td>2</td>\n",
       "    </tr>\n",
       "    <tr>\n",
       "      <th>2</th>\n",
       "      <td>3</td>\n",
       "      <td>1</td>\n",
       "      <td>1</td>\n",
       "      <td>2</td>\n",
       "      <td>2</td>\n",
       "      <td>1</td>\n",
       "      <td>1</td>\n",
       "      <td>1</td>\n",
       "      <td>1</td>\n",
       "      <td>1</td>\n",
       "      <td>1</td>\n",
       "      <td>3</td>\n",
       "      <td>3</td>\n",
       "      <td>3</td>\n",
       "      <td>2</td>\n",
       "      <td>1</td>\n",
       "      <td>1</td>\n",
       "      <td>1</td>\n",
       "      <td>3</td>\n",
       "      <td>1</td>\n",
       "      <td>3</td>\n",
       "      <td>1</td>\n",
       "      <td>2</td>\n",
       "      <td>2</td>\n",
       "      <td>3</td>\n",
       "      <td>3</td>\n",
       "      <td>3</td>\n",
       "      <td>3</td>\n",
       "      <td>3</td>\n",
       "      <td>3</td>\n",
       "      <td>2</td>\n",
       "      <td>3</td>\n",
       "      <td>3</td>\n",
       "      <td>3</td>\n",
       "      <td>1</td>\n",
       "      <td>2</td>\n",
       "      <td>1</td>\n",
       "      <td>2</td>\n",
       "      <td>1</td>\n",
       "      <td>3</td>\n",
       "      <td>3</td>\n",
       "      <td>1</td>\n",
       "      <td>2</td>\n",
       "      <td>1</td>\n",
       "      <td>2</td>\n",
       "      <td>1</td>\n",
       "      <td>1</td>\n",
       "      <td>1</td>\n",
       "      <td>1</td>\n",
       "      <td>2</td>\n",
       "      <td>1</td>\n",
       "      <td>2</td>\n",
       "      <td>1</td>\n",
       "      <td>1</td>\n",
       "      <td>2</td>\n",
       "      <td>2</td>\n",
       "      <td>1</td>\n",
       "      <td>2</td>\n",
       "      <td>2</td>\n",
       "      <td>2</td>\n",
       "      <td>3</td>\n",
       "      <td>2</td>\n",
       "      <td>1</td>\n",
       "      <td>1</td>\n",
       "      <td>2</td>\n",
       "    </tr>\n",
       "    <tr>\n",
       "      <th>3</th>\n",
       "      <td>4</td>\n",
       "      <td>2</td>\n",
       "      <td>2</td>\n",
       "      <td>2</td>\n",
       "      <td>3</td>\n",
       "      <td>3</td>\n",
       "      <td>3</td>\n",
       "      <td>3</td>\n",
       "      <td>3</td>\n",
       "      <td>3</td>\n",
       "      <td>3</td>\n",
       "      <td>3</td>\n",
       "      <td>3</td>\n",
       "      <td>3</td>\n",
       "      <td>3</td>\n",
       "      <td>3</td>\n",
       "      <td>3</td>\n",
       "      <td>3</td>\n",
       "      <td>3</td>\n",
       "      <td>3</td>\n",
       "      <td>3</td>\n",
       "      <td>3</td>\n",
       "      <td>3</td>\n",
       "      <td>3</td>\n",
       "      <td>3</td>\n",
       "      <td>3</td>\n",
       "      <td>3</td>\n",
       "      <td>3</td>\n",
       "      <td>3</td>\n",
       "      <td>3</td>\n",
       "      <td>3</td>\n",
       "      <td>3</td>\n",
       "      <td>3</td>\n",
       "      <td>3</td>\n",
       "      <td>1</td>\n",
       "      <td>1</td>\n",
       "      <td>1</td>\n",
       "      <td>1</td>\n",
       "      <td>1</td>\n",
       "      <td>1</td>\n",
       "      <td>1</td>\n",
       "      <td>1</td>\n",
       "      <td>1</td>\n",
       "      <td>1</td>\n",
       "      <td>1</td>\n",
       "      <td>1</td>\n",
       "      <td>2</td>\n",
       "      <td>1</td>\n",
       "      <td>2</td>\n",
       "      <td>2</td>\n",
       "      <td>2</td>\n",
       "      <td>2</td>\n",
       "      <td>1</td>\n",
       "      <td>1</td>\n",
       "      <td>1</td>\n",
       "      <td>2</td>\n",
       "      <td>1</td>\n",
       "      <td>2</td>\n",
       "      <td>2</td>\n",
       "      <td>2</td>\n",
       "      <td>2</td>\n",
       "      <td>2</td>\n",
       "      <td>2</td>\n",
       "      <td>2</td>\n",
       "      <td>2</td>\n",
       "    </tr>\n",
       "    <tr>\n",
       "      <th>4</th>\n",
       "      <td>5</td>\n",
       "      <td>1</td>\n",
       "      <td>1</td>\n",
       "      <td>2</td>\n",
       "      <td>2</td>\n",
       "      <td>1</td>\n",
       "      <td>1</td>\n",
       "      <td>3</td>\n",
       "      <td>2</td>\n",
       "      <td>2</td>\n",
       "      <td>3</td>\n",
       "      <td>3</td>\n",
       "      <td>3</td>\n",
       "      <td>3</td>\n",
       "      <td>2</td>\n",
       "      <td>1</td>\n",
       "      <td>1</td>\n",
       "      <td>1</td>\n",
       "      <td>3</td>\n",
       "      <td>2</td>\n",
       "      <td>1</td>\n",
       "      <td>1</td>\n",
       "      <td>2</td>\n",
       "      <td>1</td>\n",
       "      <td>3</td>\n",
       "      <td>3</td>\n",
       "      <td>3</td>\n",
       "      <td>3</td>\n",
       "      <td>3</td>\n",
       "      <td>3</td>\n",
       "      <td>3</td>\n",
       "      <td>3</td>\n",
       "      <td>3</td>\n",
       "      <td>3</td>\n",
       "      <td>2</td>\n",
       "      <td>2</td>\n",
       "      <td>2</td>\n",
       "      <td>3</td>\n",
       "      <td>3</td>\n",
       "      <td>3</td>\n",
       "      <td>2</td>\n",
       "      <td>3</td>\n",
       "      <td>3</td>\n",
       "      <td>3</td>\n",
       "      <td>2</td>\n",
       "      <td>1</td>\n",
       "      <td>2</td>\n",
       "      <td>2</td>\n",
       "      <td>1</td>\n",
       "      <td>1</td>\n",
       "      <td>2</td>\n",
       "      <td>2</td>\n",
       "      <td>1</td>\n",
       "      <td>1</td>\n",
       "      <td>1</td>\n",
       "      <td>2</td>\n",
       "      <td>1</td>\n",
       "      <td>1</td>\n",
       "      <td>1</td>\n",
       "      <td>1</td>\n",
       "      <td>2</td>\n",
       "      <td>2</td>\n",
       "      <td>2</td>\n",
       "      <td>1</td>\n",
       "      <td>2</td>\n",
       "    </tr>\n",
       "    <tr>\n",
       "      <th>5</th>\n",
       "      <td>6</td>\n",
       "      <td>2</td>\n",
       "      <td>2</td>\n",
       "      <td>2</td>\n",
       "      <td>3</td>\n",
       "      <td>3</td>\n",
       "      <td>3</td>\n",
       "      <td>3</td>\n",
       "      <td>3</td>\n",
       "      <td>3</td>\n",
       "      <td>3</td>\n",
       "      <td>3</td>\n",
       "      <td>3</td>\n",
       "      <td>3</td>\n",
       "      <td>3</td>\n",
       "      <td>3</td>\n",
       "      <td>3</td>\n",
       "      <td>3</td>\n",
       "      <td>3</td>\n",
       "      <td>3</td>\n",
       "      <td>3</td>\n",
       "      <td>3</td>\n",
       "      <td>3</td>\n",
       "      <td>3</td>\n",
       "      <td>3</td>\n",
       "      <td>3</td>\n",
       "      <td>3</td>\n",
       "      <td>3</td>\n",
       "      <td>3</td>\n",
       "      <td>3</td>\n",
       "      <td>3</td>\n",
       "      <td>3</td>\n",
       "      <td>3</td>\n",
       "      <td>3</td>\n",
       "      <td>2</td>\n",
       "      <td>3</td>\n",
       "      <td>2</td>\n",
       "      <td>3</td>\n",
       "      <td>3</td>\n",
       "      <td>3</td>\n",
       "      <td>3</td>\n",
       "      <td>3</td>\n",
       "      <td>3</td>\n",
       "      <td>3</td>\n",
       "      <td>2</td>\n",
       "      <td>1</td>\n",
       "      <td>2</td>\n",
       "      <td>1</td>\n",
       "      <td>1</td>\n",
       "      <td>1</td>\n",
       "      <td>1</td>\n",
       "      <td>2</td>\n",
       "      <td>2</td>\n",
       "      <td>1</td>\n",
       "      <td>1</td>\n",
       "      <td>2</td>\n",
       "      <td>1</td>\n",
       "      <td>1</td>\n",
       "      <td>2</td>\n",
       "      <td>2</td>\n",
       "      <td>2</td>\n",
       "      <td>2</td>\n",
       "      <td>1</td>\n",
       "      <td>2</td>\n",
       "      <td>2</td>\n",
       "    </tr>\n",
       "    <tr>\n",
       "      <th>6</th>\n",
       "      <td>7</td>\n",
       "      <td>1</td>\n",
       "      <td>2</td>\n",
       "      <td>2</td>\n",
       "      <td>3</td>\n",
       "      <td>2</td>\n",
       "      <td>2</td>\n",
       "      <td>2</td>\n",
       "      <td>3</td>\n",
       "      <td>1</td>\n",
       "      <td>3</td>\n",
       "      <td>3</td>\n",
       "      <td>3</td>\n",
       "      <td>3</td>\n",
       "      <td>3</td>\n",
       "      <td>3</td>\n",
       "      <td>3</td>\n",
       "      <td>2</td>\n",
       "      <td>3</td>\n",
       "      <td>3</td>\n",
       "      <td>3</td>\n",
       "      <td>3</td>\n",
       "      <td>3</td>\n",
       "      <td>3</td>\n",
       "      <td>3</td>\n",
       "      <td>3</td>\n",
       "      <td>3</td>\n",
       "      <td>3</td>\n",
       "      <td>3</td>\n",
       "      <td>3</td>\n",
       "      <td>3</td>\n",
       "      <td>3</td>\n",
       "      <td>3</td>\n",
       "      <td>3</td>\n",
       "      <td>1</td>\n",
       "      <td>3</td>\n",
       "      <td>1</td>\n",
       "      <td>3</td>\n",
       "      <td>3</td>\n",
       "      <td>3</td>\n",
       "      <td>3</td>\n",
       "      <td>3</td>\n",
       "      <td>3</td>\n",
       "      <td>1</td>\n",
       "      <td>2</td>\n",
       "      <td>2</td>\n",
       "      <td>2</td>\n",
       "      <td>2</td>\n",
       "      <td>2</td>\n",
       "      <td>2</td>\n",
       "      <td>2</td>\n",
       "      <td>2</td>\n",
       "      <td>2</td>\n",
       "      <td>2</td>\n",
       "      <td>2</td>\n",
       "      <td>2</td>\n",
       "      <td>1</td>\n",
       "      <td>2</td>\n",
       "      <td>2</td>\n",
       "      <td>2</td>\n",
       "      <td>1</td>\n",
       "      <td>2</td>\n",
       "      <td>1</td>\n",
       "      <td>2</td>\n",
       "      <td>2</td>\n",
       "    </tr>\n",
       "    <tr>\n",
       "      <th>7</th>\n",
       "      <td>8</td>\n",
       "      <td>1</td>\n",
       "      <td>2</td>\n",
       "      <td>2</td>\n",
       "      <td>1</td>\n",
       "      <td>-99</td>\n",
       "      <td>-99</td>\n",
       "      <td>-99</td>\n",
       "      <td>-99</td>\n",
       "      <td>1</td>\n",
       "      <td>-99</td>\n",
       "      <td>-99</td>\n",
       "      <td>-99</td>\n",
       "      <td>-99</td>\n",
       "      <td>-99</td>\n",
       "      <td>1</td>\n",
       "      <td>1</td>\n",
       "      <td>1</td>\n",
       "      <td>-99</td>\n",
       "      <td>1</td>\n",
       "      <td>-99</td>\n",
       "      <td>1</td>\n",
       "      <td>3</td>\n",
       "      <td>3</td>\n",
       "      <td>3</td>\n",
       "      <td>3</td>\n",
       "      <td>3</td>\n",
       "      <td>3</td>\n",
       "      <td>3</td>\n",
       "      <td>3</td>\n",
       "      <td>3</td>\n",
       "      <td>3</td>\n",
       "      <td>3</td>\n",
       "      <td>3</td>\n",
       "      <td>1</td>\n",
       "      <td>1</td>\n",
       "      <td>1</td>\n",
       "      <td>3</td>\n",
       "      <td>1</td>\n",
       "      <td>1</td>\n",
       "      <td>1</td>\n",
       "      <td>1</td>\n",
       "      <td>1</td>\n",
       "      <td>1</td>\n",
       "      <td>1</td>\n",
       "      <td>2</td>\n",
       "      <td>2</td>\n",
       "      <td>1</td>\n",
       "      <td>1</td>\n",
       "      <td>1</td>\n",
       "      <td>1</td>\n",
       "      <td>2</td>\n",
       "      <td>1</td>\n",
       "      <td>1</td>\n",
       "      <td>1</td>\n",
       "      <td>2</td>\n",
       "      <td>1</td>\n",
       "      <td>2</td>\n",
       "      <td>2</td>\n",
       "      <td>1</td>\n",
       "      <td>-99</td>\n",
       "      <td>2</td>\n",
       "      <td>2</td>\n",
       "      <td>1</td>\n",
       "      <td>1</td>\n",
       "    </tr>\n",
       "    <tr>\n",
       "      <th>8</th>\n",
       "      <td>9</td>\n",
       "      <td>2</td>\n",
       "      <td>2</td>\n",
       "      <td>2</td>\n",
       "      <td>3</td>\n",
       "      <td>3</td>\n",
       "      <td>3</td>\n",
       "      <td>3</td>\n",
       "      <td>3</td>\n",
       "      <td>3</td>\n",
       "      <td>3</td>\n",
       "      <td>3</td>\n",
       "      <td>3</td>\n",
       "      <td>3</td>\n",
       "      <td>3</td>\n",
       "      <td>3</td>\n",
       "      <td>3</td>\n",
       "      <td>3</td>\n",
       "      <td>3</td>\n",
       "      <td>3</td>\n",
       "      <td>3</td>\n",
       "      <td>3</td>\n",
       "      <td>3</td>\n",
       "      <td>3</td>\n",
       "      <td>3</td>\n",
       "      <td>3</td>\n",
       "      <td>3</td>\n",
       "      <td>3</td>\n",
       "      <td>3</td>\n",
       "      <td>3</td>\n",
       "      <td>3</td>\n",
       "      <td>3</td>\n",
       "      <td>3</td>\n",
       "      <td>3</td>\n",
       "      <td>2</td>\n",
       "      <td>2</td>\n",
       "      <td>2</td>\n",
       "      <td>2</td>\n",
       "      <td>2</td>\n",
       "      <td>2</td>\n",
       "      <td>2</td>\n",
       "      <td>2</td>\n",
       "      <td>3</td>\n",
       "      <td>1</td>\n",
       "      <td>2</td>\n",
       "      <td>2</td>\n",
       "      <td>2</td>\n",
       "      <td>1</td>\n",
       "      <td>2</td>\n",
       "      <td>1</td>\n",
       "      <td>2</td>\n",
       "      <td>2</td>\n",
       "      <td>2</td>\n",
       "      <td>2</td>\n",
       "      <td>1</td>\n",
       "      <td>2</td>\n",
       "      <td>2</td>\n",
       "      <td>2</td>\n",
       "      <td>2</td>\n",
       "      <td>2</td>\n",
       "      <td>2</td>\n",
       "      <td>2</td>\n",
       "      <td>2</td>\n",
       "      <td>2</td>\n",
       "      <td>2</td>\n",
       "    </tr>\n",
       "    <tr>\n",
       "      <th>9</th>\n",
       "      <td>10</td>\n",
       "      <td>2</td>\n",
       "      <td>2</td>\n",
       "      <td>2</td>\n",
       "      <td>3</td>\n",
       "      <td>3</td>\n",
       "      <td>3</td>\n",
       "      <td>3</td>\n",
       "      <td>3</td>\n",
       "      <td>3</td>\n",
       "      <td>3</td>\n",
       "      <td>3</td>\n",
       "      <td>3</td>\n",
       "      <td>3</td>\n",
       "      <td>3</td>\n",
       "      <td>3</td>\n",
       "      <td>3</td>\n",
       "      <td>3</td>\n",
       "      <td>3</td>\n",
       "      <td>3</td>\n",
       "      <td>3</td>\n",
       "      <td>3</td>\n",
       "      <td>3</td>\n",
       "      <td>3</td>\n",
       "      <td>3</td>\n",
       "      <td>3</td>\n",
       "      <td>3</td>\n",
       "      <td>3</td>\n",
       "      <td>3</td>\n",
       "      <td>3</td>\n",
       "      <td>3</td>\n",
       "      <td>3</td>\n",
       "      <td>3</td>\n",
       "      <td>3</td>\n",
       "      <td>3</td>\n",
       "      <td>3</td>\n",
       "      <td>2</td>\n",
       "      <td>3</td>\n",
       "      <td>3</td>\n",
       "      <td>3</td>\n",
       "      <td>3</td>\n",
       "      <td>3</td>\n",
       "      <td>3</td>\n",
       "      <td>3</td>\n",
       "      <td>2</td>\n",
       "      <td>2</td>\n",
       "      <td>2</td>\n",
       "      <td>2</td>\n",
       "      <td>2</td>\n",
       "      <td>2</td>\n",
       "      <td>2</td>\n",
       "      <td>2</td>\n",
       "      <td>2</td>\n",
       "      <td>2</td>\n",
       "      <td>2</td>\n",
       "      <td>2</td>\n",
       "      <td>1</td>\n",
       "      <td>2</td>\n",
       "      <td>2</td>\n",
       "      <td>2</td>\n",
       "      <td>2</td>\n",
       "      <td>2</td>\n",
       "      <td>2</td>\n",
       "      <td>2</td>\n",
       "      <td>2</td>\n",
       "    </tr>\n",
       "    <tr>\n",
       "      <th>10</th>\n",
       "      <td>11</td>\n",
       "      <td>1</td>\n",
       "      <td>2</td>\n",
       "      <td>2</td>\n",
       "      <td>3</td>\n",
       "      <td>3</td>\n",
       "      <td>3</td>\n",
       "      <td>3</td>\n",
       "      <td>3</td>\n",
       "      <td>3</td>\n",
       "      <td>3</td>\n",
       "      <td>3</td>\n",
       "      <td>3</td>\n",
       "      <td>3</td>\n",
       "      <td>3</td>\n",
       "      <td>3</td>\n",
       "      <td>3</td>\n",
       "      <td>3</td>\n",
       "      <td>3</td>\n",
       "      <td>3</td>\n",
       "      <td>3</td>\n",
       "      <td>3</td>\n",
       "      <td>2</td>\n",
       "      <td>3</td>\n",
       "      <td>3</td>\n",
       "      <td>3</td>\n",
       "      <td>3</td>\n",
       "      <td>3</td>\n",
       "      <td>3</td>\n",
       "      <td>3</td>\n",
       "      <td>3</td>\n",
       "      <td>3</td>\n",
       "      <td>3</td>\n",
       "      <td>3</td>\n",
       "      <td>3</td>\n",
       "      <td>3</td>\n",
       "      <td>3</td>\n",
       "      <td>3</td>\n",
       "      <td>3</td>\n",
       "      <td>3</td>\n",
       "      <td>1</td>\n",
       "      <td>3</td>\n",
       "      <td>3</td>\n",
       "      <td>3</td>\n",
       "      <td>3</td>\n",
       "      <td>3</td>\n",
       "      <td>3</td>\n",
       "      <td>3</td>\n",
       "      <td>3</td>\n",
       "      <td>3</td>\n",
       "      <td>3</td>\n",
       "      <td>3</td>\n",
       "      <td>3</td>\n",
       "      <td>3</td>\n",
       "      <td>3</td>\n",
       "      <td>3</td>\n",
       "      <td>3</td>\n",
       "      <td>3</td>\n",
       "      <td>3</td>\n",
       "      <td>3</td>\n",
       "      <td>3</td>\n",
       "      <td>3</td>\n",
       "      <td>3</td>\n",
       "      <td>3</td>\n",
       "      <td>3</td>\n",
       "    </tr>\n",
       "    <tr>\n",
       "      <th>11</th>\n",
       "      <td>12</td>\n",
       "      <td>1</td>\n",
       "      <td>2</td>\n",
       "      <td>2</td>\n",
       "      <td>2</td>\n",
       "      <td>3</td>\n",
       "      <td>2</td>\n",
       "      <td>3</td>\n",
       "      <td>1</td>\n",
       "      <td>3</td>\n",
       "      <td>3</td>\n",
       "      <td>3</td>\n",
       "      <td>3</td>\n",
       "      <td>3</td>\n",
       "      <td>3</td>\n",
       "      <td>3</td>\n",
       "      <td>1</td>\n",
       "      <td>3</td>\n",
       "      <td>1</td>\n",
       "      <td>1</td>\n",
       "      <td>1</td>\n",
       "      <td>1</td>\n",
       "      <td>3</td>\n",
       "      <td>3</td>\n",
       "      <td>3</td>\n",
       "      <td>3</td>\n",
       "      <td>3</td>\n",
       "      <td>3</td>\n",
       "      <td>3</td>\n",
       "      <td>3</td>\n",
       "      <td>3</td>\n",
       "      <td>3</td>\n",
       "      <td>3</td>\n",
       "      <td>3</td>\n",
       "      <td>1</td>\n",
       "      <td>3</td>\n",
       "      <td>1</td>\n",
       "      <td>3</td>\n",
       "      <td>3</td>\n",
       "      <td>3</td>\n",
       "      <td>3</td>\n",
       "      <td>3</td>\n",
       "      <td>3</td>\n",
       "      <td>2</td>\n",
       "      <td>2</td>\n",
       "      <td>2</td>\n",
       "      <td>2</td>\n",
       "      <td>2</td>\n",
       "      <td>2</td>\n",
       "      <td>2</td>\n",
       "      <td>2</td>\n",
       "      <td>2</td>\n",
       "      <td>2</td>\n",
       "      <td>2</td>\n",
       "      <td>2</td>\n",
       "      <td>2</td>\n",
       "      <td>1</td>\n",
       "      <td>2</td>\n",
       "      <td>2</td>\n",
       "      <td>2</td>\n",
       "      <td>2</td>\n",
       "      <td>2</td>\n",
       "      <td>1</td>\n",
       "      <td>1</td>\n",
       "      <td>2</td>\n",
       "    </tr>\n",
       "    <tr>\n",
       "      <th>12</th>\n",
       "      <td>13</td>\n",
       "      <td>2</td>\n",
       "      <td>2</td>\n",
       "      <td>2</td>\n",
       "      <td>3</td>\n",
       "      <td>3</td>\n",
       "      <td>3</td>\n",
       "      <td>3</td>\n",
       "      <td>3</td>\n",
       "      <td>3</td>\n",
       "      <td>3</td>\n",
       "      <td>3</td>\n",
       "      <td>3</td>\n",
       "      <td>3</td>\n",
       "      <td>3</td>\n",
       "      <td>3</td>\n",
       "      <td>3</td>\n",
       "      <td>3</td>\n",
       "      <td>3</td>\n",
       "      <td>3</td>\n",
       "      <td>3</td>\n",
       "      <td>3</td>\n",
       "      <td>3</td>\n",
       "      <td>3</td>\n",
       "      <td>3</td>\n",
       "      <td>3</td>\n",
       "      <td>3</td>\n",
       "      <td>3</td>\n",
       "      <td>3</td>\n",
       "      <td>3</td>\n",
       "      <td>3</td>\n",
       "      <td>3</td>\n",
       "      <td>3</td>\n",
       "      <td>3</td>\n",
       "      <td>2</td>\n",
       "      <td>2</td>\n",
       "      <td>2</td>\n",
       "      <td>3</td>\n",
       "      <td>3</td>\n",
       "      <td>3</td>\n",
       "      <td>3</td>\n",
       "      <td>3</td>\n",
       "      <td>3</td>\n",
       "      <td>2</td>\n",
       "      <td>1</td>\n",
       "      <td>-99</td>\n",
       "      <td>1</td>\n",
       "      <td>1</td>\n",
       "      <td>2</td>\n",
       "      <td>2</td>\n",
       "      <td>2</td>\n",
       "      <td>2</td>\n",
       "      <td>2</td>\n",
       "      <td>1</td>\n",
       "      <td>2</td>\n",
       "      <td>2</td>\n",
       "      <td>1</td>\n",
       "      <td>2</td>\n",
       "      <td>2</td>\n",
       "      <td>2</td>\n",
       "      <td>2</td>\n",
       "      <td>2</td>\n",
       "      <td>1</td>\n",
       "      <td>2</td>\n",
       "      <td>2</td>\n",
       "    </tr>\n",
       "    <tr>\n",
       "      <th>13</th>\n",
       "      <td>14</td>\n",
       "      <td>1</td>\n",
       "      <td>1</td>\n",
       "      <td>2</td>\n",
       "      <td>2</td>\n",
       "      <td>3</td>\n",
       "      <td>3</td>\n",
       "      <td>3</td>\n",
       "      <td>3</td>\n",
       "      <td>3</td>\n",
       "      <td>3</td>\n",
       "      <td>3</td>\n",
       "      <td>3</td>\n",
       "      <td>3</td>\n",
       "      <td>3</td>\n",
       "      <td>1</td>\n",
       "      <td>1</td>\n",
       "      <td>1</td>\n",
       "      <td>1</td>\n",
       "      <td>1</td>\n",
       "      <td>1</td>\n",
       "      <td>1</td>\n",
       "      <td>1</td>\n",
       "      <td>1</td>\n",
       "      <td>3</td>\n",
       "      <td>3</td>\n",
       "      <td>3</td>\n",
       "      <td>3</td>\n",
       "      <td>3</td>\n",
       "      <td>1</td>\n",
       "      <td>3</td>\n",
       "      <td>3</td>\n",
       "      <td>3</td>\n",
       "      <td>3</td>\n",
       "      <td>2</td>\n",
       "      <td>1</td>\n",
       "      <td>2</td>\n",
       "      <td>2</td>\n",
       "      <td>2</td>\n",
       "      <td>1</td>\n",
       "      <td>1</td>\n",
       "      <td>1</td>\n",
       "      <td>3</td>\n",
       "      <td>2</td>\n",
       "      <td>2</td>\n",
       "      <td>1</td>\n",
       "      <td>2</td>\n",
       "      <td>1</td>\n",
       "      <td>1</td>\n",
       "      <td>1</td>\n",
       "      <td>2</td>\n",
       "      <td>2</td>\n",
       "      <td>1</td>\n",
       "      <td>2</td>\n",
       "      <td>1</td>\n",
       "      <td>1</td>\n",
       "      <td>1</td>\n",
       "      <td>2</td>\n",
       "      <td>2</td>\n",
       "      <td>2</td>\n",
       "      <td>3</td>\n",
       "      <td>3</td>\n",
       "      <td>1</td>\n",
       "      <td>-99</td>\n",
       "      <td>2</td>\n",
       "    </tr>\n",
       "    <tr>\n",
       "      <th>14</th>\n",
       "      <td>15</td>\n",
       "      <td>2</td>\n",
       "      <td>2</td>\n",
       "      <td>2</td>\n",
       "      <td>3</td>\n",
       "      <td>3</td>\n",
       "      <td>3</td>\n",
       "      <td>3</td>\n",
       "      <td>3</td>\n",
       "      <td>3</td>\n",
       "      <td>3</td>\n",
       "      <td>3</td>\n",
       "      <td>3</td>\n",
       "      <td>3</td>\n",
       "      <td>3</td>\n",
       "      <td>3</td>\n",
       "      <td>3</td>\n",
       "      <td>3</td>\n",
       "      <td>3</td>\n",
       "      <td>3</td>\n",
       "      <td>3</td>\n",
       "      <td>3</td>\n",
       "      <td>3</td>\n",
       "      <td>3</td>\n",
       "      <td>3</td>\n",
       "      <td>3</td>\n",
       "      <td>3</td>\n",
       "      <td>3</td>\n",
       "      <td>3</td>\n",
       "      <td>3</td>\n",
       "      <td>3</td>\n",
       "      <td>3</td>\n",
       "      <td>3</td>\n",
       "      <td>3</td>\n",
       "      <td>3</td>\n",
       "      <td>3</td>\n",
       "      <td>3</td>\n",
       "      <td>3</td>\n",
       "      <td>3</td>\n",
       "      <td>3</td>\n",
       "      <td>3</td>\n",
       "      <td>3</td>\n",
       "      <td>3</td>\n",
       "      <td>3</td>\n",
       "      <td>2</td>\n",
       "      <td>1</td>\n",
       "      <td>1</td>\n",
       "      <td>1</td>\n",
       "      <td>1</td>\n",
       "      <td>2</td>\n",
       "      <td>2</td>\n",
       "      <td>2</td>\n",
       "      <td>1</td>\n",
       "      <td>2</td>\n",
       "      <td>1</td>\n",
       "      <td>2</td>\n",
       "      <td>1</td>\n",
       "      <td>2</td>\n",
       "      <td>2</td>\n",
       "      <td>2</td>\n",
       "      <td>1</td>\n",
       "      <td>2</td>\n",
       "      <td>1</td>\n",
       "      <td>1</td>\n",
       "      <td>2</td>\n",
       "    </tr>\n",
       "    <tr>\n",
       "      <th>15</th>\n",
       "      <td>16</td>\n",
       "      <td>2</td>\n",
       "      <td>2</td>\n",
       "      <td>2</td>\n",
       "      <td>3</td>\n",
       "      <td>3</td>\n",
       "      <td>3</td>\n",
       "      <td>3</td>\n",
       "      <td>3</td>\n",
       "      <td>3</td>\n",
       "      <td>3</td>\n",
       "      <td>3</td>\n",
       "      <td>3</td>\n",
       "      <td>3</td>\n",
       "      <td>3</td>\n",
       "      <td>3</td>\n",
       "      <td>3</td>\n",
       "      <td>3</td>\n",
       "      <td>3</td>\n",
       "      <td>3</td>\n",
       "      <td>3</td>\n",
       "      <td>3</td>\n",
       "      <td>3</td>\n",
       "      <td>3</td>\n",
       "      <td>3</td>\n",
       "      <td>3</td>\n",
       "      <td>3</td>\n",
       "      <td>3</td>\n",
       "      <td>3</td>\n",
       "      <td>3</td>\n",
       "      <td>3</td>\n",
       "      <td>3</td>\n",
       "      <td>3</td>\n",
       "      <td>3</td>\n",
       "      <td>3</td>\n",
       "      <td>2</td>\n",
       "      <td>1</td>\n",
       "      <td>3</td>\n",
       "      <td>3</td>\n",
       "      <td>3</td>\n",
       "      <td>2</td>\n",
       "      <td>3</td>\n",
       "      <td>3</td>\n",
       "      <td>3</td>\n",
       "      <td>2</td>\n",
       "      <td>2</td>\n",
       "      <td>2</td>\n",
       "      <td>2</td>\n",
       "      <td>3</td>\n",
       "      <td>2</td>\n",
       "      <td>2</td>\n",
       "      <td>2</td>\n",
       "      <td>2</td>\n",
       "      <td>2</td>\n",
       "      <td>2</td>\n",
       "      <td>2</td>\n",
       "      <td>2</td>\n",
       "      <td>2</td>\n",
       "      <td>2</td>\n",
       "      <td>2</td>\n",
       "      <td>2</td>\n",
       "      <td>3</td>\n",
       "      <td>2</td>\n",
       "      <td>2</td>\n",
       "      <td>2</td>\n",
       "    </tr>\n",
       "    <tr>\n",
       "      <th>16</th>\n",
       "      <td>17</td>\n",
       "      <td>2</td>\n",
       "      <td>2</td>\n",
       "      <td>2</td>\n",
       "      <td>3</td>\n",
       "      <td>3</td>\n",
       "      <td>3</td>\n",
       "      <td>3</td>\n",
       "      <td>3</td>\n",
       "      <td>3</td>\n",
       "      <td>3</td>\n",
       "      <td>3</td>\n",
       "      <td>3</td>\n",
       "      <td>3</td>\n",
       "      <td>3</td>\n",
       "      <td>3</td>\n",
       "      <td>3</td>\n",
       "      <td>3</td>\n",
       "      <td>3</td>\n",
       "      <td>3</td>\n",
       "      <td>3</td>\n",
       "      <td>3</td>\n",
       "      <td>3</td>\n",
       "      <td>3</td>\n",
       "      <td>3</td>\n",
       "      <td>3</td>\n",
       "      <td>3</td>\n",
       "      <td>3</td>\n",
       "      <td>3</td>\n",
       "      <td>3</td>\n",
       "      <td>3</td>\n",
       "      <td>3</td>\n",
       "      <td>3</td>\n",
       "      <td>3</td>\n",
       "      <td>3</td>\n",
       "      <td>3</td>\n",
       "      <td>2</td>\n",
       "      <td>2</td>\n",
       "      <td>2</td>\n",
       "      <td>2</td>\n",
       "      <td>2</td>\n",
       "      <td>2</td>\n",
       "      <td>3</td>\n",
       "      <td>3</td>\n",
       "      <td>2</td>\n",
       "      <td>2</td>\n",
       "      <td>2</td>\n",
       "      <td>1</td>\n",
       "      <td>2</td>\n",
       "      <td>2</td>\n",
       "      <td>2</td>\n",
       "      <td>2</td>\n",
       "      <td>1</td>\n",
       "      <td>2</td>\n",
       "      <td>2</td>\n",
       "      <td>2</td>\n",
       "      <td>3</td>\n",
       "      <td>2</td>\n",
       "      <td>3</td>\n",
       "      <td>2</td>\n",
       "      <td>1</td>\n",
       "      <td>2</td>\n",
       "      <td>1</td>\n",
       "      <td>2</td>\n",
       "      <td>2</td>\n",
       "    </tr>\n",
       "    <tr>\n",
       "      <th>17</th>\n",
       "      <td>18</td>\n",
       "      <td>2</td>\n",
       "      <td>2</td>\n",
       "      <td>2</td>\n",
       "      <td>3</td>\n",
       "      <td>3</td>\n",
       "      <td>3</td>\n",
       "      <td>3</td>\n",
       "      <td>3</td>\n",
       "      <td>3</td>\n",
       "      <td>3</td>\n",
       "      <td>3</td>\n",
       "      <td>3</td>\n",
       "      <td>3</td>\n",
       "      <td>3</td>\n",
       "      <td>3</td>\n",
       "      <td>3</td>\n",
       "      <td>3</td>\n",
       "      <td>3</td>\n",
       "      <td>3</td>\n",
       "      <td>3</td>\n",
       "      <td>3</td>\n",
       "      <td>3</td>\n",
       "      <td>3</td>\n",
       "      <td>3</td>\n",
       "      <td>3</td>\n",
       "      <td>3</td>\n",
       "      <td>3</td>\n",
       "      <td>3</td>\n",
       "      <td>3</td>\n",
       "      <td>3</td>\n",
       "      <td>3</td>\n",
       "      <td>3</td>\n",
       "      <td>3</td>\n",
       "      <td>3</td>\n",
       "      <td>2</td>\n",
       "      <td>3</td>\n",
       "      <td>3</td>\n",
       "      <td>3</td>\n",
       "      <td>3</td>\n",
       "      <td>3</td>\n",
       "      <td>3</td>\n",
       "      <td>3</td>\n",
       "      <td>3</td>\n",
       "      <td>2</td>\n",
       "      <td>2</td>\n",
       "      <td>2</td>\n",
       "      <td>2</td>\n",
       "      <td>2</td>\n",
       "      <td>2</td>\n",
       "      <td>2</td>\n",
       "      <td>2</td>\n",
       "      <td>1</td>\n",
       "      <td>2</td>\n",
       "      <td>1</td>\n",
       "      <td>2</td>\n",
       "      <td>2</td>\n",
       "      <td>2</td>\n",
       "      <td>2</td>\n",
       "      <td>2</td>\n",
       "      <td>2</td>\n",
       "      <td>2</td>\n",
       "      <td>3</td>\n",
       "      <td>1</td>\n",
       "      <td>2</td>\n",
       "    </tr>\n",
       "    <tr>\n",
       "      <th>18</th>\n",
       "      <td>19</td>\n",
       "      <td>1</td>\n",
       "      <td>1</td>\n",
       "      <td>2</td>\n",
       "      <td>1</td>\n",
       "      <td>3</td>\n",
       "      <td>3</td>\n",
       "      <td>3</td>\n",
       "      <td>1</td>\n",
       "      <td>1</td>\n",
       "      <td>1</td>\n",
       "      <td>3</td>\n",
       "      <td>3</td>\n",
       "      <td>3</td>\n",
       "      <td>3</td>\n",
       "      <td>3</td>\n",
       "      <td>3</td>\n",
       "      <td>3</td>\n",
       "      <td>3</td>\n",
       "      <td>3</td>\n",
       "      <td>3</td>\n",
       "      <td>3</td>\n",
       "      <td>1</td>\n",
       "      <td>1</td>\n",
       "      <td>3</td>\n",
       "      <td>3</td>\n",
       "      <td>3</td>\n",
       "      <td>3</td>\n",
       "      <td>3</td>\n",
       "      <td>3</td>\n",
       "      <td>3</td>\n",
       "      <td>3</td>\n",
       "      <td>3</td>\n",
       "      <td>3</td>\n",
       "      <td>1</td>\n",
       "      <td>3</td>\n",
       "      <td>1</td>\n",
       "      <td>3</td>\n",
       "      <td>2</td>\n",
       "      <td>3</td>\n",
       "      <td>2</td>\n",
       "      <td>2</td>\n",
       "      <td>3</td>\n",
       "      <td>3</td>\n",
       "      <td>2</td>\n",
       "      <td>1</td>\n",
       "      <td>1</td>\n",
       "      <td>1</td>\n",
       "      <td>1</td>\n",
       "      <td>2</td>\n",
       "      <td>2</td>\n",
       "      <td>2</td>\n",
       "      <td>1</td>\n",
       "      <td>1</td>\n",
       "      <td>2</td>\n",
       "      <td>2</td>\n",
       "      <td>1</td>\n",
       "      <td>2</td>\n",
       "      <td>2</td>\n",
       "      <td>1</td>\n",
       "      <td>2</td>\n",
       "      <td>2</td>\n",
       "      <td>2</td>\n",
       "      <td>2</td>\n",
       "      <td>2</td>\n",
       "    </tr>\n",
       "    <tr>\n",
       "      <th>19</th>\n",
       "      <td>20</td>\n",
       "      <td>2</td>\n",
       "      <td>2</td>\n",
       "      <td>2</td>\n",
       "      <td>3</td>\n",
       "      <td>3</td>\n",
       "      <td>3</td>\n",
       "      <td>3</td>\n",
       "      <td>3</td>\n",
       "      <td>3</td>\n",
       "      <td>3</td>\n",
       "      <td>3</td>\n",
       "      <td>3</td>\n",
       "      <td>3</td>\n",
       "      <td>3</td>\n",
       "      <td>3</td>\n",
       "      <td>3</td>\n",
       "      <td>3</td>\n",
       "      <td>3</td>\n",
       "      <td>3</td>\n",
       "      <td>3</td>\n",
       "      <td>3</td>\n",
       "      <td>3</td>\n",
       "      <td>3</td>\n",
       "      <td>3</td>\n",
       "      <td>3</td>\n",
       "      <td>3</td>\n",
       "      <td>3</td>\n",
       "      <td>3</td>\n",
       "      <td>3</td>\n",
       "      <td>3</td>\n",
       "      <td>3</td>\n",
       "      <td>3</td>\n",
       "      <td>3</td>\n",
       "      <td>2</td>\n",
       "      <td>3</td>\n",
       "      <td>1</td>\n",
       "      <td>3</td>\n",
       "      <td>2</td>\n",
       "      <td>3</td>\n",
       "      <td>3</td>\n",
       "      <td>2</td>\n",
       "      <td>3</td>\n",
       "      <td>3</td>\n",
       "      <td>2</td>\n",
       "      <td>2</td>\n",
       "      <td>2</td>\n",
       "      <td>2</td>\n",
       "      <td>2</td>\n",
       "      <td>2</td>\n",
       "      <td>2</td>\n",
       "      <td>2</td>\n",
       "      <td>2</td>\n",
       "      <td>2</td>\n",
       "      <td>2</td>\n",
       "      <td>2</td>\n",
       "      <td>1</td>\n",
       "      <td>2</td>\n",
       "      <td>3</td>\n",
       "      <td>2</td>\n",
       "      <td>2</td>\n",
       "      <td>3</td>\n",
       "      <td>1</td>\n",
       "      <td>2</td>\n",
       "      <td>2</td>\n",
       "    </tr>\n",
       "  </tbody>\n",
       "</table>\n",
       "</div>"
      ],
      "text/plain": [
       "    ID  everbev  everherb  evermed  oats  lacttreathome  lacttreatstore  \\\n",
       "0    1        2         2        2     3              3               3   \n",
       "1    2        1         2        2     3              3               1   \n",
       "2    3        1         1        2     2              1               1   \n",
       "3    4        2         2        2     3              3               3   \n",
       "4    5        1         1        2     2              1               1   \n",
       "5    6        2         2        2     3              3               3   \n",
       "6    7        1         2        2     3              2               2   \n",
       "7    8        1         2        2     1            -99             -99   \n",
       "8    9        2         2        2     3              3               3   \n",
       "9   10        2         2        2     3              3               3   \n",
       "10  11        1         2        2     3              3               3   \n",
       "11  12        1         2        2     2              3               2   \n",
       "12  13        2         2        2     3              3               3   \n",
       "13  14        1         1        2     2              3               3   \n",
       "14  15        2         2        2     3              3               3   \n",
       "15  16        2         2        2     3              3               3   \n",
       "16  17        2         2        2     3              3               3   \n",
       "17  18        2         2        2     3              3               3   \n",
       "18  19        1         1        2     1              3               3   \n",
       "19  20        2         2        2     3              3               3   \n",
       "\n",
       "    brewersyeast  coconutdrink  sportdrink  pinkdrink  noalcbeer  beer  wine  \\\n",
       "0              3             3           3          3          3     3     3   \n",
       "1              3             3           3          3          3     3     3   \n",
       "2              1             1           1          1          3     3     3   \n",
       "3              3             3           3          3          3     3     3   \n",
       "4              3             2           2          3          3     3     3   \n",
       "5              3             3           3          3          3     3     3   \n",
       "6              2             3           1          3          3     3     3   \n",
       "7            -99           -99           1        -99        -99   -99   -99   \n",
       "8              3             3           3          3          3     3     3   \n",
       "9              3             3           3          3          3     3     3   \n",
       "10             3             3           3          3          3     3     3   \n",
       "11             3             1           3          3          3     3     3   \n",
       "12             3             3           3          3          3     3     3   \n",
       "13             3             3           3          3          3     3     3   \n",
       "14             3             3           3          3          3     3     3   \n",
       "15             3             3           3          3          3     3     3   \n",
       "16             3             3           3          3          3     3     3   \n",
       "17             3             3           3          3          3     3     3   \n",
       "18             3             1           1          1          3     3     3   \n",
       "19             3             3           3          3          3     3     3   \n",
       "\n",
       "    lacttea  fruit  veg  seeds  beans  wholegrains  nuts  meat  ComboSupp  \\\n",
       "0         3      3    3      3      3            3     3     3          3   \n",
       "1         3      3    3      3      3            3     3     3          3   \n",
       "2         2      1    1      1      3            1     3     1          2   \n",
       "3         3      3    3      3      3            3     3     3          3   \n",
       "4         2      1    1      1      3            2     1     1          2   \n",
       "5         3      3    3      3      3            3     3     3          3   \n",
       "6         3      3    3      2      3            3     3     3          3   \n",
       "7       -99      1    1      1    -99            1   -99     1          3   \n",
       "8         3      3    3      3      3            3     3     3          3   \n",
       "9         3      3    3      3      3            3     3     3          3   \n",
       "10        3      3    3      3      3            3     3     3          2   \n",
       "11        3      3    1      3      1            1     1     1          3   \n",
       "12        3      3    3      3      3            3     3     3          3   \n",
       "13        3      1    1      1      1            1     1     1          1   \n",
       "14        3      3    3      3      3            3     3     3          3   \n",
       "15        3      3    3      3      3            3     3     3          3   \n",
       "16        3      3    3      3      3            3     3     3          3   \n",
       "17        3      3    3      3      3            3     3     3          3   \n",
       "18        3      3    3      3      3            3     3     3          1   \n",
       "19        3      3    3      3      3            3     3     3          3   \n",
       "\n",
       "    fenugreek  thistel  shatavari  goatrue  moringa  alfalfa  fennel  \\\n",
       "0           3        3          3        3        3        3       3   \n",
       "1           3        3          3        3        3        3       3   \n",
       "2           2        3          3        3        3        3       3   \n",
       "3           3        3          3        3        3        3       3   \n",
       "4           1        3          3        3        3        3       3   \n",
       "5           3        3          3        3        3        3       3   \n",
       "6           3        3          3        3        3        3       3   \n",
       "7           3        3          3        3        3        3       3   \n",
       "8           3        3          3        3        3        3       3   \n",
       "9           3        3          3        3        3        3       3   \n",
       "10          3        3          3        3        3        3       3   \n",
       "11          3        3          3        3        3        3       3   \n",
       "12          3        3          3        3        3        3       3   \n",
       "13          1        3          3        3        3        3       1   \n",
       "14          3        3          3        3        3        3       3   \n",
       "15          3        3          3        3        3        3       3   \n",
       "16          3        3          3        3        3        3       3   \n",
       "17          3        3          3        3        3        3       3   \n",
       "18          1        3          3        3        3        3       3   \n",
       "19          3        3          3        3        3        3       3   \n",
       "\n",
       "    milkthistle  nettle  domperidone  metaclopramide  increasebf  \\\n",
       "0             3       3            3               3           2   \n",
       "1             3       3            3               3           3   \n",
       "2             2       3            3               3           1   \n",
       "3             3       3            3               3           1   \n",
       "4             3       3            3               3           2   \n",
       "5             3       3            3               3           2   \n",
       "6             3       3            3               3           1   \n",
       "7             3       3            3               3           1   \n",
       "8             3       3            3               3           2   \n",
       "9             3       3            3               3           3   \n",
       "10            3       3            3               3           3   \n",
       "11            3       3            3               3           1   \n",
       "12            3       3            3               3           2   \n",
       "13            3       3            3               3           2   \n",
       "14            3       3            3               3           3   \n",
       "15            3       3            3               3           3   \n",
       "16            3       3            3               3           3   \n",
       "17            3       3            3               3           3   \n",
       "18            3       3            3               3           1   \n",
       "19            3       3            3               3           2   \n",
       "\n",
       "    increaseexpress  skintoskin  shield  massage  pumpwhilebf  pumpboth  \\\n",
       "0                 1           2       3        2            2         2   \n",
       "1                 3           3       3        3            3         2   \n",
       "2                 2           1       2        1            3         3   \n",
       "3                 1           1       1        1            1         1   \n",
       "4                 2           2       3        3            3         2   \n",
       "5                 3           2       3        3            3         3   \n",
       "6                 3           1       3        3            3         3   \n",
       "7                 1           1       3        1            1         1   \n",
       "8                 2           2       2        2            2         2   \n",
       "9                 3           2       3        3            3         3   \n",
       "10                3           3       3        3            3         1   \n",
       "11                3           1       3        3            3         3   \n",
       "12                2           2       3        3            3         3   \n",
       "13                1           2       2        2            1         1   \n",
       "14                3           3       3        3            3         3   \n",
       "15                2           1       3        3            3         2   \n",
       "16                3           2       2        2            2         2   \n",
       "17                2           3       3        3            3         3   \n",
       "18                3           1       3        2            3         2   \n",
       "19                3           1       3        2            3         3   \n",
       "\n",
       "    pumpafter  warmed  reducestress  coparent  family  friend  \\\n",
       "0           2       3             3         2       2       2   \n",
       "1           3       3             3         2       2       2   \n",
       "2           1       2             1         2       1       1   \n",
       "3           1       1             1         1       1       2   \n",
       "4           3       3             3         2       1       2   \n",
       "5           3       3             3         2       1       2   \n",
       "6           3       3             1         2       2       2   \n",
       "7           1       1             1         1       2       2   \n",
       "8           2       3             1         2       2       2   \n",
       "9           3       3             3         2       2       2   \n",
       "10          3       3             3         3       3       3   \n",
       "11          3       3             2         2       2       2   \n",
       "12          3       3             2         1     -99       1   \n",
       "13          1       3             2         2       1       2   \n",
       "14          3       3             3         2       1       1   \n",
       "15          3       3             3         2       2       2   \n",
       "16          2       3             3         2       2       2   \n",
       "17          3       3             3         2       2       2   \n",
       "18          2       3             3         2       1       1   \n",
       "19          2       3             3         2       2       2   \n",
       "\n",
       "    lactationconsult  pediatrician  obgyn  midwife  doula  nurse  wic  \\\n",
       "0                  2             2      2        2      2      2    2   \n",
       "1                  2             2      2        2      2      2    2   \n",
       "2                  1             1      2        1      2      1    1   \n",
       "3                  1             2      2        2      2      1    1   \n",
       "4                  2             1      1        2      2      1    1   \n",
       "5                  1             1      1        1      2      2    1   \n",
       "6                  2             2      2        2      2      2    2   \n",
       "7                  1             1      1        1      2      1    1   \n",
       "8                  1             2      1        2      2      2    2   \n",
       "9                  2             2      2        2      2      2    2   \n",
       "10                 3             3      3        3      3      3    3   \n",
       "11                 2             2      2        2      2      2    2   \n",
       "12                 1             2      2        2      2      2    1   \n",
       "13                 1             1      1        2      2      1    2   \n",
       "14                 1             1      2        2      2      1    2   \n",
       "15                 2             3      2        2      2      2    2   \n",
       "16                 1             2      2        2      2      1    2   \n",
       "17                 2             2      2        2      2      1    2   \n",
       "18                 1             1      2        2      2      1    1   \n",
       "19                 2             2      2        2      2      2    2   \n",
       "\n",
       "    hospital  books  facebook  instagram  twitter  pinterest  onlineforum  \\\n",
       "0          2      2         1          2        2          1            2   \n",
       "1          2      2         2          2        2          2            2   \n",
       "2          2      2         1          2        2          2            3   \n",
       "3          1      2         1          2        2          2            2   \n",
       "4          1      2         1          1        1          1            2   \n",
       "5          1      2         1          1        2          2            2   \n",
       "6          2      2         1          2        2          2            1   \n",
       "7          1      2         1          2        2          1          -99   \n",
       "8          1      2         2          2        2          2            2   \n",
       "9          2      2         1          2        2          2            2   \n",
       "10         3      3         3          3        3          3            3   \n",
       "11         2      2         1          2        2          2            2   \n",
       "12         2      2         1          2        2          2            2   \n",
       "13         1      1         1          2        2          2            3   \n",
       "14         1      2         1          2        2          2            1   \n",
       "15         2      2         2          2        2          2            2   \n",
       "16         2      2         3          2        3          2            1   \n",
       "17         1      2         2          2        2          2            2   \n",
       "18         2      2         1          2        2          1            2   \n",
       "19         2      2         1          2        3          2            2   \n",
       "\n",
       "    blog  websites  searchengine  app  \n",
       "0      2         2             2    2  \n",
       "1      2         2             1    2  \n",
       "2      2         1             1    2  \n",
       "3      2         2             2    2  \n",
       "4      2         2             1    2  \n",
       "5      2         1             2    2  \n",
       "6      2         1             2    2  \n",
       "7      2         2             1    1  \n",
       "8      2         2             2    2  \n",
       "9      2         2             2    2  \n",
       "10     3         3             3    3  \n",
       "11     2         1             1    2  \n",
       "12     2         1             2    2  \n",
       "13     3         1           -99    2  \n",
       "14     2         1             1    2  \n",
       "15     3         2             2    2  \n",
       "16     2         1             2    2  \n",
       "17     2         3             1    2  \n",
       "18     2         2             2    2  \n",
       "19     3         1             2    2  "
      ]
     },
     "execution_count": 78,
     "metadata": {},
     "output_type": "execute_result"
    }
   ],
   "source": [
    "questionaire_df = pd.read_csv('/Users/soumyadeepray/Documents/Research_Project-Nutrition_Sciences/Galactagogue_buying_patterns/data/Ryan_DataforRay_MissingReplaced_2022.09.30.csv')\n",
    "questionaire_df.head(20)"
   ]
  },
  {
   "cell_type": "code",
   "execution_count": 79,
   "metadata": {},
   "outputs": [
    {
     "data": {
      "text/plain": [
       "(1420, 65)"
      ]
     },
     "execution_count": 79,
     "metadata": {},
     "output_type": "execute_result"
    }
   ],
   "source": [
    "questionaire_df.shape"
   ]
  },
  {
   "cell_type": "markdown",
   "metadata": {},
   "source": [
    "Checking for null values."
   ]
  },
  {
   "cell_type": "code",
   "execution_count": 80,
   "metadata": {},
   "outputs": [
    {
     "data": {
      "text/plain": [
       "ID              0\n",
       "everbev         0\n",
       "everherb        0\n",
       "evermed         0\n",
       "oats            0\n",
       "               ..\n",
       "onlineforum     0\n",
       "blog            0\n",
       "websites        0\n",
       "searchengine    0\n",
       "app             0\n",
       "Length: 65, dtype: int64"
      ]
     },
     "execution_count": 80,
     "metadata": {},
     "output_type": "execute_result"
    }
   ],
   "source": [
    "questionaire_df.isna().sum() "
   ]
  },
  {
   "cell_type": "code",
   "execution_count": 81,
   "metadata": {},
   "outputs": [
    {
     "data": {
      "text/plain": [
       "Index(['ID', 'everbev', 'everherb', 'evermed', 'oats', 'lacttreathome',\n",
       "       'lacttreatstore', 'brewersyeast', 'coconutdrink', 'sportdrink',\n",
       "       'pinkdrink', 'noalcbeer', 'beer', 'wine', 'lacttea', 'fruit', 'veg',\n",
       "       'seeds', 'beans', 'wholegrains', 'nuts', 'meat', 'ComboSupp',\n",
       "       'fenugreek', 'thistel', 'shatavari', 'goatrue', 'moringa', 'alfalfa',\n",
       "       'fennel', 'milkthistle', 'nettle', 'domperidone', 'metaclopramide',\n",
       "       'increasebf', 'increaseexpress', 'skintoskin', 'shield', 'massage',\n",
       "       'pumpwhilebf', 'pumpboth', 'pumpafter', 'warmed', 'reducestress',\n",
       "       'coparent', 'family', 'friend', 'lactationconsult', 'pediatrician',\n",
       "       'obgyn', 'midwife', 'doula', 'nurse', 'wic', 'hospital', 'books',\n",
       "       'facebook', 'instagram', 'twitter', 'pinterest', 'onlineforum', 'blog',\n",
       "       'websites', 'searchengine', 'app'],\n",
       "      dtype='object')"
      ]
     },
     "execution_count": 81,
     "metadata": {},
     "output_type": "execute_result"
    }
   ],
   "source": [
    "questionaire_df.columns"
   ]
  },
  {
   "cell_type": "markdown",
   "metadata": {},
   "source": [
    "For our analysis, we are only selecting the galactagogues"
   ]
  },
  {
   "cell_type": "code",
   "execution_count": 84,
   "metadata": {},
   "outputs": [
    {
     "data": {
      "text/html": [
       "<div>\n",
       "<style scoped>\n",
       "    .dataframe tbody tr th:only-of-type {\n",
       "        vertical-align: middle;\n",
       "    }\n",
       "\n",
       "    .dataframe tbody tr th {\n",
       "        vertical-align: top;\n",
       "    }\n",
       "\n",
       "    .dataframe thead th {\n",
       "        text-align: right;\n",
       "    }\n",
       "</style>\n",
       "<table border=\"1\" class=\"dataframe\">\n",
       "  <thead>\n",
       "    <tr style=\"text-align: right;\">\n",
       "      <th></th>\n",
       "      <th>ID</th>\n",
       "      <th>increasebf</th>\n",
       "      <th>increaseexpress</th>\n",
       "      <th>skintoskin</th>\n",
       "      <th>shield</th>\n",
       "      <th>massage</th>\n",
       "      <th>pumpwhilebf</th>\n",
       "      <th>pumpboth</th>\n",
       "      <th>pumpafter</th>\n",
       "      <th>warmed</th>\n",
       "      <th>reducestress</th>\n",
       "    </tr>\n",
       "  </thead>\n",
       "  <tbody>\n",
       "    <tr>\n",
       "      <th>0</th>\n",
       "      <td>1</td>\n",
       "      <td>2</td>\n",
       "      <td>1</td>\n",
       "      <td>2</td>\n",
       "      <td>3</td>\n",
       "      <td>2</td>\n",
       "      <td>2</td>\n",
       "      <td>2</td>\n",
       "      <td>2</td>\n",
       "      <td>3</td>\n",
       "      <td>3</td>\n",
       "    </tr>\n",
       "    <tr>\n",
       "      <th>1</th>\n",
       "      <td>2</td>\n",
       "      <td>3</td>\n",
       "      <td>3</td>\n",
       "      <td>3</td>\n",
       "      <td>3</td>\n",
       "      <td>3</td>\n",
       "      <td>3</td>\n",
       "      <td>2</td>\n",
       "      <td>3</td>\n",
       "      <td>3</td>\n",
       "      <td>3</td>\n",
       "    </tr>\n",
       "    <tr>\n",
       "      <th>2</th>\n",
       "      <td>3</td>\n",
       "      <td>1</td>\n",
       "      <td>2</td>\n",
       "      <td>1</td>\n",
       "      <td>2</td>\n",
       "      <td>1</td>\n",
       "      <td>3</td>\n",
       "      <td>3</td>\n",
       "      <td>1</td>\n",
       "      <td>2</td>\n",
       "      <td>1</td>\n",
       "    </tr>\n",
       "    <tr>\n",
       "      <th>3</th>\n",
       "      <td>4</td>\n",
       "      <td>1</td>\n",
       "      <td>1</td>\n",
       "      <td>1</td>\n",
       "      <td>1</td>\n",
       "      <td>1</td>\n",
       "      <td>1</td>\n",
       "      <td>1</td>\n",
       "      <td>1</td>\n",
       "      <td>1</td>\n",
       "      <td>1</td>\n",
       "    </tr>\n",
       "    <tr>\n",
       "      <th>4</th>\n",
       "      <td>5</td>\n",
       "      <td>2</td>\n",
       "      <td>2</td>\n",
       "      <td>2</td>\n",
       "      <td>3</td>\n",
       "      <td>3</td>\n",
       "      <td>3</td>\n",
       "      <td>2</td>\n",
       "      <td>3</td>\n",
       "      <td>3</td>\n",
       "      <td>3</td>\n",
       "    </tr>\n",
       "  </tbody>\n",
       "</table>\n",
       "</div>"
      ],
      "text/plain": [
       "   ID  increasebf  increaseexpress  skintoskin  shield  massage  pumpwhilebf  \\\n",
       "0   1           2                1           2       3        2            2   \n",
       "1   2           3                3           3       3        3            3   \n",
       "2   3           1                2           1       2        1            3   \n",
       "3   4           1                1           1       1        1            1   \n",
       "4   5           2                2           2       3        3            3   \n",
       "\n",
       "   pumpboth  pumpafter  warmed  reducestress  \n",
       "0         2          2       3             3  \n",
       "1         2          3       3             3  \n",
       "2         3          1       2             1  \n",
       "3         1          1       1             1  \n",
       "4         2          3       3             3  "
      ]
     },
     "execution_count": 84,
     "metadata": {},
     "output_type": "execute_result"
    }
   ],
   "source": [
    "beh_strategies = ['ID','increasebf', 'increaseexpress', 'skintoskin', 'shield', 'massage',\n",
    "       'pumpwhilebf', 'pumpboth', 'pumpafter', 'warmed', 'reducestress']\n",
    "beh_strategies_df = pd.DataFrame(data = questionaire_df, columns = beh_strategies)\n",
    "beh_strategies_df.head()"
   ]
  },
  {
   "cell_type": "markdown",
   "metadata": {},
   "source": [
    "# Exploratory Data Analysis"
   ]
  },
  {
   "cell_type": "code",
   "execution_count": 85,
   "metadata": {},
   "outputs": [
    {
     "name": "stdout",
     "output_type": "stream",
     "text": [
      "<class 'pandas.core.frame.DataFrame'>\n",
      "RangeIndex: 1420 entries, 0 to 1419\n",
      "Data columns (total 11 columns):\n",
      " #   Column           Non-Null Count  Dtype\n",
      "---  ------           --------------  -----\n",
      " 0   ID               1420 non-null   int64\n",
      " 1   increasebf       1420 non-null   int64\n",
      " 2   increaseexpress  1420 non-null   int64\n",
      " 3   skintoskin       1420 non-null   int64\n",
      " 4   shield           1420 non-null   int64\n",
      " 5   massage          1420 non-null   int64\n",
      " 6   pumpwhilebf      1420 non-null   int64\n",
      " 7   pumpboth         1420 non-null   int64\n",
      " 8   pumpafter        1420 non-null   int64\n",
      " 9   warmed           1420 non-null   int64\n",
      " 10  reducestress     1420 non-null   int64\n",
      "dtypes: int64(11)\n",
      "memory usage: 122.2 KB\n"
     ]
    }
   ],
   "source": [
    "beh_strategies_df.info()"
   ]
  },
  {
   "cell_type": "markdown",
   "metadata": {},
   "source": [
    "There are 1420 non null rows in the data set with all the columns having integer datatype."
   ]
  },
  {
   "cell_type": "markdown",
   "metadata": {},
   "source": [
    "Dropping the rows having -99 value as it signifies missing responses from the candidate."
   ]
  },
  {
   "cell_type": "code",
   "execution_count": 86,
   "metadata": {},
   "outputs": [],
   "source": [
    "beh_strategies_df=beh_strategies_df.replace(-99,np.nan).dropna(axis = 0, how = 'any')"
   ]
  },
  {
   "cell_type": "code",
   "execution_count": 87,
   "metadata": {},
   "outputs": [
    {
     "data": {
      "text/html": [
       "<div>\n",
       "<style scoped>\n",
       "    .dataframe tbody tr th:only-of-type {\n",
       "        vertical-align: middle;\n",
       "    }\n",
       "\n",
       "    .dataframe tbody tr th {\n",
       "        vertical-align: top;\n",
       "    }\n",
       "\n",
       "    .dataframe thead th {\n",
       "        text-align: right;\n",
       "    }\n",
       "</style>\n",
       "<table border=\"1\" class=\"dataframe\">\n",
       "  <thead>\n",
       "    <tr style=\"text-align: right;\">\n",
       "      <th></th>\n",
       "      <th>count</th>\n",
       "      <th>mean</th>\n",
       "      <th>std</th>\n",
       "      <th>min</th>\n",
       "      <th>25%</th>\n",
       "      <th>50%</th>\n",
       "      <th>75%</th>\n",
       "      <th>max</th>\n",
       "    </tr>\n",
       "  </thead>\n",
       "  <tbody>\n",
       "    <tr>\n",
       "      <th>ID</th>\n",
       "      <td>1416.0</td>\n",
       "      <td>709.652542</td>\n",
       "      <td>409.787587</td>\n",
       "      <td>1.0</td>\n",
       "      <td>354.75</td>\n",
       "      <td>709.5</td>\n",
       "      <td>1064.25</td>\n",
       "      <td>1420.0</td>\n",
       "    </tr>\n",
       "    <tr>\n",
       "      <th>increasebf</th>\n",
       "      <td>1416.0</td>\n",
       "      <td>1.964689</td>\n",
       "      <td>0.776071</td>\n",
       "      <td>1.0</td>\n",
       "      <td>1.00</td>\n",
       "      <td>2.0</td>\n",
       "      <td>3.00</td>\n",
       "      <td>3.0</td>\n",
       "    </tr>\n",
       "    <tr>\n",
       "      <th>increaseexpress</th>\n",
       "      <td>1416.0</td>\n",
       "      <td>2.134181</td>\n",
       "      <td>0.777104</td>\n",
       "      <td>1.0</td>\n",
       "      <td>2.00</td>\n",
       "      <td>2.0</td>\n",
       "      <td>3.00</td>\n",
       "      <td>3.0</td>\n",
       "    </tr>\n",
       "    <tr>\n",
       "      <th>skintoskin</th>\n",
       "      <td>1416.0</td>\n",
       "      <td>1.788136</td>\n",
       "      <td>0.695488</td>\n",
       "      <td>1.0</td>\n",
       "      <td>1.00</td>\n",
       "      <td>2.0</td>\n",
       "      <td>2.00</td>\n",
       "      <td>3.0</td>\n",
       "    </tr>\n",
       "    <tr>\n",
       "      <th>shield</th>\n",
       "      <td>1416.0</td>\n",
       "      <td>2.518362</td>\n",
       "      <td>0.710110</td>\n",
       "      <td>1.0</td>\n",
       "      <td>2.00</td>\n",
       "      <td>3.0</td>\n",
       "      <td>3.00</td>\n",
       "      <td>3.0</td>\n",
       "    </tr>\n",
       "    <tr>\n",
       "      <th>massage</th>\n",
       "      <td>1416.0</td>\n",
       "      <td>1.870056</td>\n",
       "      <td>0.815092</td>\n",
       "      <td>1.0</td>\n",
       "      <td>1.00</td>\n",
       "      <td>2.0</td>\n",
       "      <td>3.00</td>\n",
       "      <td>3.0</td>\n",
       "    </tr>\n",
       "    <tr>\n",
       "      <th>pumpwhilebf</th>\n",
       "      <td>1416.0</td>\n",
       "      <td>2.376412</td>\n",
       "      <td>0.770651</td>\n",
       "      <td>1.0</td>\n",
       "      <td>2.00</td>\n",
       "      <td>3.0</td>\n",
       "      <td>3.00</td>\n",
       "      <td>3.0</td>\n",
       "    </tr>\n",
       "    <tr>\n",
       "      <th>pumpboth</th>\n",
       "      <td>1416.0</td>\n",
       "      <td>1.871469</td>\n",
       "      <td>0.813581</td>\n",
       "      <td>1.0</td>\n",
       "      <td>1.00</td>\n",
       "      <td>2.0</td>\n",
       "      <td>3.00</td>\n",
       "      <td>3.0</td>\n",
       "    </tr>\n",
       "    <tr>\n",
       "      <th>pumpafter</th>\n",
       "      <td>1416.0</td>\n",
       "      <td>2.156073</td>\n",
       "      <td>0.758699</td>\n",
       "      <td>1.0</td>\n",
       "      <td>2.00</td>\n",
       "      <td>2.0</td>\n",
       "      <td>3.00</td>\n",
       "      <td>3.0</td>\n",
       "    </tr>\n",
       "    <tr>\n",
       "      <th>warmed</th>\n",
       "      <td>1416.0</td>\n",
       "      <td>2.580508</td>\n",
       "      <td>0.658096</td>\n",
       "      <td>1.0</td>\n",
       "      <td>2.00</td>\n",
       "      <td>3.0</td>\n",
       "      <td>3.00</td>\n",
       "      <td>3.0</td>\n",
       "    </tr>\n",
       "    <tr>\n",
       "      <th>reducestress</th>\n",
       "      <td>1416.0</td>\n",
       "      <td>2.227401</td>\n",
       "      <td>0.863380</td>\n",
       "      <td>1.0</td>\n",
       "      <td>1.00</td>\n",
       "      <td>3.0</td>\n",
       "      <td>3.00</td>\n",
       "      <td>3.0</td>\n",
       "    </tr>\n",
       "  </tbody>\n",
       "</table>\n",
       "</div>"
      ],
      "text/plain": [
       "                  count        mean         std  min     25%    50%      75%  \\\n",
       "ID               1416.0  709.652542  409.787587  1.0  354.75  709.5  1064.25   \n",
       "increasebf       1416.0    1.964689    0.776071  1.0    1.00    2.0     3.00   \n",
       "increaseexpress  1416.0    2.134181    0.777104  1.0    2.00    2.0     3.00   \n",
       "skintoskin       1416.0    1.788136    0.695488  1.0    1.00    2.0     2.00   \n",
       "shield           1416.0    2.518362    0.710110  1.0    2.00    3.0     3.00   \n",
       "massage          1416.0    1.870056    0.815092  1.0    1.00    2.0     3.00   \n",
       "pumpwhilebf      1416.0    2.376412    0.770651  1.0    2.00    3.0     3.00   \n",
       "pumpboth         1416.0    1.871469    0.813581  1.0    1.00    2.0     3.00   \n",
       "pumpafter        1416.0    2.156073    0.758699  1.0    2.00    2.0     3.00   \n",
       "warmed           1416.0    2.580508    0.658096  1.0    2.00    3.0     3.00   \n",
       "reducestress     1416.0    2.227401    0.863380  1.0    1.00    3.0     3.00   \n",
       "\n",
       "                    max  \n",
       "ID               1420.0  \n",
       "increasebf          3.0  \n",
       "increaseexpress     3.0  \n",
       "skintoskin          3.0  \n",
       "shield              3.0  \n",
       "massage             3.0  \n",
       "pumpwhilebf         3.0  \n",
       "pumpboth            3.0  \n",
       "pumpafter           3.0  \n",
       "warmed              3.0  \n",
       "reducestress        3.0  "
      ]
     },
     "execution_count": 87,
     "metadata": {},
     "output_type": "execute_result"
    }
   ],
   "source": [
    "beh_strategies_df.describe().T"
   ]
  },
  {
   "cell_type": "code",
   "execution_count": 88,
   "metadata": {},
   "outputs": [
    {
     "data": {
      "text/plain": [
       "2.0    562\n",
       "1.0    452\n",
       "3.0    402\n",
       "Name: increasebf, dtype: int64"
      ]
     },
     "execution_count": 88,
     "metadata": {},
     "output_type": "execute_result"
    }
   ],
   "source": [
    "beh_strategies_df.increasebf.value_counts()"
   ]
  },
  {
   "cell_type": "code",
   "execution_count": 89,
   "metadata": {},
   "outputs": [
    {
     "data": {
      "text/plain": [
       "(1416, 10)"
      ]
     },
     "execution_count": 89,
     "metadata": {},
     "output_type": "execute_result"
    }
   ],
   "source": [
    "beh_strategies_df.iloc[:,1:].shape"
   ]
  },
  {
   "cell_type": "markdown",
   "metadata": {},
   "source": [
    "Replacing with 1 with True while 2 and 3 with False"
   ]
  },
  {
   "cell_type": "code",
   "execution_count": 90,
   "metadata": {},
   "outputs": [],
   "source": [
    "beh_strategies_df = beh_strategies_df.iloc[:,1:].replace({3: False,1: True, 2: False}, regex = True)"
   ]
  },
  {
   "cell_type": "code",
   "execution_count": 91,
   "metadata": {},
   "outputs": [
    {
     "data": {
      "text/html": [
       "<div>\n",
       "<style scoped>\n",
       "    .dataframe tbody tr th:only-of-type {\n",
       "        vertical-align: middle;\n",
       "    }\n",
       "\n",
       "    .dataframe tbody tr th {\n",
       "        vertical-align: top;\n",
       "    }\n",
       "\n",
       "    .dataframe thead th {\n",
       "        text-align: right;\n",
       "    }\n",
       "</style>\n",
       "<table border=\"1\" class=\"dataframe\">\n",
       "  <thead>\n",
       "    <tr style=\"text-align: right;\">\n",
       "      <th></th>\n",
       "      <th>increasebf</th>\n",
       "      <th>increaseexpress</th>\n",
       "      <th>skintoskin</th>\n",
       "      <th>shield</th>\n",
       "      <th>massage</th>\n",
       "      <th>pumpwhilebf</th>\n",
       "      <th>pumpboth</th>\n",
       "      <th>pumpafter</th>\n",
       "      <th>warmed</th>\n",
       "      <th>reducestress</th>\n",
       "    </tr>\n",
       "  </thead>\n",
       "  <tbody>\n",
       "    <tr>\n",
       "      <th>0</th>\n",
       "      <td>False</td>\n",
       "      <td>True</td>\n",
       "      <td>False</td>\n",
       "      <td>False</td>\n",
       "      <td>False</td>\n",
       "      <td>False</td>\n",
       "      <td>False</td>\n",
       "      <td>False</td>\n",
       "      <td>False</td>\n",
       "      <td>False</td>\n",
       "    </tr>\n",
       "    <tr>\n",
       "      <th>1</th>\n",
       "      <td>False</td>\n",
       "      <td>False</td>\n",
       "      <td>False</td>\n",
       "      <td>False</td>\n",
       "      <td>False</td>\n",
       "      <td>False</td>\n",
       "      <td>False</td>\n",
       "      <td>False</td>\n",
       "      <td>False</td>\n",
       "      <td>False</td>\n",
       "    </tr>\n",
       "    <tr>\n",
       "      <th>2</th>\n",
       "      <td>True</td>\n",
       "      <td>False</td>\n",
       "      <td>True</td>\n",
       "      <td>False</td>\n",
       "      <td>True</td>\n",
       "      <td>False</td>\n",
       "      <td>False</td>\n",
       "      <td>True</td>\n",
       "      <td>False</td>\n",
       "      <td>True</td>\n",
       "    </tr>\n",
       "    <tr>\n",
       "      <th>3</th>\n",
       "      <td>True</td>\n",
       "      <td>True</td>\n",
       "      <td>True</td>\n",
       "      <td>True</td>\n",
       "      <td>True</td>\n",
       "      <td>True</td>\n",
       "      <td>True</td>\n",
       "      <td>True</td>\n",
       "      <td>True</td>\n",
       "      <td>True</td>\n",
       "    </tr>\n",
       "    <tr>\n",
       "      <th>4</th>\n",
       "      <td>False</td>\n",
       "      <td>False</td>\n",
       "      <td>False</td>\n",
       "      <td>False</td>\n",
       "      <td>False</td>\n",
       "      <td>False</td>\n",
       "      <td>False</td>\n",
       "      <td>False</td>\n",
       "      <td>False</td>\n",
       "      <td>False</td>\n",
       "    </tr>\n",
       "    <tr>\n",
       "      <th>5</th>\n",
       "      <td>False</td>\n",
       "      <td>False</td>\n",
       "      <td>False</td>\n",
       "      <td>False</td>\n",
       "      <td>False</td>\n",
       "      <td>False</td>\n",
       "      <td>False</td>\n",
       "      <td>False</td>\n",
       "      <td>False</td>\n",
       "      <td>False</td>\n",
       "    </tr>\n",
       "    <tr>\n",
       "      <th>6</th>\n",
       "      <td>True</td>\n",
       "      <td>False</td>\n",
       "      <td>True</td>\n",
       "      <td>False</td>\n",
       "      <td>False</td>\n",
       "      <td>False</td>\n",
       "      <td>False</td>\n",
       "      <td>False</td>\n",
       "      <td>False</td>\n",
       "      <td>True</td>\n",
       "    </tr>\n",
       "    <tr>\n",
       "      <th>7</th>\n",
       "      <td>True</td>\n",
       "      <td>True</td>\n",
       "      <td>True</td>\n",
       "      <td>False</td>\n",
       "      <td>True</td>\n",
       "      <td>True</td>\n",
       "      <td>True</td>\n",
       "      <td>True</td>\n",
       "      <td>True</td>\n",
       "      <td>True</td>\n",
       "    </tr>\n",
       "    <tr>\n",
       "      <th>8</th>\n",
       "      <td>False</td>\n",
       "      <td>False</td>\n",
       "      <td>False</td>\n",
       "      <td>False</td>\n",
       "      <td>False</td>\n",
       "      <td>False</td>\n",
       "      <td>False</td>\n",
       "      <td>False</td>\n",
       "      <td>False</td>\n",
       "      <td>True</td>\n",
       "    </tr>\n",
       "    <tr>\n",
       "      <th>9</th>\n",
       "      <td>False</td>\n",
       "      <td>False</td>\n",
       "      <td>False</td>\n",
       "      <td>False</td>\n",
       "      <td>False</td>\n",
       "      <td>False</td>\n",
       "      <td>False</td>\n",
       "      <td>False</td>\n",
       "      <td>False</td>\n",
       "      <td>False</td>\n",
       "    </tr>\n",
       "  </tbody>\n",
       "</table>\n",
       "</div>"
      ],
      "text/plain": [
       "   increasebf  increaseexpress  skintoskin  shield  massage  pumpwhilebf  \\\n",
       "0       False             True       False   False    False        False   \n",
       "1       False            False       False   False    False        False   \n",
       "2        True            False        True   False     True        False   \n",
       "3        True             True        True    True     True         True   \n",
       "4       False            False       False   False    False        False   \n",
       "5       False            False       False   False    False        False   \n",
       "6        True            False        True   False    False        False   \n",
       "7        True             True        True   False     True         True   \n",
       "8       False            False       False   False    False        False   \n",
       "9       False            False       False   False    False        False   \n",
       "\n",
       "   pumpboth  pumpafter  warmed  reducestress  \n",
       "0     False      False   False         False  \n",
       "1     False      False   False         False  \n",
       "2     False       True   False          True  \n",
       "3      True       True    True          True  \n",
       "4     False      False   False         False  \n",
       "5     False      False   False         False  \n",
       "6     False      False   False          True  \n",
       "7      True       True    True          True  \n",
       "8     False      False   False          True  \n",
       "9     False      False   False         False  "
      ]
     },
     "execution_count": 91,
     "metadata": {},
     "output_type": "execute_result"
    }
   ],
   "source": [
    "beh_strategies_df.head(10)"
   ]
  },
  {
   "cell_type": "code",
   "execution_count": 92,
   "metadata": {},
   "outputs": [],
   "source": [
    "beh_strategies_counts = []\n",
    "for i in beh_strategies_df.columns:\n",
    "    beh_strategies_counts.append((beh_strategies_df[i] == True).sum())\n",
    "beh_strategies_counts.sort(reverse = True)"
   ]
  },
  {
   "cell_type": "code",
   "execution_count": 94,
   "metadata": {},
   "outputs": [
    {
     "data": {
      "image/png": "[encoded data removed]",
      "text/plain": [
       "<Figure size 1224x432 with 1 Axes>"
      ]
     },
     "metadata": {},
     "output_type": "display_data"
    }
   ],
   "source": [
    "color = plt.cm.rainbow(np.linspace(0, 1, 40))\n",
    "plt.figure(figsize=(17,6))\n",
    "plt.bar(beh_strategies_df.columns, beh_strategies_counts,color = color)\n",
    "plt.title('Frequency of behavioral strategies used', fontsize = 20)\n",
    "plt.xticks(rotation = 90 )\n",
    "plt.grid()\n",
    "plt.show()"
   ]
  },
  {
   "cell_type": "markdown",
   "metadata": {},
   "source": [
    "__TERMINOLOGIES__\n",
    "\n",
    "__Support__ : Its the default popularity of an item. In mathematical terms, the support of item A is the ratio of transactions involving A to the total number of transactions.\n",
    "\n",
    "__Confidence__ : Likelihood that customer will buy both products A and B. It is the ratio of the number of transactions involving both A and B and the number of transactions involving B.\n",
    "    \n",
    "    Confidence(A => B) = Support(A, B)/Support(A)\n",
    "\n",
    "__Lift__ : Increase in the sale of A when you sell B.\n",
    "\n",
    "    Lift(A => B) = Confidence(A, B)/Support(B)\n",
    "\n",
    "    Lift (A => B) = 1 means that there is no correlation within the itemset.\n",
    "\n",
    "    Lift (A => B) > 1 means that there is a positive correlation within the itemset, i.e., products in the itemset, A, and B, are more likely to be bought together.\n",
    "    \n",
    "    Lift (A => B) < 1 means that there is a negative correlation within the itemset, i.e., products in itemset, A, and B, are unlikely to be bought together."
   ]
  },
  {
   "cell_type": "markdown",
   "metadata": {},
   "source": [
    "Calculating the support for each of the galactagogues"
   ]
  },
  {
   "cell_type": "code",
   "execution_count": 95,
   "metadata": {},
   "outputs": [
    {
     "data": {
      "text/html": [
       "<div>\n",
       "<style scoped>\n",
       "    .dataframe tbody tr th:only-of-type {\n",
       "        vertical-align: middle;\n",
       "    }\n",
       "\n",
       "    .dataframe tbody tr th {\n",
       "        vertical-align: top;\n",
       "    }\n",
       "\n",
       "    .dataframe thead th {\n",
       "        text-align: right;\n",
       "    }\n",
       "</style>\n",
       "<table border=\"1\" class=\"dataframe\">\n",
       "  <thead>\n",
       "    <tr style=\"text-align: right;\">\n",
       "      <th></th>\n",
       "      <th>support</th>\n",
       "    </tr>\n",
       "  </thead>\n",
       "  <tbody>\n",
       "    <tr>\n",
       "      <th>massage</th>\n",
       "      <td>0.405367</td>\n",
       "    </tr>\n",
       "    <tr>\n",
       "      <th>pumpboth</th>\n",
       "      <td>0.403249</td>\n",
       "    </tr>\n",
       "    <tr>\n",
       "      <th>skintoskin</th>\n",
       "      <td>0.370056</td>\n",
       "    </tr>\n",
       "    <tr>\n",
       "      <th>increasebf</th>\n",
       "      <td>0.319209</td>\n",
       "    </tr>\n",
       "    <tr>\n",
       "      <th>reducestress</th>\n",
       "      <td>0.284605</td>\n",
       "    </tr>\n",
       "    <tr>\n",
       "      <th>increaseexpress</th>\n",
       "      <td>0.243644</td>\n",
       "    </tr>\n",
       "    <tr>\n",
       "      <th>pumpafter</th>\n",
       "      <td>0.221751</td>\n",
       "    </tr>\n",
       "    <tr>\n",
       "      <th>pumpwhilebf</th>\n",
       "      <td>0.179379</td>\n",
       "    </tr>\n",
       "    <tr>\n",
       "      <th>shield</th>\n",
       "      <td>0.127119</td>\n",
       "    </tr>\n",
       "    <tr>\n",
       "      <th>warmed</th>\n",
       "      <td>0.094633</td>\n",
       "    </tr>\n",
       "  </tbody>\n",
       "</table>\n",
       "</div>"
      ],
      "text/plain": [
       "                  support\n",
       "massage          0.405367\n",
       "pumpboth         0.403249\n",
       "skintoskin       0.370056\n",
       "increasebf       0.319209\n",
       "reducestress     0.284605\n",
       "increaseexpress  0.243644\n",
       "pumpafter        0.221751\n",
       "pumpwhilebf      0.179379\n",
       "shield           0.127119\n",
       "warmed           0.094633"
      ]
     },
     "execution_count": 95,
     "metadata": {},
     "output_type": "execute_result"
    }
   ],
   "source": [
    "#Calculate the support\n",
    "support = beh_strategies_df.mean()\n",
    "support = pd.DataFrame(support, columns=['support']).sort_values('support',ascending=False)\n",
    "\n",
    "# Print the support\n",
    "support"
   ]
  },
  {
   "cell_type": "markdown",
   "metadata": {},
   "source": [
    "__Apriori Algorithm:__ refers to the algorithm which is used to calculate the association rules between objects. It means how two or more objects are related to one another. In other words, we can say that the apriori algorithm is an association rule leaning that analyzes that people who bought product A also bought product B.\n",
    "\n",
    "Apriori algorithm assumes that any subset of a frequent itemset must be frequent. Its the algorithm behind Market Basket Analysis. Say, a transaction containing {Grapes, Apple, Mango} also contains {Grapes, Mango}. So, according to the principle of Apriori, if {Grapes, Apple, Mango} is frequent, then {Grapes, Mango} must also be frequent."
   ]
  },
  {
   "cell_type": "code",
   "execution_count": 98,
   "metadata": {},
   "outputs": [],
   "source": [
    "frequent_itemsets = apriori(beh_strategies_df, min_support= 0.05, use_colnames=True, max_len = 3)\n",
    "rules = association_rules(frequent_itemsets, metric=\"confidence\",  min_threshold = 0.5)"
   ]
  },
  {
   "cell_type": "markdown",
   "metadata": {},
   "source": [
    "Closed frequent itemsets were generated at a minimum support value of 5%, (i.e. thepattern of variable values was observed in at least 5% of the dataset)\n",
    "\n",
    "Rules were generated that met a confidence level of 50% (i.e. in at least 50% of the cases thatxwasobserved,ywas also observed)."
   ]
  },
  {
   "cell_type": "code",
   "execution_count": 99,
   "metadata": {},
   "outputs": [
    {
     "data": {
      "text/html": [
       "<div>\n",
       "<style scoped>\n",
       "    .dataframe tbody tr th:only-of-type {\n",
       "        vertical-align: middle;\n",
       "    }\n",
       "\n",
       "    .dataframe tbody tr th {\n",
       "        vertical-align: top;\n",
       "    }\n",
       "\n",
       "    .dataframe thead th {\n",
       "        text-align: right;\n",
       "    }\n",
       "</style>\n",
       "<table border=\"1\" class=\"dataframe\">\n",
       "  <thead>\n",
       "    <tr style=\"text-align: right;\">\n",
       "      <th></th>\n",
       "      <th>antecedents</th>\n",
       "      <th>consequents</th>\n",
       "      <th>antecedent support</th>\n",
       "      <th>consequent support</th>\n",
       "      <th>support</th>\n",
       "      <th>confidence</th>\n",
       "      <th>lift</th>\n",
       "      <th>leverage</th>\n",
       "      <th>conviction</th>\n",
       "    </tr>\n",
       "  </thead>\n",
       "  <tbody>\n",
       "    <tr>\n",
       "      <th>233</th>\n",
       "      <td>(warmed, pumpafter)</td>\n",
       "      <td>(massage)</td>\n",
       "      <td>0.052966</td>\n",
       "      <td>0.405367</td>\n",
       "      <td>0.050847</td>\n",
       "      <td>0.960000</td>\n",
       "      <td>2.368223</td>\n",
       "      <td>0.029377</td>\n",
       "      <td>14.865819</td>\n",
       "    </tr>\n",
       "    <tr>\n",
       "      <th>228</th>\n",
       "      <td>(warmed, pumpboth)</td>\n",
       "      <td>(massage)</td>\n",
       "      <td>0.075565</td>\n",
       "      <td>0.405367</td>\n",
       "      <td>0.071328</td>\n",
       "      <td>0.943925</td>\n",
       "      <td>2.328568</td>\n",
       "      <td>0.040696</td>\n",
       "      <td>10.604284</td>\n",
       "    </tr>\n",
       "    <tr>\n",
       "      <th>150</th>\n",
       "      <td>(warmed, increaseexpress)</td>\n",
       "      <td>(massage)</td>\n",
       "      <td>0.064266</td>\n",
       "      <td>0.405367</td>\n",
       "      <td>0.058616</td>\n",
       "      <td>0.912088</td>\n",
       "      <td>2.250029</td>\n",
       "      <td>0.032565</td>\n",
       "      <td>6.763948</td>\n",
       "    </tr>\n",
       "    <tr>\n",
       "      <th>190</th>\n",
       "      <td>(warmed, skintoskin)</td>\n",
       "      <td>(massage)</td>\n",
       "      <td>0.060028</td>\n",
       "      <td>0.405367</td>\n",
       "      <td>0.054379</td>\n",
       "      <td>0.905882</td>\n",
       "      <td>2.234720</td>\n",
       "      <td>0.030045</td>\n",
       "      <td>6.317973</td>\n",
       "    </tr>\n",
       "    <tr>\n",
       "      <th>35</th>\n",
       "      <td>(warmed)</td>\n",
       "      <td>(massage)</td>\n",
       "      <td>0.094633</td>\n",
       "      <td>0.405367</td>\n",
       "      <td>0.085452</td>\n",
       "      <td>0.902985</td>\n",
       "      <td>2.227573</td>\n",
       "      <td>0.047091</td>\n",
       "      <td>6.129292</td>\n",
       "    </tr>\n",
       "    <tr>\n",
       "      <th>217</th>\n",
       "      <td>(pumpafter, shield)</td>\n",
       "      <td>(pumpboth)</td>\n",
       "      <td>0.064972</td>\n",
       "      <td>0.403249</td>\n",
       "      <td>0.058616</td>\n",
       "      <td>0.902174</td>\n",
       "      <td>2.237265</td>\n",
       "      <td>0.032416</td>\n",
       "      <td>6.100126</td>\n",
       "    </tr>\n",
       "    <tr>\n",
       "      <th>137</th>\n",
       "      <td>(increaseexpress, shield)</td>\n",
       "      <td>(pumpboth)</td>\n",
       "      <td>0.059322</td>\n",
       "      <td>0.403249</td>\n",
       "      <td>0.052966</td>\n",
       "      <td>0.892857</td>\n",
       "      <td>2.214161</td>\n",
       "      <td>0.029045</td>\n",
       "      <td>5.569680</td>\n",
       "    </tr>\n",
       "    <tr>\n",
       "      <th>83</th>\n",
       "      <td>(increasebf, shield)</td>\n",
       "      <td>(pumpboth)</td>\n",
       "      <td>0.071328</td>\n",
       "      <td>0.403249</td>\n",
       "      <td>0.063559</td>\n",
       "      <td>0.891089</td>\n",
       "      <td>2.209776</td>\n",
       "      <td>0.034797</td>\n",
       "      <td>5.479263</td>\n",
       "    </tr>\n",
       "    <tr>\n",
       "      <th>96</th>\n",
       "      <td>(warmed, increasebf)</td>\n",
       "      <td>(massage)</td>\n",
       "      <td>0.063559</td>\n",
       "      <td>0.405367</td>\n",
       "      <td>0.056497</td>\n",
       "      <td>0.888889</td>\n",
       "      <td>2.192799</td>\n",
       "      <td>0.030732</td>\n",
       "      <td>5.351695</td>\n",
       "    </tr>\n",
       "    <tr>\n",
       "      <th>178</th>\n",
       "      <td>(skintoskin, shield)</td>\n",
       "      <td>(pumpboth)</td>\n",
       "      <td>0.074859</td>\n",
       "      <td>0.403249</td>\n",
       "      <td>0.066384</td>\n",
       "      <td>0.886792</td>\n",
       "      <td>2.199121</td>\n",
       "      <td>0.036197</td>\n",
       "      <td>5.271304</td>\n",
       "    </tr>\n",
       "  </tbody>\n",
       "</table>\n",
       "</div>"
      ],
      "text/plain": [
       "                   antecedents consequents  antecedent support  \\\n",
       "233        (warmed, pumpafter)   (massage)            0.052966   \n",
       "228         (warmed, pumpboth)   (massage)            0.075565   \n",
       "150  (warmed, increaseexpress)   (massage)            0.064266   \n",
       "190       (warmed, skintoskin)   (massage)            0.060028   \n",
       "35                    (warmed)   (massage)            0.094633   \n",
       "217        (pumpafter, shield)  (pumpboth)            0.064972   \n",
       "137  (increaseexpress, shield)  (pumpboth)            0.059322   \n",
       "83        (increasebf, shield)  (pumpboth)            0.071328   \n",
       "96        (warmed, increasebf)   (massage)            0.063559   \n",
       "178       (skintoskin, shield)  (pumpboth)            0.074859   \n",
       "\n",
       "     consequent support   support  confidence      lift  leverage  conviction  \n",
       "233            0.405367  0.050847    0.960000  2.368223  0.029377   14.865819  \n",
       "228            0.405367  0.071328    0.943925  2.328568  0.040696   10.604284  \n",
       "150            0.405367  0.058616    0.912088  2.250029  0.032565    6.763948  \n",
       "190            0.405367  0.054379    0.905882  2.234720  0.030045    6.317973  \n",
       "35             0.405367  0.085452    0.902985  2.227573  0.047091    6.129292  \n",
       "217            0.403249  0.058616    0.902174  2.237265  0.032416    6.100126  \n",
       "137            0.403249  0.052966    0.892857  2.214161  0.029045    5.569680  \n",
       "83             0.403249  0.063559    0.891089  2.209776  0.034797    5.479263  \n",
       "96             0.405367  0.056497    0.888889  2.192799  0.030732    5.351695  \n",
       "178            0.403249  0.066384    0.886792  2.199121  0.036197    5.271304  "
      ]
     },
     "metadata": {},
     "output_type": "display_data"
    },
    {
     "name": "stdout",
     "output_type": "stream",
     "text": [
      "Rules identified:  247\n"
     ]
    }
   ],
   "source": [
    "display(rules.sort_values(by ='confidence', ascending=False).head(10))\n",
    "print(\"Rules identified: \", len(rules))"
   ]
  },
  {
   "cell_type": "code",
   "execution_count": 102,
   "metadata": {},
   "outputs": [],
   "source": [
    "# rules[\"antecedent_len\"] = rules[\"antecedents\"].apply(lambda x: len(x))\n",
    "# rules[\"consequent_len\"] = rules[\"consequents\"].apply(lambda x: len(x))"
   ]
  },
  {
   "cell_type": "code",
   "execution_count": 101,
   "metadata": {},
   "outputs": [],
   "source": [
    "#rules[(rules['antecedent_len'] >= 2) & (rules['confidence'] > 0.85) & (rules['lift'] > 1.2)].sort_values(by='confidence',ascending=False).head(10)"
   ]
  },
  {
   "cell_type": "markdown",
   "metadata": {},
   "source": [
    "Another set of rules are generated using metric as \"lift\"."
   ]
  },
  {
   "cell_type": "code",
   "execution_count": 104,
   "metadata": {},
   "outputs": [],
   "source": [
    "rules_1 = association_rules(frequent_itemsets, metric=\"lift\",  min_threshold = 2)"
   ]
  },
  {
   "cell_type": "code",
   "execution_count": 106,
   "metadata": {},
   "outputs": [
    {
     "data": {
      "text/html": [
       "<div>\n",
       "<style scoped>\n",
       "    .dataframe tbody tr th:only-of-type {\n",
       "        vertical-align: middle;\n",
       "    }\n",
       "\n",
       "    .dataframe tbody tr th {\n",
       "        vertical-align: top;\n",
       "    }\n",
       "\n",
       "    .dataframe thead th {\n",
       "        text-align: right;\n",
       "    }\n",
       "</style>\n",
       "<table border=\"1\" class=\"dataframe\">\n",
       "  <thead>\n",
       "    <tr style=\"text-align: right;\">\n",
       "      <th></th>\n",
       "      <th>antecedents</th>\n",
       "      <th>consequents</th>\n",
       "      <th>antecedent support</th>\n",
       "      <th>consequent support</th>\n",
       "      <th>support</th>\n",
       "      <th>confidence</th>\n",
       "      <th>lift</th>\n",
       "      <th>leverage</th>\n",
       "      <th>conviction</th>\n",
       "    </tr>\n",
       "  </thead>\n",
       "  <tbody>\n",
       "    <tr>\n",
       "      <th>48</th>\n",
       "      <td>(increaseexpress)</td>\n",
       "      <td>(warmed, increasebf)</td>\n",
       "      <td>0.243644</td>\n",
       "      <td>0.063559</td>\n",
       "      <td>0.052260</td>\n",
       "      <td>0.214493</td>\n",
       "      <td>3.374686</td>\n",
       "      <td>0.036774</td>\n",
       "      <td>1.192148</td>\n",
       "    </tr>\n",
       "    <tr>\n",
       "      <th>45</th>\n",
       "      <td>(warmed, increasebf)</td>\n",
       "      <td>(increaseexpress)</td>\n",
       "      <td>0.063559</td>\n",
       "      <td>0.243644</td>\n",
       "      <td>0.052260</td>\n",
       "      <td>0.822222</td>\n",
       "      <td>3.374686</td>\n",
       "      <td>0.036774</td>\n",
       "      <td>4.254502</td>\n",
       "    </tr>\n",
       "    <tr>\n",
       "      <th>47</th>\n",
       "      <td>(warmed)</td>\n",
       "      <td>(increaseexpress, increasebf)</td>\n",
       "      <td>0.094633</td>\n",
       "      <td>0.165254</td>\n",
       "      <td>0.052260</td>\n",
       "      <td>0.552239</td>\n",
       "      <td>3.341753</td>\n",
       "      <td>0.036621</td>\n",
       "      <td>1.864266</td>\n",
       "    </tr>\n",
       "    <tr>\n",
       "      <th>46</th>\n",
       "      <td>(increaseexpress, increasebf)</td>\n",
       "      <td>(warmed)</td>\n",
       "      <td>0.165254</td>\n",
       "      <td>0.094633</td>\n",
       "      <td>0.052260</td>\n",
       "      <td>0.316239</td>\n",
       "      <td>3.341753</td>\n",
       "      <td>0.036621</td>\n",
       "      <td>1.324100</td>\n",
       "    </tr>\n",
       "    <tr>\n",
       "      <th>187</th>\n",
       "      <td>(increaseexpress, pumpwhilebf)</td>\n",
       "      <td>(pumpafter)</td>\n",
       "      <td>0.105932</td>\n",
       "      <td>0.221751</td>\n",
       "      <td>0.076977</td>\n",
       "      <td>0.726667</td>\n",
       "      <td>3.276943</td>\n",
       "      <td>0.053487</td>\n",
       "      <td>2.847251</td>\n",
       "    </tr>\n",
       "    <tr>\n",
       "      <th>190</th>\n",
       "      <td>(pumpafter)</td>\n",
       "      <td>(increaseexpress, pumpwhilebf)</td>\n",
       "      <td>0.221751</td>\n",
       "      <td>0.105932</td>\n",
       "      <td>0.076977</td>\n",
       "      <td>0.347134</td>\n",
       "      <td>3.276943</td>\n",
       "      <td>0.053487</td>\n",
       "      <td>1.369450</td>\n",
       "    </tr>\n",
       "    <tr>\n",
       "      <th>173</th>\n",
       "      <td>(warmed)</td>\n",
       "      <td>(increaseexpress, massage)</td>\n",
       "      <td>0.094633</td>\n",
       "      <td>0.191384</td>\n",
       "      <td>0.058616</td>\n",
       "      <td>0.619403</td>\n",
       "      <td>3.236438</td>\n",
       "      <td>0.040505</td>\n",
       "      <td>2.124598</td>\n",
       "    </tr>\n",
       "    <tr>\n",
       "      <th>172</th>\n",
       "      <td>(increaseexpress, massage)</td>\n",
       "      <td>(warmed)</td>\n",
       "      <td>0.191384</td>\n",
       "      <td>0.094633</td>\n",
       "      <td>0.058616</td>\n",
       "      <td>0.306273</td>\n",
       "      <td>3.236438</td>\n",
       "      <td>0.040505</td>\n",
       "      <td>1.305077</td>\n",
       "    </tr>\n",
       "    <tr>\n",
       "      <th>109</th>\n",
       "      <td>(pumpafter)</td>\n",
       "      <td>(pumpwhilebf, increasebf)</td>\n",
       "      <td>0.221751</td>\n",
       "      <td>0.099576</td>\n",
       "      <td>0.069915</td>\n",
       "      <td>0.315287</td>\n",
       "      <td>3.166283</td>\n",
       "      <td>0.047834</td>\n",
       "      <td>1.315037</td>\n",
       "    </tr>\n",
       "    <tr>\n",
       "      <th>104</th>\n",
       "      <td>(pumpwhilebf, increasebf)</td>\n",
       "      <td>(pumpafter)</td>\n",
       "      <td>0.099576</td>\n",
       "      <td>0.221751</td>\n",
       "      <td>0.069915</td>\n",
       "      <td>0.702128</td>\n",
       "      <td>3.166283</td>\n",
       "      <td>0.047834</td>\n",
       "      <td>2.612692</td>\n",
       "    </tr>\n",
       "  </tbody>\n",
       "</table>\n",
       "</div>"
      ],
      "text/plain": [
       "                        antecedents                     consequents  \\\n",
       "48                (increaseexpress)            (warmed, increasebf)   \n",
       "45             (warmed, increasebf)               (increaseexpress)   \n",
       "47                         (warmed)   (increaseexpress, increasebf)   \n",
       "46    (increaseexpress, increasebf)                        (warmed)   \n",
       "187  (increaseexpress, pumpwhilebf)                     (pumpafter)   \n",
       "190                     (pumpafter)  (increaseexpress, pumpwhilebf)   \n",
       "173                        (warmed)      (increaseexpress, massage)   \n",
       "172      (increaseexpress, massage)                        (warmed)   \n",
       "109                     (pumpafter)       (pumpwhilebf, increasebf)   \n",
       "104       (pumpwhilebf, increasebf)                     (pumpafter)   \n",
       "\n",
       "     antecedent support  consequent support   support  confidence      lift  \\\n",
       "48             0.243644            0.063559  0.052260    0.214493  3.374686   \n",
       "45             0.063559            0.243644  0.052260    0.822222  3.374686   \n",
       "47             0.094633            0.165254  0.052260    0.552239  3.341753   \n",
       "46             0.165254            0.094633  0.052260    0.316239  3.341753   \n",
       "187            0.105932            0.221751  0.076977    0.726667  3.276943   \n",
       "190            0.221751            0.105932  0.076977    0.347134  3.276943   \n",
       "173            0.094633            0.191384  0.058616    0.619403  3.236438   \n",
       "172            0.191384            0.094633  0.058616    0.306273  3.236438   \n",
       "109            0.221751            0.099576  0.069915    0.315287  3.166283   \n",
       "104            0.099576            0.221751  0.069915    0.702128  3.166283   \n",
       "\n",
       "     leverage  conviction  \n",
       "48   0.036774    1.192148  \n",
       "45   0.036774    4.254502  \n",
       "47   0.036621    1.864266  \n",
       "46   0.036621    1.324100  \n",
       "187  0.053487    2.847251  \n",
       "190  0.053487    1.369450  \n",
       "173  0.040505    2.124598  \n",
       "172  0.040505    1.305077  \n",
       "109  0.047834    1.315037  \n",
       "104  0.047834    2.612692  "
      ]
     },
     "metadata": {},
     "output_type": "display_data"
    },
    {
     "name": "stdout",
     "output_type": "stream",
     "text": [
      "Rules identified:  318\n"
     ]
    }
   ],
   "source": [
    "display(rules_1.sort_values(by ='lift', ascending=False).head(10))\n",
    "print(\"Rules identified: \", len(rules_1))"
   ]
  },
  {
   "cell_type": "code",
   "execution_count": 107,
   "metadata": {},
   "outputs": [
    {
     "data": {
      "text/html": [
       "<div>\n",
       "<style scoped>\n",
       "    .dataframe tbody tr th:only-of-type {\n",
       "        vertical-align: middle;\n",
       "    }\n",
       "\n",
       "    .dataframe tbody tr th {\n",
       "        vertical-align: top;\n",
       "    }\n",
       "\n",
       "    .dataframe thead th {\n",
       "        text-align: right;\n",
       "    }\n",
       "</style>\n",
       "<table border=\"1\" class=\"dataframe\">\n",
       "  <thead>\n",
       "    <tr style=\"text-align: right;\">\n",
       "      <th></th>\n",
       "      <th>antecedents</th>\n",
       "      <th>consequents</th>\n",
       "      <th>antecedent support</th>\n",
       "      <th>consequent support</th>\n",
       "      <th>support</th>\n",
       "      <th>confidence</th>\n",
       "      <th>lift</th>\n",
       "      <th>leverage</th>\n",
       "      <th>conviction</th>\n",
       "      <th>antecedent_len</th>\n",
       "      <th>consequent_len</th>\n",
       "    </tr>\n",
       "  </thead>\n",
       "  <tbody>\n",
       "    <tr>\n",
       "      <th>233</th>\n",
       "      <td>(warmed, pumpafter)</td>\n",
       "      <td>(massage)</td>\n",
       "      <td>0.052966</td>\n",
       "      <td>0.405367</td>\n",
       "      <td>0.050847</td>\n",
       "      <td>0.960000</td>\n",
       "      <td>2.368223</td>\n",
       "      <td>0.029377</td>\n",
       "      <td>14.865819</td>\n",
       "      <td>2</td>\n",
       "      <td>1</td>\n",
       "    </tr>\n",
       "    <tr>\n",
       "      <th>228</th>\n",
       "      <td>(warmed, pumpboth)</td>\n",
       "      <td>(massage)</td>\n",
       "      <td>0.075565</td>\n",
       "      <td>0.405367</td>\n",
       "      <td>0.071328</td>\n",
       "      <td>0.943925</td>\n",
       "      <td>2.328568</td>\n",
       "      <td>0.040696</td>\n",
       "      <td>10.604284</td>\n",
       "      <td>2</td>\n",
       "      <td>1</td>\n",
       "    </tr>\n",
       "    <tr>\n",
       "      <th>150</th>\n",
       "      <td>(warmed, increaseexpress)</td>\n",
       "      <td>(massage)</td>\n",
       "      <td>0.064266</td>\n",
       "      <td>0.405367</td>\n",
       "      <td>0.058616</td>\n",
       "      <td>0.912088</td>\n",
       "      <td>2.250029</td>\n",
       "      <td>0.032565</td>\n",
       "      <td>6.763948</td>\n",
       "      <td>2</td>\n",
       "      <td>1</td>\n",
       "    </tr>\n",
       "    <tr>\n",
       "      <th>217</th>\n",
       "      <td>(pumpafter, shield)</td>\n",
       "      <td>(pumpboth)</td>\n",
       "      <td>0.064972</td>\n",
       "      <td>0.403249</td>\n",
       "      <td>0.058616</td>\n",
       "      <td>0.902174</td>\n",
       "      <td>2.237265</td>\n",
       "      <td>0.032416</td>\n",
       "      <td>6.100126</td>\n",
       "      <td>2</td>\n",
       "      <td>1</td>\n",
       "    </tr>\n",
       "    <tr>\n",
       "      <th>190</th>\n",
       "      <td>(warmed, skintoskin)</td>\n",
       "      <td>(massage)</td>\n",
       "      <td>0.060028</td>\n",
       "      <td>0.405367</td>\n",
       "      <td>0.054379</td>\n",
       "      <td>0.905882</td>\n",
       "      <td>2.234720</td>\n",
       "      <td>0.030045</td>\n",
       "      <td>6.317973</td>\n",
       "      <td>2</td>\n",
       "      <td>1</td>\n",
       "    </tr>\n",
       "    <tr>\n",
       "      <th>137</th>\n",
       "      <td>(increaseexpress, shield)</td>\n",
       "      <td>(pumpboth)</td>\n",
       "      <td>0.059322</td>\n",
       "      <td>0.403249</td>\n",
       "      <td>0.052966</td>\n",
       "      <td>0.892857</td>\n",
       "      <td>2.214161</td>\n",
       "      <td>0.029045</td>\n",
       "      <td>5.569680</td>\n",
       "      <td>2</td>\n",
       "      <td>1</td>\n",
       "    </tr>\n",
       "    <tr>\n",
       "      <th>83</th>\n",
       "      <td>(increasebf, shield)</td>\n",
       "      <td>(pumpboth)</td>\n",
       "      <td>0.071328</td>\n",
       "      <td>0.403249</td>\n",
       "      <td>0.063559</td>\n",
       "      <td>0.891089</td>\n",
       "      <td>2.209776</td>\n",
       "      <td>0.034797</td>\n",
       "      <td>5.479263</td>\n",
       "      <td>2</td>\n",
       "      <td>1</td>\n",
       "    </tr>\n",
       "    <tr>\n",
       "      <th>178</th>\n",
       "      <td>(skintoskin, shield)</td>\n",
       "      <td>(pumpboth)</td>\n",
       "      <td>0.074859</td>\n",
       "      <td>0.403249</td>\n",
       "      <td>0.066384</td>\n",
       "      <td>0.886792</td>\n",
       "      <td>2.199121</td>\n",
       "      <td>0.036197</td>\n",
       "      <td>5.271304</td>\n",
       "      <td>2</td>\n",
       "      <td>1</td>\n",
       "    </tr>\n",
       "    <tr>\n",
       "      <th>96</th>\n",
       "      <td>(warmed, increasebf)</td>\n",
       "      <td>(massage)</td>\n",
       "      <td>0.063559</td>\n",
       "      <td>0.405367</td>\n",
       "      <td>0.056497</td>\n",
       "      <td>0.888889</td>\n",
       "      <td>2.192799</td>\n",
       "      <td>0.030732</td>\n",
       "      <td>5.351695</td>\n",
       "      <td>2</td>\n",
       "      <td>1</td>\n",
       "    </tr>\n",
       "    <tr>\n",
       "      <th>136</th>\n",
       "      <td>(increaseexpress, shield)</td>\n",
       "      <td>(massage)</td>\n",
       "      <td>0.059322</td>\n",
       "      <td>0.405367</td>\n",
       "      <td>0.052260</td>\n",
       "      <td>0.880952</td>\n",
       "      <td>2.173221</td>\n",
       "      <td>0.028213</td>\n",
       "      <td>4.994915</td>\n",
       "      <td>2</td>\n",
       "      <td>1</td>\n",
       "    </tr>\n",
       "  </tbody>\n",
       "</table>\n",
       "</div>"
      ],
      "text/plain": [
       "                   antecedents consequents  antecedent support  \\\n",
       "233        (warmed, pumpafter)   (massage)            0.052966   \n",
       "228         (warmed, pumpboth)   (massage)            0.075565   \n",
       "150  (warmed, increaseexpress)   (massage)            0.064266   \n",
       "217        (pumpafter, shield)  (pumpboth)            0.064972   \n",
       "190       (warmed, skintoskin)   (massage)            0.060028   \n",
       "137  (increaseexpress, shield)  (pumpboth)            0.059322   \n",
       "83        (increasebf, shield)  (pumpboth)            0.071328   \n",
       "178       (skintoskin, shield)  (pumpboth)            0.074859   \n",
       "96        (warmed, increasebf)   (massage)            0.063559   \n",
       "136  (increaseexpress, shield)   (massage)            0.059322   \n",
       "\n",
       "     consequent support   support  confidence      lift  leverage  conviction  \\\n",
       "233            0.405367  0.050847    0.960000  2.368223  0.029377   14.865819   \n",
       "228            0.405367  0.071328    0.943925  2.328568  0.040696   10.604284   \n",
       "150            0.405367  0.058616    0.912088  2.250029  0.032565    6.763948   \n",
       "217            0.403249  0.058616    0.902174  2.237265  0.032416    6.100126   \n",
       "190            0.405367  0.054379    0.905882  2.234720  0.030045    6.317973   \n",
       "137            0.403249  0.052966    0.892857  2.214161  0.029045    5.569680   \n",
       "83             0.403249  0.063559    0.891089  2.209776  0.034797    5.479263   \n",
       "178            0.403249  0.066384    0.886792  2.199121  0.036197    5.271304   \n",
       "96             0.405367  0.056497    0.888889  2.192799  0.030732    5.351695   \n",
       "136            0.405367  0.052260    0.880952  2.173221  0.028213    4.994915   \n",
       "\n",
       "     antecedent_len  consequent_len  \n",
       "233               2               1  \n",
       "228               2               1  \n",
       "150               2               1  \n",
       "217               2               1  \n",
       "190               2               1  \n",
       "137               2               1  \n",
       "83                2               1  \n",
       "178               2               1  \n",
       "96                2               1  \n",
       "136               2               1  "
      ]
     },
     "execution_count": 107,
     "metadata": {},
     "output_type": "execute_result"
    }
   ],
   "source": [
    "rules[\"antecedent_len\"] = rules[\"antecedents\"].apply(lambda x: len(x))\n",
    "rules[\"consequent_len\"] = rules[\"consequents\"].apply(lambda x: len(x))\n",
    "rules[(rules['antecedent_len'] >= 2) & (rules['confidence'] > 0.85)].sort_values(by='lift',ascending=False).head(10)"
   ]
  },
  {
   "cell_type": "markdown",
   "metadata": {},
   "source": [
    "__Antecedent:__ refers to the items on the LEFT ie., the item which the customer buy.\n",
    "\n",
    "__Consequent:__ refers to the items on the RIGHT ie., the item which the customer follows to buy."
   ]
  },
  {
   "cell_type": "code",
   "execution_count": 108,
   "metadata": {},
   "outputs": [
    {
     "name": "stderr",
     "output_type": "stream",
     "text": [
      "/opt/homebrew/lib/python3.9/site-packages/plotly/io/_renderers.py:396: DeprecationWarning:\n",
      "\n",
      "distutils Version classes are deprecated. Use packaging.version instead.\n",
      "\n",
      "/opt/homebrew/lib/python3.9/site-packages/plotly/io/_renderers.py:396: DeprecationWarning:\n",
      "\n",
      "distutils Version classes are deprecated. Use packaging.version instead.\n",
      "\n"
     ]
    },
    {
     "data": {
      "application/vnd.plotly.v1+json": {
       "config": {
        "plotlyServerURL": "https://plot.ly"
       },
       "data": [
        {
         "hovertemplate": "antecedents=frozenset({'increaseexpress'})<br>confidence=%{x}<br>support=%{y}<br>lift=%{z}<extra></extra>",
         "legendgroup": "frozenset({'increaseexpress'})",
         "marker": {
          "color": "#636efa",
          "opacity": 0.7,
          "symbol": "circle"
         },
         "mode": "markers",
         "name": "frozenset({'increaseexpress'})",
         "scene": "scene",
         "showlegend": true,
         "type": "scatter3d",
         "x": [
          0.6782608695652175,
          0.5884057971014492,
          0.7855072463768116,
          0.7594202898550725,
          0.5594202898550725,
          0.5275362318840581,
          0.5681159420289855,
          0.5333333333333333,
          0.6231884057971014
         ],
         "y": [
          0.1652542372881356,
          0.14336158192090395,
          0.19138418079096045,
          0.1850282485875706,
          0.1362994350282486,
          0.1285310734463277,
          0.1384180790960452,
          0.12994350282485875,
          0.1518361581920904
         ],
         "z": [
          2.1248172373989997,
          1.5900431463657485,
          1.9377670049992424,
          1.8832559202010204,
          2.5227360841872057,
          1.8535764375876582,
          2.7085931781583956,
          2.678014184397163,
          2.1522799575821843
         ]
        },
        {
         "hovertemplate": "antecedents=frozenset({'increasebf'})<br>confidence=%{x}<br>support=%{y}<br>lift=%{z}<extra></extra>",
         "legendgroup": "frozenset({'increasebf'})",
         "marker": {
          "color": "#EF553B",
          "opacity": 0.7,
          "symbol": "circle"
         },
         "mode": "markers",
         "name": "frozenset({'increasebf'})",
         "scene": "scene",
         "showlegend": true,
         "type": "scatter3d",
         "x": [
          0.5176991150442478,
          0.6216814159292035,
          0.6570796460176991,
          0.6238938053097345,
          0.5199115044247788
         ],
         "y": [
          0.1652542372881356,
          0.1984463276836158,
          0.2097457627118644,
          0.19915254237288135,
          0.16596045197740114
         ],
         "z": [
          2.1248172373989997,
          1.679963520907924,
          1.6209490919182263,
          1.54716922647738,
          1.7955968055255775
         ]
        },
        {
         "hovertemplate": "antecedents=frozenset({'skintoskin'})<br>confidence=%{x}<br>support=%{y}<br>lift=%{z}<extra></extra>",
         "legendgroup": "frozenset({'skintoskin'})",
         "marker": {
          "color": "#00cc96",
          "opacity": 0.7,
          "symbol": "circle"
         },
         "mode": "markers",
         "name": "frozenset({'skintoskin'})",
         "scene": "scene",
         "showlegend": true,
         "type": "scatter3d",
         "x": [
          0.5362595419847328,
          0.5706106870229009,
          0.5267175572519085
         ],
         "y": [
          0.1984463276836158,
          0.2111581920903955,
          0.19491525423728814
         ],
         "z": [
          1.679963520907924,
          1.40763890735963,
          1.306185746179864
         ]
        },
        {
         "hovertemplate": "antecedents=frozenset({'shield'})<br>confidence=%{x}<br>support=%{y}<br>lift=%{z}<extra></extra>",
         "legendgroup": "frozenset({'shield'})",
         "marker": {
          "color": "#ab63fa",
          "opacity": 0.7,
          "symbol": "circle"
         },
         "mode": "markers",
         "name": "frozenset({'shield'})",
         "scene": "scene",
         "showlegend": true,
         "type": "scatter3d",
         "x": [
          0.5611111111111111,
          0.5888888888888889,
          0.7555555555555556,
          0.8055555555555556,
          0.5111111111111111,
          0.5,
          0.5222222222222223,
          0.638888888888889
         ],
         "y": [
          0.0713276836158192,
          0.0748587570621469,
          0.096045197740113,
          0.10240112994350282,
          0.06497175141242938,
          0.0635593220338983,
          0.06638418079096045,
          0.08121468926553672
         ],
         "z": [
          1.7578171091445427,
          1.591348600508906,
          1.8638792102206738,
          1.9976649153531816,
          2.3048832271762207,
          2.5106382978723403,
          2.679227053140097,
          2.2065040650406504
         ]
        },
        {
         "hovertemplate": "antecedents=frozenset({'massage'})<br>confidence=%{x}<br>support=%{y}<br>lift=%{z}<extra></extra>",
         "legendgroup": "frozenset({'massage'})",
         "marker": {
          "color": "#FFA15A",
          "opacity": 0.7,
          "symbol": "circle"
         },
         "mode": "markers",
         "name": "frozenset({'massage'})",
         "scene": "scene",
         "showlegend": true,
         "type": "scatter3d",
         "x": [
          0.5174216027874564,
          0.5209059233449478,
          0.7142857142857143
         ],
         "y": [
          0.2097457627118644,
          0.2111581920903955,
          0.2895480225988701
         ],
         "z": [
          1.6209490919182263,
          1.40763890735963,
          1.771328496372279
         ]
        },
        {
         "hovertemplate": "antecedents=frozenset({'pumpwhilebf'})<br>confidence=%{x}<br>support=%{y}<br>lift=%{z}<extra></extra>",
         "legendgroup": "frozenset({'pumpwhilebf'})",
         "marker": {
          "color": "#19d3f3",
          "opacity": 0.7,
          "symbol": "circle"
         },
         "mode": "markers",
         "name": "frozenset({'pumpwhilebf'})",
         "scene": "scene",
         "showlegend": true,
         "type": "scatter3d",
         "x": [
          0.5551181102362204,
          0.5905511811023622,
          0.5826771653543307,
          0.7913385826771654,
          0.7913385826771654,
          0.5787401574803149,
          0.5118110236220472,
          0.6496062992125984
         ],
         "y": [
          0.09957627118644068,
          0.1059322033898305,
          0.10451977401129943,
          0.1419491525423729,
          0.1419491525423729,
          0.1038135593220339,
          0.09180790960451977,
          0.11652542372881355
         ],
         "z": [
          1.7390425754302834,
          2.4238274563505646,
          1.5745627216445273,
          1.9521523224231119,
          1.9624088144848795,
          2.609860073223331,
          2.674259813464276,
          2.2435183406952177
         ]
        },
        {
         "hovertemplate": "antecedents=frozenset({'pumpafter'})<br>confidence=%{x}<br>support=%{y}<br>lift=%{z}<extra></extra>",
         "legendgroup": "frozenset({'pumpafter'})",
         "marker": {
          "color": "#FF6692",
          "opacity": 0.7,
          "symbol": "circle"
         },
         "mode": "markers",
         "name": "frozenset({'pumpafter'})",
         "scene": "scene",
         "showlegend": true,
         "type": "scatter3d",
         "x": [
          0.6242038216560509,
          0.6146496815286624,
          0.6114649681528662,
          0.7675159235668789,
          0.7961783439490446,
          0.5254777070063694,
          0.5127388535031847,
          0.5254777070063694,
          0.5095541401273885,
          0.5031847133757962,
          0.6305732484076433
         ],
         "y": [
          0.1384180790960452,
          0.1362994350282486,
          0.13559322033898305,
          0.17019774011299435,
          0.1765536723163842,
          0.11652542372881355,
          0.1137005649717514,
          0.11652542372881355,
          0.11299435028248588,
          0.1115819209039548,
          0.13983050847457626
         ],
         "z": [
          1.9554703793472745,
          2.5227360841872057,
          1.652355715466524,
          1.8933842295656804,
          1.9744107443640055,
          2.505307855626327,
          2.574603604824502,
          2.7456694949115095,
          2.753926192444207,
          2.38297509745862,
          2.1777846823054214
         ]
        },
        {
         "hovertemplate": "antecedents=frozenset({'warmed'})<br>confidence=%{x}<br>support=%{y}<br>lift=%{z}<extra></extra>",
         "legendgroup": "frozenset({'warmed'})",
         "marker": {
          "color": "#B6E880",
          "opacity": 0.7,
          "symbol": "circle"
         },
         "mode": "markers",
         "name": "frozenset({'warmed'})",
         "scene": "scene",
         "showlegend": true,
         "type": "scatter3d",
         "x": [
          0.6716417910447761,
          0.6791044776119404,
          0.6343283582089553,
          0.9029850746268657,
          0.7985074626865671,
          0.5597014925373134,
          0.5298507462686567,
          0.5522388059701492,
          0.5970149253731343,
          0.5522388059701492,
          0.6194029850746269,
          0.5597014925373134,
          0.5746268656716418,
          0.753731343283582,
          0.5373134328358209
         ],
         "y": [
          0.0635593220338983,
          0.06426553672316385,
          0.06002824858757062,
          0.08545197740112995,
          0.07556497175141243,
          0.05296610169491525,
          0.05014124293785311,
          0.052259887005649715,
          0.05649717514124294,
          0.052259887005649715,
          0.05861581920903955,
          0.05296610169491525,
          0.054378531073446326,
          0.0713276836158192,
          0.05084745762711865
         ],
         "z": [
          2.1040813630960242,
          2.787280986372486,
          1.71413922752649,
          2.2275729367101773,
          1.980186632511697,
          2.5240041829071203,
          1.8617088255990517,
          3.341752774588595,
          2.8463741896577717,
          2.7729437916798982,
          3.2364377375117037,
          3.024951577987923,
          2.721309838766036,
          2.6031306880232976,
          3.1569951074503004
         ]
        },
        {
         "hovertemplate": "antecedents=frozenset({'reducestress'})<br>confidence=%{x}<br>support=%{y}<br>lift=%{z}<extra></extra>",
         "legendgroup": "frozenset({'reducestress'})",
         "marker": {
          "color": "#FF97FF",
          "opacity": 0.7,
          "symbol": "circle"
         },
         "mode": "markers",
         "name": "frozenset({'reducestress'})",
         "scene": "scene",
         "showlegend": true,
         "type": "scatter3d",
         "x": [
          0.5359801488833748,
          0.5707196029776676,
          0.6426799007444168,
          0.607940446650124
         ],
         "y": [
          0.15254237288135594,
          0.16242937853107345,
          0.182909604519774,
          0.1730225988700565
         ],
         "z": [
          1.6790882540240235,
          1.5422499194969033,
          1.5854263753555649,
          1.5076071321481184
         ]
        },
        {
         "hovertemplate": "antecedents=frozenset({'pumpboth'})<br>confidence=%{x}<br>support=%{y}<br>lift=%{z}<extra></extra>",
         "legendgroup": "frozenset({'pumpboth'})",
         "marker": {
          "color": "#FECB52",
          "opacity": 0.7,
          "symbol": "circle"
         },
         "mode": "markers",
         "name": "frozenset({'pumpboth'})",
         "scene": "scene",
         "showlegend": true,
         "type": "scatter3d",
         "x": [
          0.7180385288966725
         ],
         "y": [
          0.2895480225988701
         ],
         "z": [
          1.7713284963722793
         ]
        },
        {
         "hovertemplate": "antecedents=frozenset({'skintoskin', 'increaseexpress'})<br>confidence=%{x}<br>support=%{y}<br>lift=%{z}<extra></extra>",
         "legendgroup": "frozenset({'skintoskin', 'increaseexpress'})",
         "marker": {
          "color": "#636efa",
          "opacity": 0.7,
          "symbol": "circle"
         },
         "mode": "markers",
         "name": "frozenset({'skintoskin', 'increaseexpress'})",
         "scene": "scene",
         "showlegend": true,
         "type": "scatter3d",
         "x": [
          0.7635467980295567,
          0.8029556650246306,
          0.7192118226600985,
          0.6502463054187192,
          0.5862068965517242
         ],
         "y": [
          0.1094632768361582,
          0.11511299435028248,
          0.10310734463276836,
          0.09322033898305085,
          0.08403954802259887
         ],
         "z": [
          2.3919961637386113,
          1.980810490722782,
          1.78354455496795,
          2.9323209187035233,
          2.059724480191666
         ]
        },
        {
         "hovertemplate": "antecedents=frozenset({'skintoskin', 'increasebf'})<br>confidence=%{x}<br>support=%{y}<br>lift=%{z}<extra></extra>",
         "legendgroup": "frozenset({'skintoskin', 'increasebf'})",
         "marker": {
          "color": "#EF553B",
          "opacity": 0.7,
          "symbol": "circle"
         },
         "mode": "markers",
         "name": "frozenset({'skintoskin', 'increasebf'})",
         "scene": "scene",
         "showlegend": true,
         "type": "scatter3d",
         "x": [
          0.5516014234875445,
          0.693950177935943,
          0.6298932384341638,
          0.5266903914590747
         ],
         "y": [
          0.1094632768361582,
          0.13771186440677965,
          0.125,
          0.10451977401129943
         ],
         "z": [
          2.263964103357574,
          1.7119049685667167,
          1.562046980074914,
          1.850604452372332
         ]
        },
        {
         "hovertemplate": "antecedents=frozenset({'increaseexpress', 'increasebf'})<br>confidence=%{x}<br>support=%{y}<br>lift=%{z}<extra></extra>",
         "legendgroup": "frozenset({'increaseexpress', 'increasebf'})",
         "marker": {
          "color": "#00cc96",
          "opacity": 0.7,
          "symbol": "circle"
         },
         "mode": "markers",
         "name": "frozenset({'increaseexpress', 'increasebf'})",
         "scene": "scene",
         "showlegend": true,
         "type": "scatter3d",
         "x": [
          0.6623931623931624,
          0.8376068376068376,
          0.7863247863247863,
          0.6239316239316238,
          0.594017094017094
         ],
         "y": [
          0.1094632768361582,
          0.1384180790960452,
          0.12994350282485875,
          0.10310734463276836,
          0.0981638418079096
         ],
         "z": [
          1.7899784693677825,
          2.0662914321450905,
          1.9499753019893125,
          2.813653437857259,
          2.087166762104727
         ]
        },
        {
         "hovertemplate": "antecedents=frozenset({'increaseexpress', 'massage'})<br>confidence=%{x}<br>support=%{y}<br>lift=%{z}<extra></extra>",
         "legendgroup": "frozenset({'increaseexpress', 'massage'})",
         "marker": {
          "color": "#ab63fa",
          "opacity": 0.7,
          "symbol": "circle"
         },
         "mode": "markers",
         "name": "frozenset({'increaseexpress', 'massage'})",
         "scene": "scene",
         "showlegend": true,
         "type": "scatter3d",
         "x": [
          0.7232472324723247,
          0.6014760147601476,
          0.7933579335793358,
          0.6088560885608856,
          0.5535055350553505
         ],
         "y": [
          0.1384180790960452,
          0.11511299435028248,
          0.1518361581920904,
          0.11652542372881355,
          0.1059322033898305
         ],
         "z": [
          2.2657479672141854,
          1.6253626658403988,
          1.9674165218009447,
          2.7456694949115095,
          1.9448234184575095
         ]
        },
        {
         "hovertemplate": "antecedents=frozenset({'increasebf', 'massage'})<br>confidence=%{x}<br>support=%{y}<br>lift=%{z}<extra></extra>",
         "legendgroup": "frozenset({'increasebf', 'massage'})",
         "marker": {
          "color": "#FFA15A",
          "opacity": 0.7,
          "symbol": "circle"
         },
         "mode": "markers",
         "name": "frozenset({'increasebf', 'massage'})",
         "scene": "scene",
         "showlegend": true,
         "type": "scatter3d",
         "x": [
          0.6599326599326599,
          0.6565656565656566,
          0.7912457912457913,
          0.5555555555555556,
          0.5420875420875421
         ],
         "y": [
          0.1384180790960452,
          0.13771186440677965,
          0.16596045197740114,
          0.11652542372881355,
          0.1137005649717514
         ],
         "z": [
          2.7085931781583956,
          1.774230858200324,
          1.9621787047356225,
          2.505307855626327,
          1.9047046143820336
         ]
        },
        {
         "hovertemplate": "antecedents=frozenset({'increaseexpress', 'pumpwhilebf'})<br>confidence=%{x}<br>support=%{y}<br>lift=%{z}<extra></extra>",
         "legendgroup": "frozenset({'increaseexpress', 'pumpwhilebf'})",
         "marker": {
          "color": "#19d3f3",
          "opacity": 0.7,
          "symbol": "circle"
         },
         "mode": "markers",
         "name": "frozenset({'increaseexpress', 'pumpwhilebf'})",
         "scene": "scene",
         "showlegend": true,
         "type": "scatter3d",
         "x": [
          0.7200000000000001,
          0.6533333333333333,
          0.8666666666666667,
          0.8266666666666667,
          0.7266666666666667,
          0.5266666666666667
         ],
         "y": [
          0.07627118644067797,
          0.0692090395480226,
          0.09180790960451977,
          0.08757062146892655,
          0.0769774011299435,
          0.0557909604519774
         ],
         "z": [
          2.255575221238938,
          1.765496183206107,
          2.137979094076655,
          2.050017513134851,
          3.2769426751592357,
          1.8505210918114146
         ]
        },
        {
         "hovertemplate": "antecedents=frozenset({'pumpwhilebf', 'increasebf'})<br>confidence=%{x}<br>support=%{y}<br>lift=%{z}<extra></extra>",
         "legendgroup": "frozenset({'pumpwhilebf', 'increasebf'})",
         "marker": {
          "color": "#FF6692",
          "opacity": 0.7,
          "symbol": "circle"
         },
         "mode": "markers",
         "name": "frozenset({'pumpwhilebf', 'increasebf'})",
         "scene": "scene",
         "showlegend": true,
         "type": "scatter3d",
         "x": [
          0.7659574468085107,
          0.6382978723404256,
          0.8794326241134752,
          0.851063829787234,
          0.702127659574468,
          0.5035460992907802
         ],
         "y": [
          0.07627118644067797,
          0.0635593220338983,
          0.08757062146892655,
          0.0847457627118644,
          0.06991525423728813,
          0.05014124293785311
         ],
         "z": [
          3.143755781683627,
          1.724866006171837,
          2.1694714211579806,
          2.1105190595073964,
          3.1662826941319957,
          1.769283564753709
         ]
        },
        {
         "hovertemplate": "antecedents=frozenset({'increaseexpress', 'pumpboth'})<br>confidence=%{x}<br>support=%{y}<br>lift=%{z}<extra></extra>",
         "legendgroup": "frozenset({'increaseexpress', 'pumpboth'})",
         "marker": {
          "color": "#B6E880",
          "opacity": 0.7,
          "symbol": "circle"
         },
         "mode": "markers",
         "name": "frozenset({'increaseexpress', 'pumpboth'})",
         "scene": "scene",
         "showlegend": true,
         "type": "scatter3d",
         "x": [
          0.7022900763358779,
          0.5572519083969466,
          0.8206106870229009,
          0.6106870229007634,
          0.5381679389312978
         ],
         "y": [
          0.12994350282485875,
          0.10310734463276836,
          0.1518361581920904,
          0.11299435028248588,
          0.09957627118644068
         ],
         "z": [
          2.2000945754239005,
          1.5058563020802986,
          2.0243636460355883,
          2.7539261924442067,
          1.8909325099918552
         ]
        },
        {
         "hovertemplate": "antecedents=frozenset({'increasebf', 'pumpboth'})<br>confidence=%{x}<br>support=%{y}<br>lift=%{z}<extra></extra>",
         "legendgroup": "frozenset({'increasebf', 'pumpboth'})",
         "marker": {
          "color": "#FF97FF",
          "opacity": 0.7,
          "symbol": "circle"
         },
         "mode": "markers",
         "name": "frozenset({'increasebf', 'pumpboth'})",
         "scene": "scene",
         "showlegend": true,
         "type": "scatter3d",
         "x": [
          0.652482269503546,
          0.6276595744680851,
          0.8333333333333334,
          0.5709219858156028,
          0.5283687943262412
         ],
         "y": [
          0.12994350282485875,
          0.125,
          0.16596045197740114,
          0.1137005649717514,
          0.10522598870056497
         ],
         "z": [
          2.678014184397163,
          1.6961182394023062,
          2.0557491289198606,
          2.574603604824502,
          1.8565017686500187
         ]
        },
        {
         "hovertemplate": "antecedents=frozenset({'increaseexpress', 'pumpafter'})<br>confidence=%{x}<br>support=%{y}<br>lift=%{z}<extra></extra>",
         "legendgroup": "frozenset({'increaseexpress', 'pumpafter'})",
         "marker": {
          "color": "#FECB52",
          "opacity": 0.7,
          "symbol": "circle"
         },
         "mode": "markers",
         "name": "frozenset({'increaseexpress', 'pumpafter'})",
         "scene": "scene",
         "showlegend": true,
         "type": "scatter3d",
         "x": [
          0.7564766839378237,
          0.6839378238341969,
          0.854922279792746,
          0.5647668393782384,
          0.8290155440414507,
          0.5544041450777202
         ],
         "y": [
          0.10310734463276836,
          0.09322033898305085,
          0.11652542372881355,
          0.0769774011299435,
          0.11299435028248588,
          0.07556497175141243
         ],
         "z": [
          2.3698473107432707,
          1.848198394177906,
          2.109006878373743,
          3.1484639549589977,
          2.055842399934666,
          1.9479808174442972
         ]
        },
        {
         "hovertemplate": "antecedents=frozenset({'increasebf', 'pumpafter'})<br>confidence=%{x}<br>support=%{y}<br>lift=%{z}<extra></extra>",
         "legendgroup": "frozenset({'increasebf', 'pumpafter'})",
         "marker": {
          "color": "#636efa",
          "opacity": 0.7,
          "symbol": "circle"
         },
         "mode": "markers",
         "name": "frozenset({'increasebf', 'pumpafter'})",
         "scene": "scene",
         "showlegend": true,
         "type": "scatter3d",
         "x": [
          0.7448979591836734,
          0.7040816326530612,
          0.8418367346938775,
          0.5051020408163265,
          0.8214285714285714,
          0.5306122448979592
         ],
         "y": [
          0.10310734463276836,
          0.09745762711864407,
          0.11652542372881355,
          0.06991525423728813,
          0.1137005649717514,
          0.07344632768361582
         ],
         "z": [
          3.0573203194321206,
          1.9026328088487305,
          2.076726160847614,
          2.8158444480154263,
          2.037027770828121,
          1.8643844634628046
         ]
        },
        {
         "hovertemplate": "antecedents=frozenset({'warmed', 'increaseexpress'})<br>confidence=%{x}<br>support=%{y}<br>lift=%{z}<extra></extra>",
         "legendgroup": "frozenset({'warmed', 'increaseexpress'})",
         "marker": {
          "color": "#EF553B",
          "opacity": 0.7,
          "symbol": "circle"
         },
         "mode": "markers",
         "name": "frozenset({'warmed', 'increaseexpress'})",
         "scene": "scene",
         "showlegend": true,
         "type": "scatter3d",
         "x": [
          0.8131868131868131,
          0.9120879120879121,
          0.8241758241758241
         ],
         "y": [
          0.052259887005649715,
          0.05861581920903955,
          0.05296610169491525
         ],
         "z": [
          2.547505591753379,
          2.2500287169276714,
          2.043840572737245
         ]
        },
        {
         "hovertemplate": "antecedents=frozenset({'warmed', 'increasebf'})<br>confidence=%{x}<br>support=%{y}<br>lift=%{z}<extra></extra>",
         "legendgroup": "frozenset({'warmed', 'increasebf'})",
         "marker": {
          "color": "#00cc96",
          "opacity": 0.7,
          "symbol": "circle"
         },
         "mode": "markers",
         "name": "frozenset({'warmed', 'increasebf'})",
         "scene": "scene",
         "showlegend": true,
         "type": "scatter3d",
         "x": [
          0.8222222222222222,
          0.888888888888889,
          0.8222222222222222
         ],
         "y": [
          0.052259887005649715,
          0.05649717514124294,
          0.052259887005649715
         ],
         "z": [
          3.3746859903381643,
          2.1927990708478515,
          2.038995913601868
         ]
        },
        {
         "hovertemplate": "antecedents=frozenset({'increaseexpress', 'reducestress'})<br>confidence=%{x}<br>support=%{y}<br>lift=%{z}<extra></extra>",
         "legendgroup": "frozenset({'increaseexpress', 'reducestress'})",
         "marker": {
          "color": "#ab63fa",
          "opacity": 0.7,
          "symbol": "circle"
         },
         "mode": "markers",
         "name": "frozenset({'increaseexpress', 'reducestress'})",
         "scene": "scene",
         "showlegend": true,
         "type": "scatter3d",
         "x": [
          0.7637362637362637,
          0.6538461538461539,
          0.8241758241758241,
          0.7747252747252746,
          0.5879120879120878
         ],
         "y": [
          0.0981638418079096,
          0.08403954802259887,
          0.1059322033898305,
          0.09957627118644068,
          0.07556497175141243
         ],
         "z": [
          2.3925897111737817,
          1.7668819729888434,
          2.0331584791515103,
          1.9212101383730102,
          2.651221390074893
         ]
        },
        {
         "hovertemplate": "antecedents=frozenset({'increasebf', 'reducestress'})<br>confidence=%{x}<br>support=%{y}<br>lift=%{z}<extra></extra>",
         "legendgroup": "frozenset({'increasebf', 'reducestress'})",
         "marker": {
          "color": "#FFA15A",
          "opacity": 0.7,
          "symbol": "circle"
         },
         "mode": "markers",
         "name": "frozenset({'increasebf', 'reducestress'})",
         "scene": "scene",
         "showlegend": true,
         "type": "scatter3d",
         "x": [
          0.6435185185185185,
          0.6851851851851851,
          0.7453703703703702,
          0.6898148148148148
         ],
         "y": [
          0.0981638418079096,
          0.10451977401129943,
          0.1137005649717514,
          0.10522598870056497
         ],
         "z": [
          2.6412238325281803,
          1.8515691263782865,
          1.838753387533875,
          1.7106440941817473
         ]
        },
        {
         "hovertemplate": "antecedents=frozenset({'skintoskin', 'shield'})<br>confidence=%{x}<br>support=%{y}<br>lift=%{z}<extra></extra>",
         "legendgroup": "frozenset({'skintoskin', 'shield'})",
         "marker": {
          "color": "#19d3f3",
          "opacity": 0.7,
          "symbol": "circle"
         },
         "mode": "markers",
         "name": "frozenset({'skintoskin', 'shield'})",
         "scene": "scene",
         "showlegend": true,
         "type": "scatter3d",
         "x": [
          0.7075471698113207,
          0.839622641509434,
          0.8867924528301886
         ],
         "y": [
          0.05296610169491525,
          0.06285310734463277,
          0.06638418079096045
         ],
         "z": [
          2.2165637001168808,
          2.0712642166852935,
          2.1991210388923763
         ]
        },
        {
         "hovertemplate": "antecedents=frozenset({'increasebf', 'shield'})<br>confidence=%{x}<br>support=%{y}<br>lift=%{z}<extra></extra>",
         "legendgroup": "frozenset({'increasebf', 'shield'})",
         "marker": {
          "color": "#FF6692",
          "opacity": 0.7,
          "symbol": "circle"
         },
         "mode": "markers",
         "name": "frozenset({'increasebf', 'shield'})",
         "scene": "scene",
         "showlegend": true,
         "type": "scatter3d",
         "x": [
          0.7425742574257426,
          0.8613861386138615,
          0.8910891089108911
         ],
         "y": [
          0.05296610169491525,
          0.0614406779661017,
          0.0635593220338983
         ],
         "z": [
          2.006651046784068,
          2.1249525649429057,
          2.20977614398918
         ]
        },
        {
         "hovertemplate": "antecedents=frozenset({'skintoskin', 'massage'})<br>confidence=%{x}<br>support=%{y}<br>lift=%{z}<extra></extra>",
         "legendgroup": "frozenset({'skintoskin', 'massage'})",
         "marker": {
          "color": "#B6E880",
          "opacity": 0.7,
          "symbol": "circle"
         },
         "mode": "markers",
         "name": "frozenset({'skintoskin', 'massage'})",
         "scene": "scene",
         "showlegend": true,
         "type": "scatter3d",
         "x": [
          0.6521739130434782,
          0.5451505016722408,
          0.725752508361204,
          0.5284280936454849,
          0.5351170568561873
         ],
         "y": [
          0.13771186440677965,
          0.11511299435028248,
          0.15324858757062146,
          0.1115819209039548,
          0.11299435028248588
         ],
         "z": [
          2.043093497499038,
          2.2374872764286753,
          1.7997645391234058,
          2.38297509745862,
          1.8802127853805488
         ]
        },
        {
         "hovertemplate": "antecedents=frozenset({'skintoskin', 'pumpwhilebf'})<br>confidence=%{x}<br>support=%{y}<br>lift=%{z}<extra></extra>",
         "legendgroup": "frozenset({'skintoskin', 'pumpwhilebf'})",
         "marker": {
          "color": "#FF97FF",
          "opacity": 0.7,
          "symbol": "circle"
         },
         "mode": "markers",
         "name": "frozenset({'skintoskin', 'pumpwhilebf'})",
         "scene": "scene",
         "showlegend": true,
         "type": "scatter3d",
         "x": [
          0.6081081081081081,
          0.6621621621621622,
          0.8513513513513514,
          0.8310810810810811,
          0.6891891891891893,
          0.5202702702702703
         ],
         "y": [
          0.0635593220338983,
          0.0692090395480226,
          0.08898305084745763,
          0.08686440677966102,
          0.07203389830508475,
          0.054378531073446326
         ],
         "z": [
          1.905046639559914,
          2.717743830787309,
          2.1001977587343443,
          2.0609646424007195,
          3.1079359614391464,
          1.82804640869157
         ]
        },
        {
         "hovertemplate": "antecedents=frozenset({'skintoskin', 'pumpboth'})<br>confidence=%{x}<br>support=%{y}<br>lift=%{z}<extra></extra>",
         "legendgroup": "frozenset({'skintoskin', 'pumpboth'})",
         "marker": {
          "color": "#FECB52",
          "opacity": 0.7,
          "symbol": "circle"
         },
         "mode": "markers",
         "name": "frozenset({'skintoskin', 'pumpboth'})",
         "scene": "scene",
         "showlegend": true,
         "type": "scatter3d",
         "x": [
          0.6413043478260869,
          0.5289855072463767,
          0.786231884057971,
          0.5543478260869565,
          0.5181159420289855
         ],
         "y": [
          0.125,
          0.10310734463276836,
          0.15324858757062146,
          0.10805084745762712,
          0.10098870056497175
         ],
         "z": [
          2.0090419392073873,
          2.1711405166981725,
          1.9395546129374335,
          2.4998615342010524,
          1.8204768583450208
         ]
        },
        {
         "hovertemplate": "antecedents=frozenset({'skintoskin', 'pumpafter'})<br>confidence=%{x}<br>support=%{y}<br>lift=%{z}<extra></extra>",
         "legendgroup": "frozenset({'skintoskin', 'pumpafter'})",
         "marker": {
          "color": "#636efa",
          "opacity": 0.7,
          "symbol": "circle"
         },
         "mode": "markers",
         "name": "frozenset({'skintoskin', 'pumpafter'})",
         "scene": "scene",
         "showlegend": true,
         "type": "scatter3d",
         "x": [
          0.71875,
          0.6875,
          0.8229166666666666,
          0.53125,
          0.796875,
          0.5416666666666667
         ],
         "y": [
          0.09745762711864407,
          0.09322033898305085,
          0.1115819209039548,
          0.07203389830508475,
          0.10805084745762712,
          0.07344632768361582
         ],
         "z": [
          2.251659292035398,
          2.8217391304347825,
          2.0300522648083623,
          2.9616141732283463,
          1.9761383537653239,
          1.9032258064516132
         ]
        },
        {
         "hovertemplate": "antecedents=frozenset({'skintoskin', 'reducestress'})<br>confidence=%{x}<br>support=%{y}<br>lift=%{z}<extra></extra>",
         "legendgroup": "frozenset({'skintoskin', 'reducestress'})",
         "marker": {
          "color": "#EF553B",
          "opacity": 0.7,
          "symbol": "circle"
         },
         "mode": "markers",
         "name": "frozenset({'skintoskin', 'reducestress'})",
         "scene": "scene",
         "showlegend": true,
         "type": "scatter3d",
         "x": [
          0.6434782608695652,
          0.5173913043478261,
          0.6956521739130435,
          0.6217391304347826
         ],
         "y": [
          0.10451977401129943,
          0.08403954802259887,
          0.11299435028248588,
          0.10098870056497175
         ],
         "z": [
          2.0158522508657173,
          2.1235538752362952,
          1.7161036206635358,
          1.5418259346683925
         ]
        },
        {
         "hovertemplate": "antecedents=frozenset({'shield', 'massage'})<br>confidence=%{x}<br>support=%{y}<br>lift=%{z}<extra></extra>",
         "legendgroup": "frozenset({'shield', 'massage'})",
         "marker": {
          "color": "#00cc96",
          "opacity": 0.7,
          "symbol": "circle"
         },
         "mode": "markers",
         "name": "frozenset({'shield', 'massage'})",
         "scene": "scene",
         "showlegend": true,
         "type": "scatter3d",
         "x": [
          0.6397058823529412,
          0.5441176470588235,
          0.6544117647058824,
          0.8455882352941176,
          0.551470588235294
         ],
         "y": [
          0.0614406779661017,
          0.052259887005649715,
          0.06285310734463277,
          0.08121468926553672,
          0.05296610169491525
         ],
         "z": [
          2.0040343571056742,
          2.233248081841432,
          1.7684104176021556,
          2.096940352323066,
          2.4868864743349564
         ]
        },
        {
         "hovertemplate": "antecedents=frozenset({'pumpboth', 'shield'})<br>confidence=%{x}<br>support=%{y}<br>lift=%{z}<extra></extra>",
         "legendgroup": "frozenset({'pumpboth', 'shield'})",
         "marker": {
          "color": "#ab63fa",
          "opacity": 0.7,
          "symbol": "circle"
         },
         "mode": "markers",
         "name": "frozenset({'pumpboth', 'shield'})",
         "scene": "scene",
         "showlegend": true,
         "type": "scatter3d",
         "x": [
          0.6206896551724138,
          0.5172413793103448,
          0.6482758620689655,
          0.7931034482758621,
          0.5724137931034483
         ],
         "y": [
          0.0635593220338983,
          0.05296610169491525,
          0.06638418079096045,
          0.08121468926553672,
          0.05861581920903955
         ],
         "z": [
          1.9444613976197742,
          2.1229385307346327,
          1.751829428797052,
          1.9565060675237294,
          2.5813309905556774
         ]
        },
        {
         "hovertemplate": "antecedents=frozenset({'pumpwhilebf', 'massage'})<br>confidence=%{x}<br>support=%{y}<br>lift=%{z}<extra></extra>",
         "legendgroup": "frozenset({'pumpwhilebf', 'massage'})",
         "marker": {
          "color": "#FFA15A",
          "opacity": 0.7,
          "symbol": "circle"
         },
         "mode": "markers",
         "name": "frozenset({'pumpwhilebf', 'massage'})",
         "scene": "scene",
         "showlegend": true,
         "type": "scatter3d",
         "x": [
          0.6169154228855721,
          0.6467661691542288,
          0.626865671641791,
          0.8208955223880596,
          0.6218905472636815
         ],
         "y": [
          0.08757062146892655,
          0.09180790960451977,
          0.08898305084745763,
          0.11652542372881355,
          0.0882768361581921
         ],
         "z": [
          1.9326376964733851,
          2.654553320354748,
          1.6939728836732368,
          2.0357058838905298,
          2.804449092119022
         ]
        },
        {
         "hovertemplate": "antecedents=frozenset({'pumpboth', 'massage'})<br>confidence=%{x}<br>support=%{y}<br>lift=%{z}<extra></extra>",
         "legendgroup": "frozenset({'pumpboth', 'massage'})",
         "marker": {
          "color": "#19d3f3",
          "opacity": 0.7,
          "symbol": "circle"
         },
         "mode": "markers",
         "name": "frozenset({'pumpboth', 'massage'})",
         "scene": "scene",
         "showlegend": true,
         "type": "scatter3d",
         "x": [
          0.573170731707317,
          0.5243902439024389,
          0.5292682926829267
         ],
         "y": [
          0.16596045197740114,
          0.1518361581920904,
          0.15324858757062146
         ],
         "z": [
          1.7955968055255773,
          2.1522799575821843,
          1.430236455036306
         ]
        },
        {
         "hovertemplate": "antecedents=frozenset({'pumpafter', 'massage'})<br>confidence=%{x}<br>support=%{y}<br>lift=%{z}<extra></extra>",
         "legendgroup": "frozenset({'pumpafter', 'massage'})",
         "marker": {
          "color": "#FF6692",
          "opacity": 0.7,
          "symbol": "circle"
         },
         "mode": "markers",
         "name": "frozenset({'pumpafter', 'massage'})",
         "scene": "scene",
         "showlegend": true,
         "type": "scatter3d",
         "x": [
          0.6846473029045643,
          0.6846473029045643,
          0.6556016597510373,
          0.5186721991701245,
          0.8215767634854771,
          0.5145228215767634
         ],
         "y": [
          0.11652542372881355,
          0.11652542372881355,
          0.1115819209039548,
          0.0882768361581921,
          0.13983050847457626,
          0.08757062146892655
         ],
         "z": [
          2.144824294055007,
          2.810030669312647,
          1.771625859174559,
          2.891495409546836,
          2.0373952663667874,
          1.807851899138206
         ]
        },
        {
         "hovertemplate": "antecedents=frozenset({'warmed', 'massage'})<br>confidence=%{x}<br>support=%{y}<br>lift=%{z}<extra></extra>",
         "legendgroup": "frozenset({'warmed', 'massage'})",
         "marker": {
          "color": "#B6E880",
          "opacity": 0.7,
          "symbol": "circle"
         },
         "mode": "markers",
         "name": "frozenset({'warmed', 'massage'})",
         "scene": "scene",
         "showlegend": true,
         "type": "scatter3d",
         "x": [
          0.6611570247933884,
          0.6859504132231404,
          0.6363636363636364,
          0.8347107438016528,
          0.5950413223140496
         ],
         "y": [
          0.05649717514124294,
          0.05861581920903955,
          0.054378531073446326,
          0.0713276836158192,
          0.05084745762711865
         ],
         "z": [
          2.071235281211146,
          2.815379087315846,
          1.7196391394864678,
          2.0699656974135556,
          2.683371058588198
         ]
        },
        {
         "hovertemplate": "antecedents=frozenset({'massage', 'reducestress'})<br>confidence=%{x}<br>support=%{y}<br>lift=%{z}<extra></extra>",
         "legendgroup": "frozenset({'massage', 'reducestress'})",
         "marker": {
          "color": "#FF97FF",
          "opacity": 0.7,
          "symbol": "circle"
         },
         "mode": "markers",
         "name": "frozenset({'massage', 'reducestress'})",
         "scene": "scene",
         "showlegend": true,
         "type": "scatter3d",
         "x": [
          0.6216216216216216,
          0.5791505791505791,
          0.6177606177606177,
          0.7683397683397684
         ],
         "y": [
          0.1137005649717514,
          0.1059322033898305,
          0.11299435028248588,
          0.1405367231638418
         ],
         "z": [
          1.9473810093279118,
          2.3770354205136814,
          1.6693683869256388,
          1.90537497717883
         ]
        },
        {
         "hovertemplate": "antecedents=frozenset({'pumpwhilebf', 'pumpboth'})<br>confidence=%{x}<br>support=%{y}<br>lift=%{z}<extra></extra>",
         "legendgroup": "frozenset({'pumpwhilebf', 'pumpboth'})",
         "marker": {
          "color": "#FECB52",
          "opacity": 0.7,
          "symbol": "circle"
         },
         "mode": "markers",
         "name": "frozenset({'pumpwhilebf', 'pumpboth'})",
         "scene": "scene",
         "showlegend": true,
         "type": "scatter3d",
         "x": [
          0.5970149253731343,
          0.6169154228855721,
          0.6119402985074627,
          0.8208955223880596,
          0.6069651741293531
         ],
         "y": [
          0.0847457627118644,
          0.08757062146892655,
          0.08686440677966102,
          0.11652542372881355,
          0.08615819209039548
         ],
         "z": [
          1.8702945449742436,
          2.5320354747999136,
          1.6536401959667313,
          2.025066306100161,
          2.7371423139081656
         ]
        },
        {
         "hovertemplate": "antecedents=frozenset({'pumpwhilebf', 'pumpafter'})<br>confidence=%{x}<br>support=%{y}<br>lift=%{z}<extra></extra>",
         "legendgroup": "frozenset({'pumpwhilebf', 'pumpafter'})",
         "marker": {
          "color": "#636efa",
          "opacity": 0.7,
          "symbol": "circle"
         },
         "mode": "markers",
         "name": "frozenset({'pumpwhilebf', 'pumpafter'})",
         "scene": "scene",
         "showlegend": true,
         "type": "scatter3d",
         "x": [
          0.673469387755102,
          0.7414965986394557,
          0.6938775510204082,
          0.8503401360544218,
          0.8299319727891156,
          0.5170068027210885
         ],
         "y": [
          0.06991525423728813,
          0.0769774011299435,
          0.07203389830508475,
          0.0882768361581921,
          0.08615819209039548,
          0.05367231638418079
         ],
         "z": [
          2.109806754560231,
          3.0433599526767225,
          1.875058420314691,
          2.097703192775368,
          2.058115014832553,
          1.816579733630425
         ]
        },
        {
         "hovertemplate": "antecedents=frozenset({'pumpwhilebf', 'reducestress'})<br>confidence=%{x}<br>support=%{y}<br>lift=%{z}<extra></extra>",
         "legendgroup": "frozenset({'pumpwhilebf', 'reducestress'})",
         "marker": {
          "color": "#EF553B",
          "opacity": 0.7,
          "symbol": "circle"
         },
         "mode": "markers",
         "name": "frozenset({'pumpwhilebf', 'reducestress'})",
         "scene": "scene",
         "showlegend": true,
         "type": "scatter3d",
         "x": [
          0.6283185840707965,
          0.6991150442477876,
          0.6814159292035398,
          0.8672566371681416,
          0.8584070796460176,
          0.6725663716814159
         ],
         "y": [
          0.05014124293785311,
          0.0557909604519774,
          0.054378531073446326,
          0.0692090395480226,
          0.06850282485875706,
          0.05367231638418079
         ],
         "z": [
          1.968360873991699,
          2.8694113120430935,
          1.8413835033439168,
          2.1394344916900496,
          2.1287292903305794,
          3.032974465926385
         ]
        },
        {
         "hovertemplate": "antecedents=frozenset({'pumpafter', 'pumpboth'})<br>confidence=%{x}<br>support=%{y}<br>lift=%{z}<extra></extra>",
         "legendgroup": "frozenset({'pumpafter', 'pumpboth'})",
         "marker": {
          "color": "#00cc96",
          "opacity": 0.7,
          "symbol": "circle"
         },
         "mode": "markers",
         "name": "frozenset({'pumpafter', 'pumpboth'})",
         "scene": "scene",
         "showlegend": true,
         "type": "scatter3d",
         "x": [
          0.6439999999999999,
          0.64,
          0.612,
          0.7919999999999999,
          0.504
         ],
         "y": [
          0.1137005649717514,
          0.11299435028248588,
          0.10805084745762712,
          0.13983050847457626,
          0.08898305084745763
         ],
         "z": [
          2.0174867256637166,
          2.6267826086956525,
          1.6538015267175574,
          1.9537839721254353,
          1.77087841191067
         ]
        },
        {
         "hovertemplate": "antecedents=frozenset({'warmed', 'pumpboth'})<br>confidence=%{x}<br>support=%{y}<br>lift=%{z}<extra></extra>",
         "legendgroup": "frozenset({'warmed', 'pumpboth'})",
         "marker": {
          "color": "#ab63fa",
          "opacity": 0.7,
          "symbol": "circle"
         },
         "mode": "markers",
         "name": "frozenset({'warmed', 'pumpboth'})",
         "scene": "scene",
         "showlegend": true,
         "type": "scatter3d",
         "x": [
          0.6915887850467289,
          0.7009345794392523,
          0.9439252336448598
         ],
         "y": [
          0.052259887005649715,
          0.05296610169491525,
          0.0713276836158192
         ],
         "z": [
          2.1665701761640888,
          2.8768793173506704,
          2.328568172197076
         ]
        },
        {
         "hovertemplate": "antecedents=frozenset({'pumpboth', 'reducestress'})<br>confidence=%{x}<br>support=%{y}<br>lift=%{z}<extra></extra>",
         "legendgroup": "frozenset({'pumpboth', 'reducestress'})",
         "marker": {
          "color": "#FFA15A",
          "opacity": 0.7,
          "symbol": "circle"
         },
         "mode": "markers",
         "name": "frozenset({'pumpboth', 'reducestress'})",
         "scene": "scene",
         "showlegend": true,
         "type": "scatter3d",
         "x": [
          0.6081632653061224,
          0.5755102040816327,
          0.5836734693877551,
          0.8122448979591836,
          0.5142857142857142
         ],
         "y": [
          0.10522598870056497,
          0.09957627118644068,
          0.10098870056497175,
          0.1405367231638418,
          0.08898305084745763
         ],
         "z": [
          1.9052194329059056,
          2.36209405501331,
          1.5772550241470635,
          2.003726089739031,
          2.319199272065514
         ]
        },
        {
         "hovertemplate": "antecedents=frozenset({'pumpafter', 'reducestress'})<br>confidence=%{x}<br>support=%{y}<br>lift=%{z}<extra></extra>",
         "legendgroup": "frozenset({'pumpafter', 'reducestress'})",
         "marker": {
          "color": "#19d3f3",
          "opacity": 0.7,
          "symbol": "circle"
         },
         "mode": "markers",
         "name": "frozenset({'pumpafter', 'reducestress'})",
         "scene": "scene",
         "showlegend": true,
         "type": "scatter3d",
         "x": [
          0.6933333333333334,
          0.7133333333333334,
          0.6933333333333334,
          0.8266666666666667,
          0.5066666666666667,
          0.8400000000000001
         ],
         "y": [
          0.07344632768361582,
          0.07556497175141243,
          0.07344632768361582,
          0.08757062146892655,
          0.05367231638418079,
          0.08898305084745763
         ],
         "z": [
          2.1720353982300886,
          2.9277681159420292,
          1.8735877862595423,
          2.0393031358885017,
          2.824566929133858,
          2.0830823117338007
         ]
        },
        {
         "hovertemplate": "antecedents=frozenset({'increaseexpress', 'shield'})<br>confidence=%{x}<br>support=%{y}<br>lift=%{z}<extra></extra>",
         "legendgroup": "frozenset({'increaseexpress', 'shield'})",
         "marker": {
          "color": "#FF6692",
          "opacity": 0.7,
          "symbol": "circle"
         },
         "mode": "markers",
         "name": "frozenset({'increaseexpress', 'shield'})",
         "scene": "scene",
         "showlegend": true,
         "type": "scatter3d",
         "x": [
          0.8809523809523809,
          0.8928571428571428
         ],
         "y": [
          0.052259887005649715,
          0.05296610169491525
         ],
         "z": [
          2.173220507715281,
          2.2141606204653486
         ]
        },
        {
         "hovertemplate": "antecedents=frozenset({'warmed', 'skintoskin'})<br>confidence=%{x}<br>support=%{y}<br>lift=%{z}<extra></extra>",
         "legendgroup": "frozenset({'warmed', 'skintoskin'})",
         "marker": {
          "color": "#B6E880",
          "opacity": 0.7,
          "symbol": "circle"
         },
         "mode": "markers",
         "name": "frozenset({'warmed', 'skintoskin'})",
         "scene": "scene",
         "showlegend": true,
         "type": "scatter3d",
         "x": [
          0.9058823529411764
         ],
         "y": [
          0.054378531073446326
         ],
         "z": [
          2.2347202295552364
         ]
        },
        {
         "hovertemplate": "antecedents=frozenset({'pumpafter', 'shield'})<br>confidence=%{x}<br>support=%{y}<br>lift=%{z}<extra></extra>",
         "legendgroup": "frozenset({'pumpafter', 'shield'})",
         "marker": {
          "color": "#FF97FF",
          "opacity": 0.7,
          "symbol": "circle"
         },
         "mode": "markers",
         "name": "frozenset({'pumpafter', 'shield'})",
         "scene": "scene",
         "showlegend": true,
         "type": "scatter3d",
         "x": [
          0.8152173913043478,
          0.9021739130434783
         ],
         "y": [
          0.05296610169491525,
          0.05861581920903955
         ],
         "z": [
          2.0110589304650808,
          2.2372649052006395
         ]
        },
        {
         "hovertemplate": "antecedents=frozenset({'warmed', 'pumpafter'})<br>confidence=%{x}<br>support=%{y}<br>lift=%{z}<extra></extra>",
         "legendgroup": "frozenset({'warmed', 'pumpafter'})",
         "marker": {
          "color": "#FECB52",
          "opacity": 0.7,
          "symbol": "circle"
         },
         "mode": "markers",
         "name": "frozenset({'warmed', 'pumpafter'})",
         "scene": "scene",
         "showlegend": true,
         "type": "scatter3d",
         "x": [
          0.9600000000000001
         ],
         "y": [
          0.05084745762711865
         ],
         "z": [
          2.3682229965156796
         ]
        }
       ],
       "layout": {
        "legend": {
         "title": {
          "text": "antecedents"
         },
         "tracegroupgap": 0
        },
        "margin": {
         "b": 0,
         "l": 0,
         "r": 0,
         "t": 0
        },
        "scene": {
         "domain": {
          "x": [
           0,
           1
          ],
          "y": [
           0,
           1
          ]
         },
         "xaxis": {
          "title": {
           "text": "confidence"
          }
         },
         "yaxis": {
          "title": {
           "text": "support"
          }
         },
         "zaxis": {
          "title": {
           "text": "lift"
          }
         }
        },
        "template": {
         "data": {
          "bar": [
           {
            "error_x": {
             "color": "#2a3f5f"
            },
            "error_y": {
             "color": "#2a3f5f"
            },
            "marker": {
             "line": {
              "color": "#E5ECF6",
              "width": 0.5
             },
             "pattern": {
              "fillmode": "overlay",
              "size": 10,
              "solidity": 0.2
             }
            },
            "type": "bar"
           }
          ],
          "barpolar": [
           {
            "marker": {
             "line": {
              "color": "#E5ECF6",
              "width": 0.5
             },
             "pattern": {
              "fillmode": "overlay",
              "size": 10,
              "solidity": 0.2
             }
            },
            "type": "barpolar"
           }
          ],
          "carpet": [
           {
            "aaxis": {
             "endlinecolor": "#2a3f5f",
             "gridcolor": "white",
             "linecolor": "white",
             "minorgridcolor": "white",
             "startlinecolor": "#2a3f5f"
            },
            "baxis": {
             "endlinecolor": "#2a3f5f",
             "gridcolor": "white",
             "linecolor": "white",
             "minorgridcolor": "white",
             "startlinecolor": "#2a3f5f"
            },
            "type": "carpet"
           }
          ],
          "choropleth": [
           {
            "colorbar": {
             "outlinewidth": 0,
             "ticks": ""
            },
            "type": "choropleth"
           }
          ],
          "contour": [
           {
            "colorbar": {
             "outlinewidth": 0,
             "ticks": ""
            },
            "colorscale": [
             [
              0,
              "#0d0887"
             ],
             [
              0.1111111111111111,
              "#46039f"
             ],
             [
              0.2222222222222222,
              "#7201a8"
             ],
             [
              0.3333333333333333,
              "#9c179e"
             ],
             [
              0.4444444444444444,
              "#bd3786"
             ],
             [
              0.5555555555555556,
              "#d8576b"
             ],
             [
              0.6666666666666666,
              "#ed7953"
             ],
             [
              0.7777777777777778,
              "#fb9f3a"
             ],
             [
              0.8888888888888888,
              "#fdca26"
             ],
             [
              1,
              "#f0f921"
             ]
            ],
            "type": "contour"
           }
          ],
          "contourcarpet": [
           {
            "colorbar": {
             "outlinewidth": 0,
             "ticks": ""
            },
            "type": "contourcarpet"
           }
          ],
          "heatmap": [
           {
            "colorbar": {
             "outlinewidth": 0,
             "ticks": ""
            },
            "colorscale": [
             [
              0,
              "#0d0887"
             ],
             [
              0.1111111111111111,
              "#46039f"
             ],
             [
              0.2222222222222222,
              "#7201a8"
             ],
             [
              0.3333333333333333,
              "#9c179e"
             ],
             [
              0.4444444444444444,
              "#bd3786"
             ],
             [
              0.5555555555555556,
              "#d8576b"
             ],
             [
              0.6666666666666666,
              "#ed7953"
             ],
             [
              0.7777777777777778,
              "#fb9f3a"
             ],
             [
              0.8888888888888888,
              "#fdca26"
             ],
             [
              1,
              "#f0f921"
             ]
            ],
            "type": "heatmap"
           }
          ],
          "heatmapgl": [
           {
            "colorbar": {
             "outlinewidth": 0,
             "ticks": ""
            },
            "colorscale": [
             [
              0,
              "#0d0887"
             ],
             [
              0.1111111111111111,
              "#46039f"
             ],
             [
              0.2222222222222222,
              "#7201a8"
             ],
             [
              0.3333333333333333,
              "#9c179e"
             ],
             [
              0.4444444444444444,
              "#bd3786"
             ],
             [
              0.5555555555555556,
              "#d8576b"
             ],
             [
              0.6666666666666666,
              "#ed7953"
             ],
             [
              0.7777777777777778,
              "#fb9f3a"
             ],
             [
              0.8888888888888888,
              "#fdca26"
             ],
             [
              1,
              "#f0f921"
             ]
            ],
            "type": "heatmapgl"
           }
          ],
          "histogram": [
           {
            "marker": {
             "pattern": {
              "fillmode": "overlay",
              "size": 10,
              "solidity": 0.2
             }
            },
            "type": "histogram"
           }
          ],
          "histogram2d": [
           {
            "colorbar": {
             "outlinewidth": 0,
             "ticks": ""
            },
            "colorscale": [
             [
              0,
              "#0d0887"
             ],
             [
              0.1111111111111111,
              "#46039f"
             ],
             [
              0.2222222222222222,
              "#7201a8"
             ],
             [
              0.3333333333333333,
              "#9c179e"
             ],
             [
              0.4444444444444444,
              "#bd3786"
             ],
             [
              0.5555555555555556,
              "#d8576b"
             ],
             [
              0.6666666666666666,
              "#ed7953"
             ],
             [
              0.7777777777777778,
              "#fb9f3a"
             ],
             [
              0.8888888888888888,
              "#fdca26"
             ],
             [
              1,
              "#f0f921"
             ]
            ],
            "type": "histogram2d"
           }
          ],
          "histogram2dcontour": [
           {
            "colorbar": {
             "outlinewidth": 0,
             "ticks": ""
            },
            "colorscale": [
             [
              0,
              "#0d0887"
             ],
             [
              0.1111111111111111,
              "#46039f"
             ],
             [
              0.2222222222222222,
              "#7201a8"
             ],
             [
              0.3333333333333333,
              "#9c179e"
             ],
             [
              0.4444444444444444,
              "#bd3786"
             ],
             [
              0.5555555555555556,
              "#d8576b"
             ],
             [
              0.6666666666666666,
              "#ed7953"
             ],
             [
              0.7777777777777778,
              "#fb9f3a"
             ],
             [
              0.8888888888888888,
              "#fdca26"
             ],
             [
              1,
              "#f0f921"
             ]
            ],
            "type": "histogram2dcontour"
           }
          ],
          "mesh3d": [
           {
            "colorbar": {
             "outlinewidth": 0,
             "ticks": ""
            },
            "type": "mesh3d"
           }
          ],
          "parcoords": [
           {
            "line": {
             "colorbar": {
              "outlinewidth": 0,
              "ticks": ""
             }
            },
            "type": "parcoords"
           }
          ],
          "pie": [
           {
            "automargin": true,
            "type": "pie"
           }
          ],
          "scatter": [
           {
            "fillpattern": {
             "fillmode": "overlay",
             "size": 10,
             "solidity": 0.2
            },
            "type": "scatter"
           }
          ],
          "scatter3d": [
           {
            "line": {
             "colorbar": {
              "outlinewidth": 0,
              "ticks": ""
             }
            },
            "marker": {
             "colorbar": {
              "outlinewidth": 0,
              "ticks": ""
             }
            },
            "type": "scatter3d"
           }
          ],
          "scattercarpet": [
           {
            "marker": {
             "colorbar": {
              "outlinewidth": 0,
              "ticks": ""
             }
            },
            "type": "scattercarpet"
           }
          ],
          "scattergeo": [
           {
            "marker": {
             "colorbar": {
              "outlinewidth": 0,
              "ticks": ""
             }
            },
            "type": "scattergeo"
           }
          ],
          "scattergl": [
           {
            "marker": {
             "colorbar": {
              "outlinewidth": 0,
              "ticks": ""
             }
            },
            "type": "scattergl"
           }
          ],
          "scattermapbox": [
           {
            "marker": {
             "colorbar": {
              "outlinewidth": 0,
              "ticks": ""
             }
            },
            "type": "scattermapbox"
           }
          ],
          "scatterpolar": [
           {
            "marker": {
             "colorbar": {
              "outlinewidth": 0,
              "ticks": ""
             }
            },
            "type": "scatterpolar"
           }
          ],
          "scatterpolargl": [
           {
            "marker": {
             "colorbar": {
              "outlinewidth": 0,
              "ticks": ""
             }
            },
            "type": "scatterpolargl"
           }
          ],
          "scatterternary": [
           {
            "marker": {
             "colorbar": {
              "outlinewidth": 0,
              "ticks": ""
             }
            },
            "type": "scatterternary"
           }
          ],
          "surface": [
           {
            "colorbar": {
             "outlinewidth": 0,
             "ticks": ""
            },
            "colorscale": [
             [
              0,
              "#0d0887"
             ],
             [
              0.1111111111111111,
              "#46039f"
             ],
             [
              0.2222222222222222,
              "#7201a8"
             ],
             [
              0.3333333333333333,
              "#9c179e"
             ],
             [
              0.4444444444444444,
              "#bd3786"
             ],
             [
              0.5555555555555556,
              "#d8576b"
             ],
             [
              0.6666666666666666,
              "#ed7953"
             ],
             [
              0.7777777777777778,
              "#fb9f3a"
             ],
             [
              0.8888888888888888,
              "#fdca26"
             ],
             [
              1,
              "#f0f921"
             ]
            ],
            "type": "surface"
           }
          ],
          "table": [
           {
            "cells": {
             "fill": {
              "color": "#EBF0F8"
             },
             "line": {
              "color": "white"
             }
            },
            "header": {
             "fill": {
              "color": "#C8D4E3"
             },
             "line": {
              "color": "white"
             }
            },
            "type": "table"
           }
          ]
         },
         "layout": {
          "annotationdefaults": {
           "arrowcolor": "#2a3f5f",
           "arrowhead": 0,
           "arrowwidth": 1
          },
          "autotypenumbers": "strict",
          "coloraxis": {
           "colorbar": {
            "outlinewidth": 0,
            "ticks": ""
           }
          },
          "colorscale": {
           "diverging": [
            [
             0,
             "#8e0152"
            ],
            [
             0.1,
             "#c51b7d"
            ],
            [
             0.2,
             "#de77ae"
            ],
            [
             0.3,
             "#f1b6da"
            ],
            [
             0.4,
             "#fde0ef"
            ],
            [
             0.5,
             "#f7f7f7"
            ],
            [
             0.6,
             "#e6f5d0"
            ],
            [
             0.7,
             "#b8e186"
            ],
            [
             0.8,
             "#7fbc41"
            ],
            [
             0.9,
             "#4d9221"
            ],
            [
             1,
             "#276419"
            ]
           ],
           "sequential": [
            [
             0,
             "#0d0887"
            ],
            [
             0.1111111111111111,
             "#46039f"
            ],
            [
             0.2222222222222222,
             "#7201a8"
            ],
            [
             0.3333333333333333,
             "#9c179e"
            ],
            [
             0.4444444444444444,
             "#bd3786"
            ],
            [
             0.5555555555555556,
             "#d8576b"
            ],
            [
             0.6666666666666666,
             "#ed7953"
            ],
            [
             0.7777777777777778,
             "#fb9f3a"
            ],
            [
             0.8888888888888888,
             "#fdca26"
            ],
            [
             1,
             "#f0f921"
            ]
           ],
           "sequentialminus": [
            [
             0,
             "#0d0887"
            ],
            [
             0.1111111111111111,
             "#46039f"
            ],
            [
             0.2222222222222222,
             "#7201a8"
            ],
            [
             0.3333333333333333,
             "#9c179e"
            ],
            [
             0.4444444444444444,
             "#bd3786"
            ],
            [
             0.5555555555555556,
             "#d8576b"
            ],
            [
             0.6666666666666666,
             "#ed7953"
            ],
            [
             0.7777777777777778,
             "#fb9f3a"
            ],
            [
             0.8888888888888888,
             "#fdca26"
            ],
            [
             1,
             "#f0f921"
            ]
           ]
          },
          "colorway": [
           "#636efa",
           "#EF553B",
           "#00cc96",
           "#ab63fa",
           "#FFA15A",
           "#19d3f3",
           "#FF6692",
           "#B6E880",
           "#FF97FF",
           "#FECB52"
          ],
          "font": {
           "color": "#2a3f5f"
          },
          "geo": {
           "bgcolor": "white",
           "lakecolor": "white",
           "landcolor": "#E5ECF6",
           "showlakes": true,
           "showland": true,
           "subunitcolor": "white"
          },
          "hoverlabel": {
           "align": "left"
          },
          "hovermode": "closest",
          "mapbox": {
           "style": "light"
          },
          "paper_bgcolor": "white",
          "plot_bgcolor": "#E5ECF6",
          "polar": {
           "angularaxis": {
            "gridcolor": "white",
            "linecolor": "white",
            "ticks": ""
           },
           "bgcolor": "#E5ECF6",
           "radialaxis": {
            "gridcolor": "white",
            "linecolor": "white",
            "ticks": ""
           }
          },
          "scene": {
           "xaxis": {
            "backgroundcolor": "#E5ECF6",
            "gridcolor": "white",
            "gridwidth": 2,
            "linecolor": "white",
            "showbackground": true,
            "ticks": "",
            "zerolinecolor": "white"
           },
           "yaxis": {
            "backgroundcolor": "#E5ECF6",
            "gridcolor": "white",
            "gridwidth": 2,
            "linecolor": "white",
            "showbackground": true,
            "ticks": "",
            "zerolinecolor": "white"
           },
           "zaxis": {
            "backgroundcolor": "#E5ECF6",
            "gridcolor": "white",
            "gridwidth": 2,
            "linecolor": "white",
            "showbackground": true,
            "ticks": "",
            "zerolinecolor": "white"
           }
          },
          "shapedefaults": {
           "line": {
            "color": "#2a3f5f"
           }
          },
          "ternary": {
           "aaxis": {
            "gridcolor": "white",
            "linecolor": "white",
            "ticks": ""
           },
           "baxis": {
            "gridcolor": "white",
            "linecolor": "white",
            "ticks": ""
           },
           "bgcolor": "#E5ECF6",
           "caxis": {
            "gridcolor": "white",
            "linecolor": "white",
            "ticks": ""
           }
          },
          "title": {
           "x": 0.05
          },
          "xaxis": {
           "automargin": true,
           "gridcolor": "white",
           "linecolor": "white",
           "ticks": "",
           "title": {
            "standoff": 15
           },
           "zerolinecolor": "white",
           "zerolinewidth": 2
          },
          "yaxis": {
           "automargin": true,
           "gridcolor": "white",
           "linecolor": "white",
           "ticks": "",
           "title": {
            "standoff": 15
           },
           "zerolinecolor": "white",
           "zerolinewidth": 2
          }
         }
        }
       }
      }
     },
     "metadata": {},
     "output_type": "display_data"
    }
   ],
   "source": [
    "fig = px.scatter_3d(rules, x='confidence', y='support', z='lift', opacity=0.7, color='antecedents')\n",
    "                    #color='petal_length', symbol='species')\n",
    "# tight layout\n",
    "fig.update_layout(margin=dict(l=0, r=0, b=0, t=0))\n",
    "fig.show()"
   ]
  },
  {
   "cell_type": "code",
   "execution_count": 109,
   "metadata": {},
   "outputs": [
    {
     "name": "stderr",
     "output_type": "stream",
     "text": [
      "<>:24: DeprecationWarning:\n",
      "\n",
      "invalid escape sequence \\d\n",
      "\n",
      "<>:24: DeprecationWarning:\n",
      "\n",
      "invalid escape sequence \\d\n",
      "\n",
      "/var/folders/jk/45pfmj415lb9l0__2lq4xmr40000gn/T/ipykernel_46244/3930746849.py:24: DeprecationWarning:\n",
      "\n",
      "invalid escape sequence \\d\n",
      "\n"
     ]
    },
    {
     "data": {
      "image/png": "[encoded data removed]",
      "text/plain": [
       "<Figure size 432x288 with 1 Axes>"
      ]
     },
     "metadata": {},
     "output_type": "display_data"
    }
   ],
   "source": [
    "def draw_network(rules, rules_to_show):\n",
    "      # Directional Graph from NetworkX\n",
    "  network = nx.DiGraph(directed=True)\n",
    "  \n",
    "  # Loop through number of rules to show\n",
    "  for i in range(rules_to_show):\n",
    "    \n",
    "    # Add a Rule Node\n",
    "    network.add_nodes_from([\"R\"+str(i)])\n",
    "    for antecedents in rules.iloc[i]['antecedents']: \n",
    "        # Add antecedent node and link to rule\n",
    "        network.add_nodes_from([antecedents])\n",
    "        network.add_edge(antecedents, \"R\"+str(i),  weight = 2)\n",
    "      \n",
    "    for consequents in rules.iloc[i]['consequents']:\n",
    "        # Add consequent node and link to rule\n",
    "        network.add_nodes_from([consequents])\n",
    "        network.add_edge(\"R\"+str(i), consequents,  weight = 2)\n",
    "\n",
    "  color_map=[]  \n",
    "  \n",
    "  # For every node, if it's a rule, colour as Black, otherwise Orange\n",
    "  for node in network:\n",
    "       if re.compile(\"^[R]\\d+$\").fullmatch(node) != None:\n",
    "            color_map.append('black')\n",
    "       else:\n",
    "            color_map.append('orange')\n",
    "  \n",
    "  # Position nodes using spring layout\n",
    "  pos = nx.spring_layout(network, k=16, scale=1)\n",
    "  # Draw the network graph\n",
    "  nx.draw(network, pos, node_color = color_map, font_size=8)            \n",
    "  \n",
    "  # Shift the text position upwards\n",
    "  for p in pos:  \n",
    "      pos[p][1] += 0.12\n",
    "  nx.draw_networkx_labels(network, pos)\n",
    "  plt.title(\"Network Graph for Association Rules\")\n",
    "  plt.show()\n",
    "\n",
    "draw_network(rules, 10)"
   ]
  },
  {
   "cell_type": "markdown",
   "metadata": {},
   "source": [
    "__Inference:__\n",
    "\n",
    "From the results it’s very clear that, higher the LIFT value, stronger the correlation between the antecedents and the consequents.\n",
    "\n",
    "A lift greater than 1 suggests that the presence of the antecedent increases the chances that the consequent will occur in a given transaction.\n",
    "\n",
    "Lift below 1 indicates that purchasing the antecedent reduces the chances of purchasing the consequent in the same transaction. Note: This could indicate that the items are seen by customers as alternatives to each other.\n",
    "When the lift is 1, then purchasing the antecedent makes no difference on the chances of purchasing the consequent.\n"
   ]
  }
 ],
 "metadata": {
  "kernelspec": {
   "display_name": "Python 3.9.14 64-bit",
   "language": "python",
   "name": "python3"
  },
  "language_info": {
   "codemirror_mode": {
    "name": "ipython",
    "version": 3
   },
   "file_extension": ".py",
   "mimetype": "text/x-python",
   "name": "python",
   "nbconvert_exporter": "python",
   "pygments_lexer": "ipython3",
   "version": "3.9.14"
  },
  "orig_nbformat": 4,
  "vscode": {
   "interpreter": {
    "hash": "a665b5d41d17b532ea9890333293a1b812fa0b73c9c25c950b3cedf1bebd0438"
   }
  }
 },
 "nbformat": 4,
 "nbformat_minor": 2
}
