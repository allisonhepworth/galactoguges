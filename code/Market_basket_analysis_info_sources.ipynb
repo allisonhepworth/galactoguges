{
 "cells": [
  {
   "cell_type": "code",
   "execution_count": 2,
   "metadata": {},
   "outputs": [],
   "source": [
    "import pandas as pd\n",
    "import numpy as np\n",
    "import matplotlib.pyplot as plt\n",
    "import seaborn as sns\n",
    "import re\n",
    "from mlxtend.frequent_patterns import apriori\n",
    "from mlxtend.frequent_patterns import association_rules\n",
    "from mpl_toolkits.mplot3d import Axes3D\n",
    "import networkx as nx\n",
    "import plotly.express as px"
   ]
  },
  {
   "cell_type": "code",
   "execution_count": 3,
   "metadata": {},
   "outputs": [
    {
     "name": "stderr",
     "output_type": "stream",
     "text": [
      "/opt/homebrew/lib/python3.9/site-packages/seaborn/rcmod.py:400: DeprecationWarning: distutils Version classes are deprecated. Use packaging.version instead.\n",
      "  if LooseVersion(mpl.__version__) >= \"3.0\":\n",
      "/opt/homebrew/lib/python3.9/site-packages/setuptools/_distutils/version.py:346: DeprecationWarning: distutils Version classes are deprecated. Use packaging.version instead.\n",
      "  other = LooseVersion(other)\n"
     ]
    }
   ],
   "source": [
    "sns.set(style=\"darkgrid\", color_codes=True)\n",
    "pd.set_option('display.max_columns', 75)"
   ]
  },
  {
   "cell_type": "code",
   "execution_count": 4,
   "metadata": {},
   "outputs": [
    {
     "data": {
      "text/html": [
       "<div>\n",
       "<style scoped>\n",
       "    .dataframe tbody tr th:only-of-type {\n",
       "        vertical-align: middle;\n",
       "    }\n",
       "\n",
       "    .dataframe tbody tr th {\n",
       "        vertical-align: top;\n",
       "    }\n",
       "\n",
       "    .dataframe thead th {\n",
       "        text-align: right;\n",
       "    }\n",
       "</style>\n",
       "<table border=\"1\" class=\"dataframe\">\n",
       "  <thead>\n",
       "    <tr style=\"text-align: right;\">\n",
       "      <th></th>\n",
       "      <th>ID</th>\n",
       "      <th>everbev</th>\n",
       "      <th>everherb</th>\n",
       "      <th>evermed</th>\n",
       "      <th>oats</th>\n",
       "      <th>lacttreathome</th>\n",
       "      <th>lacttreatstore</th>\n",
       "      <th>brewersyeast</th>\n",
       "      <th>coconutdrink</th>\n",
       "      <th>sportdrink</th>\n",
       "      <th>pinkdrink</th>\n",
       "      <th>noalcbeer</th>\n",
       "      <th>beer</th>\n",
       "      <th>wine</th>\n",
       "      <th>lacttea</th>\n",
       "      <th>fruit</th>\n",
       "      <th>veg</th>\n",
       "      <th>seeds</th>\n",
       "      <th>beans</th>\n",
       "      <th>wholegrains</th>\n",
       "      <th>nuts</th>\n",
       "      <th>meat</th>\n",
       "      <th>ComboSupp</th>\n",
       "      <th>fenugreek</th>\n",
       "      <th>thistel</th>\n",
       "      <th>shatavari</th>\n",
       "      <th>goatrue</th>\n",
       "      <th>moringa</th>\n",
       "      <th>alfalfa</th>\n",
       "      <th>fennel</th>\n",
       "      <th>milkthistle</th>\n",
       "      <th>nettle</th>\n",
       "      <th>domperidone</th>\n",
       "      <th>metaclopramide</th>\n",
       "      <th>increasebf</th>\n",
       "      <th>increaseexpress</th>\n",
       "      <th>skintoskin</th>\n",
       "      <th>shield</th>\n",
       "      <th>massage</th>\n",
       "      <th>pumpwhilebf</th>\n",
       "      <th>pumpboth</th>\n",
       "      <th>pumpafter</th>\n",
       "      <th>warmed</th>\n",
       "      <th>reducestress</th>\n",
       "      <th>coparent</th>\n",
       "      <th>family</th>\n",
       "      <th>friend</th>\n",
       "      <th>lactationconsult</th>\n",
       "      <th>pediatrician</th>\n",
       "      <th>obgyn</th>\n",
       "      <th>midwife</th>\n",
       "      <th>doula</th>\n",
       "      <th>nurse</th>\n",
       "      <th>wic</th>\n",
       "      <th>hospital</th>\n",
       "      <th>books</th>\n",
       "      <th>facebook</th>\n",
       "      <th>instagram</th>\n",
       "      <th>twitter</th>\n",
       "      <th>pinterest</th>\n",
       "      <th>onlineforum</th>\n",
       "      <th>blog</th>\n",
       "      <th>websites</th>\n",
       "      <th>searchengine</th>\n",
       "      <th>app</th>\n",
       "    </tr>\n",
       "  </thead>\n",
       "  <tbody>\n",
       "    <tr>\n",
       "      <th>0</th>\n",
       "      <td>1</td>\n",
       "      <td>2</td>\n",
       "      <td>2</td>\n",
       "      <td>2</td>\n",
       "      <td>3</td>\n",
       "      <td>3</td>\n",
       "      <td>3</td>\n",
       "      <td>3</td>\n",
       "      <td>3</td>\n",
       "      <td>3</td>\n",
       "      <td>3</td>\n",
       "      <td>3</td>\n",
       "      <td>3</td>\n",
       "      <td>3</td>\n",
       "      <td>3</td>\n",
       "      <td>3</td>\n",
       "      <td>3</td>\n",
       "      <td>3</td>\n",
       "      <td>3</td>\n",
       "      <td>3</td>\n",
       "      <td>3</td>\n",
       "      <td>3</td>\n",
       "      <td>3</td>\n",
       "      <td>3</td>\n",
       "      <td>3</td>\n",
       "      <td>3</td>\n",
       "      <td>3</td>\n",
       "      <td>3</td>\n",
       "      <td>3</td>\n",
       "      <td>3</td>\n",
       "      <td>3</td>\n",
       "      <td>3</td>\n",
       "      <td>3</td>\n",
       "      <td>3</td>\n",
       "      <td>2</td>\n",
       "      <td>1</td>\n",
       "      <td>2</td>\n",
       "      <td>3</td>\n",
       "      <td>2</td>\n",
       "      <td>2</td>\n",
       "      <td>2</td>\n",
       "      <td>2</td>\n",
       "      <td>3</td>\n",
       "      <td>3</td>\n",
       "      <td>2</td>\n",
       "      <td>2</td>\n",
       "      <td>2</td>\n",
       "      <td>2</td>\n",
       "      <td>2</td>\n",
       "      <td>2</td>\n",
       "      <td>2</td>\n",
       "      <td>2</td>\n",
       "      <td>2</td>\n",
       "      <td>2</td>\n",
       "      <td>2</td>\n",
       "      <td>2</td>\n",
       "      <td>1</td>\n",
       "      <td>2</td>\n",
       "      <td>2</td>\n",
       "      <td>1</td>\n",
       "      <td>2</td>\n",
       "      <td>2</td>\n",
       "      <td>2</td>\n",
       "      <td>2</td>\n",
       "      <td>2</td>\n",
       "    </tr>\n",
       "    <tr>\n",
       "      <th>1</th>\n",
       "      <td>2</td>\n",
       "      <td>1</td>\n",
       "      <td>2</td>\n",
       "      <td>2</td>\n",
       "      <td>3</td>\n",
       "      <td>3</td>\n",
       "      <td>1</td>\n",
       "      <td>3</td>\n",
       "      <td>3</td>\n",
       "      <td>3</td>\n",
       "      <td>3</td>\n",
       "      <td>3</td>\n",
       "      <td>3</td>\n",
       "      <td>3</td>\n",
       "      <td>3</td>\n",
       "      <td>3</td>\n",
       "      <td>3</td>\n",
       "      <td>3</td>\n",
       "      <td>3</td>\n",
       "      <td>3</td>\n",
       "      <td>3</td>\n",
       "      <td>3</td>\n",
       "      <td>3</td>\n",
       "      <td>3</td>\n",
       "      <td>3</td>\n",
       "      <td>3</td>\n",
       "      <td>3</td>\n",
       "      <td>3</td>\n",
       "      <td>3</td>\n",
       "      <td>3</td>\n",
       "      <td>3</td>\n",
       "      <td>3</td>\n",
       "      <td>3</td>\n",
       "      <td>3</td>\n",
       "      <td>3</td>\n",
       "      <td>3</td>\n",
       "      <td>3</td>\n",
       "      <td>3</td>\n",
       "      <td>3</td>\n",
       "      <td>3</td>\n",
       "      <td>2</td>\n",
       "      <td>3</td>\n",
       "      <td>3</td>\n",
       "      <td>3</td>\n",
       "      <td>2</td>\n",
       "      <td>2</td>\n",
       "      <td>2</td>\n",
       "      <td>2</td>\n",
       "      <td>2</td>\n",
       "      <td>2</td>\n",
       "      <td>2</td>\n",
       "      <td>2</td>\n",
       "      <td>2</td>\n",
       "      <td>2</td>\n",
       "      <td>2</td>\n",
       "      <td>2</td>\n",
       "      <td>2</td>\n",
       "      <td>2</td>\n",
       "      <td>2</td>\n",
       "      <td>2</td>\n",
       "      <td>2</td>\n",
       "      <td>2</td>\n",
       "      <td>2</td>\n",
       "      <td>1</td>\n",
       "      <td>2</td>\n",
       "    </tr>\n",
       "    <tr>\n",
       "      <th>2</th>\n",
       "      <td>3</td>\n",
       "      <td>1</td>\n",
       "      <td>1</td>\n",
       "      <td>2</td>\n",
       "      <td>2</td>\n",
       "      <td>1</td>\n",
       "      <td>1</td>\n",
       "      <td>1</td>\n",
       "      <td>1</td>\n",
       "      <td>1</td>\n",
       "      <td>1</td>\n",
       "      <td>3</td>\n",
       "      <td>3</td>\n",
       "      <td>3</td>\n",
       "      <td>2</td>\n",
       "      <td>1</td>\n",
       "      <td>1</td>\n",
       "      <td>1</td>\n",
       "      <td>3</td>\n",
       "      <td>1</td>\n",
       "      <td>3</td>\n",
       "      <td>1</td>\n",
       "      <td>2</td>\n",
       "      <td>2</td>\n",
       "      <td>3</td>\n",
       "      <td>3</td>\n",
       "      <td>3</td>\n",
       "      <td>3</td>\n",
       "      <td>3</td>\n",
       "      <td>3</td>\n",
       "      <td>2</td>\n",
       "      <td>3</td>\n",
       "      <td>3</td>\n",
       "      <td>3</td>\n",
       "      <td>1</td>\n",
       "      <td>2</td>\n",
       "      <td>1</td>\n",
       "      <td>2</td>\n",
       "      <td>1</td>\n",
       "      <td>3</td>\n",
       "      <td>3</td>\n",
       "      <td>1</td>\n",
       "      <td>2</td>\n",
       "      <td>1</td>\n",
       "      <td>2</td>\n",
       "      <td>1</td>\n",
       "      <td>1</td>\n",
       "      <td>1</td>\n",
       "      <td>1</td>\n",
       "      <td>2</td>\n",
       "      <td>1</td>\n",
       "      <td>2</td>\n",
       "      <td>1</td>\n",
       "      <td>1</td>\n",
       "      <td>2</td>\n",
       "      <td>2</td>\n",
       "      <td>1</td>\n",
       "      <td>2</td>\n",
       "      <td>2</td>\n",
       "      <td>2</td>\n",
       "      <td>3</td>\n",
       "      <td>2</td>\n",
       "      <td>1</td>\n",
       "      <td>1</td>\n",
       "      <td>2</td>\n",
       "    </tr>\n",
       "    <tr>\n",
       "      <th>3</th>\n",
       "      <td>4</td>\n",
       "      <td>2</td>\n",
       "      <td>2</td>\n",
       "      <td>2</td>\n",
       "      <td>3</td>\n",
       "      <td>3</td>\n",
       "      <td>3</td>\n",
       "      <td>3</td>\n",
       "      <td>3</td>\n",
       "      <td>3</td>\n",
       "      <td>3</td>\n",
       "      <td>3</td>\n",
       "      <td>3</td>\n",
       "      <td>3</td>\n",
       "      <td>3</td>\n",
       "      <td>3</td>\n",
       "      <td>3</td>\n",
       "      <td>3</td>\n",
       "      <td>3</td>\n",
       "      <td>3</td>\n",
       "      <td>3</td>\n",
       "      <td>3</td>\n",
       "      <td>3</td>\n",
       "      <td>3</td>\n",
       "      <td>3</td>\n",
       "      <td>3</td>\n",
       "      <td>3</td>\n",
       "      <td>3</td>\n",
       "      <td>3</td>\n",
       "      <td>3</td>\n",
       "      <td>3</td>\n",
       "      <td>3</td>\n",
       "      <td>3</td>\n",
       "      <td>3</td>\n",
       "      <td>1</td>\n",
       "      <td>1</td>\n",
       "      <td>1</td>\n",
       "      <td>1</td>\n",
       "      <td>1</td>\n",
       "      <td>1</td>\n",
       "      <td>1</td>\n",
       "      <td>1</td>\n",
       "      <td>1</td>\n",
       "      <td>1</td>\n",
       "      <td>1</td>\n",
       "      <td>1</td>\n",
       "      <td>2</td>\n",
       "      <td>1</td>\n",
       "      <td>2</td>\n",
       "      <td>2</td>\n",
       "      <td>2</td>\n",
       "      <td>2</td>\n",
       "      <td>1</td>\n",
       "      <td>1</td>\n",
       "      <td>1</td>\n",
       "      <td>2</td>\n",
       "      <td>1</td>\n",
       "      <td>2</td>\n",
       "      <td>2</td>\n",
       "      <td>2</td>\n",
       "      <td>2</td>\n",
       "      <td>2</td>\n",
       "      <td>2</td>\n",
       "      <td>2</td>\n",
       "      <td>2</td>\n",
       "    </tr>\n",
       "    <tr>\n",
       "      <th>4</th>\n",
       "      <td>5</td>\n",
       "      <td>1</td>\n",
       "      <td>1</td>\n",
       "      <td>2</td>\n",
       "      <td>2</td>\n",
       "      <td>1</td>\n",
       "      <td>1</td>\n",
       "      <td>3</td>\n",
       "      <td>2</td>\n",
       "      <td>2</td>\n",
       "      <td>3</td>\n",
       "      <td>3</td>\n",
       "      <td>3</td>\n",
       "      <td>3</td>\n",
       "      <td>2</td>\n",
       "      <td>1</td>\n",
       "      <td>1</td>\n",
       "      <td>1</td>\n",
       "      <td>3</td>\n",
       "      <td>2</td>\n",
       "      <td>1</td>\n",
       "      <td>1</td>\n",
       "      <td>2</td>\n",
       "      <td>1</td>\n",
       "      <td>3</td>\n",
       "      <td>3</td>\n",
       "      <td>3</td>\n",
       "      <td>3</td>\n",
       "      <td>3</td>\n",
       "      <td>3</td>\n",
       "      <td>3</td>\n",
       "      <td>3</td>\n",
       "      <td>3</td>\n",
       "      <td>3</td>\n",
       "      <td>2</td>\n",
       "      <td>2</td>\n",
       "      <td>2</td>\n",
       "      <td>3</td>\n",
       "      <td>3</td>\n",
       "      <td>3</td>\n",
       "      <td>2</td>\n",
       "      <td>3</td>\n",
       "      <td>3</td>\n",
       "      <td>3</td>\n",
       "      <td>2</td>\n",
       "      <td>1</td>\n",
       "      <td>2</td>\n",
       "      <td>2</td>\n",
       "      <td>1</td>\n",
       "      <td>1</td>\n",
       "      <td>2</td>\n",
       "      <td>2</td>\n",
       "      <td>1</td>\n",
       "      <td>1</td>\n",
       "      <td>1</td>\n",
       "      <td>2</td>\n",
       "      <td>1</td>\n",
       "      <td>1</td>\n",
       "      <td>1</td>\n",
       "      <td>1</td>\n",
       "      <td>2</td>\n",
       "      <td>2</td>\n",
       "      <td>2</td>\n",
       "      <td>1</td>\n",
       "      <td>2</td>\n",
       "    </tr>\n",
       "    <tr>\n",
       "      <th>5</th>\n",
       "      <td>6</td>\n",
       "      <td>2</td>\n",
       "      <td>2</td>\n",
       "      <td>2</td>\n",
       "      <td>3</td>\n",
       "      <td>3</td>\n",
       "      <td>3</td>\n",
       "      <td>3</td>\n",
       "      <td>3</td>\n",
       "      <td>3</td>\n",
       "      <td>3</td>\n",
       "      <td>3</td>\n",
       "      <td>3</td>\n",
       "      <td>3</td>\n",
       "      <td>3</td>\n",
       "      <td>3</td>\n",
       "      <td>3</td>\n",
       "      <td>3</td>\n",
       "      <td>3</td>\n",
       "      <td>3</td>\n",
       "      <td>3</td>\n",
       "      <td>3</td>\n",
       "      <td>3</td>\n",
       "      <td>3</td>\n",
       "      <td>3</td>\n",
       "      <td>3</td>\n",
       "      <td>3</td>\n",
       "      <td>3</td>\n",
       "      <td>3</td>\n",
       "      <td>3</td>\n",
       "      <td>3</td>\n",
       "      <td>3</td>\n",
       "      <td>3</td>\n",
       "      <td>3</td>\n",
       "      <td>2</td>\n",
       "      <td>3</td>\n",
       "      <td>2</td>\n",
       "      <td>3</td>\n",
       "      <td>3</td>\n",
       "      <td>3</td>\n",
       "      <td>3</td>\n",
       "      <td>3</td>\n",
       "      <td>3</td>\n",
       "      <td>3</td>\n",
       "      <td>2</td>\n",
       "      <td>1</td>\n",
       "      <td>2</td>\n",
       "      <td>1</td>\n",
       "      <td>1</td>\n",
       "      <td>1</td>\n",
       "      <td>1</td>\n",
       "      <td>2</td>\n",
       "      <td>2</td>\n",
       "      <td>1</td>\n",
       "      <td>1</td>\n",
       "      <td>2</td>\n",
       "      <td>1</td>\n",
       "      <td>1</td>\n",
       "      <td>2</td>\n",
       "      <td>2</td>\n",
       "      <td>2</td>\n",
       "      <td>2</td>\n",
       "      <td>1</td>\n",
       "      <td>2</td>\n",
       "      <td>2</td>\n",
       "    </tr>\n",
       "    <tr>\n",
       "      <th>6</th>\n",
       "      <td>7</td>\n",
       "      <td>1</td>\n",
       "      <td>2</td>\n",
       "      <td>2</td>\n",
       "      <td>3</td>\n",
       "      <td>2</td>\n",
       "      <td>2</td>\n",
       "      <td>2</td>\n",
       "      <td>3</td>\n",
       "      <td>1</td>\n",
       "      <td>3</td>\n",
       "      <td>3</td>\n",
       "      <td>3</td>\n",
       "      <td>3</td>\n",
       "      <td>3</td>\n",
       "      <td>3</td>\n",
       "      <td>3</td>\n",
       "      <td>2</td>\n",
       "      <td>3</td>\n",
       "      <td>3</td>\n",
       "      <td>3</td>\n",
       "      <td>3</td>\n",
       "      <td>3</td>\n",
       "      <td>3</td>\n",
       "      <td>3</td>\n",
       "      <td>3</td>\n",
       "      <td>3</td>\n",
       "      <td>3</td>\n",
       "      <td>3</td>\n",
       "      <td>3</td>\n",
       "      <td>3</td>\n",
       "      <td>3</td>\n",
       "      <td>3</td>\n",
       "      <td>3</td>\n",
       "      <td>1</td>\n",
       "      <td>3</td>\n",
       "      <td>1</td>\n",
       "      <td>3</td>\n",
       "      <td>3</td>\n",
       "      <td>3</td>\n",
       "      <td>3</td>\n",
       "      <td>3</td>\n",
       "      <td>3</td>\n",
       "      <td>1</td>\n",
       "      <td>2</td>\n",
       "      <td>2</td>\n",
       "      <td>2</td>\n",
       "      <td>2</td>\n",
       "      <td>2</td>\n",
       "      <td>2</td>\n",
       "      <td>2</td>\n",
       "      <td>2</td>\n",
       "      <td>2</td>\n",
       "      <td>2</td>\n",
       "      <td>2</td>\n",
       "      <td>2</td>\n",
       "      <td>1</td>\n",
       "      <td>2</td>\n",
       "      <td>2</td>\n",
       "      <td>2</td>\n",
       "      <td>1</td>\n",
       "      <td>2</td>\n",
       "      <td>1</td>\n",
       "      <td>2</td>\n",
       "      <td>2</td>\n",
       "    </tr>\n",
       "    <tr>\n",
       "      <th>7</th>\n",
       "      <td>8</td>\n",
       "      <td>1</td>\n",
       "      <td>2</td>\n",
       "      <td>2</td>\n",
       "      <td>1</td>\n",
       "      <td>-99</td>\n",
       "      <td>-99</td>\n",
       "      <td>-99</td>\n",
       "      <td>-99</td>\n",
       "      <td>1</td>\n",
       "      <td>-99</td>\n",
       "      <td>-99</td>\n",
       "      <td>-99</td>\n",
       "      <td>-99</td>\n",
       "      <td>-99</td>\n",
       "      <td>1</td>\n",
       "      <td>1</td>\n",
       "      <td>1</td>\n",
       "      <td>-99</td>\n",
       "      <td>1</td>\n",
       "      <td>-99</td>\n",
       "      <td>1</td>\n",
       "      <td>3</td>\n",
       "      <td>3</td>\n",
       "      <td>3</td>\n",
       "      <td>3</td>\n",
       "      <td>3</td>\n",
       "      <td>3</td>\n",
       "      <td>3</td>\n",
       "      <td>3</td>\n",
       "      <td>3</td>\n",
       "      <td>3</td>\n",
       "      <td>3</td>\n",
       "      <td>3</td>\n",
       "      <td>1</td>\n",
       "      <td>1</td>\n",
       "      <td>1</td>\n",
       "      <td>3</td>\n",
       "      <td>1</td>\n",
       "      <td>1</td>\n",
       "      <td>1</td>\n",
       "      <td>1</td>\n",
       "      <td>1</td>\n",
       "      <td>1</td>\n",
       "      <td>1</td>\n",
       "      <td>2</td>\n",
       "      <td>2</td>\n",
       "      <td>1</td>\n",
       "      <td>1</td>\n",
       "      <td>1</td>\n",
       "      <td>1</td>\n",
       "      <td>2</td>\n",
       "      <td>1</td>\n",
       "      <td>1</td>\n",
       "      <td>1</td>\n",
       "      <td>2</td>\n",
       "      <td>1</td>\n",
       "      <td>2</td>\n",
       "      <td>2</td>\n",
       "      <td>1</td>\n",
       "      <td>-99</td>\n",
       "      <td>2</td>\n",
       "      <td>2</td>\n",
       "      <td>1</td>\n",
       "      <td>1</td>\n",
       "    </tr>\n",
       "    <tr>\n",
       "      <th>8</th>\n",
       "      <td>9</td>\n",
       "      <td>2</td>\n",
       "      <td>2</td>\n",
       "      <td>2</td>\n",
       "      <td>3</td>\n",
       "      <td>3</td>\n",
       "      <td>3</td>\n",
       "      <td>3</td>\n",
       "      <td>3</td>\n",
       "      <td>3</td>\n",
       "      <td>3</td>\n",
       "      <td>3</td>\n",
       "      <td>3</td>\n",
       "      <td>3</td>\n",
       "      <td>3</td>\n",
       "      <td>3</td>\n",
       "      <td>3</td>\n",
       "      <td>3</td>\n",
       "      <td>3</td>\n",
       "      <td>3</td>\n",
       "      <td>3</td>\n",
       "      <td>3</td>\n",
       "      <td>3</td>\n",
       "      <td>3</td>\n",
       "      <td>3</td>\n",
       "      <td>3</td>\n",
       "      <td>3</td>\n",
       "      <td>3</td>\n",
       "      <td>3</td>\n",
       "      <td>3</td>\n",
       "      <td>3</td>\n",
       "      <td>3</td>\n",
       "      <td>3</td>\n",
       "      <td>3</td>\n",
       "      <td>2</td>\n",
       "      <td>2</td>\n",
       "      <td>2</td>\n",
       "      <td>2</td>\n",
       "      <td>2</td>\n",
       "      <td>2</td>\n",
       "      <td>2</td>\n",
       "      <td>2</td>\n",
       "      <td>3</td>\n",
       "      <td>1</td>\n",
       "      <td>2</td>\n",
       "      <td>2</td>\n",
       "      <td>2</td>\n",
       "      <td>1</td>\n",
       "      <td>2</td>\n",
       "      <td>1</td>\n",
       "      <td>2</td>\n",
       "      <td>2</td>\n",
       "      <td>2</td>\n",
       "      <td>2</td>\n",
       "      <td>1</td>\n",
       "      <td>2</td>\n",
       "      <td>2</td>\n",
       "      <td>2</td>\n",
       "      <td>2</td>\n",
       "      <td>2</td>\n",
       "      <td>2</td>\n",
       "      <td>2</td>\n",
       "      <td>2</td>\n",
       "      <td>2</td>\n",
       "      <td>2</td>\n",
       "    </tr>\n",
       "    <tr>\n",
       "      <th>9</th>\n",
       "      <td>10</td>\n",
       "      <td>2</td>\n",
       "      <td>2</td>\n",
       "      <td>2</td>\n",
       "      <td>3</td>\n",
       "      <td>3</td>\n",
       "      <td>3</td>\n",
       "      <td>3</td>\n",
       "      <td>3</td>\n",
       "      <td>3</td>\n",
       "      <td>3</td>\n",
       "      <td>3</td>\n",
       "      <td>3</td>\n",
       "      <td>3</td>\n",
       "      <td>3</td>\n",
       "      <td>3</td>\n",
       "      <td>3</td>\n",
       "      <td>3</td>\n",
       "      <td>3</td>\n",
       "      <td>3</td>\n",
       "      <td>3</td>\n",
       "      <td>3</td>\n",
       "      <td>3</td>\n",
       "      <td>3</td>\n",
       "      <td>3</td>\n",
       "      <td>3</td>\n",
       "      <td>3</td>\n",
       "      <td>3</td>\n",
       "      <td>3</td>\n",
       "      <td>3</td>\n",
       "      <td>3</td>\n",
       "      <td>3</td>\n",
       "      <td>3</td>\n",
       "      <td>3</td>\n",
       "      <td>3</td>\n",
       "      <td>3</td>\n",
       "      <td>2</td>\n",
       "      <td>3</td>\n",
       "      <td>3</td>\n",
       "      <td>3</td>\n",
       "      <td>3</td>\n",
       "      <td>3</td>\n",
       "      <td>3</td>\n",
       "      <td>3</td>\n",
       "      <td>2</td>\n",
       "      <td>2</td>\n",
       "      <td>2</td>\n",
       "      <td>2</td>\n",
       "      <td>2</td>\n",
       "      <td>2</td>\n",
       "      <td>2</td>\n",
       "      <td>2</td>\n",
       "      <td>2</td>\n",
       "      <td>2</td>\n",
       "      <td>2</td>\n",
       "      <td>2</td>\n",
       "      <td>1</td>\n",
       "      <td>2</td>\n",
       "      <td>2</td>\n",
       "      <td>2</td>\n",
       "      <td>2</td>\n",
       "      <td>2</td>\n",
       "      <td>2</td>\n",
       "      <td>2</td>\n",
       "      <td>2</td>\n",
       "    </tr>\n",
       "    <tr>\n",
       "      <th>10</th>\n",
       "      <td>11</td>\n",
       "      <td>1</td>\n",
       "      <td>2</td>\n",
       "      <td>2</td>\n",
       "      <td>3</td>\n",
       "      <td>3</td>\n",
       "      <td>3</td>\n",
       "      <td>3</td>\n",
       "      <td>3</td>\n",
       "      <td>3</td>\n",
       "      <td>3</td>\n",
       "      <td>3</td>\n",
       "      <td>3</td>\n",
       "      <td>3</td>\n",
       "      <td>3</td>\n",
       "      <td>3</td>\n",
       "      <td>3</td>\n",
       "      <td>3</td>\n",
       "      <td>3</td>\n",
       "      <td>3</td>\n",
       "      <td>3</td>\n",
       "      <td>3</td>\n",
       "      <td>2</td>\n",
       "      <td>3</td>\n",
       "      <td>3</td>\n",
       "      <td>3</td>\n",
       "      <td>3</td>\n",
       "      <td>3</td>\n",
       "      <td>3</td>\n",
       "      <td>3</td>\n",
       "      <td>3</td>\n",
       "      <td>3</td>\n",
       "      <td>3</td>\n",
       "      <td>3</td>\n",
       "      <td>3</td>\n",
       "      <td>3</td>\n",
       "      <td>3</td>\n",
       "      <td>3</td>\n",
       "      <td>3</td>\n",
       "      <td>3</td>\n",
       "      <td>1</td>\n",
       "      <td>3</td>\n",
       "      <td>3</td>\n",
       "      <td>3</td>\n",
       "      <td>3</td>\n",
       "      <td>3</td>\n",
       "      <td>3</td>\n",
       "      <td>3</td>\n",
       "      <td>3</td>\n",
       "      <td>3</td>\n",
       "      <td>3</td>\n",
       "      <td>3</td>\n",
       "      <td>3</td>\n",
       "      <td>3</td>\n",
       "      <td>3</td>\n",
       "      <td>3</td>\n",
       "      <td>3</td>\n",
       "      <td>3</td>\n",
       "      <td>3</td>\n",
       "      <td>3</td>\n",
       "      <td>3</td>\n",
       "      <td>3</td>\n",
       "      <td>3</td>\n",
       "      <td>3</td>\n",
       "      <td>3</td>\n",
       "    </tr>\n",
       "    <tr>\n",
       "      <th>11</th>\n",
       "      <td>12</td>\n",
       "      <td>1</td>\n",
       "      <td>2</td>\n",
       "      <td>2</td>\n",
       "      <td>2</td>\n",
       "      <td>3</td>\n",
       "      <td>2</td>\n",
       "      <td>3</td>\n",
       "      <td>1</td>\n",
       "      <td>3</td>\n",
       "      <td>3</td>\n",
       "      <td>3</td>\n",
       "      <td>3</td>\n",
       "      <td>3</td>\n",
       "      <td>3</td>\n",
       "      <td>3</td>\n",
       "      <td>1</td>\n",
       "      <td>3</td>\n",
       "      <td>1</td>\n",
       "      <td>1</td>\n",
       "      <td>1</td>\n",
       "      <td>1</td>\n",
       "      <td>3</td>\n",
       "      <td>3</td>\n",
       "      <td>3</td>\n",
       "      <td>3</td>\n",
       "      <td>3</td>\n",
       "      <td>3</td>\n",
       "      <td>3</td>\n",
       "      <td>3</td>\n",
       "      <td>3</td>\n",
       "      <td>3</td>\n",
       "      <td>3</td>\n",
       "      <td>3</td>\n",
       "      <td>1</td>\n",
       "      <td>3</td>\n",
       "      <td>1</td>\n",
       "      <td>3</td>\n",
       "      <td>3</td>\n",
       "      <td>3</td>\n",
       "      <td>3</td>\n",
       "      <td>3</td>\n",
       "      <td>3</td>\n",
       "      <td>2</td>\n",
       "      <td>2</td>\n",
       "      <td>2</td>\n",
       "      <td>2</td>\n",
       "      <td>2</td>\n",
       "      <td>2</td>\n",
       "      <td>2</td>\n",
       "      <td>2</td>\n",
       "      <td>2</td>\n",
       "      <td>2</td>\n",
       "      <td>2</td>\n",
       "      <td>2</td>\n",
       "      <td>2</td>\n",
       "      <td>1</td>\n",
       "      <td>2</td>\n",
       "      <td>2</td>\n",
       "      <td>2</td>\n",
       "      <td>2</td>\n",
       "      <td>2</td>\n",
       "      <td>1</td>\n",
       "      <td>1</td>\n",
       "      <td>2</td>\n",
       "    </tr>\n",
       "    <tr>\n",
       "      <th>12</th>\n",
       "      <td>13</td>\n",
       "      <td>2</td>\n",
       "      <td>2</td>\n",
       "      <td>2</td>\n",
       "      <td>3</td>\n",
       "      <td>3</td>\n",
       "      <td>3</td>\n",
       "      <td>3</td>\n",
       "      <td>3</td>\n",
       "      <td>3</td>\n",
       "      <td>3</td>\n",
       "      <td>3</td>\n",
       "      <td>3</td>\n",
       "      <td>3</td>\n",
       "      <td>3</td>\n",
       "      <td>3</td>\n",
       "      <td>3</td>\n",
       "      <td>3</td>\n",
       "      <td>3</td>\n",
       "      <td>3</td>\n",
       "      <td>3</td>\n",
       "      <td>3</td>\n",
       "      <td>3</td>\n",
       "      <td>3</td>\n",
       "      <td>3</td>\n",
       "      <td>3</td>\n",
       "      <td>3</td>\n",
       "      <td>3</td>\n",
       "      <td>3</td>\n",
       "      <td>3</td>\n",
       "      <td>3</td>\n",
       "      <td>3</td>\n",
       "      <td>3</td>\n",
       "      <td>3</td>\n",
       "      <td>2</td>\n",
       "      <td>2</td>\n",
       "      <td>2</td>\n",
       "      <td>3</td>\n",
       "      <td>3</td>\n",
       "      <td>3</td>\n",
       "      <td>3</td>\n",
       "      <td>3</td>\n",
       "      <td>3</td>\n",
       "      <td>2</td>\n",
       "      <td>1</td>\n",
       "      <td>-99</td>\n",
       "      <td>1</td>\n",
       "      <td>1</td>\n",
       "      <td>2</td>\n",
       "      <td>2</td>\n",
       "      <td>2</td>\n",
       "      <td>2</td>\n",
       "      <td>2</td>\n",
       "      <td>1</td>\n",
       "      <td>2</td>\n",
       "      <td>2</td>\n",
       "      <td>1</td>\n",
       "      <td>2</td>\n",
       "      <td>2</td>\n",
       "      <td>2</td>\n",
       "      <td>2</td>\n",
       "      <td>2</td>\n",
       "      <td>1</td>\n",
       "      <td>2</td>\n",
       "      <td>2</td>\n",
       "    </tr>\n",
       "    <tr>\n",
       "      <th>13</th>\n",
       "      <td>14</td>\n",
       "      <td>1</td>\n",
       "      <td>1</td>\n",
       "      <td>2</td>\n",
       "      <td>2</td>\n",
       "      <td>3</td>\n",
       "      <td>3</td>\n",
       "      <td>3</td>\n",
       "      <td>3</td>\n",
       "      <td>3</td>\n",
       "      <td>3</td>\n",
       "      <td>3</td>\n",
       "      <td>3</td>\n",
       "      <td>3</td>\n",
       "      <td>3</td>\n",
       "      <td>1</td>\n",
       "      <td>1</td>\n",
       "      <td>1</td>\n",
       "      <td>1</td>\n",
       "      <td>1</td>\n",
       "      <td>1</td>\n",
       "      <td>1</td>\n",
       "      <td>1</td>\n",
       "      <td>1</td>\n",
       "      <td>3</td>\n",
       "      <td>3</td>\n",
       "      <td>3</td>\n",
       "      <td>3</td>\n",
       "      <td>3</td>\n",
       "      <td>1</td>\n",
       "      <td>3</td>\n",
       "      <td>3</td>\n",
       "      <td>3</td>\n",
       "      <td>3</td>\n",
       "      <td>2</td>\n",
       "      <td>1</td>\n",
       "      <td>2</td>\n",
       "      <td>2</td>\n",
       "      <td>2</td>\n",
       "      <td>1</td>\n",
       "      <td>1</td>\n",
       "      <td>1</td>\n",
       "      <td>3</td>\n",
       "      <td>2</td>\n",
       "      <td>2</td>\n",
       "      <td>1</td>\n",
       "      <td>2</td>\n",
       "      <td>1</td>\n",
       "      <td>1</td>\n",
       "      <td>1</td>\n",
       "      <td>2</td>\n",
       "      <td>2</td>\n",
       "      <td>1</td>\n",
       "      <td>2</td>\n",
       "      <td>1</td>\n",
       "      <td>1</td>\n",
       "      <td>1</td>\n",
       "      <td>2</td>\n",
       "      <td>2</td>\n",
       "      <td>2</td>\n",
       "      <td>3</td>\n",
       "      <td>3</td>\n",
       "      <td>1</td>\n",
       "      <td>-99</td>\n",
       "      <td>2</td>\n",
       "    </tr>\n",
       "    <tr>\n",
       "      <th>14</th>\n",
       "      <td>15</td>\n",
       "      <td>2</td>\n",
       "      <td>2</td>\n",
       "      <td>2</td>\n",
       "      <td>3</td>\n",
       "      <td>3</td>\n",
       "      <td>3</td>\n",
       "      <td>3</td>\n",
       "      <td>3</td>\n",
       "      <td>3</td>\n",
       "      <td>3</td>\n",
       "      <td>3</td>\n",
       "      <td>3</td>\n",
       "      <td>3</td>\n",
       "      <td>3</td>\n",
       "      <td>3</td>\n",
       "      <td>3</td>\n",
       "      <td>3</td>\n",
       "      <td>3</td>\n",
       "      <td>3</td>\n",
       "      <td>3</td>\n",
       "      <td>3</td>\n",
       "      <td>3</td>\n",
       "      <td>3</td>\n",
       "      <td>3</td>\n",
       "      <td>3</td>\n",
       "      <td>3</td>\n",
       "      <td>3</td>\n",
       "      <td>3</td>\n",
       "      <td>3</td>\n",
       "      <td>3</td>\n",
       "      <td>3</td>\n",
       "      <td>3</td>\n",
       "      <td>3</td>\n",
       "      <td>3</td>\n",
       "      <td>3</td>\n",
       "      <td>3</td>\n",
       "      <td>3</td>\n",
       "      <td>3</td>\n",
       "      <td>3</td>\n",
       "      <td>3</td>\n",
       "      <td>3</td>\n",
       "      <td>3</td>\n",
       "      <td>3</td>\n",
       "      <td>2</td>\n",
       "      <td>1</td>\n",
       "      <td>1</td>\n",
       "      <td>1</td>\n",
       "      <td>1</td>\n",
       "      <td>2</td>\n",
       "      <td>2</td>\n",
       "      <td>2</td>\n",
       "      <td>1</td>\n",
       "      <td>2</td>\n",
       "      <td>1</td>\n",
       "      <td>2</td>\n",
       "      <td>1</td>\n",
       "      <td>2</td>\n",
       "      <td>2</td>\n",
       "      <td>2</td>\n",
       "      <td>1</td>\n",
       "      <td>2</td>\n",
       "      <td>1</td>\n",
       "      <td>1</td>\n",
       "      <td>2</td>\n",
       "    </tr>\n",
       "    <tr>\n",
       "      <th>15</th>\n",
       "      <td>16</td>\n",
       "      <td>2</td>\n",
       "      <td>2</td>\n",
       "      <td>2</td>\n",
       "      <td>3</td>\n",
       "      <td>3</td>\n",
       "      <td>3</td>\n",
       "      <td>3</td>\n",
       "      <td>3</td>\n",
       "      <td>3</td>\n",
       "      <td>3</td>\n",
       "      <td>3</td>\n",
       "      <td>3</td>\n",
       "      <td>3</td>\n",
       "      <td>3</td>\n",
       "      <td>3</td>\n",
       "      <td>3</td>\n",
       "      <td>3</td>\n",
       "      <td>3</td>\n",
       "      <td>3</td>\n",
       "      <td>3</td>\n",
       "      <td>3</td>\n",
       "      <td>3</td>\n",
       "      <td>3</td>\n",
       "      <td>3</td>\n",
       "      <td>3</td>\n",
       "      <td>3</td>\n",
       "      <td>3</td>\n",
       "      <td>3</td>\n",
       "      <td>3</td>\n",
       "      <td>3</td>\n",
       "      <td>3</td>\n",
       "      <td>3</td>\n",
       "      <td>3</td>\n",
       "      <td>3</td>\n",
       "      <td>2</td>\n",
       "      <td>1</td>\n",
       "      <td>3</td>\n",
       "      <td>3</td>\n",
       "      <td>3</td>\n",
       "      <td>2</td>\n",
       "      <td>3</td>\n",
       "      <td>3</td>\n",
       "      <td>3</td>\n",
       "      <td>2</td>\n",
       "      <td>2</td>\n",
       "      <td>2</td>\n",
       "      <td>2</td>\n",
       "      <td>3</td>\n",
       "      <td>2</td>\n",
       "      <td>2</td>\n",
       "      <td>2</td>\n",
       "      <td>2</td>\n",
       "      <td>2</td>\n",
       "      <td>2</td>\n",
       "      <td>2</td>\n",
       "      <td>2</td>\n",
       "      <td>2</td>\n",
       "      <td>2</td>\n",
       "      <td>2</td>\n",
       "      <td>2</td>\n",
       "      <td>3</td>\n",
       "      <td>2</td>\n",
       "      <td>2</td>\n",
       "      <td>2</td>\n",
       "    </tr>\n",
       "    <tr>\n",
       "      <th>16</th>\n",
       "      <td>17</td>\n",
       "      <td>2</td>\n",
       "      <td>2</td>\n",
       "      <td>2</td>\n",
       "      <td>3</td>\n",
       "      <td>3</td>\n",
       "      <td>3</td>\n",
       "      <td>3</td>\n",
       "      <td>3</td>\n",
       "      <td>3</td>\n",
       "      <td>3</td>\n",
       "      <td>3</td>\n",
       "      <td>3</td>\n",
       "      <td>3</td>\n",
       "      <td>3</td>\n",
       "      <td>3</td>\n",
       "      <td>3</td>\n",
       "      <td>3</td>\n",
       "      <td>3</td>\n",
       "      <td>3</td>\n",
       "      <td>3</td>\n",
       "      <td>3</td>\n",
       "      <td>3</td>\n",
       "      <td>3</td>\n",
       "      <td>3</td>\n",
       "      <td>3</td>\n",
       "      <td>3</td>\n",
       "      <td>3</td>\n",
       "      <td>3</td>\n",
       "      <td>3</td>\n",
       "      <td>3</td>\n",
       "      <td>3</td>\n",
       "      <td>3</td>\n",
       "      <td>3</td>\n",
       "      <td>3</td>\n",
       "      <td>3</td>\n",
       "      <td>2</td>\n",
       "      <td>2</td>\n",
       "      <td>2</td>\n",
       "      <td>2</td>\n",
       "      <td>2</td>\n",
       "      <td>2</td>\n",
       "      <td>3</td>\n",
       "      <td>3</td>\n",
       "      <td>2</td>\n",
       "      <td>2</td>\n",
       "      <td>2</td>\n",
       "      <td>1</td>\n",
       "      <td>2</td>\n",
       "      <td>2</td>\n",
       "      <td>2</td>\n",
       "      <td>2</td>\n",
       "      <td>1</td>\n",
       "      <td>2</td>\n",
       "      <td>2</td>\n",
       "      <td>2</td>\n",
       "      <td>3</td>\n",
       "      <td>2</td>\n",
       "      <td>3</td>\n",
       "      <td>2</td>\n",
       "      <td>1</td>\n",
       "      <td>2</td>\n",
       "      <td>1</td>\n",
       "      <td>2</td>\n",
       "      <td>2</td>\n",
       "    </tr>\n",
       "    <tr>\n",
       "      <th>17</th>\n",
       "      <td>18</td>\n",
       "      <td>2</td>\n",
       "      <td>2</td>\n",
       "      <td>2</td>\n",
       "      <td>3</td>\n",
       "      <td>3</td>\n",
       "      <td>3</td>\n",
       "      <td>3</td>\n",
       "      <td>3</td>\n",
       "      <td>3</td>\n",
       "      <td>3</td>\n",
       "      <td>3</td>\n",
       "      <td>3</td>\n",
       "      <td>3</td>\n",
       "      <td>3</td>\n",
       "      <td>3</td>\n",
       "      <td>3</td>\n",
       "      <td>3</td>\n",
       "      <td>3</td>\n",
       "      <td>3</td>\n",
       "      <td>3</td>\n",
       "      <td>3</td>\n",
       "      <td>3</td>\n",
       "      <td>3</td>\n",
       "      <td>3</td>\n",
       "      <td>3</td>\n",
       "      <td>3</td>\n",
       "      <td>3</td>\n",
       "      <td>3</td>\n",
       "      <td>3</td>\n",
       "      <td>3</td>\n",
       "      <td>3</td>\n",
       "      <td>3</td>\n",
       "      <td>3</td>\n",
       "      <td>3</td>\n",
       "      <td>2</td>\n",
       "      <td>3</td>\n",
       "      <td>3</td>\n",
       "      <td>3</td>\n",
       "      <td>3</td>\n",
       "      <td>3</td>\n",
       "      <td>3</td>\n",
       "      <td>3</td>\n",
       "      <td>3</td>\n",
       "      <td>2</td>\n",
       "      <td>2</td>\n",
       "      <td>2</td>\n",
       "      <td>2</td>\n",
       "      <td>2</td>\n",
       "      <td>2</td>\n",
       "      <td>2</td>\n",
       "      <td>2</td>\n",
       "      <td>1</td>\n",
       "      <td>2</td>\n",
       "      <td>1</td>\n",
       "      <td>2</td>\n",
       "      <td>2</td>\n",
       "      <td>2</td>\n",
       "      <td>2</td>\n",
       "      <td>2</td>\n",
       "      <td>2</td>\n",
       "      <td>2</td>\n",
       "      <td>3</td>\n",
       "      <td>1</td>\n",
       "      <td>2</td>\n",
       "    </tr>\n",
       "    <tr>\n",
       "      <th>18</th>\n",
       "      <td>19</td>\n",
       "      <td>1</td>\n",
       "      <td>1</td>\n",
       "      <td>2</td>\n",
       "      <td>1</td>\n",
       "      <td>3</td>\n",
       "      <td>3</td>\n",
       "      <td>3</td>\n",
       "      <td>1</td>\n",
       "      <td>1</td>\n",
       "      <td>1</td>\n",
       "      <td>3</td>\n",
       "      <td>3</td>\n",
       "      <td>3</td>\n",
       "      <td>3</td>\n",
       "      <td>3</td>\n",
       "      <td>3</td>\n",
       "      <td>3</td>\n",
       "      <td>3</td>\n",
       "      <td>3</td>\n",
       "      <td>3</td>\n",
       "      <td>3</td>\n",
       "      <td>1</td>\n",
       "      <td>1</td>\n",
       "      <td>3</td>\n",
       "      <td>3</td>\n",
       "      <td>3</td>\n",
       "      <td>3</td>\n",
       "      <td>3</td>\n",
       "      <td>3</td>\n",
       "      <td>3</td>\n",
       "      <td>3</td>\n",
       "      <td>3</td>\n",
       "      <td>3</td>\n",
       "      <td>1</td>\n",
       "      <td>3</td>\n",
       "      <td>1</td>\n",
       "      <td>3</td>\n",
       "      <td>2</td>\n",
       "      <td>3</td>\n",
       "      <td>2</td>\n",
       "      <td>2</td>\n",
       "      <td>3</td>\n",
       "      <td>3</td>\n",
       "      <td>2</td>\n",
       "      <td>1</td>\n",
       "      <td>1</td>\n",
       "      <td>1</td>\n",
       "      <td>1</td>\n",
       "      <td>2</td>\n",
       "      <td>2</td>\n",
       "      <td>2</td>\n",
       "      <td>1</td>\n",
       "      <td>1</td>\n",
       "      <td>2</td>\n",
       "      <td>2</td>\n",
       "      <td>1</td>\n",
       "      <td>2</td>\n",
       "      <td>2</td>\n",
       "      <td>1</td>\n",
       "      <td>2</td>\n",
       "      <td>2</td>\n",
       "      <td>2</td>\n",
       "      <td>2</td>\n",
       "      <td>2</td>\n",
       "    </tr>\n",
       "    <tr>\n",
       "      <th>19</th>\n",
       "      <td>20</td>\n",
       "      <td>2</td>\n",
       "      <td>2</td>\n",
       "      <td>2</td>\n",
       "      <td>3</td>\n",
       "      <td>3</td>\n",
       "      <td>3</td>\n",
       "      <td>3</td>\n",
       "      <td>3</td>\n",
       "      <td>3</td>\n",
       "      <td>3</td>\n",
       "      <td>3</td>\n",
       "      <td>3</td>\n",
       "      <td>3</td>\n",
       "      <td>3</td>\n",
       "      <td>3</td>\n",
       "      <td>3</td>\n",
       "      <td>3</td>\n",
       "      <td>3</td>\n",
       "      <td>3</td>\n",
       "      <td>3</td>\n",
       "      <td>3</td>\n",
       "      <td>3</td>\n",
       "      <td>3</td>\n",
       "      <td>3</td>\n",
       "      <td>3</td>\n",
       "      <td>3</td>\n",
       "      <td>3</td>\n",
       "      <td>3</td>\n",
       "      <td>3</td>\n",
       "      <td>3</td>\n",
       "      <td>3</td>\n",
       "      <td>3</td>\n",
       "      <td>3</td>\n",
       "      <td>2</td>\n",
       "      <td>3</td>\n",
       "      <td>1</td>\n",
       "      <td>3</td>\n",
       "      <td>2</td>\n",
       "      <td>3</td>\n",
       "      <td>3</td>\n",
       "      <td>2</td>\n",
       "      <td>3</td>\n",
       "      <td>3</td>\n",
       "      <td>2</td>\n",
       "      <td>2</td>\n",
       "      <td>2</td>\n",
       "      <td>2</td>\n",
       "      <td>2</td>\n",
       "      <td>2</td>\n",
       "      <td>2</td>\n",
       "      <td>2</td>\n",
       "      <td>2</td>\n",
       "      <td>2</td>\n",
       "      <td>2</td>\n",
       "      <td>2</td>\n",
       "      <td>1</td>\n",
       "      <td>2</td>\n",
       "      <td>3</td>\n",
       "      <td>2</td>\n",
       "      <td>2</td>\n",
       "      <td>3</td>\n",
       "      <td>1</td>\n",
       "      <td>2</td>\n",
       "      <td>2</td>\n",
       "    </tr>\n",
       "  </tbody>\n",
       "</table>\n",
       "</div>"
      ],
      "text/plain": [
       "    ID  everbev  everherb  evermed  oats  lacttreathome  lacttreatstore  \\\n",
       "0    1        2         2        2     3              3               3   \n",
       "1    2        1         2        2     3              3               1   \n",
       "2    3        1         1        2     2              1               1   \n",
       "3    4        2         2        2     3              3               3   \n",
       "4    5        1         1        2     2              1               1   \n",
       "5    6        2         2        2     3              3               3   \n",
       "6    7        1         2        2     3              2               2   \n",
       "7    8        1         2        2     1            -99             -99   \n",
       "8    9        2         2        2     3              3               3   \n",
       "9   10        2         2        2     3              3               3   \n",
       "10  11        1         2        2     3              3               3   \n",
       "11  12        1         2        2     2              3               2   \n",
       "12  13        2         2        2     3              3               3   \n",
       "13  14        1         1        2     2              3               3   \n",
       "14  15        2         2        2     3              3               3   \n",
       "15  16        2         2        2     3              3               3   \n",
       "16  17        2         2        2     3              3               3   \n",
       "17  18        2         2        2     3              3               3   \n",
       "18  19        1         1        2     1              3               3   \n",
       "19  20        2         2        2     3              3               3   \n",
       "\n",
       "    brewersyeast  coconutdrink  sportdrink  pinkdrink  noalcbeer  beer  wine  \\\n",
       "0              3             3           3          3          3     3     3   \n",
       "1              3             3           3          3          3     3     3   \n",
       "2              1             1           1          1          3     3     3   \n",
       "3              3             3           3          3          3     3     3   \n",
       "4              3             2           2          3          3     3     3   \n",
       "5              3             3           3          3          3     3     3   \n",
       "6              2             3           1          3          3     3     3   \n",
       "7            -99           -99           1        -99        -99   -99   -99   \n",
       "8              3             3           3          3          3     3     3   \n",
       "9              3             3           3          3          3     3     3   \n",
       "10             3             3           3          3          3     3     3   \n",
       "11             3             1           3          3          3     3     3   \n",
       "12             3             3           3          3          3     3     3   \n",
       "13             3             3           3          3          3     3     3   \n",
       "14             3             3           3          3          3     3     3   \n",
       "15             3             3           3          3          3     3     3   \n",
       "16             3             3           3          3          3     3     3   \n",
       "17             3             3           3          3          3     3     3   \n",
       "18             3             1           1          1          3     3     3   \n",
       "19             3             3           3          3          3     3     3   \n",
       "\n",
       "    lacttea  fruit  veg  seeds  beans  wholegrains  nuts  meat  ComboSupp  \\\n",
       "0         3      3    3      3      3            3     3     3          3   \n",
       "1         3      3    3      3      3            3     3     3          3   \n",
       "2         2      1    1      1      3            1     3     1          2   \n",
       "3         3      3    3      3      3            3     3     3          3   \n",
       "4         2      1    1      1      3            2     1     1          2   \n",
       "5         3      3    3      3      3            3     3     3          3   \n",
       "6         3      3    3      2      3            3     3     3          3   \n",
       "7       -99      1    1      1    -99            1   -99     1          3   \n",
       "8         3      3    3      3      3            3     3     3          3   \n",
       "9         3      3    3      3      3            3     3     3          3   \n",
       "10        3      3    3      3      3            3     3     3          2   \n",
       "11        3      3    1      3      1            1     1     1          3   \n",
       "12        3      3    3      3      3            3     3     3          3   \n",
       "13        3      1    1      1      1            1     1     1          1   \n",
       "14        3      3    3      3      3            3     3     3          3   \n",
       "15        3      3    3      3      3            3     3     3          3   \n",
       "16        3      3    3      3      3            3     3     3          3   \n",
       "17        3      3    3      3      3            3     3     3          3   \n",
       "18        3      3    3      3      3            3     3     3          1   \n",
       "19        3      3    3      3      3            3     3     3          3   \n",
       "\n",
       "    fenugreek  thistel  shatavari  goatrue  moringa  alfalfa  fennel  \\\n",
       "0           3        3          3        3        3        3       3   \n",
       "1           3        3          3        3        3        3       3   \n",
       "2           2        3          3        3        3        3       3   \n",
       "3           3        3          3        3        3        3       3   \n",
       "4           1        3          3        3        3        3       3   \n",
       "5           3        3          3        3        3        3       3   \n",
       "6           3        3          3        3        3        3       3   \n",
       "7           3        3          3        3        3        3       3   \n",
       "8           3        3          3        3        3        3       3   \n",
       "9           3        3          3        3        3        3       3   \n",
       "10          3        3          3        3        3        3       3   \n",
       "11          3        3          3        3        3        3       3   \n",
       "12          3        3          3        3        3        3       3   \n",
       "13          1        3          3        3        3        3       1   \n",
       "14          3        3          3        3        3        3       3   \n",
       "15          3        3          3        3        3        3       3   \n",
       "16          3        3          3        3        3        3       3   \n",
       "17          3        3          3        3        3        3       3   \n",
       "18          1        3          3        3        3        3       3   \n",
       "19          3        3          3        3        3        3       3   \n",
       "\n",
       "    milkthistle  nettle  domperidone  metaclopramide  increasebf  \\\n",
       "0             3       3            3               3           2   \n",
       "1             3       3            3               3           3   \n",
       "2             2       3            3               3           1   \n",
       "3             3       3            3               3           1   \n",
       "4             3       3            3               3           2   \n",
       "5             3       3            3               3           2   \n",
       "6             3       3            3               3           1   \n",
       "7             3       3            3               3           1   \n",
       "8             3       3            3               3           2   \n",
       "9             3       3            3               3           3   \n",
       "10            3       3            3               3           3   \n",
       "11            3       3            3               3           1   \n",
       "12            3       3            3               3           2   \n",
       "13            3       3            3               3           2   \n",
       "14            3       3            3               3           3   \n",
       "15            3       3            3               3           3   \n",
       "16            3       3            3               3           3   \n",
       "17            3       3            3               3           3   \n",
       "18            3       3            3               3           1   \n",
       "19            3       3            3               3           2   \n",
       "\n",
       "    increaseexpress  skintoskin  shield  massage  pumpwhilebf  pumpboth  \\\n",
       "0                 1           2       3        2            2         2   \n",
       "1                 3           3       3        3            3         2   \n",
       "2                 2           1       2        1            3         3   \n",
       "3                 1           1       1        1            1         1   \n",
       "4                 2           2       3        3            3         2   \n",
       "5                 3           2       3        3            3         3   \n",
       "6                 3           1       3        3            3         3   \n",
       "7                 1           1       3        1            1         1   \n",
       "8                 2           2       2        2            2         2   \n",
       "9                 3           2       3        3            3         3   \n",
       "10                3           3       3        3            3         1   \n",
       "11                3           1       3        3            3         3   \n",
       "12                2           2       3        3            3         3   \n",
       "13                1           2       2        2            1         1   \n",
       "14                3           3       3        3            3         3   \n",
       "15                2           1       3        3            3         2   \n",
       "16                3           2       2        2            2         2   \n",
       "17                2           3       3        3            3         3   \n",
       "18                3           1       3        2            3         2   \n",
       "19                3           1       3        2            3         3   \n",
       "\n",
       "    pumpafter  warmed  reducestress  coparent  family  friend  \\\n",
       "0           2       3             3         2       2       2   \n",
       "1           3       3             3         2       2       2   \n",
       "2           1       2             1         2       1       1   \n",
       "3           1       1             1         1       1       2   \n",
       "4           3       3             3         2       1       2   \n",
       "5           3       3             3         2       1       2   \n",
       "6           3       3             1         2       2       2   \n",
       "7           1       1             1         1       2       2   \n",
       "8           2       3             1         2       2       2   \n",
       "9           3       3             3         2       2       2   \n",
       "10          3       3             3         3       3       3   \n",
       "11          3       3             2         2       2       2   \n",
       "12          3       3             2         1     -99       1   \n",
       "13          1       3             2         2       1       2   \n",
       "14          3       3             3         2       1       1   \n",
       "15          3       3             3         2       2       2   \n",
       "16          2       3             3         2       2       2   \n",
       "17          3       3             3         2       2       2   \n",
       "18          2       3             3         2       1       1   \n",
       "19          2       3             3         2       2       2   \n",
       "\n",
       "    lactationconsult  pediatrician  obgyn  midwife  doula  nurse  wic  \\\n",
       "0                  2             2      2        2      2      2    2   \n",
       "1                  2             2      2        2      2      2    2   \n",
       "2                  1             1      2        1      2      1    1   \n",
       "3                  1             2      2        2      2      1    1   \n",
       "4                  2             1      1        2      2      1    1   \n",
       "5                  1             1      1        1      2      2    1   \n",
       "6                  2             2      2        2      2      2    2   \n",
       "7                  1             1      1        1      2      1    1   \n",
       "8                  1             2      1        2      2      2    2   \n",
       "9                  2             2      2        2      2      2    2   \n",
       "10                 3             3      3        3      3      3    3   \n",
       "11                 2             2      2        2      2      2    2   \n",
       "12                 1             2      2        2      2      2    1   \n",
       "13                 1             1      1        2      2      1    2   \n",
       "14                 1             1      2        2      2      1    2   \n",
       "15                 2             3      2        2      2      2    2   \n",
       "16                 1             2      2        2      2      1    2   \n",
       "17                 2             2      2        2      2      1    2   \n",
       "18                 1             1      2        2      2      1    1   \n",
       "19                 2             2      2        2      2      2    2   \n",
       "\n",
       "    hospital  books  facebook  instagram  twitter  pinterest  onlineforum  \\\n",
       "0          2      2         1          2        2          1            2   \n",
       "1          2      2         2          2        2          2            2   \n",
       "2          2      2         1          2        2          2            3   \n",
       "3          1      2         1          2        2          2            2   \n",
       "4          1      2         1          1        1          1            2   \n",
       "5          1      2         1          1        2          2            2   \n",
       "6          2      2         1          2        2          2            1   \n",
       "7          1      2         1          2        2          1          -99   \n",
       "8          1      2         2          2        2          2            2   \n",
       "9          2      2         1          2        2          2            2   \n",
       "10         3      3         3          3        3          3            3   \n",
       "11         2      2         1          2        2          2            2   \n",
       "12         2      2         1          2        2          2            2   \n",
       "13         1      1         1          2        2          2            3   \n",
       "14         1      2         1          2        2          2            1   \n",
       "15         2      2         2          2        2          2            2   \n",
       "16         2      2         3          2        3          2            1   \n",
       "17         1      2         2          2        2          2            2   \n",
       "18         2      2         1          2        2          1            2   \n",
       "19         2      2         1          2        3          2            2   \n",
       "\n",
       "    blog  websites  searchengine  app  \n",
       "0      2         2             2    2  \n",
       "1      2         2             1    2  \n",
       "2      2         1             1    2  \n",
       "3      2         2             2    2  \n",
       "4      2         2             1    2  \n",
       "5      2         1             2    2  \n",
       "6      2         1             2    2  \n",
       "7      2         2             1    1  \n",
       "8      2         2             2    2  \n",
       "9      2         2             2    2  \n",
       "10     3         3             3    3  \n",
       "11     2         1             1    2  \n",
       "12     2         1             2    2  \n",
       "13     3         1           -99    2  \n",
       "14     2         1             1    2  \n",
       "15     3         2             2    2  \n",
       "16     2         1             2    2  \n",
       "17     2         3             1    2  \n",
       "18     2         2             2    2  \n",
       "19     3         1             2    2  "
      ]
     },
     "execution_count": 4,
     "metadata": {},
     "output_type": "execute_result"
    }
   ],
   "source": [
    "questionaire_df = pd.read_csv('/Users/soumyadeepray/Documents/Research_Project-Nutrition_Sciences/Galactagogue_buying_patterns/data/Ryan_DataforRay_MissingReplaced_2022.09.30.csv')\n",
    "questionaire_df.head(20)"
   ]
  },
  {
   "cell_type": "code",
   "execution_count": 5,
   "metadata": {},
   "outputs": [
    {
     "data": {
      "text/plain": [
       "(1420, 65)"
      ]
     },
     "execution_count": 5,
     "metadata": {},
     "output_type": "execute_result"
    }
   ],
   "source": [
    "questionaire_df.shape"
   ]
  },
  {
   "cell_type": "markdown",
   "metadata": {},
   "source": [
    "Checking for null values."
   ]
  },
  {
   "cell_type": "code",
   "execution_count": 6,
   "metadata": {},
   "outputs": [
    {
     "data": {
      "text/plain": [
       "ID              0\n",
       "everbev         0\n",
       "everherb        0\n",
       "evermed         0\n",
       "oats            0\n",
       "               ..\n",
       "onlineforum     0\n",
       "blog            0\n",
       "websites        0\n",
       "searchengine    0\n",
       "app             0\n",
       "Length: 65, dtype: int64"
      ]
     },
     "execution_count": 6,
     "metadata": {},
     "output_type": "execute_result"
    }
   ],
   "source": [
    "questionaire_df.isna().sum() "
   ]
  },
  {
   "cell_type": "code",
   "execution_count": 7,
   "metadata": {},
   "outputs": [
    {
     "data": {
      "text/plain": [
       "Index(['ID', 'everbev', 'everherb', 'evermed', 'oats', 'lacttreathome',\n",
       "       'lacttreatstore', 'brewersyeast', 'coconutdrink', 'sportdrink',\n",
       "       'pinkdrink', 'noalcbeer', 'beer', 'wine', 'lacttea', 'fruit', 'veg',\n",
       "       'seeds', 'beans', 'wholegrains', 'nuts', 'meat', 'ComboSupp',\n",
       "       'fenugreek', 'thistel', 'shatavari', 'goatrue', 'moringa', 'alfalfa',\n",
       "       'fennel', 'milkthistle', 'nettle', 'domperidone', 'metaclopramide',\n",
       "       'increasebf', 'increaseexpress', 'skintoskin', 'shield', 'massage',\n",
       "       'pumpwhilebf', 'pumpboth', 'pumpafter', 'warmed', 'reducestress',\n",
       "       'coparent', 'family', 'friend', 'lactationconsult', 'pediatrician',\n",
       "       'obgyn', 'midwife', 'doula', 'nurse', 'wic', 'hospital', 'books',\n",
       "       'facebook', 'instagram', 'twitter', 'pinterest', 'onlineforum', 'blog',\n",
       "       'websites', 'searchengine', 'app'],\n",
       "      dtype='object')"
      ]
     },
     "execution_count": 7,
     "metadata": {},
     "output_type": "execute_result"
    }
   ],
   "source": [
    "questionaire_df.columns"
   ]
  },
  {
   "cell_type": "markdown",
   "metadata": {},
   "source": [
    "For our analysis, we are only selecting the galactagogues"
   ]
  },
  {
   "cell_type": "code",
   "execution_count": 8,
   "metadata": {},
   "outputs": [
    {
     "data": {
      "text/html": [
       "<div>\n",
       "<style scoped>\n",
       "    .dataframe tbody tr th:only-of-type {\n",
       "        vertical-align: middle;\n",
       "    }\n",
       "\n",
       "    .dataframe tbody tr th {\n",
       "        vertical-align: top;\n",
       "    }\n",
       "\n",
       "    .dataframe thead th {\n",
       "        text-align: right;\n",
       "    }\n",
       "</style>\n",
       "<table border=\"1\" class=\"dataframe\">\n",
       "  <thead>\n",
       "    <tr style=\"text-align: right;\">\n",
       "      <th></th>\n",
       "      <th>ID</th>\n",
       "      <th>coparent</th>\n",
       "      <th>family</th>\n",
       "      <th>friend</th>\n",
       "      <th>lactationconsult</th>\n",
       "      <th>pediatrician</th>\n",
       "      <th>obgyn</th>\n",
       "      <th>midwife</th>\n",
       "      <th>doula</th>\n",
       "      <th>nurse</th>\n",
       "      <th>wic</th>\n",
       "      <th>hospital</th>\n",
       "      <th>books</th>\n",
       "      <th>facebook</th>\n",
       "      <th>instagram</th>\n",
       "      <th>twitter</th>\n",
       "      <th>pinterest</th>\n",
       "      <th>onlineforum</th>\n",
       "      <th>blog</th>\n",
       "      <th>websites</th>\n",
       "      <th>searchengine</th>\n",
       "      <th>app</th>\n",
       "    </tr>\n",
       "  </thead>\n",
       "  <tbody>\n",
       "    <tr>\n",
       "      <th>0</th>\n",
       "      <td>1</td>\n",
       "      <td>2</td>\n",
       "      <td>2</td>\n",
       "      <td>2</td>\n",
       "      <td>2</td>\n",
       "      <td>2</td>\n",
       "      <td>2</td>\n",
       "      <td>2</td>\n",
       "      <td>2</td>\n",
       "      <td>2</td>\n",
       "      <td>2</td>\n",
       "      <td>2</td>\n",
       "      <td>2</td>\n",
       "      <td>1</td>\n",
       "      <td>2</td>\n",
       "      <td>2</td>\n",
       "      <td>1</td>\n",
       "      <td>2</td>\n",
       "      <td>2</td>\n",
       "      <td>2</td>\n",
       "      <td>2</td>\n",
       "      <td>2</td>\n",
       "    </tr>\n",
       "    <tr>\n",
       "      <th>1</th>\n",
       "      <td>2</td>\n",
       "      <td>2</td>\n",
       "      <td>2</td>\n",
       "      <td>2</td>\n",
       "      <td>2</td>\n",
       "      <td>2</td>\n",
       "      <td>2</td>\n",
       "      <td>2</td>\n",
       "      <td>2</td>\n",
       "      <td>2</td>\n",
       "      <td>2</td>\n",
       "      <td>2</td>\n",
       "      <td>2</td>\n",
       "      <td>2</td>\n",
       "      <td>2</td>\n",
       "      <td>2</td>\n",
       "      <td>2</td>\n",
       "      <td>2</td>\n",
       "      <td>2</td>\n",
       "      <td>2</td>\n",
       "      <td>1</td>\n",
       "      <td>2</td>\n",
       "    </tr>\n",
       "    <tr>\n",
       "      <th>2</th>\n",
       "      <td>3</td>\n",
       "      <td>2</td>\n",
       "      <td>1</td>\n",
       "      <td>1</td>\n",
       "      <td>1</td>\n",
       "      <td>1</td>\n",
       "      <td>2</td>\n",
       "      <td>1</td>\n",
       "      <td>2</td>\n",
       "      <td>1</td>\n",
       "      <td>1</td>\n",
       "      <td>2</td>\n",
       "      <td>2</td>\n",
       "      <td>1</td>\n",
       "      <td>2</td>\n",
       "      <td>2</td>\n",
       "      <td>2</td>\n",
       "      <td>3</td>\n",
       "      <td>2</td>\n",
       "      <td>1</td>\n",
       "      <td>1</td>\n",
       "      <td>2</td>\n",
       "    </tr>\n",
       "    <tr>\n",
       "      <th>3</th>\n",
       "      <td>4</td>\n",
       "      <td>1</td>\n",
       "      <td>1</td>\n",
       "      <td>2</td>\n",
       "      <td>1</td>\n",
       "      <td>2</td>\n",
       "      <td>2</td>\n",
       "      <td>2</td>\n",
       "      <td>2</td>\n",
       "      <td>1</td>\n",
       "      <td>1</td>\n",
       "      <td>1</td>\n",
       "      <td>2</td>\n",
       "      <td>1</td>\n",
       "      <td>2</td>\n",
       "      <td>2</td>\n",
       "      <td>2</td>\n",
       "      <td>2</td>\n",
       "      <td>2</td>\n",
       "      <td>2</td>\n",
       "      <td>2</td>\n",
       "      <td>2</td>\n",
       "    </tr>\n",
       "    <tr>\n",
       "      <th>4</th>\n",
       "      <td>5</td>\n",
       "      <td>2</td>\n",
       "      <td>1</td>\n",
       "      <td>2</td>\n",
       "      <td>2</td>\n",
       "      <td>1</td>\n",
       "      <td>1</td>\n",
       "      <td>2</td>\n",
       "      <td>2</td>\n",
       "      <td>1</td>\n",
       "      <td>1</td>\n",
       "      <td>1</td>\n",
       "      <td>2</td>\n",
       "      <td>1</td>\n",
       "      <td>1</td>\n",
       "      <td>1</td>\n",
       "      <td>1</td>\n",
       "      <td>2</td>\n",
       "      <td>2</td>\n",
       "      <td>2</td>\n",
       "      <td>1</td>\n",
       "      <td>2</td>\n",
       "    </tr>\n",
       "  </tbody>\n",
       "</table>\n",
       "</div>"
      ],
      "text/plain": [
       "   ID  coparent  family  friend  lactationconsult  pediatrician  obgyn  \\\n",
       "0   1         2       2       2                 2             2      2   \n",
       "1   2         2       2       2                 2             2      2   \n",
       "2   3         2       1       1                 1             1      2   \n",
       "3   4         1       1       2                 1             2      2   \n",
       "4   5         2       1       2                 2             1      1   \n",
       "\n",
       "   midwife  doula  nurse  wic  hospital  books  facebook  instagram  twitter  \\\n",
       "0        2      2      2    2         2      2         1          2        2   \n",
       "1        2      2      2    2         2      2         2          2        2   \n",
       "2        1      2      1    1         2      2         1          2        2   \n",
       "3        2      2      1    1         1      2         1          2        2   \n",
       "4        2      2      1    1         1      2         1          1        1   \n",
       "\n",
       "   pinterest  onlineforum  blog  websites  searchengine  app  \n",
       "0          1            2     2         2             2    2  \n",
       "1          2            2     2         2             1    2  \n",
       "2          2            3     2         1             1    2  \n",
       "3          2            2     2         2             2    2  \n",
       "4          1            2     2         2             1    2  "
      ]
     },
     "execution_count": 8,
     "metadata": {},
     "output_type": "execute_result"
    }
   ],
   "source": [
    "inf_sources = ['ID','coparent', 'family', 'friend', 'lactationconsult', 'pediatrician',\n",
    "       'obgyn', 'midwife', 'doula', 'nurse', 'wic', 'hospital', 'books',\n",
    "       'facebook', 'instagram', 'twitter', 'pinterest', 'onlineforum', 'blog',\n",
    "       'websites', 'searchengine', 'app']\n",
    "inf_sources_df = pd.DataFrame(data = questionaire_df, columns = inf_sources)\n",
    "inf_sources_df.head()"
   ]
  },
  {
   "cell_type": "markdown",
   "metadata": {},
   "source": [
    "# Exploratory Data Analysis"
   ]
  },
  {
   "cell_type": "code",
   "execution_count": 9,
   "metadata": {},
   "outputs": [
    {
     "name": "stdout",
     "output_type": "stream",
     "text": [
      "<class 'pandas.core.frame.DataFrame'>\n",
      "RangeIndex: 1420 entries, 0 to 1419\n",
      "Data columns (total 22 columns):\n",
      " #   Column            Non-Null Count  Dtype\n",
      "---  ------            --------------  -----\n",
      " 0   ID                1420 non-null   int64\n",
      " 1   coparent          1420 non-null   int64\n",
      " 2   family            1420 non-null   int64\n",
      " 3   friend            1420 non-null   int64\n",
      " 4   lactationconsult  1420 non-null   int64\n",
      " 5   pediatrician      1420 non-null   int64\n",
      " 6   obgyn             1420 non-null   int64\n",
      " 7   midwife           1420 non-null   int64\n",
      " 8   doula             1420 non-null   int64\n",
      " 9   nurse             1420 non-null   int64\n",
      " 10  wic               1420 non-null   int64\n",
      " 11  hospital          1420 non-null   int64\n",
      " 12  books             1420 non-null   int64\n",
      " 13  facebook          1420 non-null   int64\n",
      " 14  instagram         1420 non-null   int64\n",
      " 15  twitter           1420 non-null   int64\n",
      " 16  pinterest         1420 non-null   int64\n",
      " 17  onlineforum       1420 non-null   int64\n",
      " 18  blog              1420 non-null   int64\n",
      " 19  websites          1420 non-null   int64\n",
      " 20  searchengine      1420 non-null   int64\n",
      " 21  app               1420 non-null   int64\n",
      "dtypes: int64(22)\n",
      "memory usage: 244.2 KB\n"
     ]
    }
   ],
   "source": [
    "inf_sources_df.info()"
   ]
  },
  {
   "cell_type": "markdown",
   "metadata": {},
   "source": [
    "There are 1420 non null rows in the data set with all the columns having integer datatype."
   ]
  },
  {
   "cell_type": "markdown",
   "metadata": {},
   "source": [
    "Dropping the rows having -99 value as it signifies missing responses from the candidate."
   ]
  },
  {
   "cell_type": "code",
   "execution_count": 10,
   "metadata": {},
   "outputs": [],
   "source": [
    "inf_sources_df=inf_sources_df.replace(-99,np.nan).dropna(axis = 0, how = 'any')"
   ]
  },
  {
   "cell_type": "code",
   "execution_count": 11,
   "metadata": {},
   "outputs": [
    {
     "data": {
      "text/html": [
       "<div>\n",
       "<style scoped>\n",
       "    .dataframe tbody tr th:only-of-type {\n",
       "        vertical-align: middle;\n",
       "    }\n",
       "\n",
       "    .dataframe tbody tr th {\n",
       "        vertical-align: top;\n",
       "    }\n",
       "\n",
       "    .dataframe thead th {\n",
       "        text-align: right;\n",
       "    }\n",
       "</style>\n",
       "<table border=\"1\" class=\"dataframe\">\n",
       "  <thead>\n",
       "    <tr style=\"text-align: right;\">\n",
       "      <th></th>\n",
       "      <th>count</th>\n",
       "      <th>mean</th>\n",
       "      <th>std</th>\n",
       "      <th>min</th>\n",
       "      <th>25%</th>\n",
       "      <th>50%</th>\n",
       "      <th>75%</th>\n",
       "      <th>max</th>\n",
       "    </tr>\n",
       "  </thead>\n",
       "  <tbody>\n",
       "    <tr>\n",
       "      <th>ID</th>\n",
       "      <td>1248.0</td>\n",
       "      <td>706.211538</td>\n",
       "      <td>412.678615</td>\n",
       "      <td>1.0</td>\n",
       "      <td>348.5</td>\n",
       "      <td>711.5</td>\n",
       "      <td>1064.25</td>\n",
       "      <td>1420.0</td>\n",
       "    </tr>\n",
       "    <tr>\n",
       "      <th>coparent</th>\n",
       "      <td>1248.0</td>\n",
       "      <td>1.962340</td>\n",
       "      <td>0.293241</td>\n",
       "      <td>1.0</td>\n",
       "      <td>2.0</td>\n",
       "      <td>2.0</td>\n",
       "      <td>2.00</td>\n",
       "      <td>3.0</td>\n",
       "    </tr>\n",
       "    <tr>\n",
       "      <th>family</th>\n",
       "      <td>1248.0</td>\n",
       "      <td>1.710737</td>\n",
       "      <td>0.486033</td>\n",
       "      <td>1.0</td>\n",
       "      <td>1.0</td>\n",
       "      <td>2.0</td>\n",
       "      <td>2.00</td>\n",
       "      <td>3.0</td>\n",
       "    </tr>\n",
       "    <tr>\n",
       "      <th>friend</th>\n",
       "      <td>1248.0</td>\n",
       "      <td>1.625801</td>\n",
       "      <td>0.528460</td>\n",
       "      <td>1.0</td>\n",
       "      <td>1.0</td>\n",
       "      <td>2.0</td>\n",
       "      <td>2.00</td>\n",
       "      <td>3.0</td>\n",
       "    </tr>\n",
       "    <tr>\n",
       "      <th>lactationconsult</th>\n",
       "      <td>1248.0</td>\n",
       "      <td>1.332532</td>\n",
       "      <td>0.492933</td>\n",
       "      <td>1.0</td>\n",
       "      <td>1.0</td>\n",
       "      <td>1.0</td>\n",
       "      <td>2.00</td>\n",
       "      <td>3.0</td>\n",
       "    </tr>\n",
       "    <tr>\n",
       "      <th>pediatrician</th>\n",
       "      <td>1248.0</td>\n",
       "      <td>1.714744</td>\n",
       "      <td>0.511652</td>\n",
       "      <td>1.0</td>\n",
       "      <td>1.0</td>\n",
       "      <td>2.0</td>\n",
       "      <td>2.00</td>\n",
       "      <td>3.0</td>\n",
       "    </tr>\n",
       "    <tr>\n",
       "      <th>obgyn</th>\n",
       "      <td>1248.0</td>\n",
       "      <td>1.801282</td>\n",
       "      <td>0.467653</td>\n",
       "      <td>1.0</td>\n",
       "      <td>2.0</td>\n",
       "      <td>2.0</td>\n",
       "      <td>2.00</td>\n",
       "      <td>3.0</td>\n",
       "    </tr>\n",
       "    <tr>\n",
       "      <th>midwife</th>\n",
       "      <td>1248.0</td>\n",
       "      <td>1.887821</td>\n",
       "      <td>0.369545</td>\n",
       "      <td>1.0</td>\n",
       "      <td>2.0</td>\n",
       "      <td>2.0</td>\n",
       "      <td>2.00</td>\n",
       "      <td>3.0</td>\n",
       "    </tr>\n",
       "    <tr>\n",
       "      <th>doula</th>\n",
       "      <td>1248.0</td>\n",
       "      <td>1.948718</td>\n",
       "      <td>0.275602</td>\n",
       "      <td>1.0</td>\n",
       "      <td>2.0</td>\n",
       "      <td>2.0</td>\n",
       "      <td>2.00</td>\n",
       "      <td>3.0</td>\n",
       "    </tr>\n",
       "    <tr>\n",
       "      <th>nurse</th>\n",
       "      <td>1248.0</td>\n",
       "      <td>1.619391</td>\n",
       "      <td>0.532964</td>\n",
       "      <td>1.0</td>\n",
       "      <td>1.0</td>\n",
       "      <td>2.0</td>\n",
       "      <td>2.00</td>\n",
       "      <td>3.0</td>\n",
       "    </tr>\n",
       "    <tr>\n",
       "      <th>wic</th>\n",
       "      <td>1248.0</td>\n",
       "      <td>1.850160</td>\n",
       "      <td>0.413272</td>\n",
       "      <td>1.0</td>\n",
       "      <td>2.0</td>\n",
       "      <td>2.0</td>\n",
       "      <td>2.00</td>\n",
       "      <td>3.0</td>\n",
       "    </tr>\n",
       "    <tr>\n",
       "      <th>hospital</th>\n",
       "      <td>1248.0</td>\n",
       "      <td>1.669071</td>\n",
       "      <td>0.511555</td>\n",
       "      <td>1.0</td>\n",
       "      <td>1.0</td>\n",
       "      <td>2.0</td>\n",
       "      <td>2.00</td>\n",
       "      <td>3.0</td>\n",
       "    </tr>\n",
       "    <tr>\n",
       "      <th>books</th>\n",
       "      <td>1248.0</td>\n",
       "      <td>1.919071</td>\n",
       "      <td>0.384989</td>\n",
       "      <td>1.0</td>\n",
       "      <td>2.0</td>\n",
       "      <td>2.0</td>\n",
       "      <td>2.00</td>\n",
       "      <td>3.0</td>\n",
       "    </tr>\n",
       "    <tr>\n",
       "      <th>facebook</th>\n",
       "      <td>1248.0</td>\n",
       "      <td>1.433494</td>\n",
       "      <td>0.562444</td>\n",
       "      <td>1.0</td>\n",
       "      <td>1.0</td>\n",
       "      <td>1.0</td>\n",
       "      <td>2.00</td>\n",
       "      <td>3.0</td>\n",
       "    </tr>\n",
       "    <tr>\n",
       "      <th>instagram</th>\n",
       "      <td>1248.0</td>\n",
       "      <td>1.781250</td>\n",
       "      <td>0.474938</td>\n",
       "      <td>1.0</td>\n",
       "      <td>2.0</td>\n",
       "      <td>2.0</td>\n",
       "      <td>2.00</td>\n",
       "      <td>3.0</td>\n",
       "    </tr>\n",
       "    <tr>\n",
       "      <th>twitter</th>\n",
       "      <td>1248.0</td>\n",
       "      <td>2.006410</td>\n",
       "      <td>0.174448</td>\n",
       "      <td>1.0</td>\n",
       "      <td>2.0</td>\n",
       "      <td>2.0</td>\n",
       "      <td>2.00</td>\n",
       "      <td>3.0</td>\n",
       "    </tr>\n",
       "    <tr>\n",
       "      <th>pinterest</th>\n",
       "      <td>1248.0</td>\n",
       "      <td>1.786058</td>\n",
       "      <td>0.473752</td>\n",
       "      <td>1.0</td>\n",
       "      <td>2.0</td>\n",
       "      <td>2.0</td>\n",
       "      <td>2.00</td>\n",
       "      <td>3.0</td>\n",
       "    </tr>\n",
       "    <tr>\n",
       "      <th>onlineforum</th>\n",
       "      <td>1248.0</td>\n",
       "      <td>1.774038</td>\n",
       "      <td>0.621893</td>\n",
       "      <td>1.0</td>\n",
       "      <td>1.0</td>\n",
       "      <td>2.0</td>\n",
       "      <td>2.00</td>\n",
       "      <td>3.0</td>\n",
       "    </tr>\n",
       "    <tr>\n",
       "      <th>blog</th>\n",
       "      <td>1248.0</td>\n",
       "      <td>2.040064</td>\n",
       "      <td>0.398470</td>\n",
       "      <td>1.0</td>\n",
       "      <td>2.0</td>\n",
       "      <td>2.0</td>\n",
       "      <td>2.00</td>\n",
       "      <td>3.0</td>\n",
       "    </tr>\n",
       "    <tr>\n",
       "      <th>websites</th>\n",
       "      <td>1248.0</td>\n",
       "      <td>1.604167</td>\n",
       "      <td>0.618129</td>\n",
       "      <td>1.0</td>\n",
       "      <td>1.0</td>\n",
       "      <td>2.0</td>\n",
       "      <td>2.00</td>\n",
       "      <td>3.0</td>\n",
       "    </tr>\n",
       "    <tr>\n",
       "      <th>searchengine</th>\n",
       "      <td>1248.0</td>\n",
       "      <td>1.555288</td>\n",
       "      <td>0.579097</td>\n",
       "      <td>1.0</td>\n",
       "      <td>1.0</td>\n",
       "      <td>2.0</td>\n",
       "      <td>2.00</td>\n",
       "      <td>3.0</td>\n",
       "    </tr>\n",
       "    <tr>\n",
       "      <th>app</th>\n",
       "      <td>1248.0</td>\n",
       "      <td>1.954327</td>\n",
       "      <td>0.398872</td>\n",
       "      <td>1.0</td>\n",
       "      <td>2.0</td>\n",
       "      <td>2.0</td>\n",
       "      <td>2.00</td>\n",
       "      <td>3.0</td>\n",
       "    </tr>\n",
       "  </tbody>\n",
       "</table>\n",
       "</div>"
      ],
      "text/plain": [
       "                   count        mean         std  min    25%    50%      75%  \\\n",
       "ID                1248.0  706.211538  412.678615  1.0  348.5  711.5  1064.25   \n",
       "coparent          1248.0    1.962340    0.293241  1.0    2.0    2.0     2.00   \n",
       "family            1248.0    1.710737    0.486033  1.0    1.0    2.0     2.00   \n",
       "friend            1248.0    1.625801    0.528460  1.0    1.0    2.0     2.00   \n",
       "lactationconsult  1248.0    1.332532    0.492933  1.0    1.0    1.0     2.00   \n",
       "pediatrician      1248.0    1.714744    0.511652  1.0    1.0    2.0     2.00   \n",
       "obgyn             1248.0    1.801282    0.467653  1.0    2.0    2.0     2.00   \n",
       "midwife           1248.0    1.887821    0.369545  1.0    2.0    2.0     2.00   \n",
       "doula             1248.0    1.948718    0.275602  1.0    2.0    2.0     2.00   \n",
       "nurse             1248.0    1.619391    0.532964  1.0    1.0    2.0     2.00   \n",
       "wic               1248.0    1.850160    0.413272  1.0    2.0    2.0     2.00   \n",
       "hospital          1248.0    1.669071    0.511555  1.0    1.0    2.0     2.00   \n",
       "books             1248.0    1.919071    0.384989  1.0    2.0    2.0     2.00   \n",
       "facebook          1248.0    1.433494    0.562444  1.0    1.0    1.0     2.00   \n",
       "instagram         1248.0    1.781250    0.474938  1.0    2.0    2.0     2.00   \n",
       "twitter           1248.0    2.006410    0.174448  1.0    2.0    2.0     2.00   \n",
       "pinterest         1248.0    1.786058    0.473752  1.0    2.0    2.0     2.00   \n",
       "onlineforum       1248.0    1.774038    0.621893  1.0    1.0    2.0     2.00   \n",
       "blog              1248.0    2.040064    0.398470  1.0    2.0    2.0     2.00   \n",
       "websites          1248.0    1.604167    0.618129  1.0    1.0    2.0     2.00   \n",
       "searchengine      1248.0    1.555288    0.579097  1.0    1.0    2.0     2.00   \n",
       "app               1248.0    1.954327    0.398872  1.0    2.0    2.0     2.00   \n",
       "\n",
       "                     max  \n",
       "ID                1420.0  \n",
       "coparent             3.0  \n",
       "family               3.0  \n",
       "friend               3.0  \n",
       "lactationconsult     3.0  \n",
       "pediatrician         3.0  \n",
       "obgyn                3.0  \n",
       "midwife              3.0  \n",
       "doula                3.0  \n",
       "nurse                3.0  \n",
       "wic                  3.0  \n",
       "hospital             3.0  \n",
       "books                3.0  \n",
       "facebook             3.0  \n",
       "instagram            3.0  \n",
       "twitter              3.0  \n",
       "pinterest            3.0  \n",
       "onlineforum          3.0  \n",
       "blog                 3.0  \n",
       "websites             3.0  \n",
       "searchengine         3.0  \n",
       "app                  3.0  "
      ]
     },
     "execution_count": 11,
     "metadata": {},
     "output_type": "execute_result"
    }
   ],
   "source": [
    "inf_sources_df.describe().T"
   ]
  },
  {
   "cell_type": "code",
   "execution_count": 12,
   "metadata": {},
   "outputs": [
    {
     "data": {
      "text/plain": [
       "1.0    751\n",
       "2.0    453\n",
       "3.0     44\n",
       "Name: facebook, dtype: int64"
      ]
     },
     "execution_count": 12,
     "metadata": {},
     "output_type": "execute_result"
    }
   ],
   "source": [
    "inf_sources_df.facebook.value_counts()"
   ]
  },
  {
   "cell_type": "code",
   "execution_count": 13,
   "metadata": {},
   "outputs": [
    {
     "data": {
      "text/plain": [
       "(1248, 21)"
      ]
     },
     "execution_count": 13,
     "metadata": {},
     "output_type": "execute_result"
    }
   ],
   "source": [
    "inf_sources_df.iloc[:,1:].shape"
   ]
  },
  {
   "cell_type": "markdown",
   "metadata": {},
   "source": [
    "Replacing with 1 with True while 2 and 3 with False"
   ]
  },
  {
   "cell_type": "code",
   "execution_count": 14,
   "metadata": {},
   "outputs": [],
   "source": [
    "inf_sources_df = inf_sources_df.iloc[:,1:].replace({3: False,1: True, 2: False}, regex = True)"
   ]
  },
  {
   "cell_type": "code",
   "execution_count": 15,
   "metadata": {},
   "outputs": [
    {
     "data": {
      "text/html": [
       "<div>\n",
       "<style scoped>\n",
       "    .dataframe tbody tr th:only-of-type {\n",
       "        vertical-align: middle;\n",
       "    }\n",
       "\n",
       "    .dataframe tbody tr th {\n",
       "        vertical-align: top;\n",
       "    }\n",
       "\n",
       "    .dataframe thead th {\n",
       "        text-align: right;\n",
       "    }\n",
       "</style>\n",
       "<table border=\"1\" class=\"dataframe\">\n",
       "  <thead>\n",
       "    <tr style=\"text-align: right;\">\n",
       "      <th></th>\n",
       "      <th>coparent</th>\n",
       "      <th>family</th>\n",
       "      <th>friend</th>\n",
       "      <th>lactationconsult</th>\n",
       "      <th>pediatrician</th>\n",
       "      <th>obgyn</th>\n",
       "      <th>midwife</th>\n",
       "      <th>doula</th>\n",
       "      <th>nurse</th>\n",
       "      <th>wic</th>\n",
       "      <th>hospital</th>\n",
       "      <th>books</th>\n",
       "      <th>facebook</th>\n",
       "      <th>instagram</th>\n",
       "      <th>twitter</th>\n",
       "      <th>pinterest</th>\n",
       "      <th>onlineforum</th>\n",
       "      <th>blog</th>\n",
       "      <th>websites</th>\n",
       "      <th>searchengine</th>\n",
       "      <th>app</th>\n",
       "    </tr>\n",
       "  </thead>\n",
       "  <tbody>\n",
       "    <tr>\n",
       "      <th>0</th>\n",
       "      <td>False</td>\n",
       "      <td>False</td>\n",
       "      <td>False</td>\n",
       "      <td>False</td>\n",
       "      <td>False</td>\n",
       "      <td>False</td>\n",
       "      <td>False</td>\n",
       "      <td>False</td>\n",
       "      <td>False</td>\n",
       "      <td>False</td>\n",
       "      <td>False</td>\n",
       "      <td>False</td>\n",
       "      <td>True</td>\n",
       "      <td>False</td>\n",
       "      <td>False</td>\n",
       "      <td>True</td>\n",
       "      <td>False</td>\n",
       "      <td>False</td>\n",
       "      <td>False</td>\n",
       "      <td>False</td>\n",
       "      <td>False</td>\n",
       "    </tr>\n",
       "    <tr>\n",
       "      <th>1</th>\n",
       "      <td>False</td>\n",
       "      <td>False</td>\n",
       "      <td>False</td>\n",
       "      <td>False</td>\n",
       "      <td>False</td>\n",
       "      <td>False</td>\n",
       "      <td>False</td>\n",
       "      <td>False</td>\n",
       "      <td>False</td>\n",
       "      <td>False</td>\n",
       "      <td>False</td>\n",
       "      <td>False</td>\n",
       "      <td>False</td>\n",
       "      <td>False</td>\n",
       "      <td>False</td>\n",
       "      <td>False</td>\n",
       "      <td>False</td>\n",
       "      <td>False</td>\n",
       "      <td>False</td>\n",
       "      <td>True</td>\n",
       "      <td>False</td>\n",
       "    </tr>\n",
       "    <tr>\n",
       "      <th>2</th>\n",
       "      <td>False</td>\n",
       "      <td>True</td>\n",
       "      <td>True</td>\n",
       "      <td>True</td>\n",
       "      <td>True</td>\n",
       "      <td>False</td>\n",
       "      <td>True</td>\n",
       "      <td>False</td>\n",
       "      <td>True</td>\n",
       "      <td>True</td>\n",
       "      <td>False</td>\n",
       "      <td>False</td>\n",
       "      <td>True</td>\n",
       "      <td>False</td>\n",
       "      <td>False</td>\n",
       "      <td>False</td>\n",
       "      <td>False</td>\n",
       "      <td>False</td>\n",
       "      <td>True</td>\n",
       "      <td>True</td>\n",
       "      <td>False</td>\n",
       "    </tr>\n",
       "    <tr>\n",
       "      <th>3</th>\n",
       "      <td>True</td>\n",
       "      <td>True</td>\n",
       "      <td>False</td>\n",
       "      <td>True</td>\n",
       "      <td>False</td>\n",
       "      <td>False</td>\n",
       "      <td>False</td>\n",
       "      <td>False</td>\n",
       "      <td>True</td>\n",
       "      <td>True</td>\n",
       "      <td>True</td>\n",
       "      <td>False</td>\n",
       "      <td>True</td>\n",
       "      <td>False</td>\n",
       "      <td>False</td>\n",
       "      <td>False</td>\n",
       "      <td>False</td>\n",
       "      <td>False</td>\n",
       "      <td>False</td>\n",
       "      <td>False</td>\n",
       "      <td>False</td>\n",
       "    </tr>\n",
       "    <tr>\n",
       "      <th>4</th>\n",
       "      <td>False</td>\n",
       "      <td>True</td>\n",
       "      <td>False</td>\n",
       "      <td>False</td>\n",
       "      <td>True</td>\n",
       "      <td>True</td>\n",
       "      <td>False</td>\n",
       "      <td>False</td>\n",
       "      <td>True</td>\n",
       "      <td>True</td>\n",
       "      <td>True</td>\n",
       "      <td>False</td>\n",
       "      <td>True</td>\n",
       "      <td>True</td>\n",
       "      <td>True</td>\n",
       "      <td>True</td>\n",
       "      <td>False</td>\n",
       "      <td>False</td>\n",
       "      <td>False</td>\n",
       "      <td>True</td>\n",
       "      <td>False</td>\n",
       "    </tr>\n",
       "    <tr>\n",
       "      <th>5</th>\n",
       "      <td>False</td>\n",
       "      <td>True</td>\n",
       "      <td>False</td>\n",
       "      <td>True</td>\n",
       "      <td>True</td>\n",
       "      <td>True</td>\n",
       "      <td>True</td>\n",
       "      <td>False</td>\n",
       "      <td>False</td>\n",
       "      <td>True</td>\n",
       "      <td>True</td>\n",
       "      <td>False</td>\n",
       "      <td>True</td>\n",
       "      <td>True</td>\n",
       "      <td>False</td>\n",
       "      <td>False</td>\n",
       "      <td>False</td>\n",
       "      <td>False</td>\n",
       "      <td>True</td>\n",
       "      <td>False</td>\n",
       "      <td>False</td>\n",
       "    </tr>\n",
       "    <tr>\n",
       "      <th>6</th>\n",
       "      <td>False</td>\n",
       "      <td>False</td>\n",
       "      <td>False</td>\n",
       "      <td>False</td>\n",
       "      <td>False</td>\n",
       "      <td>False</td>\n",
       "      <td>False</td>\n",
       "      <td>False</td>\n",
       "      <td>False</td>\n",
       "      <td>False</td>\n",
       "      <td>False</td>\n",
       "      <td>False</td>\n",
       "      <td>True</td>\n",
       "      <td>False</td>\n",
       "      <td>False</td>\n",
       "      <td>False</td>\n",
       "      <td>True</td>\n",
       "      <td>False</td>\n",
       "      <td>True</td>\n",
       "      <td>False</td>\n",
       "      <td>False</td>\n",
       "    </tr>\n",
       "    <tr>\n",
       "      <th>8</th>\n",
       "      <td>False</td>\n",
       "      <td>False</td>\n",
       "      <td>False</td>\n",
       "      <td>True</td>\n",
       "      <td>False</td>\n",
       "      <td>True</td>\n",
       "      <td>False</td>\n",
       "      <td>False</td>\n",
       "      <td>False</td>\n",
       "      <td>False</td>\n",
       "      <td>True</td>\n",
       "      <td>False</td>\n",
       "      <td>False</td>\n",
       "      <td>False</td>\n",
       "      <td>False</td>\n",
       "      <td>False</td>\n",
       "      <td>False</td>\n",
       "      <td>False</td>\n",
       "      <td>False</td>\n",
       "      <td>False</td>\n",
       "      <td>False</td>\n",
       "    </tr>\n",
       "    <tr>\n",
       "      <th>9</th>\n",
       "      <td>False</td>\n",
       "      <td>False</td>\n",
       "      <td>False</td>\n",
       "      <td>False</td>\n",
       "      <td>False</td>\n",
       "      <td>False</td>\n",
       "      <td>False</td>\n",
       "      <td>False</td>\n",
       "      <td>False</td>\n",
       "      <td>False</td>\n",
       "      <td>False</td>\n",
       "      <td>False</td>\n",
       "      <td>True</td>\n",
       "      <td>False</td>\n",
       "      <td>False</td>\n",
       "      <td>False</td>\n",
       "      <td>False</td>\n",
       "      <td>False</td>\n",
       "      <td>False</td>\n",
       "      <td>False</td>\n",
       "      <td>False</td>\n",
       "    </tr>\n",
       "    <tr>\n",
       "      <th>10</th>\n",
       "      <td>False</td>\n",
       "      <td>False</td>\n",
       "      <td>False</td>\n",
       "      <td>False</td>\n",
       "      <td>False</td>\n",
       "      <td>False</td>\n",
       "      <td>False</td>\n",
       "      <td>False</td>\n",
       "      <td>False</td>\n",
       "      <td>False</td>\n",
       "      <td>False</td>\n",
       "      <td>False</td>\n",
       "      <td>False</td>\n",
       "      <td>False</td>\n",
       "      <td>False</td>\n",
       "      <td>False</td>\n",
       "      <td>False</td>\n",
       "      <td>False</td>\n",
       "      <td>False</td>\n",
       "      <td>False</td>\n",
       "      <td>False</td>\n",
       "    </tr>\n",
       "  </tbody>\n",
       "</table>\n",
       "</div>"
      ],
      "text/plain": [
       "    coparent  family  friend  lactationconsult  pediatrician  obgyn  midwife  \\\n",
       "0      False   False   False             False         False  False    False   \n",
       "1      False   False   False             False         False  False    False   \n",
       "2      False    True    True              True          True  False     True   \n",
       "3       True    True   False              True         False  False    False   \n",
       "4      False    True   False             False          True   True    False   \n",
       "5      False    True   False              True          True   True     True   \n",
       "6      False   False   False             False         False  False    False   \n",
       "8      False   False   False              True         False   True    False   \n",
       "9      False   False   False             False         False  False    False   \n",
       "10     False   False   False             False         False  False    False   \n",
       "\n",
       "    doula  nurse    wic  hospital  books  facebook  instagram  twitter  \\\n",
       "0   False  False  False     False  False      True      False    False   \n",
       "1   False  False  False     False  False     False      False    False   \n",
       "2   False   True   True     False  False      True      False    False   \n",
       "3   False   True   True      True  False      True      False    False   \n",
       "4   False   True   True      True  False      True       True     True   \n",
       "5   False  False   True      True  False      True       True    False   \n",
       "6   False  False  False     False  False      True      False    False   \n",
       "8   False  False  False      True  False     False      False    False   \n",
       "9   False  False  False     False  False      True      False    False   \n",
       "10  False  False  False     False  False     False      False    False   \n",
       "\n",
       "    pinterest  onlineforum   blog  websites  searchengine    app  \n",
       "0        True        False  False     False         False  False  \n",
       "1       False        False  False     False          True  False  \n",
       "2       False        False  False      True          True  False  \n",
       "3       False        False  False     False         False  False  \n",
       "4        True        False  False     False          True  False  \n",
       "5       False        False  False      True         False  False  \n",
       "6       False         True  False      True         False  False  \n",
       "8       False        False  False     False         False  False  \n",
       "9       False        False  False     False         False  False  \n",
       "10      False        False  False     False         False  False  "
      ]
     },
     "execution_count": 15,
     "metadata": {},
     "output_type": "execute_result"
    }
   ],
   "source": [
    "inf_sources_df.head(10)"
   ]
  },
  {
   "cell_type": "code",
   "execution_count": 16,
   "metadata": {},
   "outputs": [],
   "source": [
    "sources_counts = []\n",
    "for i in inf_sources_df.columns:\n",
    "    sources_counts.append((inf_sources_df[i] == True).sum())\n",
    "sources_counts.sort(reverse = True)"
   ]
  },
  {
   "cell_type": "code",
   "execution_count": 17,
   "metadata": {},
   "outputs": [
    {
     "data": {
      "image/png": "[encoded data removed]",
      "text/plain": [
       "<Figure size 720x720 with 1 Axes>"
      ]
     },
     "metadata": {},
     "output_type": "display_data"
    }
   ],
   "source": [
    "# Tree Map of Most Frequent Items\n",
    "import squarify\n",
    "plt.rcParams['figure.figsize']=(10,10)\n",
    "Items = inf_sources_df.columns\n",
    "size = sources_counts\n",
    "#lab = Items.index\n",
    "color = plt.cm.rainbow_r(np.linspace(0,1,20))\n",
    "squarify.plot(sizes=size, label=Items, alpha = 0.7, color=color)\n",
    "plt.title('Tree map of Most Frequent infomation sources')\n",
    "plt.axis('off')\n",
    "plt.show()"
   ]
  },
  {
   "cell_type": "markdown",
   "metadata": {},
   "source": [
    "__TERMINOLOGIES__\n",
    "\n",
    "__Support__ : Its the default popularity of an item. In mathematical terms, the support of item A is the ratio of transactions involving A to the total number of transactions.\n",
    "\n",
    "__Confidence__ : Likelihood that customer will buy both products A and B. It is the ratio of the number of transactions involving both A and B and the number of transactions involving B.\n",
    "    \n",
    "    Confidence(A => B) = Support(A, B)/Support(A)\n",
    "\n",
    "__Lift__ : Increase in the sale of A when you sell B.\n",
    "\n",
    "    Lift(A => B) = Confidence(A, B)/Support(B)\n",
    "\n",
    "    Lift (A => B) = 1 means that there is no correlation within the itemset.\n",
    "\n",
    "    Lift (A => B) > 1 means that there is a positive correlation within the itemset, i.e., products in the itemset, A, and B, are more likely to be bought together.\n",
    "    \n",
    "    Lift (A => B) < 1 means that there is a negative correlation within the itemset, i.e., products in itemset, A, and B, are unlikely to be bought together."
   ]
  },
  {
   "cell_type": "markdown",
   "metadata": {},
   "source": [
    "Calculating the support for each of the galactagogues"
   ]
  },
  {
   "cell_type": "code",
   "execution_count": 18,
   "metadata": {},
   "outputs": [
    {
     "data": {
      "text/html": [
       "<div>\n",
       "<style scoped>\n",
       "    .dataframe tbody tr th:only-of-type {\n",
       "        vertical-align: middle;\n",
       "    }\n",
       "\n",
       "    .dataframe tbody tr th {\n",
       "        vertical-align: top;\n",
       "    }\n",
       "\n",
       "    .dataframe thead th {\n",
       "        text-align: right;\n",
       "    }\n",
       "</style>\n",
       "<table border=\"1\" class=\"dataframe\">\n",
       "  <thead>\n",
       "    <tr style=\"text-align: right;\">\n",
       "      <th></th>\n",
       "      <th>support</th>\n",
       "    </tr>\n",
       "  </thead>\n",
       "  <tbody>\n",
       "    <tr>\n",
       "      <th>lactationconsult</th>\n",
       "      <td>0.677885</td>\n",
       "    </tr>\n",
       "    <tr>\n",
       "      <th>facebook</th>\n",
       "      <td>0.601763</td>\n",
       "    </tr>\n",
       "    <tr>\n",
       "      <th>searchengine</th>\n",
       "      <td>0.488782</td>\n",
       "    </tr>\n",
       "    <tr>\n",
       "      <th>websites</th>\n",
       "      <td>0.467147</td>\n",
       "    </tr>\n",
       "    <tr>\n",
       "      <th>nurse</th>\n",
       "      <td>0.404647</td>\n",
       "    </tr>\n",
       "    <tr>\n",
       "      <th>friend</th>\n",
       "      <td>0.396635</td>\n",
       "    </tr>\n",
       "    <tr>\n",
       "      <th>hospital</th>\n",
       "      <td>0.350962</td>\n",
       "    </tr>\n",
       "    <tr>\n",
       "      <th>onlineforum</th>\n",
       "      <td>0.331731</td>\n",
       "    </tr>\n",
       "    <tr>\n",
       "      <th>pediatrician</th>\n",
       "      <td>0.314103</td>\n",
       "    </tr>\n",
       "    <tr>\n",
       "      <th>family</th>\n",
       "      <td>0.304487</td>\n",
       "    </tr>\n",
       "    <tr>\n",
       "      <th>instagram</th>\n",
       "      <td>0.245994</td>\n",
       "    </tr>\n",
       "    <tr>\n",
       "      <th>pinterest</th>\n",
       "      <td>0.241987</td>\n",
       "    </tr>\n",
       "    <tr>\n",
       "      <th>obgyn</th>\n",
       "      <td>0.228365</td>\n",
       "    </tr>\n",
       "    <tr>\n",
       "      <th>wic</th>\n",
       "      <td>0.171474</td>\n",
       "    </tr>\n",
       "    <tr>\n",
       "      <th>midwife</th>\n",
       "      <td>0.130609</td>\n",
       "    </tr>\n",
       "    <tr>\n",
       "      <th>books</th>\n",
       "      <td>0.117788</td>\n",
       "    </tr>\n",
       "    <tr>\n",
       "      <th>app</th>\n",
       "      <td>0.103365</td>\n",
       "    </tr>\n",
       "    <tr>\n",
       "      <th>doula</th>\n",
       "      <td>0.064904</td>\n",
       "    </tr>\n",
       "    <tr>\n",
       "      <th>coparent</th>\n",
       "      <td>0.062500</td>\n",
       "    </tr>\n",
       "    <tr>\n",
       "      <th>blog</th>\n",
       "      <td>0.060096</td>\n",
       "    </tr>\n",
       "    <tr>\n",
       "      <th>twitter</th>\n",
       "      <td>0.012019</td>\n",
       "    </tr>\n",
       "  </tbody>\n",
       "</table>\n",
       "</div>"
      ],
      "text/plain": [
       "                   support\n",
       "lactationconsult  0.677885\n",
       "facebook          0.601763\n",
       "searchengine      0.488782\n",
       "websites          0.467147\n",
       "nurse             0.404647\n",
       "friend            0.396635\n",
       "hospital          0.350962\n",
       "onlineforum       0.331731\n",
       "pediatrician      0.314103\n",
       "family            0.304487\n",
       "instagram         0.245994\n",
       "pinterest         0.241987\n",
       "obgyn             0.228365\n",
       "wic               0.171474\n",
       "midwife           0.130609\n",
       "books             0.117788\n",
       "app               0.103365\n",
       "doula             0.064904\n",
       "coparent          0.062500\n",
       "blog              0.060096\n",
       "twitter           0.012019"
      ]
     },
     "execution_count": 18,
     "metadata": {},
     "output_type": "execute_result"
    }
   ],
   "source": [
    "#Calculate the support\n",
    "support = inf_sources_df.mean()\n",
    "support = pd.DataFrame(support, columns=['support']).sort_values('support',ascending=False)\n",
    "\n",
    "# Print the support\n",
    "support"
   ]
  },
  {
   "cell_type": "markdown",
   "metadata": {},
   "source": [
    "__Apriori Algorithm:__ refers to the algorithm which is used to calculate the association rules between objects. It means how two or more objects are related to one another. In other words, we can say that the apriori algorithm is an association rule leaning that analyzes that people who bought product A also bought product B.\n",
    "\n",
    "Apriori algorithm assumes that any subset of a frequent itemset must be frequent. Its the algorithm behind Market Basket Analysis. Say, a transaction containing {Grapes, Apple, Mango} also contains {Grapes, Mango}. So, according to the principle of Apriori, if {Grapes, Apple, Mango} is frequent, then {Grapes, Mango} must also be frequent."
   ]
  },
  {
   "cell_type": "code",
   "execution_count": 19,
   "metadata": {},
   "outputs": [],
   "source": [
    "frequent_itemsets = apriori(inf_sources_df, min_support= 0.05, use_colnames=True, max_len = 3)\n",
    "rules = association_rules(frequent_itemsets, metric=\"confidence\",  min_threshold = 0.5)"
   ]
  },
  {
   "cell_type": "markdown",
   "metadata": {},
   "source": [
    "Closed frequent itemsets were generated at a minimum support value of 5%, (i.e. thepattern of variable values was observed in at least 5% of the dataset)\n",
    "\n",
    "Rules were generated that met a confidence level of 50% (i.e. in at least 50% of the cases thatxwasobserved,ywas also observed)."
   ]
  },
  {
   "cell_type": "code",
   "execution_count": 20,
   "metadata": {},
   "outputs": [
    {
     "data": {
      "text/html": [
       "<div>\n",
       "<style scoped>\n",
       "    .dataframe tbody tr th:only-of-type {\n",
       "        vertical-align: middle;\n",
       "    }\n",
       "\n",
       "    .dataframe tbody tr th {\n",
       "        vertical-align: top;\n",
       "    }\n",
       "\n",
       "    .dataframe thead th {\n",
       "        text-align: right;\n",
       "    }\n",
       "</style>\n",
       "<table border=\"1\" class=\"dataframe\">\n",
       "  <thead>\n",
       "    <tr style=\"text-align: right;\">\n",
       "      <th></th>\n",
       "      <th>antecedents</th>\n",
       "      <th>consequents</th>\n",
       "      <th>antecedent support</th>\n",
       "      <th>consequent support</th>\n",
       "      <th>support</th>\n",
       "      <th>confidence</th>\n",
       "      <th>lift</th>\n",
       "      <th>leverage</th>\n",
       "      <th>conviction</th>\n",
       "    </tr>\n",
       "  </thead>\n",
       "  <tbody>\n",
       "    <tr>\n",
       "      <th>351</th>\n",
       "      <td>(nurse, app)</td>\n",
       "      <td>(lactationconsult)</td>\n",
       "      <td>0.060096</td>\n",
       "      <td>0.677885</td>\n",
       "      <td>0.059295</td>\n",
       "      <td>0.986667</td>\n",
       "      <td>1.455508</td>\n",
       "      <td>0.018557</td>\n",
       "      <td>24.158654</td>\n",
       "    </tr>\n",
       "    <tr>\n",
       "      <th>331</th>\n",
       "      <td>(nurse, books)</td>\n",
       "      <td>(lactationconsult)</td>\n",
       "      <td>0.070513</td>\n",
       "      <td>0.677885</td>\n",
       "      <td>0.065705</td>\n",
       "      <td>0.931818</td>\n",
       "      <td>1.374597</td>\n",
       "      <td>0.017906</td>\n",
       "      <td>4.724359</td>\n",
       "    </tr>\n",
       "    <tr>\n",
       "      <th>307</th>\n",
       "      <td>(obgyn, instagram)</td>\n",
       "      <td>(lactationconsult)</td>\n",
       "      <td>0.055288</td>\n",
       "      <td>0.677885</td>\n",
       "      <td>0.050481</td>\n",
       "      <td>0.913043</td>\n",
       "      <td>1.346901</td>\n",
       "      <td>0.013002</td>\n",
       "      <td>3.704327</td>\n",
       "    </tr>\n",
       "    <tr>\n",
       "      <th>173</th>\n",
       "      <td>(friend, hospital)</td>\n",
       "      <td>(lactationconsult)</td>\n",
       "      <td>0.174679</td>\n",
       "      <td>0.677885</td>\n",
       "      <td>0.159455</td>\n",
       "      <td>0.912844</td>\n",
       "      <td>1.346607</td>\n",
       "      <td>0.041043</td>\n",
       "      <td>3.695850</td>\n",
       "    </tr>\n",
       "    <tr>\n",
       "      <th>327</th>\n",
       "      <td>(nurse, hospital)</td>\n",
       "      <td>(lactationconsult)</td>\n",
       "      <td>0.229968</td>\n",
       "      <td>0.677885</td>\n",
       "      <td>0.207532</td>\n",
       "      <td>0.902439</td>\n",
       "      <td>1.331258</td>\n",
       "      <td>0.051640</td>\n",
       "      <td>3.301683</td>\n",
       "    </tr>\n",
       "    <tr>\n",
       "      <th>298</th>\n",
       "      <td>(obgyn, nurse)</td>\n",
       "      <td>(lactationconsult)</td>\n",
       "      <td>0.163462</td>\n",
       "      <td>0.677885</td>\n",
       "      <td>0.147436</td>\n",
       "      <td>0.901961</td>\n",
       "      <td>1.330552</td>\n",
       "      <td>0.036628</td>\n",
       "      <td>3.285577</td>\n",
       "    </tr>\n",
       "    <tr>\n",
       "      <th>324</th>\n",
       "      <td>(nurse, wic)</td>\n",
       "      <td>(lactationconsult)</td>\n",
       "      <td>0.089744</td>\n",
       "      <td>0.677885</td>\n",
       "      <td>0.080929</td>\n",
       "      <td>0.901786</td>\n",
       "      <td>1.330294</td>\n",
       "      <td>0.020094</td>\n",
       "      <td>3.279720</td>\n",
       "    </tr>\n",
       "    <tr>\n",
       "      <th>371</th>\n",
       "      <td>(websites, hospital)</td>\n",
       "      <td>(lactationconsult)</td>\n",
       "      <td>0.187500</td>\n",
       "      <td>0.677885</td>\n",
       "      <td>0.169071</td>\n",
       "      <td>0.901709</td>\n",
       "      <td>1.330181</td>\n",
       "      <td>0.041967</td>\n",
       "      <td>3.277174</td>\n",
       "    </tr>\n",
       "    <tr>\n",
       "      <th>345</th>\n",
       "      <td>(nurse, websites)</td>\n",
       "      <td>(lactationconsult)</td>\n",
       "      <td>0.217147</td>\n",
       "      <td>0.677885</td>\n",
       "      <td>0.195513</td>\n",
       "      <td>0.900369</td>\n",
       "      <td>1.328204</td>\n",
       "      <td>0.048312</td>\n",
       "      <td>3.233084</td>\n",
       "    </tr>\n",
       "    <tr>\n",
       "      <th>367</th>\n",
       "      <td>(pinterest, hospital)</td>\n",
       "      <td>(lactationconsult)</td>\n",
       "      <td>0.088141</td>\n",
       "      <td>0.677885</td>\n",
       "      <td>0.079327</td>\n",
       "      <td>0.900000</td>\n",
       "      <td>1.327660</td>\n",
       "      <td>0.019577</td>\n",
       "      <td>3.221154</td>\n",
       "    </tr>\n",
       "    <tr>\n",
       "      <th>169</th>\n",
       "      <td>(nurse, friend)</td>\n",
       "      <td>(lactationconsult)</td>\n",
       "      <td>0.205929</td>\n",
       "      <td>0.677885</td>\n",
       "      <td>0.185096</td>\n",
       "      <td>0.898833</td>\n",
       "      <td>1.325938</td>\n",
       "      <td>0.045500</td>\n",
       "      <td>3.183987</td>\n",
       "    </tr>\n",
       "    <tr>\n",
       "      <th>348</th>\n",
       "      <td>(nurse, searchengine)</td>\n",
       "      <td>(lactationconsult)</td>\n",
       "      <td>0.238782</td>\n",
       "      <td>0.677885</td>\n",
       "      <td>0.213942</td>\n",
       "      <td>0.895973</td>\n",
       "      <td>1.321719</td>\n",
       "      <td>0.052076</td>\n",
       "      <td>3.096464</td>\n",
       "    </tr>\n",
       "    <tr>\n",
       "      <th>342</th>\n",
       "      <td>(nurse, onlineforum)</td>\n",
       "      <td>(lactationconsult)</td>\n",
       "      <td>0.165064</td>\n",
       "      <td>0.677885</td>\n",
       "      <td>0.147436</td>\n",
       "      <td>0.893204</td>\n",
       "      <td>1.317634</td>\n",
       "      <td>0.035541</td>\n",
       "      <td>3.016171</td>\n",
       "    </tr>\n",
       "    <tr>\n",
       "      <th>310</th>\n",
       "      <td>(obgyn, websites)</td>\n",
       "      <td>(lactationconsult)</td>\n",
       "      <td>0.104167</td>\n",
       "      <td>0.677885</td>\n",
       "      <td>0.092949</td>\n",
       "      <td>0.892308</td>\n",
       "      <td>1.316312</td>\n",
       "      <td>0.022336</td>\n",
       "      <td>2.991071</td>\n",
       "    </tr>\n",
       "    <tr>\n",
       "      <th>338</th>\n",
       "      <td>(nurse, instagram)</td>\n",
       "      <td>(lactationconsult)</td>\n",
       "      <td>0.110577</td>\n",
       "      <td>0.677885</td>\n",
       "      <td>0.098558</td>\n",
       "      <td>0.891304</td>\n",
       "      <td>1.314832</td>\n",
       "      <td>0.023599</td>\n",
       "      <td>2.963462</td>\n",
       "    </tr>\n",
       "    <tr>\n",
       "      <th>302</th>\n",
       "      <td>(obgyn, hospital)</td>\n",
       "      <td>(lactationconsult)</td>\n",
       "      <td>0.136218</td>\n",
       "      <td>0.677885</td>\n",
       "      <td>0.120994</td>\n",
       "      <td>0.888235</td>\n",
       "      <td>1.310305</td>\n",
       "      <td>0.028654</td>\n",
       "      <td>2.882085</td>\n",
       "    </tr>\n",
       "    <tr>\n",
       "      <th>363</th>\n",
       "      <td>(facebook, hospital)</td>\n",
       "      <td>(lactationconsult)</td>\n",
       "      <td>0.225160</td>\n",
       "      <td>0.677885</td>\n",
       "      <td>0.199519</td>\n",
       "      <td>0.886121</td>\n",
       "      <td>1.307186</td>\n",
       "      <td>0.046887</td>\n",
       "      <td>2.828576</td>\n",
       "    </tr>\n",
       "    <tr>\n",
       "      <th>322</th>\n",
       "      <td>(midwife, searchengine)</td>\n",
       "      <td>(lactationconsult)</td>\n",
       "      <td>0.068910</td>\n",
       "      <td>0.677885</td>\n",
       "      <td>0.060897</td>\n",
       "      <td>0.883721</td>\n",
       "      <td>1.303645</td>\n",
       "      <td>0.014184</td>\n",
       "      <td>2.770192</td>\n",
       "    </tr>\n",
       "    <tr>\n",
       "      <th>282</th>\n",
       "      <td>(pediatrician, nurse)</td>\n",
       "      <td>(lactationconsult)</td>\n",
       "      <td>0.205929</td>\n",
       "      <td>0.677885</td>\n",
       "      <td>0.181891</td>\n",
       "      <td>0.883268</td>\n",
       "      <td>1.302978</td>\n",
       "      <td>0.042295</td>\n",
       "      <td>2.759455</td>\n",
       "    </tr>\n",
       "    <tr>\n",
       "      <th>403</th>\n",
       "      <td>(facebook, app)</td>\n",
       "      <td>(lactationconsult)</td>\n",
       "      <td>0.073718</td>\n",
       "      <td>0.677885</td>\n",
       "      <td>0.064904</td>\n",
       "      <td>0.880435</td>\n",
       "      <td>1.298797</td>\n",
       "      <td>0.014932</td>\n",
       "      <td>2.694056</td>\n",
       "    </tr>\n",
       "  </tbody>\n",
       "</table>\n",
       "</div>"
      ],
      "text/plain": [
       "                 antecedents         consequents  antecedent support  \\\n",
       "351             (nurse, app)  (lactationconsult)            0.060096   \n",
       "331           (nurse, books)  (lactationconsult)            0.070513   \n",
       "307       (obgyn, instagram)  (lactationconsult)            0.055288   \n",
       "173       (friend, hospital)  (lactationconsult)            0.174679   \n",
       "327        (nurse, hospital)  (lactationconsult)            0.229968   \n",
       "298           (obgyn, nurse)  (lactationconsult)            0.163462   \n",
       "324             (nurse, wic)  (lactationconsult)            0.089744   \n",
       "371     (websites, hospital)  (lactationconsult)            0.187500   \n",
       "345        (nurse, websites)  (lactationconsult)            0.217147   \n",
       "367    (pinterest, hospital)  (lactationconsult)            0.088141   \n",
       "169          (nurse, friend)  (lactationconsult)            0.205929   \n",
       "348    (nurse, searchengine)  (lactationconsult)            0.238782   \n",
       "342     (nurse, onlineforum)  (lactationconsult)            0.165064   \n",
       "310        (obgyn, websites)  (lactationconsult)            0.104167   \n",
       "338       (nurse, instagram)  (lactationconsult)            0.110577   \n",
       "302        (obgyn, hospital)  (lactationconsult)            0.136218   \n",
       "363     (facebook, hospital)  (lactationconsult)            0.225160   \n",
       "322  (midwife, searchengine)  (lactationconsult)            0.068910   \n",
       "282    (pediatrician, nurse)  (lactationconsult)            0.205929   \n",
       "403          (facebook, app)  (lactationconsult)            0.073718   \n",
       "\n",
       "     consequent support   support  confidence      lift  leverage  conviction  \n",
       "351            0.677885  0.059295    0.986667  1.455508  0.018557   24.158654  \n",
       "331            0.677885  0.065705    0.931818  1.374597  0.017906    4.724359  \n",
       "307            0.677885  0.050481    0.913043  1.346901  0.013002    3.704327  \n",
       "173            0.677885  0.159455    0.912844  1.346607  0.041043    3.695850  \n",
       "327            0.677885  0.207532    0.902439  1.331258  0.051640    3.301683  \n",
       "298            0.677885  0.147436    0.901961  1.330552  0.036628    3.285577  \n",
       "324            0.677885  0.080929    0.901786  1.330294  0.020094    3.279720  \n",
       "371            0.677885  0.169071    0.901709  1.330181  0.041967    3.277174  \n",
       "345            0.677885  0.195513    0.900369  1.328204  0.048312    3.233084  \n",
       "367            0.677885  0.079327    0.900000  1.327660  0.019577    3.221154  \n",
       "169            0.677885  0.185096    0.898833  1.325938  0.045500    3.183987  \n",
       "348            0.677885  0.213942    0.895973  1.321719  0.052076    3.096464  \n",
       "342            0.677885  0.147436    0.893204  1.317634  0.035541    3.016171  \n",
       "310            0.677885  0.092949    0.892308  1.316312  0.022336    2.991071  \n",
       "338            0.677885  0.098558    0.891304  1.314832  0.023599    2.963462  \n",
       "302            0.677885  0.120994    0.888235  1.310305  0.028654    2.882085  \n",
       "363            0.677885  0.199519    0.886121  1.307186  0.046887    2.828576  \n",
       "322            0.677885  0.060897    0.883721  1.303645  0.014184    2.770192  \n",
       "282            0.677885  0.181891    0.883268  1.302978  0.042295    2.759455  \n",
       "403            0.677885  0.064904    0.880435  1.298797  0.014932    2.694056  "
      ]
     },
     "metadata": {},
     "output_type": "display_data"
    },
    {
     "name": "stdout",
     "output_type": "stream",
     "text": [
      "Rules identified:  664\n"
     ]
    }
   ],
   "source": [
    "display(rules.sort_values(by ='confidence', ascending=False).head(20))\n",
    "print(\"Rules identified: \", len(rules))"
   ]
  },
  {
   "cell_type": "markdown",
   "metadata": {},
   "source": [
    "Another set of rules are generated using metric as \"lift\"."
   ]
  },
  {
   "cell_type": "code",
   "execution_count": 21,
   "metadata": {},
   "outputs": [],
   "source": [
    "rules_1 = association_rules(frequent_itemsets, metric=\"lift\",  min_threshold = 1.2)"
   ]
  },
  {
   "cell_type": "code",
   "execution_count": 22,
   "metadata": {},
   "outputs": [
    {
     "data": {
      "text/html": [
       "<div>\n",
       "<style scoped>\n",
       "    .dataframe tbody tr th:only-of-type {\n",
       "        vertical-align: middle;\n",
       "    }\n",
       "\n",
       "    .dataframe tbody tr th {\n",
       "        vertical-align: top;\n",
       "    }\n",
       "\n",
       "    .dataframe thead th {\n",
       "        text-align: right;\n",
       "    }\n",
       "</style>\n",
       "<table border=\"1\" class=\"dataframe\">\n",
       "  <thead>\n",
       "    <tr style=\"text-align: right;\">\n",
       "      <th></th>\n",
       "      <th>antecedents</th>\n",
       "      <th>consequents</th>\n",
       "      <th>antecedent support</th>\n",
       "      <th>consequent support</th>\n",
       "      <th>support</th>\n",
       "      <th>confidence</th>\n",
       "      <th>lift</th>\n",
       "      <th>leverage</th>\n",
       "      <th>conviction</th>\n",
       "    </tr>\n",
       "  </thead>\n",
       "  <tbody>\n",
       "    <tr>\n",
       "      <th>971</th>\n",
       "      <td>(obgyn)</td>\n",
       "      <td>(pediatrician, hospital)</td>\n",
       "      <td>0.228365</td>\n",
       "      <td>0.166667</td>\n",
       "      <td>0.099359</td>\n",
       "      <td>0.435088</td>\n",
       "      <td>2.610526</td>\n",
       "      <td>0.061298</td>\n",
       "      <td>1.475155</td>\n",
       "    </tr>\n",
       "    <tr>\n",
       "      <th>970</th>\n",
       "      <td>(pediatrician, hospital)</td>\n",
       "      <td>(obgyn)</td>\n",
       "      <td>0.166667</td>\n",
       "      <td>0.228365</td>\n",
       "      <td>0.099359</td>\n",
       "      <td>0.596154</td>\n",
       "      <td>2.610526</td>\n",
       "      <td>0.061298</td>\n",
       "      <td>1.910714</td>\n",
       "    </tr>\n",
       "    <tr>\n",
       "      <th>1540</th>\n",
       "      <td>(onlineforum, searchengine)</td>\n",
       "      <td>(app)</td>\n",
       "      <td>0.221154</td>\n",
       "      <td>0.103365</td>\n",
       "      <td>0.057692</td>\n",
       "      <td>0.260870</td>\n",
       "      <td>2.523761</td>\n",
       "      <td>0.034833</td>\n",
       "      <td>1.213094</td>\n",
       "    </tr>\n",
       "    <tr>\n",
       "      <th>1541</th>\n",
       "      <td>(app)</td>\n",
       "      <td>(onlineforum, searchengine)</td>\n",
       "      <td>0.103365</td>\n",
       "      <td>0.221154</td>\n",
       "      <td>0.057692</td>\n",
       "      <td>0.558140</td>\n",
       "      <td>2.523761</td>\n",
       "      <td>0.034833</td>\n",
       "      <td>1.762652</td>\n",
       "    </tr>\n",
       "    <tr>\n",
       "      <th>964</th>\n",
       "      <td>(pediatrician, nurse)</td>\n",
       "      <td>(obgyn)</td>\n",
       "      <td>0.205929</td>\n",
       "      <td>0.228365</td>\n",
       "      <td>0.118590</td>\n",
       "      <td>0.575875</td>\n",
       "      <td>2.521728</td>\n",
       "      <td>0.071563</td>\n",
       "      <td>1.819359</td>\n",
       "    </tr>\n",
       "    <tr>\n",
       "      <th>965</th>\n",
       "      <td>(obgyn)</td>\n",
       "      <td>(pediatrician, nurse)</td>\n",
       "      <td>0.228365</td>\n",
       "      <td>0.205929</td>\n",
       "      <td>0.118590</td>\n",
       "      <td>0.519298</td>\n",
       "      <td>2.521728</td>\n",
       "      <td>0.071563</td>\n",
       "      <td>1.651899</td>\n",
       "    </tr>\n",
       "    <tr>\n",
       "      <th>214</th>\n",
       "      <td>(pediatrician, family)</td>\n",
       "      <td>(obgyn)</td>\n",
       "      <td>0.125801</td>\n",
       "      <td>0.228365</td>\n",
       "      <td>0.071314</td>\n",
       "      <td>0.566879</td>\n",
       "      <td>2.482333</td>\n",
       "      <td>0.042585</td>\n",
       "      <td>1.781568</td>\n",
       "    </tr>\n",
       "    <tr>\n",
       "      <th>215</th>\n",
       "      <td>(obgyn)</td>\n",
       "      <td>(pediatrician, family)</td>\n",
       "      <td>0.228365</td>\n",
       "      <td>0.125801</td>\n",
       "      <td>0.071314</td>\n",
       "      <td>0.312281</td>\n",
       "      <td>2.482333</td>\n",
       "      <td>0.042585</td>\n",
       "      <td>1.271156</td>\n",
       "    </tr>\n",
       "    <tr>\n",
       "      <th>438</th>\n",
       "      <td>(pediatrician)</td>\n",
       "      <td>(obgyn, friend)</td>\n",
       "      <td>0.314103</td>\n",
       "      <td>0.108173</td>\n",
       "      <td>0.081731</td>\n",
       "      <td>0.260204</td>\n",
       "      <td>2.405442</td>\n",
       "      <td>0.047753</td>\n",
       "      <td>1.205504</td>\n",
       "    </tr>\n",
       "    <tr>\n",
       "      <th>435</th>\n",
       "      <td>(obgyn, friend)</td>\n",
       "      <td>(pediatrician)</td>\n",
       "      <td>0.108173</td>\n",
       "      <td>0.314103</td>\n",
       "      <td>0.081731</td>\n",
       "      <td>0.755556</td>\n",
       "      <td>2.405442</td>\n",
       "      <td>0.047753</td>\n",
       "      <td>2.805944</td>\n",
       "    </tr>\n",
       "  </tbody>\n",
       "</table>\n",
       "</div>"
      ],
      "text/plain": [
       "                      antecedents                  consequents  \\\n",
       "971                       (obgyn)     (pediatrician, hospital)   \n",
       "970      (pediatrician, hospital)                      (obgyn)   \n",
       "1540  (onlineforum, searchengine)                        (app)   \n",
       "1541                        (app)  (onlineforum, searchengine)   \n",
       "964         (pediatrician, nurse)                      (obgyn)   \n",
       "965                       (obgyn)        (pediatrician, nurse)   \n",
       "214        (pediatrician, family)                      (obgyn)   \n",
       "215                       (obgyn)       (pediatrician, family)   \n",
       "438                (pediatrician)              (obgyn, friend)   \n",
       "435               (obgyn, friend)               (pediatrician)   \n",
       "\n",
       "      antecedent support  consequent support   support  confidence      lift  \\\n",
       "971             0.228365            0.166667  0.099359    0.435088  2.610526   \n",
       "970             0.166667            0.228365  0.099359    0.596154  2.610526   \n",
       "1540            0.221154            0.103365  0.057692    0.260870  2.523761   \n",
       "1541            0.103365            0.221154  0.057692    0.558140  2.523761   \n",
       "964             0.205929            0.228365  0.118590    0.575875  2.521728   \n",
       "965             0.228365            0.205929  0.118590    0.519298  2.521728   \n",
       "214             0.125801            0.228365  0.071314    0.566879  2.482333   \n",
       "215             0.228365            0.125801  0.071314    0.312281  2.482333   \n",
       "438             0.314103            0.108173  0.081731    0.260204  2.405442   \n",
       "435             0.108173            0.314103  0.081731    0.755556  2.405442   \n",
       "\n",
       "      leverage  conviction  \n",
       "971   0.061298    1.475155  \n",
       "970   0.061298    1.910714  \n",
       "1540  0.034833    1.213094  \n",
       "1541  0.034833    1.762652  \n",
       "964   0.071563    1.819359  \n",
       "965   0.071563    1.651899  \n",
       "214   0.042585    1.781568  \n",
       "215   0.042585    1.271156  \n",
       "438   0.047753    1.205504  \n",
       "435   0.047753    2.805944  "
      ]
     },
     "metadata": {},
     "output_type": "display_data"
    },
    {
     "name": "stdout",
     "output_type": "stream",
     "text": [
      "Rules identified:  1550\n"
     ]
    }
   ],
   "source": [
    "display(rules_1.sort_values(by ='lift', ascending=False).head(10))\n",
    "print(\"Rules identified: \", len(rules_1))"
   ]
  },
  {
   "cell_type": "markdown",
   "metadata": {},
   "source": [
    "__Antecedent:__ refers to the items on the LEFT ie., the item which the customer buy.\n",
    "\n",
    "__Consequent:__ refers to the items on the RIGHT ie., the item which the customer follows to buy."
   ]
  },
  {
   "cell_type": "code",
   "execution_count": 23,
   "metadata": {},
   "outputs": [
    {
     "name": "stderr",
     "output_type": "stream",
     "text": [
      "/opt/homebrew/lib/python3.9/site-packages/plotly/io/_renderers.py:396: DeprecationWarning:\n",
      "\n",
      "distutils Version classes are deprecated. Use packaging.version instead.\n",
      "\n",
      "/opt/homebrew/lib/python3.9/site-packages/plotly/io/_renderers.py:396: DeprecationWarning:\n",
      "\n",
      "distutils Version classes are deprecated. Use packaging.version instead.\n",
      "\n"
     ]
    },
    {
     "data": {
      "application/vnd.plotly.v1+json": {
       "config": {
        "plotlyServerURL": "https://plot.ly"
       },
       "data": [
        {
         "hovertemplate": "antecedents=frozenset({'family'})<br>confidence=%{x}<br>support=%{y}<br>lift=%{z}<extra></extra>",
         "legendgroup": "frozenset({'family'})",
         "marker": {
          "color": "#636efa",
          "opacity": 0.7,
          "symbol": "circle"
         },
         "mode": "markers",
         "name": "frozenset({'family'})",
         "scene": "scene",
         "showlegend": true,
         "type": "scatter3d",
         "x": [
          0.5315789473684212,
          0.7447368421052633,
          0.5131578947368421,
          0.6210526315789474,
          0.5078947368421053,
          0.6210526315789474
         ],
         "y": [
          0.16185897435897437,
          0.2267628205128205,
          0.15625,
          0.1891025641025641,
          0.1546474358974359,
          0.1891025641025641
         ],
         "z": [
          1.3402232854864438,
          1.0986188876446437,
          1.2681605002605525,
          1.032055504940781,
          1.0872257831542838,
          1.2706125970664368
         ]
        },
        {
         "hovertemplate": "antecedents=frozenset({'friend'})<br>confidence=%{x}<br>support=%{y}<br>lift=%{z}<extra></extra>",
         "legendgroup": "frozenset({'friend'})",
         "marker": {
          "color": "#EF553B",
          "opacity": 0.7,
          "symbol": "circle"
         },
         "mode": "markers",
         "name": "frozenset({'friend'})",
         "scene": "scene",
         "showlegend": true,
         "type": "scatter3d",
         "x": [
          0.797979797979798,
          0.5191919191919192,
          0.6444444444444444,
          0.5656565656565657,
          0.6282828282828283,
          0.5171717171717172,
          0.5171717171717172
         ],
         "y": [
          0.31650641025641024,
          0.20592948717948717,
          0.25560897435897434,
          0.22435897435897437,
          0.24919871794871795,
          0.20512820512820512,
          0.20512820512820512
         ],
         "z": [
          1.1771616877999858,
          1.283072307230723,
          1.0709276520195294,
          1.2108737460366965,
          1.2854048683556882,
          1.2109386548410939,
          1.4247909559167837
         ]
        },
        {
         "hovertemplate": "antecedents=frozenset({'midwife'})<br>confidence=%{x}<br>support=%{y}<br>lift=%{z}<extra></extra>",
         "legendgroup": "frozenset({'midwife'})",
         "marker": {
          "color": "#00cc96",
          "opacity": 0.7,
          "symbol": "circle"
         },
         "mode": "markers",
         "name": "frozenset({'midwife'})",
         "scene": "scene",
         "showlegend": true,
         "type": "scatter3d",
         "x": [
          0.5030674846625767,
          0.8220858895705521,
          0.558282208588957,
          0.6503067484662577,
          0.5644171779141104,
          0.5276073619631901,
          0.5521472392638036
         ],
         "y": [
          0.06570512820512821,
          0.10737179487179487,
          0.07291666666666667,
          0.08493589743589744,
          0.07371794871794872,
          0.06891025641025642,
          0.07211538461538461
         ],
         "z": [
          1.2683398401189812,
          1.2127224470260625,
          1.379675636275284,
          1.08066953673221,
          1.208220648433636,
          1.0794327667705923,
          1.2928325602274426
         ]
        },
        {
         "hovertemplate": "antecedents=frozenset({'nurse'})<br>confidence=%{x}<br>support=%{y}<br>lift=%{z}<extra></extra>",
         "legendgroup": "frozenset({'nurse'})",
         "marker": {
          "color": "#ab63fa",
          "opacity": 0.7,
          "symbol": "circle"
         },
         "mode": "markers",
         "name": "frozenset({'nurse'})",
         "scene": "scene",
         "showlegend": true,
         "type": "scatter3d",
         "x": [
          0.5089108910891089,
          0.8752475247524752,
          0.5089108910891089,
          0.5683168316831683,
          0.6198019801980198,
          0.5366336633663367,
          0.5900990099009901,
          0.5128712871287129,
          0.5405940594059406,
          0.5287128712871286
         ],
         "y": [
          0.20592948717948717,
          0.3541666666666667,
          0.20592948717948717,
          0.2299679487179487,
          0.25080128205128205,
          0.2171474358974359,
          0.2387820512820513,
          0.2075320512820513,
          0.21875,
          0.21394230769230768
         ],
         "z": [
          1.283072307230723,
          1.29114528474124,
          1.6202061022428773,
          1.6193137121931371,
          1.0299771921266694,
          1.1487458179780243,
          1.2072845317318617,
          1.6711837241165368,
          1.2657812122675685,
          1.4565864533473214
         ]
        },
        {
         "hovertemplate": "antecedents=frozenset({'books'})<br>confidence=%{x}<br>support=%{y}<br>lift=%{z}<extra></extra>",
         "legendgroup": "frozenset({'books'})",
         "marker": {
          "color": "#FFA15A",
          "opacity": 0.7,
          "symbol": "circle"
         },
         "mode": "markers",
         "name": "frozenset({'books'})",
         "scene": "scene",
         "showlegend": true,
         "type": "scatter3d",
         "x": [
          0.6054421768707483,
          0.8299319727891157,
          0.5986394557823129,
          0.564625850340136,
          0.6462585034013605,
          0.5306122448979592,
          0.6802721088435375,
          0.7414965986394557,
          0.5170068027210885,
          0.5578231292517007,
          0.564625850340136,
          0.5918367346938775,
          0.6462585034013605,
          0.5170068027210885,
          0.5442176870748299
         ],
         "y": [
          0.07131410256410256,
          0.09775641025641026,
          0.07051282051282051,
          0.06650641025641026,
          0.07612179487179487,
          0.0625,
          0.08012820512820513,
          0.08733974358974358,
          0.060897435897435896,
          0.06570512820512821,
          0.06650641025641026,
          0.06971153846153846,
          0.07612179487179487,
          0.060897435897435896,
          0.0641025641025641
         ],
         "z": [
          1.5264481550195836,
          1.2242968109229506,
          1.479409981814508,
          1.6087969434349083,
          1.0739422266909426,
          1.5995267672286309,
          1.4562257149858229,
          1.517029106724657,
          1.633479721002325,
          1.575030012004802,
          1.3220507715281233,
          1.6523763867963293,
          1.780420777582556,
          1.5253534037728567,
          1.7967822049454703
         ]
        },
        {
         "hovertemplate": "antecedents=frozenset({'instagram'})<br>confidence=%{x}<br>support=%{y}<br>lift=%{z}<extra></extra>",
         "legendgroup": "frozenset({'instagram'})",
         "marker": {
          "color": "#19d3f3",
          "opacity": 0.7,
          "symbol": "circle"
         },
         "mode": "markers",
         "name": "frozenset({'instagram'})",
         "scene": "scene",
         "showlegend": true,
         "type": "scatter3d",
         "x": [
          0.5146579804560261,
          0.723127035830619,
          0.7654723127035831,
          0.6156351791530944,
          0.5993485342019544,
          0.5667752442996743,
          0.504885993485342
         ],
         "y": [
          0.1266025641025641,
          0.1778846153846154,
          0.18830128205128205,
          0.15144230769230768,
          0.14743589743589744,
          0.13942307692307693,
          0.12419871794871795
         ],
         "z": [
          1.297561938604284,
          1.0667405918636081,
          1.2720498618562872,
          1.3178605550309808,
          1.2262081486623593,
          1.327083498848018,
          1.4895927183681013
         ]
        },
        {
         "hovertemplate": "antecedents=frozenset({'searchengine'})<br>confidence=%{x}<br>support=%{y}<br>lift=%{z}<extra></extra>",
         "legendgroup": "frozenset({'searchengine'})",
         "marker": {
          "color": "#FF6692",
          "opacity": 0.7,
          "symbol": "circle"
         },
         "mode": "markers",
         "name": "frozenset({'searchengine'})",
         "scene": "scene",
         "showlegend": true,
         "type": "scatter3d",
         "x": [
          0.5098360655737705,
          0.7426229508196721,
          0.6934426229508197,
          0.6196721311475409,
          0.5262295081967213
         ],
         "y": [
          0.24919871794871795,
          0.3629807692307692,
          0.3389423076923077,
          0.30288461538461536,
          0.25721153846153844
         ],
         "z": [
          1.285404868355688,
          1.0955005231949773,
          1.1523520551832531,
          1.326502263588561,
          1.2321471411435427
         ]
        },
        {
         "hovertemplate": "antecedents=frozenset({'app'})<br>confidence=%{x}<br>support=%{y}<br>lift=%{z}<extra></extra>",
         "legendgroup": "frozenset({'app'})",
         "marker": {
          "color": "#B6E880",
          "opacity": 0.7,
          "symbol": "circle"
         },
         "mode": "markers",
         "name": "frozenset({'app'})",
         "scene": "scene",
         "showlegend": true,
         "type": "scatter3d",
         "x": [
          0.5116279069767442,
          0.8294573643410853,
          0.5813953488372093,
          0.7131782945736435,
          0.6511627906976745,
          0.6356589147286822,
          0.8139534883720931,
          0.5736434108527132,
          0.6279069767441862,
          0.5658914728682171,
          0.5503875968992248,
          0.7131782945736435,
          0.5116279069767442,
          0.5116279069767442,
          0.6046511627906977,
          0.558139534883721,
          0.5271317829457365
         ],
         "y": [
          0.052884615384615384,
          0.08573717948717949,
          0.06009615384615385,
          0.07371794871794872,
          0.0673076923076923,
          0.06570512820512821,
          0.08413461538461539,
          0.05929487179487179,
          0.06490384615384616,
          0.058493589743589744,
          0.05689102564102564,
          0.07371794871794872,
          0.052884615384615384,
          0.052884615384615384,
          0.0625,
          0.057692307692307696,
          0.05448717948717949
         ],
         "z": [
          1.2899224806201552,
          1.223596679311672,
          1.4367948422749253,
          1.1851484841916207,
          1.9629255139871926,
          1.3607244006541945,
          1.6652687762104463,
          1.6196990424076607,
          1.4702212138400457,
          2.3231334149326806,
          1.5366526195307215,
          1.9647825863750707,
          2.142656469486499,
          2.135490394337715,
          1.7839353455385125,
          2.5237613751263908,
          1.7403716008367174
         ]
        },
        {
         "hovertemplate": "antecedents=frozenset({'pediatrician'})<br>confidence=%{x}<br>support=%{y}<br>lift=%{z}<extra></extra>",
         "legendgroup": "frozenset({'pediatrician'})",
         "marker": {
          "color": "#FF97FF",
          "opacity": 0.7,
          "symbol": "circle"
         },
         "mode": "markers",
         "name": "frozenset({'pediatrician'})",
         "scene": "scene",
         "showlegend": true,
         "type": "scatter3d",
         "x": [
          0.818877551020408,
          0.6556122448979592,
          0.5306122448979592,
          0.6403061224489797,
          0.5153061224489797,
          0.5790816326530612,
          0.5790816326530612,
          0.5229591836734694
         ],
         "y": [
          0.25721153846153844,
          0.20592948717948717,
          0.16666666666666666,
          0.20112179487179488,
          0.16185897435897437,
          0.18189102564102563,
          0.18189102564102563,
          0.1642628205128205
         ],
         "z": [
          1.2079895788102473,
          1.6202061022428773,
          1.5118814649147332,
          1.0640506535503684,
          1.103090979101761,
          1.1847440615590499,
          1.6350540216086433,
          1.2244897959183674
         ]
        },
        {
         "hovertemplate": "antecedents=frozenset({'obgyn'})<br>confidence=%{x}<br>support=%{y}<br>lift=%{z}<extra></extra>",
         "legendgroup": "frozenset({'obgyn'})",
         "marker": {
          "color": "#FECB52",
          "opacity": 0.7,
          "symbol": "circle"
         },
         "mode": "markers",
         "name": "frozenset({'obgyn'})",
         "scene": "scene",
         "showlegend": true,
         "type": "scatter3d",
         "x": [
          0.8526315789473684,
          0.6701754385964913,
          0.7157894736842105,
          0.5964912280701754,
          0.656140350877193,
          0.5719298245614035,
          0.568421052631579,
          0.6456140350877193,
          0.5298245614035088,
          0.568421052631579,
          0.5017543859649123,
          0.519298245614035
         ],
         "y": [
          0.19471153846153846,
          0.1530448717948718,
          0.16346153846153846,
          0.1362179487179487,
          0.14983974358974358,
          0.13060897435897437,
          0.12980769230769232,
          0.14743589743589744,
          0.12099358974358974,
          0.12980769230769232,
          0.11458333333333333,
          0.11858974358974358
         ],
         "z": [
          1.2577827547592384,
          2.133619763694952,
          1.7689213131839499,
          1.6995914443643356,
          1.090363725558904,
          1.1701121656600517,
          2.209936055090999,
          1.8229102167182663,
          1.726425724886629,
          1.330937098844673,
          1.382316718949692,
          2.5217284456276876
         ]
        },
        {
         "hovertemplate": "antecedents=frozenset({'doula'})<br>confidence=%{x}<br>support=%{y}<br>lift=%{z}<extra></extra>",
         "legendgroup": "frozenset({'doula'})",
         "marker": {
          "color": "#636efa",
          "opacity": 0.7,
          "symbol": "circle"
         },
         "mode": "markers",
         "name": "frozenset({'doula'})",
         "scene": "scene",
         "showlegend": true,
         "type": "scatter3d",
         "x": [
          0.7901234567901234
         ],
         "y": [
          0.05128205128205128
         ],
         "z": [
          1.1655721915769195
         ]
        },
        {
         "hovertemplate": "antecedents=frozenset({'lactationconsult'})<br>confidence=%{x}<br>support=%{y}<br>lift=%{z}<extra></extra>",
         "legendgroup": "frozenset({'lactationconsult'})",
         "marker": {
          "color": "#EF553B",
          "opacity": 0.7,
          "symbol": "circle"
         },
         "mode": "markers",
         "name": "frozenset({'lactationconsult'})",
         "scene": "scene",
         "showlegend": true,
         "type": "scatter3d",
         "x": [
          0.5224586288416075,
          0.6300236406619385,
          0.5283687943262411,
          0.5354609929078014
         ],
         "y": [
          0.3541666666666667,
          0.4270833333333333,
          0.3581730769230769,
          0.3629807692307692
         ],
         "z": [
          1.29114528474124,
          1.0469633868789605,
          1.1310536111820735,
          1.0955005231949773
         ]
        },
        {
         "hovertemplate": "antecedents=frozenset({'wic'})<br>confidence=%{x}<br>support=%{y}<br>lift=%{z}<extra></extra>",
         "legendgroup": "frozenset({'wic'})",
         "marker": {
          "color": "#00cc96",
          "opacity": 0.7,
          "symbol": "circle"
         },
         "mode": "markers",
         "name": "frozenset({'wic'})",
         "scene": "scene",
         "showlegend": true,
         "type": "scatter3d",
         "x": [
          0.794392523364486,
          0.5233644859813084,
          0.6682242990654206,
          0.5140186915887851,
          0.5373831775700935
         ],
         "y": [
          0.1362179487179487,
          0.08974358974358974,
          0.11458333333333333,
          0.08814102564102565,
          0.0921474358974359
         ],
         "z": [
          1.171869821700802,
          1.2933839178310353,
          1.1104446407904727,
          1.0516316837750883,
          1.258263049920219
         ]
        },
        {
         "hovertemplate": "antecedents=frozenset({'hospital'})<br>confidence=%{x}<br>support=%{y}<br>lift=%{z}<extra></extra>",
         "legendgroup": "frozenset({'hospital'})",
         "marker": {
          "color": "#ab63fa",
          "opacity": 0.7,
          "symbol": "circle"
         },
         "mode": "markers",
         "name": "frozenset({'hospital'})",
         "scene": "scene",
         "showlegend": true,
         "type": "scatter3d",
         "x": [
          0.8744292237442923,
          0.6552511415525114,
          0.6415525114155252,
          0.5342465753424658,
          0.5684931506849316,
          0.5913242009132421,
          0.5684931506849316,
          0.5
         ],
         "y": [
          0.30689102564102566,
          0.2299679487179487,
          0.22516025641025642,
          0.1875,
          0.19951923076923078,
          0.2075320512820513,
          0.19951923076923078,
          0.17548076923076922
         ],
         "z": [
          1.289938145665339,
          1.6193137121931371,
          1.0661218831512322,
          1.14363589370051,
          1.1630810689422861,
          1.6696212731668012,
          1.3311059137988641,
          1.3774834437086094
         ]
        },
        {
         "hovertemplate": "antecedents=frozenset({'facebook'})<br>confidence=%{x}<br>support=%{y}<br>lift=%{z}<extra></extra>",
         "legendgroup": "frozenset({'facebook'})",
         "marker": {
          "color": "#FFA15A",
          "opacity": 0.7,
          "symbol": "circle"
         },
         "mode": "markers",
         "name": "frozenset({'facebook'})",
         "scene": "scene",
         "showlegend": true,
         "type": "scatter3d",
         "x": [
          0.7097203728362184,
          0.563249001331558,
          0.563249001331558
         ],
         "y": [
          0.4270833333333333,
          0.3389423076923077,
          0.3389423076923077
         ],
         "z": [
          1.0469633868789603,
          1.205719989128275,
          1.1523520551832531
         ]
        },
        {
         "hovertemplate": "antecedents=frozenset({'pinterest'})<br>confidence=%{x}<br>support=%{y}<br>lift=%{z}<extra></extra>",
         "legendgroup": "frozenset({'pinterest'})",
         "marker": {
          "color": "#19d3f3",
          "opacity": 0.7,
          "symbol": "circle"
         },
         "mode": "markers",
         "name": "frozenset({'pinterest'})",
         "scene": "scene",
         "showlegend": true,
         "type": "scatter3d",
         "x": [
          0.6986754966887417,
          0.7052980132450332,
          0.5662251655629139,
          0.5165562913907285
         ],
         "y": [
          0.16907051282051283,
          0.17067307692307693,
          0.13701923076923078,
          0.125
         ],
         "z": [
          1.0306702362500586,
          1.1720531564977383,
          1.158440994463142,
          1.2094976578904861
         ]
        },
        {
         "hovertemplate": "antecedents=frozenset({'onlineforum'})<br>confidence=%{x}<br>support=%{y}<br>lift=%{z}<extra></extra>",
         "legendgroup": "frozenset({'onlineforum'})",
         "marker": {
          "color": "#FF6692",
          "opacity": 0.7,
          "symbol": "circle"
         },
         "mode": "markers",
         "name": "frozenset({'onlineforum'})",
         "scene": "scene",
         "showlegend": true,
         "type": "scatter3d",
         "x": [
          0.7342995169082126,
          0.7222222222222223,
          0.6473429951690821,
          0.6666666666666666,
          0.5410628019323672,
          0.5120772946859904,
          0.5096618357487923,
          0.5
         ],
         "y": [
          0.24358974358974358,
          0.23958333333333334,
          0.21474358974358973,
          0.22115384615384615,
          0.1794871794871795,
          0.16987179487179488,
          0.16907051282051283,
          0.1658653846153846
         ],
         "z": [
          1.08322198238942,
          1.2001775410563695,
          1.3857359484923062,
          1.3639344262295081,
          1.2668787557440795,
          1.429692312680349,
          1.404101481268196,
          1.475177304964539
         ]
        },
        {
         "hovertemplate": "antecedents=frozenset({'websites'})<br>confidence=%{x}<br>support=%{y}<br>lift=%{z}<extra></extra>",
         "legendgroup": "frozenset({'websites'})",
         "marker": {
          "color": "#B6E880",
          "opacity": 0.7,
          "symbol": "circle"
         },
         "mode": "markers",
         "name": "frozenset({'websites'})",
         "scene": "scene",
         "showlegend": true,
         "type": "scatter3d",
         "x": [
          0.7667238421955404,
          0.725557461406518,
          0.6483704974271012,
          0.5540308747855918,
          0.5180102915951973
         ],
         "y": [
          0.3581730769230769,
          0.3389423076923077,
          0.30288461538461536,
          0.2588141025641026,
          0.2419871794871795
         ],
         "z": [
          1.1310536111820737,
          1.205719989128275,
          1.326502263588561,
          1.2972430238882149,
          1.4271012006861066
         ]
        },
        {
         "hovertemplate": "antecedents=frozenset({'lactationconsult', 'family'})<br>confidence=%{x}<br>support=%{y}<br>lift=%{z}<extra></extra>",
         "legendgroup": "frozenset({'lactationconsult', 'family'})",
         "marker": {
          "color": "#FF97FF",
          "opacity": 0.7,
          "symbol": "circle"
         },
         "mode": "markers",
         "name": "frozenset({'lactationconsult', 'family'})",
         "scene": "scene",
         "showlegend": true,
         "type": "scatter3d",
         "x": [
          0.5865724381625441,
          0.5901060070671378,
          0.5123674911660777,
          0.6537102473498233,
          0.5512367491166078,
          0.6643109540636042
         ],
         "y": [
          0.1330128205128205,
          0.13381410256410256,
          0.11618589743589744,
          0.1482371794871795,
          0.125,
          0.15064102564102563
         ],
         "z": [
          1.4788735410643536,
          1.4583213798411643,
          1.4598964131855365,
          1.0863254176998396,
          1.1800059397899254,
          1.3591148699530788
         ]
        },
        {
         "hovertemplate": "antecedents=frozenset({'friend', 'family'})<br>confidence=%{x}<br>support=%{y}<br>lift=%{z}<extra></extra>",
         "legendgroup": "frozenset({'friend', 'family'})",
         "marker": {
          "color": "#FECB52",
          "opacity": 0.7,
          "symbol": "circle"
         },
         "mode": "markers",
         "name": "frozenset({'friend', 'family'})",
         "scene": "scene",
         "showlegend": true,
         "type": "scatter3d",
         "x": [
          0.8217821782178217,
          0.6138613861386137,
          0.504950495049505,
          0.6237623762376238,
          0.5643564356435643,
          0.7079207920792079
         ],
         "y": [
          0.1330128205128205,
          0.09935897435897435,
          0.08173076923076923,
          0.10096153846153846,
          0.09134615384615384,
          0.11458333333333333
         ],
         "z": [
          1.2122744189312546,
          1.517027742378198,
          1.4387630543876306,
          1.036558516038022,
          1.2080906203827928,
          1.4483363090407402
         ]
        },
        {
         "hovertemplate": "antecedents=frozenset({'pediatrician', 'family'})<br>confidence=%{x}<br>support=%{y}<br>lift=%{z}<extra></extra>",
         "legendgroup": "frozenset({'pediatrician', 'family'})",
         "marker": {
          "color": "#636efa",
          "opacity": 0.7,
          "symbol": "circle"
         },
         "mode": "markers",
         "name": "frozenset({'pediatrician', 'family'})",
         "scene": "scene",
         "showlegend": true,
         "type": "scatter3d",
         "x": [
          0.5923566878980892,
          0.8152866242038217,
          0.5668789808917197,
          0.7070063694267517,
          0.554140127388535,
          0.6687898089171975,
          0.5668789808917197,
          0.7070063694267517
         ],
         "y": [
          0.07451923076923077,
          0.10256410256410256,
          0.07131410256410256,
          0.0889423076923077,
          0.06971153846153846,
          0.08413461538461539,
          0.07131410256410256,
          0.0889423076923077
         ],
         "z": [
          1.493456861609728,
          1.2026923250666306,
          2.482333221589004,
          1.7472157406823485,
          1.5789198150248671,
          1.1113843961766479,
          1.2134905114114343,
          1.4464654902370264
         ]
        },
        {
         "hovertemplate": "antecedents=frozenset({'obgyn', 'friend'})<br>confidence=%{x}<br>support=%{y}<br>lift=%{z}<extra></extra>",
         "legendgroup": "frozenset({'obgyn', 'friend'})",
         "marker": {
          "color": "#EF553B",
          "opacity": 0.7,
          "symbol": "circle"
         },
         "mode": "markers",
         "name": "frozenset({'obgyn', 'friend'})",
         "scene": "scene",
         "showlegend": true,
         "type": "scatter3d",
         "x": [
          0.5407407407407407,
          0.8592592592592593,
          0.7555555555555555,
          0.7555555555555555,
          0.6518518518518518,
          0.6888888888888889,
          0.5111111111111111,
          0.5777777777777777,
          0.6666666666666666
         ],
         "y": [
          0.058493589743589744,
          0.09294871794871795,
          0.08173076923076923,
          0.08173076923076923,
          0.07051282051282051,
          0.07451923076923077,
          0.055288461538461536,
          0.0625,
          0.07211538461538461
         ],
         "z": [
          1.775906432748538,
          1.2675597583399,
          2.405442176870748,
          1.8671947194719472,
          1.8573313039066464,
          1.1447847314691524,
          1.5407407407407407,
          1.2368210405946254,
          1.3639344262295081
         ]
        },
        {
         "hovertemplate": "antecedents=frozenset({'obgyn', 'family'})<br>confidence=%{x}<br>support=%{y}<br>lift=%{z}<extra></extra>",
         "legendgroup": "frozenset({'obgyn', 'family'})",
         "marker": {
          "color": "#00cc96",
          "opacity": 0.7,
          "symbol": "circle"
         },
         "mode": "markers",
         "name": "frozenset({'obgyn', 'family'})",
         "scene": "scene",
         "showlegend": true,
         "type": "scatter3d",
         "x": [
          0.6134453781512605,
          0.8487394957983194,
          0.7478991596638656,
          0.7478991596638656,
          0.6302521008403362,
          0.7058823529411765,
          0.5294117647058824,
          0.5630252100840336,
          0.7226890756302522
         ],
         "y": [
          0.058493589743589744,
          0.08092948717948718,
          0.07131410256410256,
          0.07131410256410256,
          0.06009615384615385,
          0.0673076923076923,
          0.05048076923076923,
          0.05368589743589743,
          0.06891025641025642
         ],
         "z": [
          1.5466259230965116,
          1.2520412420287264,
          2.3810667123992455,
          1.8482735668524835,
          1.7957868078738348,
          1.17302420302342,
          1.595907928388747,
          1.2052409299912075,
          1.4785507645681226
         ]
        },
        {
         "hovertemplate": "antecedents=frozenset({'nurse', 'family'})<br>confidence=%{x}<br>support=%{y}<br>lift=%{z}<extra></extra>",
         "legendgroup": "frozenset({'nurse', 'family'})",
         "marker": {
          "color": "#ab63fa",
          "opacity": 0.7,
          "symbol": "circle"
         },
         "mode": "markers",
         "name": "frozenset({'nurse', 'family'})",
         "scene": "scene",
         "showlegend": true,
         "type": "scatter3d",
         "x": [
          0.6358974358974359,
          0.8564102564102564,
          0.5692307692307692,
          0.6205128205128205,
          0.6410256410256411,
          0.5743589743589743,
          0.717948717948718
         ],
         "y": [
          0.09935897435897435,
          0.13381410256410256,
          0.0889423076923077,
          0.09695512820512821,
          0.10016025641025642,
          0.08974358974358974,
          0.11217948717948718
         ],
         "z": [
          1.6032323232323231,
          1.2633569739952717,
          1.8122448979591836,
          1.7680365296803655,
          1.0652463382157125,
          1.2295025728987992,
          1.4688524590163934
         ]
        },
        {
         "hovertemplate": "antecedents=frozenset({'family', 'hospital'})<br>confidence=%{x}<br>support=%{y}<br>lift=%{z}<extra></extra>",
         "legendgroup": "frozenset({'family', 'hospital'})",
         "marker": {
          "color": "#FFA15A",
          "opacity": 0.7,
          "symbol": "circle"
         },
         "mode": "markers",
         "name": "frozenset({'family', 'hospital'})",
         "scene": "scene",
         "showlegend": true,
         "type": "scatter3d",
         "x": [
          0.6107784431137725,
          0.8682634730538923,
          0.5209580838323353,
          0.7245508982035929,
          0.6886227544910181,
          0.5808383233532934,
          0.6766467065868264
         ],
         "y": [
          0.08173076923076923,
          0.11618589743589744,
          0.06971153846153846,
          0.09695512820512821,
          0.0921474358974359,
          0.07772435897435898,
          0.09054487179487179
         ],
         "z": [
          1.5399020141535114,
          1.2808425701787913,
          1.658560430160088,
          1.7905733088278888,
          1.1443424735083763,
          1.243372602992985,
          1.3843526062628841
         ]
        },
        {
         "hovertemplate": "antecedents=frozenset({'facebook', 'family'})<br>confidence=%{x}<br>support=%{y}<br>lift=%{z}<extra></extra>",
         "legendgroup": "frozenset({'facebook', 'family'})",
         "marker": {
          "color": "#19d3f3",
          "opacity": 0.7,
          "symbol": "circle"
         },
         "mode": "markers",
         "name": "frozenset({'facebook', 'family'})",
         "scene": "scene",
         "showlegend": true,
         "type": "scatter3d",
         "x": [
          0.5338983050847458,
          0.7838983050847458,
          0.5296610169491526,
          0.5932203389830509,
          0.6864406779661018
         ],
         "y": [
          0.10096153846153846,
          0.1482371794871795,
          0.10016025641025642,
          0.11217948717948718,
          0.12980769230769232
         ],
         "z": [
          1.3460708782742683,
          1.1563889890611851,
          1.3089444537674106,
          1.2698781870511966,
          1.4043901083634345
         ]
        },
        {
         "hovertemplate": "antecedents=frozenset({'instagram', 'family'})<br>confidence=%{x}<br>support=%{y}<br>lift=%{z}<extra></extra>",
         "legendgroup": "frozenset({'instagram', 'family'})",
         "marker": {
          "color": "#FF6692",
          "opacity": 0.7,
          "symbol": "circle"
         },
         "mode": "markers",
         "name": "frozenset({'instagram', 'family'})",
         "scene": "scene",
         "showlegend": true,
         "type": "scatter3d",
         "x": [
          0.6597938144329897,
          0.7835051546391752,
          0.7319587628865979,
          0.7010309278350515
         ],
         "y": [
          0.05128205128205128,
          0.060897435897435896,
          0.05689102564102564,
          0.05448717948717949
         ],
         "z": [
          1.6634801624492346,
          1.1558090224464428,
          1.216357571348168,
          1.4342403244887612
         ]
        },
        {
         "hovertemplate": "antecedents=frozenset({'onlineforum', 'family'})<br>confidence=%{x}<br>support=%{y}<br>lift=%{z}<extra></extra>",
         "legendgroup": "frozenset({'onlineforum', 'family'})",
         "marker": {
          "color": "#B6E880",
          "opacity": 0.7,
          "symbol": "circle"
         },
         "mode": "markers",
         "name": "frozenset({'onlineforum', 'family'})",
         "scene": "scene",
         "showlegend": true,
         "type": "scatter3d",
         "x": [
          0.5466666666666666,
          0.78,
          0.58,
          0.7133333333333334,
          0.6933333333333332,
          0.78
         ],
         "y": [
          0.06570512820512821,
          0.09375,
          0.06971153846153846,
          0.08573717948717949,
          0.08333333333333333,
          0.09375
         ],
         "z": [
          1.3782626262626263,
          1.1506382978723404,
          1.4333465346534653,
          1.185406125166445,
          1.4841852487135503,
          1.5958032786885248
         ]
        },
        {
         "hovertemplate": "antecedents=frozenset({'family', 'websites'})<br>confidence=%{x}<br>support=%{y}<br>lift=%{z}<extra></extra>",
         "legendgroup": "frozenset({'family', 'websites'})",
         "marker": {
          "color": "#FF97FF",
          "opacity": 0.7,
          "symbol": "circle"
         },
         "mode": "markers",
         "name": "frozenset({'family', 'websites'})",
         "scene": "scene",
         "showlegend": true,
         "type": "scatter3d",
         "x": [
          0.5906735751295337,
          0.8082901554404145,
          0.5803108808290155,
          0.5025906735751295,
          0.7253886010362695,
          0.5388601036269429,
          0.7875647668393781
         ],
         "y": [
          0.09134615384615384,
          0.125,
          0.08974358974358974,
          0.07772435897435898,
          0.11217948717948718,
          0.08333333333333333,
          0.12179487179487179
         ],
         "z": [
          1.489213377296279,
          1.192371293131959,
          1.434114810444775,
          1.432039179501739,
          1.2054393796181948,
          1.6243898776000598,
          1.6112800475664655
         ]
        },
        {
         "hovertemplate": "antecedents=frozenset({'family', 'searchengine'})<br>confidence=%{x}<br>support=%{y}<br>lift=%{z}<extra></extra>",
         "legendgroup": "frozenset({'family', 'searchengine'})",
         "marker": {
          "color": "#FECB52",
          "opacity": 0.7,
          "symbol": "circle"
         },
         "mode": "markers",
         "name": "frozenset({'family', 'searchengine'})",
         "scene": "scene",
         "showlegend": true,
         "type": "scatter3d",
         "x": [
          0.6059322033898304,
          0.7966101694915254,
          0.5932203389830509,
          0.6864406779661018,
          0.6440677966101696
         ],
         "y": [
          0.11458333333333333,
          0.15064102564102563,
          0.11217948717948718,
          0.12980769230769232,
          0.12179487179487179
         ],
         "z": [
          1.5276836158192089,
          1.175141242937853,
          1.4660177882195,
          1.1407163330248935,
          1.3787248887984418
         ]
        },
        {
         "hovertemplate": "antecedents=frozenset({'pinterest', 'family'})<br>confidence=%{x}<br>support=%{y}<br>lift=%{z}<extra></extra>",
         "legendgroup": "frozenset({'pinterest', 'family'})",
         "marker": {
          "color": "#636efa",
          "opacity": 0.7,
          "symbol": "circle"
         },
         "mode": "markers",
         "name": "frozenset({'pinterest', 'family'})",
         "scene": "scene",
         "showlegend": true,
         "type": "scatter3d",
         "x": [
          0.7659574468085107
         ],
         "y": [
          0.057692307692307696
         ],
         "z": [
          1.129923042100498
         ]
        },
        {
         "hovertemplate": "antecedents=frozenset({'obgyn', 'onlineforum'})<br>confidence=%{x}<br>support=%{y}<br>lift=%{z}<extra></extra>",
         "legendgroup": "frozenset({'obgyn', 'onlineforum'})",
         "marker": {
          "color": "#EF553B",
          "opacity": 0.7,
          "symbol": "circle"
         },
         "mode": "markers",
         "name": "frozenset({'obgyn', 'onlineforum'})",
         "scene": "scene",
         "showlegend": true,
         "type": "scatter3d",
         "x": [
          0.504,
          0.5519999999999999,
          0.848,
          0.7199999999999999,
          0.736,
          0.656,
          0.7599999999999999,
          0.6399999999999999,
          0.736
         ],
         "y": [
          0.05048076923076923,
          0.055288461538461536,
          0.08493589743589744,
          0.07211538461538461,
          0.07371794871794872,
          0.06570512820512821,
          0.07612179487179487,
          0.0641025641025641,
          0.07371794871794872
         ],
         "z": [
          1.655242105263158,
          1.3917090909090908,
          1.250950354609929,
          2.292244897959183,
          1.8188673267326732,
          1.8691506849315072,
          1.2629560585885484,
          1.370017152658662,
          1.505783606557377
         ]
        },
        {
         "hovertemplate": "antecedents=frozenset({'obgyn', 'websites'})<br>confidence=%{x}<br>support=%{y}<br>lift=%{z}<extra></extra>",
         "legendgroup": "frozenset({'obgyn', 'websites'})",
         "marker": {
          "color": "#00cc96",
          "opacity": 0.7,
          "symbol": "circle"
         },
         "mode": "markers",
         "name": "frozenset({'obgyn', 'websites'})",
         "scene": "scene",
         "showlegend": true,
         "type": "scatter3d",
         "x": [
          0.5153846153846153,
          0.6,
          0.8923076923076922,
          0.7461538461538462,
          0.7384615384615385,
          0.6615384615384615,
          0.7692307692307693,
          0.6153846153846153,
          0.7461538461538462
         ],
         "y": [
          0.05368589743589743,
          0.0625,
          0.09294871794871795,
          0.07772435897435898,
          0.07692307692307693,
          0.06891025641025642,
          0.08012820512820513,
          0.0641025641025641,
          0.07772435897435898
         ],
         "z": [
          1.6926315789473685,
          1.5127272727272727,
          1.3163120567375886,
          2.3755102040816327,
          1.824950495049505,
          1.884931506849315,
          1.278295605858855,
          1.8550724637681157,
          1.5265573770491805
         ]
        },
        {
         "hovertemplate": "antecedents=frozenset({'obgyn', 'searchengine'})<br>confidence=%{x}<br>support=%{y}<br>lift=%{z}<extra></extra>",
         "legendgroup": "frozenset({'obgyn', 'searchengine'})",
         "marker": {
          "color": "#ab63fa",
          "opacity": 0.7,
          "symbol": "circle"
         },
         "mode": "markers",
         "name": "frozenset({'obgyn', 'searchengine'})",
         "scene": "scene",
         "showlegend": true,
         "type": "scatter3d",
         "x": [
          0.5276073619631901,
          0.5521472392638036,
          0.8773006134969324,
          0.7177914110429447,
          0.7607361963190183,
          0.6319018404907975,
          0.7484662576687116,
          0.5644171779141104,
          0.5950920245398773
         ],
         "y": [
          0.06891025641025642,
          0.07211538461538461,
          0.11458333333333333,
          0.09375,
          0.09935897435897435,
          0.08253205128205128,
          0.09775641025641026,
          0.07371794871794872,
          0.07772435897435898
         ],
         "z": [
          1.732773651921214,
          1.392080312325711,
          1.2941739546621414,
          2.285213471891824,
          1.879997570309178,
          1.8004874359189846,
          1.243789466804996,
          1.7014314928425358,
          1.273884814109377
         ]
        },
        {
         "hovertemplate": "antecedents=frozenset({'pediatrician', 'lactationconsult'})<br>confidence=%{x}<br>support=%{y}<br>lift=%{z}<extra></extra>",
         "legendgroup": "frozenset({'pediatrician', 'lactationconsult'})",
         "marker": {
          "color": "#FFA15A",
          "opacity": 0.7,
          "symbol": "circle"
         },
         "mode": "markers",
         "name": "frozenset({'pediatrician', 'lactationconsult'})",
         "scene": "scene",
         "showlegend": true,
         "type": "scatter3d",
         "x": [
          0.5171339563862929,
          0.5046728971962617,
          0.707165109034268,
          0.5700934579439253,
          0.6386292834890966,
          0.545171339563863,
          0.5919003115264797
         ],
         "y": [
          0.1330128205128205,
          0.12980769230769232,
          0.18189102564102563,
          0.1466346153846154,
          0.1642628205128205,
          0.14022435897435898,
          0.15224358974358973
         ],
         "z": [
          1.3038043991315023,
          2.2099360550909988,
          1.7476080318312206,
          1.6243758801689927,
          1.0612641089139716,
          1.167022009906863,
          1.2109698176804045
         ]
        },
        {
         "hovertemplate": "antecedents=frozenset({'pediatrician', 'friend'})<br>confidence=%{x}<br>support=%{y}<br>lift=%{z}<extra></extra>",
         "legendgroup": "frozenset({'pediatrician', 'friend'})",
         "marker": {
          "color": "#19d3f3",
          "opacity": 0.7,
          "symbol": "circle"
         },
         "mode": "markers",
         "name": "frozenset({'pediatrician', 'friend'})",
         "scene": "scene",
         "showlegend": true,
         "type": "scatter3d",
         "x": [
          0.8601036269430051,
          0.5284974093264249,
          0.6839378238341969,
          0.5854922279792746,
          0.6735751295336787,
          0.5854922279792746,
          0.6787564766839378
         ],
         "y": [
          0.1330128205128205,
          0.08173076923076923,
          0.10576923076923077,
          0.09054487179487179,
          0.10416666666666667,
          0.09054487179487179,
          0.10496794871794872
         ],
         "z": [
          1.2688053503840075,
          2.314262339787292,
          1.690206740881342,
          1.6682518276669742,
          1.1193365667883237,
          1.2533349923124093,
          1.388668988363204
         ]
        },
        {
         "hovertemplate": "antecedents=frozenset({'lactationconsult', 'midwife'})<br>confidence=%{x}<br>support=%{y}<br>lift=%{z}<extra></extra>",
         "legendgroup": "frozenset({'lactationconsult', 'midwife'})",
         "marker": {
          "color": "#FF6692",
          "opacity": 0.7,
          "symbol": "circle"
         },
         "mode": "markers",
         "name": "frozenset({'lactationconsult', 'midwife'})",
         "scene": "scene",
         "showlegend": true,
         "type": "scatter3d",
         "x": [
          0.5149253731343284,
          0.582089552238806,
          0.6716417910447761,
          0.5970149253731343,
          0.5671641791044776
         ],
         "y": [
          0.055288461538461536,
          0.0625,
          0.07211538461538461,
          0.0641025641025641,
          0.060897435897435896
         ],
         "z": [
          1.2982360922659433,
          1.4385104182059998,
          1.116123775264821,
          1.2780010752412891,
          1.1603621238071935
         ]
        },
        {
         "hovertemplate": "antecedents=frozenset({'midwife', 'friend'})<br>confidence=%{x}<br>support=%{y}<br>lift=%{z}<extra></extra>",
         "legendgroup": "frozenset({'midwife', 'friend'})",
         "marker": {
          "color": "#B6E880",
          "opacity": 0.7,
          "symbol": "circle"
         },
         "mode": "markers",
         "name": "frozenset({'midwife', 'friend'})",
         "scene": "scene",
         "showlegend": true,
         "type": "scatter3d",
         "x": [
          0.8414634146341463
         ],
         "y": [
          0.055288461538461536
         ],
         "z": [
          1.2413077322262582
         ]
        },
        {
         "hovertemplate": "antecedents=frozenset({'lactationconsult', 'nurse'})<br>confidence=%{x}<br>support=%{y}<br>lift=%{z}<extra></extra>",
         "legendgroup": "frozenset({'lactationconsult', 'nurse'})",
         "marker": {
          "color": "#FF97FF",
          "opacity": 0.7,
          "symbol": "circle"
         },
         "mode": "markers",
         "name": "frozenset({'lactationconsult', 'nurse'})",
         "scene": "scene",
         "showlegend": true,
         "type": "scatter3d",
         "x": [
          0.5226244343891403,
          0.5135746606334841,
          0.5859728506787331,
          0.6176470588235293,
          0.5520361990950226,
          0.6040723981900452
         ],
         "y": [
          0.18509615384615385,
          0.18189102564102563,
          0.2075320512820513,
          0.21875,
          0.1955128205128205,
          0.21394230769230768
         ],
         "z": [
          1.3176470588235296,
          1.6350540216086433,
          1.6696212731668012,
          1.0263961776454922,
          1.1817172838260517,
          1.2358727097396336
         ]
        },
        {
         "hovertemplate": "antecedents=frozenset({'lactationconsult', 'friend'})<br>confidence=%{x}<br>support=%{y}<br>lift=%{z}<extra></extra>",
         "legendgroup": "frozenset({'lactationconsult', 'friend'})",
         "marker": {
          "color": "#FECB52",
          "opacity": 0.7,
          "symbol": "circle"
         },
         "mode": "markers",
         "name": "frozenset({'lactationconsult', 'friend'})",
         "scene": "scene",
         "showlegend": true,
         "type": "scatter3d",
         "x": [
          0.5848101265822785,
          0.5037974683544304,
          0.6481012658227848,
          0.5949367088607596,
          0.6481012658227848
         ],
         "y": [
          0.18509615384615385,
          0.1594551282051282,
          0.20512820512820512,
          0.18830128205128205,
          0.20512820512820512
         ],
         "z": [
          1.4452337385637297,
          1.43547771805098,
          1.0770045003286757,
          1.2735523373211457,
          1.325951442207927
         ]
        },
        {
         "hovertemplate": "antecedents=frozenset({'nurse', 'friend'})<br>confidence=%{x}<br>support=%{y}<br>lift=%{z}<extra></extra>",
         "legendgroup": "frozenset({'nurse', 'friend'})",
         "marker": {
          "color": "#636efa",
          "opacity": 0.7,
          "symbol": "circle"
         },
         "mode": "markers",
         "name": "frozenset({'nurse', 'friend'})",
         "scene": "scene",
         "showlegend": true,
         "type": "scatter3d",
         "x": [
          0.8988326848249029,
          0.5136186770428016,
          0.5758754863813229,
          0.6498054474708171,
          0.6070038910505837,
          0.6848249027237354
         ],
         "y": [
          0.18509615384615385,
          0.10576923076923077,
          0.11858974358974358,
          0.13381410256410256,
          0.125,
          0.14102564102564102
         ],
         "z": [
          1.325937577614041,
          1.6351941554832052,
          1.6408507009221256,
          1.0798364826146203,
          1.2993839726091398,
          1.4010843911462654
         ]
        },
        {
         "hovertemplate": "antecedents=frozenset({'friend', 'wic'})<br>confidence=%{x}<br>support=%{y}<br>lift=%{z}<extra></extra>",
         "legendgroup": "frozenset({'friend', 'wic'})",
         "marker": {
          "color": "#EF553B",
          "opacity": 0.7,
          "symbol": "circle"
         },
         "mode": "markers",
         "name": "frozenset({'friend', 'wic'})",
         "scene": "scene",
         "showlegend": true,
         "type": "scatter3d",
         "x": [
          0.8441558441558441
         ],
         "y": [
          0.052083333333333336
         ],
         "z": [
          1.2452795431518835
         ]
        },
        {
         "hovertemplate": "antecedents=frozenset({'lactationconsult', 'hospital'})<br>confidence=%{x}<br>support=%{y}<br>lift=%{z}<extra></extra>",
         "legendgroup": "frozenset({'lactationconsult', 'hospital'})",
         "marker": {
          "color": "#00cc96",
          "opacity": 0.7,
          "symbol": "circle"
         },
         "mode": "markers",
         "name": "frozenset({'lactationconsult', 'hospital'})",
         "scene": "scene",
         "showlegend": true,
         "type": "scatter3d",
         "x": [
          0.5195822454308093,
          0.6762402088772846,
          0.6501305483028721,
          0.5509138381201044,
          0.5718015665796344
         ],
         "y": [
          0.1594551282051282,
          0.2075320512820513,
          0.19951923076923078,
          0.16907051282051283,
          0.17548076923076922
         ],
         "z": [
          1.3099770551467678,
          1.671183724116537,
          1.0803767300692202,
          1.1793146997836883,
          1.1698497624448914
         ]
        },
        {
         "hovertemplate": "antecedents=frozenset({'friend', 'hospital'})<br>confidence=%{x}<br>support=%{y}<br>lift=%{z}<extra></extra>",
         "legendgroup": "frozenset({'friend', 'hospital'})",
         "marker": {
          "color": "#ab63fa",
          "opacity": 0.7,
          "symbol": "circle"
         },
         "mode": "markers",
         "name": "frozenset({'friend', 'hospital'})",
         "scene": "scene",
         "showlegend": true,
         "type": "scatter3d",
         "x": [
          0.9128440366972477,
          0.518348623853211,
          0.6788990825688074,
          0.6559633027522936,
          0.6238532110091743,
          0.6697247706422019
         ],
         "y": [
          0.1594551282051282,
          0.09054487179487179,
          0.11858974358974358,
          0.11458333333333333,
          0.10897435897435898,
          0.11698717948717949
         ],
         "z": [
          1.3466068059079965,
          1.6502527616551208,
          1.6777545644472704,
          1.0900695097667943,
          1.3354524997246133,
          1.370191006166341
         ]
        },
        {
         "hovertemplate": "antecedents=frozenset({'lactationconsult', 'books'})<br>confidence=%{x}<br>support=%{y}<br>lift=%{z}<extra></extra>",
         "legendgroup": "frozenset({'lactationconsult', 'books'})",
         "marker": {
          "color": "#FFA15A",
          "opacity": 0.7,
          "symbol": "circle"
         },
         "mode": "markers",
         "name": "frozenset({'lactationconsult', 'books'})",
         "scene": "scene",
         "showlegend": true,
         "type": "scatter3d",
         "x": [
          0.6229508196721312,
          0.6721311475409837,
          0.5983606557377049,
          0.680327868852459,
          0.5245901639344263,
          0.7131147540983607,
          0.7786885245901639
         ],
         "y": [
          0.060897435897435896,
          0.06570512820512821,
          0.058493589743589744,
          0.06650641025641026,
          0.05128205128205128,
          0.06971153846153846,
          0.07612179487179487
         ],
         "z": [
          1.5705911574764035,
          1.6610290537250447,
          1.7049180327868854,
          1.130558162886643,
          1.5813732478023286,
          1.526530382701122,
          1.5931201289975814
         ]
        },
        {
         "hovertemplate": "antecedents=frozenset({'friend', 'books'})<br>confidence=%{x}<br>support=%{y}<br>lift=%{z}<extra></extra>",
         "legendgroup": "frozenset({'friend', 'books'})",
         "marker": {
          "color": "#19d3f3",
          "opacity": 0.7,
          "symbol": "circle"
         },
         "mode": "markers",
         "name": "frozenset({'friend', 'books'})",
         "scene": "scene",
         "showlegend": true,
         "type": "scatter3d",
         "x": [
          0.8539325842696629,
          0.7415730337078652,
          0.7977528089887641
         ],
         "y": [
          0.060897435897435896,
          0.052884615384615384,
          0.05689102564102564
         ],
         "z": [
          1.2597019682843253,
          1.5874496502013993,
          1.6321237797016026
         ]
        },
        {
         "hovertemplate": "antecedents=frozenset({'facebook', 'friend'})<br>confidence=%{x}<br>support=%{y}<br>lift=%{z}<extra></extra>",
         "legendgroup": "frozenset({'facebook', 'friend'})",
         "marker": {
          "color": "#FF6692",
          "opacity": 0.7,
          "symbol": "circle"
         },
         "mode": "markers",
         "name": "frozenset({'facebook', 'friend'})",
         "scene": "scene",
         "showlegend": true,
         "type": "scatter3d",
         "x": [
          0.8025078369905957,
          0.5235109717868339,
          0.6426332288401254,
          0.664576802507837
         ],
         "y": [
          0.20512820512820512,
          0.13381410256410256,
          0.1642628205128205,
          0.16987179487179488
         ],
         "z": [
          1.1838413481847085,
          1.2937459263167697,
          1.3756539787177984,
          1.359658769720952
         ]
        },
        {
         "hovertemplate": "antecedents=frozenset({'lactationconsult', 'instagram'})<br>confidence=%{x}<br>support=%{y}<br>lift=%{z}<extra></extra>",
         "legendgroup": "frozenset({'lactationconsult', 'instagram'})",
         "marker": {
          "color": "#B6E880",
          "opacity": 0.7,
          "symbol": "circle"
         },
         "mode": "markers",
         "name": "frozenset({'lactationconsult', 'instagram'})",
         "scene": "scene",
         "showlegend": true,
         "type": "scatter3d",
         "x": [
          0.5765765765765766,
          0.5540540540540541,
          0.7837837837837838,
          0.6666666666666666,
          0.5990990990990991
         ],
         "y": [
          0.10256410256410256,
          0.0985576923076923,
          0.13942307692307693,
          0.11858974358974358,
          0.10657051282051282
         ],
         "z": [
          1.4536718536718538,
          1.3692266523949692,
          1.3024795767805089,
          1.4271012006861064,
          1.2256978289765175
         ]
        },
        {
         "hovertemplate": "antecedents=frozenset({'friend', 'instagram'})<br>confidence=%{x}<br>support=%{y}<br>lift=%{z}<extra></extra>",
         "legendgroup": "frozenset({'friend', 'instagram'})",
         "marker": {
          "color": "#FF97FF",
          "opacity": 0.7,
          "symbol": "circle"
         },
         "mode": "markers",
         "name": "frozenset({'friend', 'instagram'})",
         "scene": "scene",
         "showlegend": true,
         "type": "scatter3d",
         "x": [
          0.810126582278481,
          0.5443037974683544,
          0.7341772151898734,
          0.6265822784810127,
          0.620253164556962
         ],
         "y": [
          0.10256410256410256,
          0.06891025641025642,
          0.09294871794871795,
          0.07932692307692307,
          0.07852564102564102
         ],
         "z": [
          1.1950803483257024,
          1.345130968793082,
          1.2200441605285781,
          1.3412944829233342,
          1.268976966175555
         ]
        },
        {
         "hovertemplate": "antecedents=frozenset({'lactationconsult', 'pinterest'})<br>confidence=%{x}<br>support=%{y}<br>lift=%{z}<extra></extra>",
         "legendgroup": "frozenset({'lactationconsult', 'pinterest'})",
         "marker": {
          "color": "#FECB52",
          "opacity": 0.7,
          "symbol": "circle"
         },
         "mode": "markers",
         "name": "frozenset({'lactationconsult', 'pinterest'})",
         "scene": "scene",
         "showlegend": true,
         "type": "scatter3d",
         "x": [
          0.5071090047393365,
          0.5734597156398104,
          0.7393364928909952,
          0.5450236966824644,
          0.6018957345971564
         ],
         "y": [
          0.08573717948717949,
          0.09695512820512821,
          0.125,
          0.0921474358974359,
          0.10176282051282051
         ],
         "z": [
          1.2785293695246303,
          1.4171836140960066,
          1.2286177671477525,
          1.1667059579068877,
          1.2314194701266412
         ]
        },
        {
         "hovertemplate": "antecedents=frozenset({'friend', 'pinterest'})<br>confidence=%{x}<br>support=%{y}<br>lift=%{z}<extra></extra>",
         "legendgroup": "frozenset({'friend', 'pinterest'})",
         "marker": {
          "color": "#636efa",
          "opacity": 0.7,
          "symbol": "circle"
         },
         "mode": "markers",
         "name": "frozenset({'friend', 'pinterest'})",
         "scene": "scene",
         "showlegend": true,
         "type": "scatter3d",
         "x": [
          0.8045112781954887,
          0.5714285714285714,
          0.6992481203007519,
          0.5338345864661654,
          0.6616541353383458
         ],
         "y": [
          0.08573717948717949,
          0.060897435897435896,
          0.07451923076923077,
          0.05689102564102564,
          0.07051282051282051
         ],
         "z": [
          1.1867967791819976,
          1.4121640735502121,
          1.1619995394611697,
          1.1427539689704536,
          1.353679280167632
         ]
        },
        {
         "hovertemplate": "antecedents=frozenset({'lactationconsult', 'onlineforum'})<br>confidence=%{x}<br>support=%{y}<br>lift=%{z}<extra></extra>",
         "legendgroup": "frozenset({'lactationconsult', 'onlineforum'})",
         "marker": {
          "color": "#EF553B",
          "opacity": 0.7,
          "symbol": "circle"
         },
         "mode": "markers",
         "name": "frozenset({'lactationconsult', 'onlineforum'})",
         "scene": "scene",
         "showlegend": true,
         "type": "scatter3d",
         "x": [
          0.5230263157894737,
          0.6052631578947368,
          0.5164473684210527,
          0.736842105263158,
          0.6973684210526316,
          0.6940789473684211
         ],
         "y": [
          0.12740384615384615,
          0.14743589743589744,
          0.12580128205128205,
          0.1794871794871795,
          0.16987179487179488,
          0.16907051282051283
         ],
         "z": [
          1.3186602870813398,
          1.4957790515893694,
          1.471521268925739,
          1.2244726329805875,
          1.492822966507177,
          1.4200172562553928
         ]
        },
        {
         "hovertemplate": "antecedents=frozenset({'friend', 'onlineforum'})<br>confidence=%{x}<br>support=%{y}<br>lift=%{z}<extra></extra>",
         "legendgroup": "frozenset({'friend', 'onlineforum'})",
         "marker": {
          "color": "#00cc96",
          "opacity": 0.7,
          "symbol": "circle"
         },
         "mode": "markers",
         "name": "frozenset({'friend', 'onlineforum'})",
         "scene": "scene",
         "showlegend": true,
         "type": "scatter3d",
         "x": [
          0.7910447761194028,
          0.5870646766169154,
          0.5024875621890548,
          0.7313432835820894,
          0.7213930348258706,
          0.7611940298507461
         ],
         "y": [
          0.12740384615384615,
          0.09455128205128205,
          0.08092948717948718,
          0.11778846153846154,
          0.11618589743589744,
          0.12259615384615384
         ],
         "z": [
          1.1669313009420976,
          1.4508053790453672,
          1.431745382675663,
          1.2153347775105827,
          1.5442512992498911,
          1.5573281135307069
         ]
        },
        {
         "hovertemplate": "antecedents=frozenset({'lactationconsult', 'websites'})<br>confidence=%{x}<br>support=%{y}<br>lift=%{z}<extra></extra>",
         "legendgroup": "frozenset({'lactationconsult', 'websites'})",
         "marker": {
          "color": "#ab63fa",
          "opacity": 0.7,
          "symbol": "circle"
         },
         "mode": "markers",
         "name": "frozenset({'lactationconsult', 'websites'})",
         "scene": "scene",
         "showlegend": true,
         "type": "scatter3d",
         "x": [
          0.5257270693512304,
          0.5458612975391499,
          0.7225950782997763,
          0.6756152125279642
         ],
         "y": [
          0.18830128205128205,
          0.1955128205128205,
          0.2588141025641026,
          0.2419871794871795
         ],
         "z": [
          1.3254694596976475,
          1.348979998671008,
          1.2007971474275911,
          1.3822422708768842
         ]
        },
        {
         "hovertemplate": "antecedents=frozenset({'friend', 'websites'})<br>confidence=%{x}<br>support=%{y}<br>lift=%{z}<extra></extra>",
         "legendgroup": "frozenset({'friend', 'websites'})",
         "marker": {
          "color": "#FFA15A",
          "opacity": 0.7,
          "symbol": "circle"
         },
         "mode": "markers",
         "name": "frozenset({'friend', 'websites'})",
         "scene": "scene",
         "showlegend": true,
         "type": "scatter3d",
         "x": [
          0.8392857142857142,
          0.5571428571428572,
          0.7321428571428571,
          0.5178571428571429,
          0.7142857142857143
         ],
         "y": [
          0.18830128205128205,
          0.125,
          0.1642628205128205,
          0.11618589743589744,
          0.16025641025641027
         ],
         "z": [
          1.238095238095238,
          1.376859971711457,
          1.21666349629066,
          1.5610766045548656,
          1.4613583138173303
         ]
        },
        {
         "hovertemplate": "antecedents=frozenset({'lactationconsult', 'searchengine'})<br>confidence=%{x}<br>support=%{y}<br>lift=%{z}<extra></extra>",
         "legendgroup": "frozenset({'lactationconsult', 'searchengine'})",
         "marker": {
          "color": "#19d3f3",
          "opacity": 0.7,
          "symbol": "circle"
         },
         "mode": "markers",
         "name": "frozenset({'lactationconsult', 'searchengine'})",
         "scene": "scene",
         "showlegend": true,
         "type": "scatter3d",
         "x": [
          0.565121412803532,
          0.5894039735099338,
          0.7086092715231788,
          0.6666666666666667
         ],
         "y": [
          0.20512820512820512,
          0.21394230769230768,
          0.25721153846153844,
          0.2419871794871795
         ],
         "z": [
          1.4247909559167837,
          1.4565864533473214,
          1.1775557534766008,
          1.4271012006861066
         ]
        },
        {
         "hovertemplate": "antecedents=frozenset({'friend', 'searchengine'})<br>confidence=%{x}<br>support=%{y}<br>lift=%{z}<extra></extra>",
         "legendgroup": "frozenset({'friend', 'searchengine'})",
         "marker": {
          "color": "#FF6692",
          "opacity": 0.7,
          "symbol": "circle"
         },
         "mode": "markers",
         "name": "frozenset({'friend', 'searchengine'})",
         "scene": "scene",
         "showlegend": true,
         "type": "scatter3d",
         "x": [
          0.8231511254019293,
          0.5659163987138264,
          0.6816720257234727,
          0.6430868167202572
         ],
         "y": [
          0.20512820512820512,
          0.14102564102564102,
          0.16987179487179488,
          0.16025641025641027
         ],
         "z": [
          1.2142938587489451,
          1.3985419120690203,
          1.1327918616549855,
          1.3766249524303278
         ]
        },
        {
         "hovertemplate": "antecedents=frozenset({'obgyn', 'pediatrician'})<br>confidence=%{x}<br>support=%{y}<br>lift=%{z}<extra></extra>",
         "legendgroup": "frozenset({'obgyn', 'pediatrician'})",
         "marker": {
          "color": "#B6E880",
          "opacity": 0.7,
          "symbol": "circle"
         },
         "mode": "markers",
         "name": "frozenset({'obgyn', 'pediatrician'})",
         "scene": "scene",
         "showlegend": true,
         "type": "scatter3d",
         "x": [
          0.5340314136125655,
          0.8481675392670157,
          0.7748691099476439,
          0.6492146596858638,
          0.6649214659685864,
          0.5078534031413612,
          0.6125654450261779
         ],
         "y": [
          0.08173076923076923,
          0.12980769230769232,
          0.11858974358974358,
          0.09935897435897435,
          0.10176282051282051,
          0.07772435897435898,
          0.09375
         ],
         "z": [
          1.3464064731080438,
          1.251197504734321,
          1.914924057850811,
          1.8498171125295846,
          1.1049560446455338,
          1.0871373020933426,
          1.2532486481847052
         ]
        },
        {
         "hovertemplate": "antecedents=frozenset({'pediatrician', 'nurse'})<br>confidence=%{x}<br>support=%{y}<br>lift=%{z}<extra></extra>",
         "legendgroup": "frozenset({'pediatrician', 'nurse'})",
         "marker": {
          "color": "#FF97FF",
          "opacity": 0.7,
          "symbol": "circle"
         },
         "mode": "markers",
         "name": "frozenset({'pediatrician', 'nurse'})",
         "scene": "scene",
         "showlegend": true,
         "type": "scatter3d",
         "x": [
          0.5136186770428016,
          0.8832684824902723,
          0.5758754863813229,
          0.6381322957198444,
          0.6498054474708171,
          0.5486381322957199,
          0.6264591439688717
         ],
         "y": [
          0.10576923076923077,
          0.18189102564102563,
          0.11858974358974358,
          0.13141025641025642,
          0.13381410256410256,
          0.11298076923076923,
          0.12900641025641027
         ],
         "z": [
          1.2949416342412454,
          1.302977619560118,
          2.5217284456276876,
          1.8182399658866801,
          1.0798364826146203,
          1.174443206012107,
          1.2816737896281178
         ]
        },
        {
         "hovertemplate": "antecedents=frozenset({'pediatrician', 'hospital'})<br>confidence=%{x}<br>support=%{y}<br>lift=%{z}<extra></extra>",
         "legendgroup": "frozenset({'pediatrician', 'hospital'})",
         "marker": {
          "color": "#FECB52",
          "opacity": 0.7,
          "symbol": "circle"
         },
         "mode": "markers",
         "name": "frozenset({'pediatrician', 'hospital'})",
         "scene": "scene",
         "showlegend": true,
         "type": "scatter3d",
         "x": [
          0.5432692307692308,
          0.8798076923076924,
          0.5961538461538461,
          0.7884615384615385,
          0.6442307692307693,
          0.5528846153846154,
          0.6153846153846154
         ],
         "y": [
          0.09054487179487179,
          0.1466346153846154,
          0.09935897435897435,
          0.13141025641025642,
          0.10737179487179487,
          0.0921474358974359,
          0.10256410256410256
         ],
         "z": [
          1.3696969696969699,
          1.297872340425532,
          2.610526315789474,
          1.9485148514851487,
          1.0705725699067912,
          1.183533447684391,
          1.259016393442623
         ]
        },
        {
         "hovertemplate": "antecedents=frozenset({'facebook', 'pediatrician'})<br>confidence=%{x}<br>support=%{y}<br>lift=%{z}<extra></extra>",
         "legendgroup": "frozenset({'facebook', 'pediatrician'})",
         "marker": {
          "color": "#636efa",
          "opacity": 0.7,
          "symbol": "circle"
         },
         "mode": "markers",
         "name": "frozenset({'facebook', 'pediatrician'})",
         "scene": "scene",
         "showlegend": true,
         "type": "scatter3d",
         "x": [
          0.5179282868525896,
          0.8167330677290836,
          0.5059760956175299,
          0.6653386454183267,
          0.5338645418326693,
          0.5856573705179282,
          0.6533864541832669
         ],
         "y": [
          0.10416666666666667,
          0.1642628205128205,
          0.10176282051282051,
          0.13381410256410256,
          0.10737179487179487,
          0.11778846153846154,
          0.13141025641025642
         ],
         "z": [
          1.3058070747313775,
          1.2048260857280098,
          2.215642692388341,
          1.6442428306575676,
          1.5211482835780168,
          1.253688504985205,
          1.3367644177388804
         ]
        },
        {
         "hovertemplate": "antecedents=frozenset({'pediatrician', 'instagram'})<br>confidence=%{x}<br>support=%{y}<br>lift=%{z}<extra></extra>",
         "legendgroup": "frozenset({'pediatrician', 'instagram'})",
         "marker": {
          "color": "#EF553B",
          "opacity": 0.7,
          "symbol": "circle"
         },
         "mode": "markers",
         "name": "frozenset({'pediatrician', 'instagram'})",
         "scene": "scene",
         "showlegend": true,
         "type": "scatter3d",
         "x": [
          0.6140350877192983,
          0.8771929824561405,
          0.6666666666666667,
          0.6140350877192983,
          0.7982456140350879,
          0.6666666666666667,
          0.6842105263157895
         ],
         "y": [
          0.05608974358974359,
          0.08012820512820513,
          0.060897435897435896,
          0.05608974358974359,
          0.07291666666666667,
          0.060897435897435896,
          0.0625
         ],
         "z": [
          1.5481127060074429,
          1.2940151797934554,
          1.6475247524752477,
          1.7495794280221102,
          1.3265120190623032,
          1.4271012006861066,
          1.3998274374460742
         ]
        },
        {
         "hovertemplate": "antecedents=frozenset({'pediatrician', 'onlineforum'})<br>confidence=%{x}<br>support=%{y}<br>lift=%{z}<extra></extra>",
         "legendgroup": "frozenset({'pediatrician', 'onlineforum'})",
         "marker": {
          "color": "#00cc96",
          "opacity": 0.7,
          "symbol": "circle"
         },
         "mode": "markers",
         "name": "frozenset({'pediatrician', 'onlineforum'})",
         "scene": "scene",
         "showlegend": true,
         "type": "scatter3d",
         "x": [
          0.5454545454545454,
          0.8181818181818182,
          0.5454545454545454,
          0.7090909090909091,
          0.6060606060606061,
          0.7151515151515151,
          0.6666666666666667,
          0.7393939393939394
         ],
         "y": [
          0.07211538461538461,
          0.10817307692307693,
          0.07211538461538461,
          0.09375,
          0.08012820512820513,
          0.09455128205128205,
          0.08814102564102565,
          0.09775641025641026
         ],
         "z": [
          1.375206611570248,
          1.206963249516441,
          2.388516746411483,
          1.7523672367236725,
          1.7268576172685763,
          1.1884275511439293,
          1.4271012006861066,
          1.5127272727272727
         ]
        },
        {
         "hovertemplate": "antecedents=frozenset({'pediatrician', 'websites'})<br>confidence=%{x}<br>support=%{y}<br>lift=%{z}<extra></extra>",
         "legendgroup": "frozenset({'pediatrician', 'websites'})",
         "marker": {
          "color": "#ab63fa",
          "opacity": 0.7,
          "symbol": "circle"
         },
         "mode": "markers",
         "name": "frozenset({'pediatrician', 'websites'})",
         "scene": "scene",
         "showlegend": true,
         "type": "scatter3d",
         "x": [
          0.5594059405940593,
          0.8663366336633663,
          0.698019801980198,
          0.5693069306930694,
          0.7277227722772277,
          0.5445544554455446,
          0.7029702970297029
         ],
         "y": [
          0.09054487179487179,
          0.14022435897435898,
          0.11298076923076923,
          0.0921474358974359,
          0.11778846153846154,
          0.08814102564102565,
          0.11378205128205128
         ],
         "z": [
          1.4103810381038102,
          1.2780001404395758,
          1.7250073522203704,
          1.6221348162213485,
          1.2093182687110255,
          1.6415554598938156,
          1.4382080831033923
         ]
        },
        {
         "hovertemplate": "antecedents=frozenset({'pediatrician', 'searchengine'})<br>confidence=%{x}<br>support=%{y}<br>lift=%{z}<extra></extra>",
         "legendgroup": "frozenset({'pediatrician', 'searchengine'})",
         "marker": {
          "color": "#FFA15A",
          "opacity": 0.7,
          "symbol": "circle"
         },
         "mode": "markers",
         "name": "frozenset({'pediatrician', 'searchengine'})",
         "scene": "scene",
         "showlegend": true,
         "type": "scatter3d",
         "x": [
          0.5770925110132159,
          0.8370044052863436,
          0.5154185022026432,
          0.709251101321586,
          0.5638766519823789,
          0.722466960352423,
          0.5374449339207049,
          0.6255506607929515
         ],
         "y": [
          0.10496794871794872,
          0.15224358974358973,
          0.09375,
          0.12900641025641027,
          0.10256410256410256,
          0.13141025641025642,
          0.09775641025641026,
          0.11378205128205128
         ],
         "z": [
          1.4549726338272595,
          1.234729902833755,
          2.2569904938557848,
          1.752763117721464,
          1.6066622412648606,
          1.2005842430357176,
          1.6201238587754583,
          1.3390861486614125
         ]
        },
        {
         "hovertemplate": "antecedents=frozenset({'obgyn', 'nurse'})<br>confidence=%{x}<br>support=%{y}<br>lift=%{z}<extra></extra>",
         "legendgroup": "frozenset({'obgyn', 'nurse'})",
         "marker": {
          "color": "#19d3f3",
          "opacity": 0.7,
          "symbol": "circle"
         },
         "mode": "markers",
         "name": "frozenset({'obgyn', 'nurse'})",
         "scene": "scene",
         "showlegend": true,
         "type": "scatter3d",
         "x": [
          0.5,
          0.9019607843137255,
          0.7254901960784313,
          0.6813725490196079,
          0.676470588235294,
          0.6078431372549019
         ],
         "y": [
          0.08173076923076923,
          0.14743589743589744,
          0.11858974358974358,
          0.11137820512820513,
          0.11057692307692307,
          0.09935897435897435
         ],
         "z": [
          1.2606060606060607,
          1.3305520789876233,
          2.3097238895558223,
          1.9414450711791569,
          1.1241481945641105,
          1.2435872709739633
         ]
        },
        {
         "hovertemplate": "antecedents=frozenset({'obgyn', 'hospital'})<br>confidence=%{x}<br>support=%{y}<br>lift=%{z}<extra></extra>",
         "legendgroup": "frozenset({'obgyn', 'hospital'})",
         "marker": {
          "color": "#FF6692",
          "opacity": 0.7,
          "symbol": "circle"
         },
         "mode": "markers",
         "name": "frozenset({'obgyn', 'hospital'})",
         "scene": "scene",
         "showlegend": true,
         "type": "scatter3d",
         "x": [
          0.5176470588235295,
          0.8882352941176471,
          0.7294117647058824,
          0.8176470588235295,
          0.6705882352941177,
          0.5058823529411766,
          0.6058823529411765
         ],
         "y": [
          0.07051282051282051,
          0.12099358974358974,
          0.09935897435897435,
          0.11137820512820513,
          0.09134615384615384,
          0.06891025641025642,
          0.08253205128205128
         ],
         "z": [
          1.3050980392156866,
          1.3103045473508552,
          2.322208883553422,
          2.0206406523005245,
          1.114372992872249,
          1.0829179699323985,
          1.239575699132112
         ]
        },
        {
         "hovertemplate": "antecedents=frozenset({'nurse', 'hospital'})<br>confidence=%{x}<br>support=%{y}<br>lift=%{z}<extra></extra>",
         "legendgroup": "frozenset({'nurse', 'hospital'})",
         "marker": {
          "color": "#B6E880",
          "opacity": 0.7,
          "symbol": "circle"
         },
         "mode": "markers",
         "name": "frozenset({'nurse', 'hospital'})",
         "scene": "scene",
         "showlegend": true,
         "type": "scatter3d",
         "x": [
          0.5156794425087108,
          0.902439024390244,
          0.5714285714285715,
          0.637630662020906,
          0.5609756097560976,
          0.6202090592334495
         ],
         "y": [
          0.11858974358974358,
          0.2075320512820513,
          0.13141025641025642,
          0.1466346153846154,
          0.12900641025641027,
          0.14262820512820512
         ],
         "z": [
          1.300137261112871,
          1.331257567894828,
          1.819241982507289,
          1.0596046154488559,
          1.2008534493578213,
          1.268886731021877
         ]
        },
        {
         "hovertemplate": "antecedents=frozenset({'facebook', 'nurse'})<br>confidence=%{x}<br>support=%{y}<br>lift=%{z}<extra></extra>",
         "legendgroup": "frozenset({'facebook', 'nurse'})",
         "marker": {
          "color": "#FF97FF",
          "opacity": 0.7,
          "symbol": "circle"
         },
         "mode": "markers",
         "name": "frozenset({'facebook', 'nurse'})",
         "scene": "scene",
         "showlegend": true,
         "type": "scatter3d",
         "x": [
          0.5335463258785943,
          0.8722044728434505,
          0.5335463258785943,
          0.5846645367412141,
          0.6166134185303515,
          0.6517571884984026
         ],
         "y": [
          0.13381410256410256,
          0.21875,
          0.13381410256410256,
          0.1466346153846154,
          0.1546474358974359,
          0.16346153846153846
         ],
         "z": [
          1.3451834640333045,
          1.2866562436272178,
          1.6986372823889941,
          1.665893474550309,
          1.3199546249157437,
          1.3334311004032893
         ]
        },
        {
         "hovertemplate": "antecedents=frozenset({'nurse', 'instagram'})<br>confidence=%{x}<br>support=%{y}<br>lift=%{z}<extra></extra>",
         "legendgroup": "frozenset({'nurse', 'instagram'})",
         "marker": {
          "color": "#FECB52",
          "opacity": 0.7,
          "symbol": "circle"
         },
         "mode": "markers",
         "name": "frozenset({'nurse', 'instagram'})",
         "scene": "scene",
         "showlegend": true,
         "type": "scatter3d",
         "x": [
          0.6231884057971016,
          0.8913043478260869,
          0.5507246376811594,
          0.6231884057971016,
          0.7681159420289856,
          0.6884057971014492,
          0.6666666666666667
         ],
         "y": [
          0.06891025641025642,
          0.0985576923076923,
          0.060897435897435896,
          0.06891025641025642,
          0.08493589743589744,
          0.07612179487179487,
          0.07371794871794872
         ],
         "z": [
          1.5711901624945106,
          1.314831945729263,
          1.7533274179236913,
          1.775660115147906,
          1.2764430035315233,
          1.4736371094041314,
          1.3639344262295083
         ]
        },
        {
         "hovertemplate": "antecedents=frozenset({'nurse', 'pinterest'})<br>confidence=%{x}<br>support=%{y}<br>lift=%{z}<extra></extra>",
         "legendgroup": "frozenset({'nurse', 'pinterest'})",
         "marker": {
          "color": "#636efa",
          "opacity": 0.7,
          "symbol": "circle"
         },
         "mode": "markers",
         "name": "frozenset({'nurse', 'pinterest'})",
         "scene": "scene",
         "showlegend": true,
         "type": "scatter3d",
         "x": [
          0.5467625899280575,
          0.8705035971223021,
          0.5971223021582733,
          0.5251798561151079,
          0.7194244604316546,
          0.5251798561151079,
          0.6258992805755396
         ],
         "y": [
          0.060897435897435896,
          0.09695512820512821,
          0.06650641025641026,
          0.058493589743589744,
          0.08012820512820513,
          0.058493589743589744,
          0.06971153846153846
         ],
         "z": [
          1.378504469151951,
          1.2841471503648143,
          1.9010424313610335,
          1.4964028776978417,
          1.1955282644723102,
          1.1242272048570405,
          1.2805283641938907
         ]
        },
        {
         "hovertemplate": "antecedents=frozenset({'nurse', 'onlineforum'})<br>confidence=%{x}<br>support=%{y}<br>lift=%{z}<extra></extra>",
         "legendgroup": "frozenset({'nurse', 'onlineforum'})",
         "marker": {
          "color": "#EF553B",
          "opacity": 0.7,
          "symbol": "circle"
         },
         "mode": "markers",
         "name": "frozenset({'nurse', 'onlineforum'})",
         "scene": "scene",
         "showlegend": true,
         "type": "scatter3d",
         "x": [
          0.5728155339805825,
          0.8932038834951457,
          0.5679611650485437,
          0.6165048543689321,
          0.7233009708737864,
          0.6941747572815534,
          0.7475728155339806
         ],
         "y": [
          0.09455128205128205,
          0.14743589743589744,
          0.09375,
          0.10176282051282051,
          0.11939102564102565,
          0.11458333333333333,
          0.1233974358974359
         ],
         "z": [
          1.4441894674904383,
          1.317634097638229,
          1.8082028928076084,
          1.7566165713525739,
          1.2019701886158263,
          1.485986444403737,
          1.5294604488301766
         ]
        },
        {
         "hovertemplate": "antecedents=frozenset({'nurse', 'websites'})<br>confidence=%{x}<br>support=%{y}<br>lift=%{z}<extra></extra>",
         "legendgroup": "frozenset({'nurse', 'websites'})",
         "marker": {
          "color": "#00cc96",
          "opacity": 0.7,
          "symbol": "circle"
         },
         "mode": "markers",
         "name": "frozenset({'nurse', 'websites'})",
         "scene": "scene",
         "showlegend": true,
         "type": "scatter3d",
         "x": [
          0.5756457564575646,
          0.9003690036900369,
          0.5202952029520295,
          0.5940959409594097,
          0.7121771217712177,
          0.5276752767527675,
          0.7232472324723247
         ],
         "y": [
          0.125,
          0.1955128205128205,
          0.11298076923076923,
          0.12900641025641027,
          0.1546474358974359,
          0.11458333333333333,
          0.15705128205128205
         ],
         "z": [
          1.4513250587051325,
          1.3282039203370757,
          1.6564500338880939,
          1.6927665167062633,
          1.1834847509593605,
          1.5906732980373282,
          1.47969269856633
         ]
        },
        {
         "hovertemplate": "antecedents=frozenset({'nurse', 'searchengine'})<br>confidence=%{x}<br>support=%{y}<br>lift=%{z}<extra></extra>",
         "legendgroup": "frozenset({'nurse', 'searchengine'})",
         "marker": {
          "color": "#ab63fa",
          "opacity": 0.7,
          "symbol": "circle"
         },
         "mode": "markers",
         "name": "frozenset({'nurse', 'searchengine'})",
         "scene": "scene",
         "showlegend": true,
         "type": "scatter3d",
         "x": [
          0.5906040268456375,
          0.895973154362416,
          0.540268456375839,
          0.5973154362416107,
          0.6845637583892618,
          0.5167785234899329,
          0.6577181208053691
         ],
         "y": [
          0.14102564102564102,
          0.21394230769230768,
          0.12900641025641027,
          0.14262820512820512,
          0.16346153846153846,
          0.1233974358974359,
          0.15705128205128205
         ],
         "z": [
          1.4890380313199103,
          1.3217192631729255,
          1.7200383509108343,
          1.7019398731267812,
          1.137597297562981,
          1.5578251142884936,
          1.4079454798715276
         ]
        },
        {
         "hovertemplate": "antecedents=frozenset({'facebook', 'hospital'})<br>confidence=%{x}<br>support=%{y}<br>lift=%{z}<extra></extra>",
         "legendgroup": "frozenset({'facebook', 'hospital'})",
         "marker": {
          "color": "#FFA15A",
          "opacity": 0.7,
          "symbol": "circle"
         },
         "mode": "markers",
         "name": "frozenset({'facebook', 'hospital'})",
         "scene": "scene",
         "showlegend": true,
         "type": "scatter3d",
         "x": [
          0.5088967971530248,
          0.8861209964412812,
          0.6512455516014235,
          0.6120996441281139,
          0.6227758007117438
         ],
         "y": [
          0.11458333333333333,
          0.19951923076923078,
          0.1466346153846154,
          0.13782051282051283,
          0.14022435897435898
         ],
         "z": [
          1.2830367734282324,
          1.307185583402741,
          1.609414749304112,
          1.3102922056121546,
          1.274138031620092
         ]
        },
        {
         "hovertemplate": "antecedents=frozenset({'instagram', 'hospital'})<br>confidence=%{x}<br>support=%{y}<br>lift=%{z}<extra></extra>",
         "legendgroup": "frozenset({'instagram', 'hospital'})",
         "marker": {
          "color": "#19d3f3",
          "opacity": 0.7,
          "symbol": "circle"
         },
         "mode": "markers",
         "name": "frozenset({'instagram', 'hospital'})",
         "scene": "scene",
         "showlegend": true,
         "type": "scatter3d",
         "x": [
          0.5967741935483871,
          0.8790322580645161,
          0.5645161290322581,
          0.6935483870967742,
          0.7741935483870969,
          0.5080645161290323,
          0.6612903225806452,
          0.620967741935484
         ],
         "y": [
          0.05929487179487179,
          0.08733974358974358,
          0.05608974358974359,
          0.06891025641025642,
          0.07692307692307693,
          0.05048076923076923,
          0.06570512820512821,
          0.06169871794871795
         ],
         "z": [
          1.504594330400782,
          1.296728437428506,
          1.7972350230414749,
          1.7139572021718301,
          1.286542674283751,
          1.5315568022440393,
          1.4155923200354121,
          1.2704389212057114
         ]
        },
        {
         "hovertemplate": "antecedents=frozenset({'onlineforum', 'hospital'})<br>confidence=%{x}<br>support=%{y}<br>lift=%{z}<extra></extra>",
         "legendgroup": "frozenset({'onlineforum', 'hospital'})",
         "marker": {
          "color": "#FF6692",
          "opacity": 0.7,
          "symbol": "circle"
         },
         "mode": "markers",
         "name": "frozenset({'onlineforum', 'hospital'})",
         "scene": "scene",
         "showlegend": true,
         "type": "scatter3d",
         "x": [
          0.551912568306011,
          0.8579234972677595,
          0.546448087431694,
          0.6939890710382514,
          0.7049180327868851,
          0.6666666666666666,
          0.7158469945355191
         ],
         "y": [
          0.08092948717948718,
          0.12580128205128205,
          0.08012820512820513,
          0.10176282051282051,
          0.10336538461538461,
          0.09775641025641026,
          0.10496794871794872
         ],
         "z": [
          1.3914886570624279,
          1.2655892725652054,
          1.7397122783539647,
          1.715046258724233,
          1.1714217109427865,
          1.4271012006861064,
          1.4645525396398817
         ]
        },
        {
         "hovertemplate": "antecedents=frozenset({'websites', 'hospital'})<br>confidence=%{x}<br>support=%{y}<br>lift=%{z}<extra></extra>",
         "legendgroup": "frozenset({'websites', 'hospital'})",
         "marker": {
          "color": "#B6E880",
          "opacity": 0.7,
          "symbol": "circle"
         },
         "mode": "markers",
         "name": "frozenset({'websites', 'hospital'})",
         "scene": "scene",
         "showlegend": true,
         "type": "scatter3d",
         "x": [
          0.5811965811965812,
          0.9017094017094017,
          0.6880341880341881,
          0.7350427350427351,
          0.5213675213675214,
          0.7051282051282052
         ],
         "y": [
          0.10897435897435898,
          0.16907051282051283,
          0.12900641025641027,
          0.13782051282051283,
          0.09775641025641026,
          0.13221153846153846
         ],
         "z": [
          1.4653198653198656,
          1.330181245074862,
          1.7003300330033007,
          1.2214824678206837,
          1.571658615136876,
          1.4426229508196722
         ]
        },
        {
         "hovertemplate": "antecedents=frozenset({'searchengine', 'hospital'})<br>confidence=%{x}<br>support=%{y}<br>lift=%{z}<extra></extra>",
         "legendgroup": "frozenset({'searchengine', 'hospital'})",
         "marker": {
          "color": "#FF97FF",
          "opacity": 0.7,
          "symbol": "circle"
         },
         "mode": "markers",
         "name": "frozenset({'searchengine', 'hospital'})",
         "scene": "scene",
         "showlegend": true,
         "type": "scatter3d",
         "x": [
          0.5863453815261044,
          0.8795180722891565,
          0.5140562248995983,
          0.7148594377510039,
          0.7028112449799196,
          0.5261044176706827,
          0.6626506024096385
         ],
         "y": [
          0.11698717948717949,
          0.17548076923076922,
          0.10256410256410256,
          0.14262820512820512,
          0.14022435897435898,
          0.10496794871794872,
          0.13221153846153846
         ],
         "z": [
          1.4783010831203602,
          1.2974450995471243,
          1.6365871649864765,
          1.7666229273529759,
          1.1679206840678293,
          1.5859379547174204,
          1.41850420550125
         ]
        },
        {
         "hovertemplate": "antecedents=frozenset({'books', 'websites'})<br>confidence=%{x}<br>support=%{y}<br>lift=%{z}<extra></extra>",
         "legendgroup": "frozenset({'books', 'websites'})",
         "marker": {
          "color": "#FECB52",
          "opacity": 0.7,
          "symbol": "circle"
         },
         "mode": "markers",
         "name": "frozenset({'books', 'websites'})",
         "scene": "scene",
         "showlegend": true,
         "type": "scatter3d",
         "x": [
          0.6599999999999999,
          0.87,
          0.65,
          0.71,
          0.7999999999999998
         ],
         "y": [
          0.052884615384615384,
          0.06971153846153846,
          0.052083333333333336,
          0.05689102564102564,
          0.0641025641025641
         ],
         "z": [
          1.664,
          1.283404255319149,
          1.6063366336633664,
          1.1798668442077231,
          1.6367213114754096
         ]
        },
        {
         "hovertemplate": "antecedents=frozenset({'books', 'searchengine'})<br>confidence=%{x}<br>support=%{y}<br>lift=%{z}<extra></extra>",
         "legendgroup": "frozenset({'books', 'searchengine'})",
         "marker": {
          "color": "#636efa",
          "opacity": 0.7,
          "symbol": "circle"
         },
         "mode": "markers",
         "name": "frozenset({'books', 'searchengine'})",
         "scene": "scene",
         "showlegend": true,
         "type": "scatter3d",
         "x": [
          0.6513761467889908,
          0.8715596330275229,
          0.6422018348623854,
          0.6972477064220184,
          0.6055045871559633,
          0.7339449541284403
         ],
         "y": [
          0.05689102564102564,
          0.07612179487179487,
          0.05608974358974359,
          0.060897435897435896,
          0.052884615384615384,
          0.0641025641025641
         ],
         "z": [
          1.6422574367528497,
          1.2857049905654239,
          1.5870651285312019,
          1.1586752831087603,
          1.825289190267252,
          1.5711205879113095
         ]
        },
        {
         "hovertemplate": "antecedents=frozenset({'facebook', 'searchengine'})<br>confidence=%{x}<br>support=%{y}<br>lift=%{z}<extra></extra>",
         "legendgroup": "frozenset({'facebook', 'searchengine'})",
         "marker": {
          "color": "#EF553B",
          "opacity": 0.7,
          "symbol": "circle"
         },
         "mode": "markers",
         "name": "frozenset({'facebook', 'searchengine'})",
         "scene": "scene",
         "showlegend": true,
         "type": "scatter3d",
         "x": [
          0.5011820330969267,
          0.7588652482269502,
          0.6501182033096926
         ],
         "y": [
          0.16987179487179488,
          0.25721153846153844,
          0.2203525641025641
         ],
         "z": [
          1.263586216777706,
          1.1194607917106782,
          1.3916767027967347
         ]
        },
        {
         "hovertemplate": "antecedents=frozenset({'instagram', 'onlineforum'})<br>confidence=%{x}<br>support=%{y}<br>lift=%{z}<extra></extra>",
         "legendgroup": "frozenset({'instagram', 'onlineforum'})",
         "marker": {
          "color": "#00cc96",
          "opacity": 0.7,
          "symbol": "circle"
         },
         "mode": "markers",
         "name": "frozenset({'instagram', 'onlineforum'})",
         "scene": "scene",
         "showlegend": true,
         "type": "scatter3d",
         "x": [
          0.5537190082644627,
          0.7024793388429751,
          0.5371900826446281,
          0.5206611570247934,
          0.8099173553719008,
          0.7272727272727273,
          0.7024793388429751
         ],
         "y": [
          0.05368589743589743,
          0.06810897435897435,
          0.052083333333333336,
          0.05048076923076923,
          0.07852564102564102,
          0.07051282051282051,
          0.06810897435897435
         ],
         "z": [
          1.3960430753819182,
          1.036281577867651,
          1.327550936911873,
          1.4835276802898225,
          1.345907935424943,
          1.5568376734757523,
          1.4372036309443164
         ]
        },
        {
         "hovertemplate": "antecedents=frozenset({'instagram', 'websites'})<br>confidence=%{x}<br>support=%{y}<br>lift=%{z}<extra></extra>",
         "legendgroup": "frozenset({'instagram', 'websites'})",
         "marker": {
          "color": "#ab63fa",
          "opacity": 0.7,
          "symbol": "circle"
         },
         "mode": "markers",
         "name": "frozenset({'instagram', 'websites'})",
         "scene": "scene",
         "showlegend": true,
         "type": "scatter3d",
         "x": [
          0.5238095238095238,
          0.7830687830687831,
          0.5026455026455027,
          0.8201058201058202,
          0.6825396825396826
         ],
         "y": [
          0.07932692307692307,
          0.11858974358974358,
          0.07612179487179487,
          0.12419871794871795,
          0.10336538461538461
         ],
         "z": [
          1.3206349206349208,
          1.1551652970092687,
          1.2421813609932422,
          1.3628389660347053,
          1.396409055425449
         ]
        },
        {
         "hovertemplate": "antecedents=frozenset({'instagram', 'searchengine'})<br>confidence=%{x}<br>support=%{y}<br>lift=%{z}<extra></extra>",
         "legendgroup": "frozenset({'instagram', 'searchengine'})",
         "marker": {
          "color": "#FFA15A",
          "opacity": 0.7,
          "symbol": "circle"
         },
         "mode": "markers",
         "name": "frozenset({'instagram', 'searchengine'})",
         "scene": "scene",
         "showlegend": true,
         "type": "scatter3d",
         "x": [
          0.5326086956521738,
          0.7228260869565217,
          0.5,
          0.8043478260869564,
          0.701086956521739
         ],
         "y": [
          0.07852564102564102,
          0.10657051282051282,
          0.07371794871794872,
          0.11858974358974358,
          0.10336538461538461
         ],
         "z": [
          1.3428194993412383,
          1.0662966389145851,
          1.2356435643564356,
          1.3366525791698025,
          1.5007830561563127
         ]
        },
        {
         "hovertemplate": "antecedents=frozenset({'pinterest', 'searchengine'})<br>confidence=%{x}<br>support=%{y}<br>lift=%{z}<extra></extra>",
         "legendgroup": "frozenset({'pinterest', 'searchengine'})",
         "marker": {
          "color": "#19d3f3",
          "opacity": 0.7,
          "symbol": "circle"
         },
         "mode": "markers",
         "name": "frozenset({'pinterest', 'searchengine'})",
         "scene": "scene",
         "showlegend": true,
         "type": "scatter3d",
         "x": [
          0.5146198830409356,
          0.7426900584795321,
          0.5087719298245613,
          0.7543859649122806,
          0.5204678362573099
         ],
         "y": [
          0.07051282051282051,
          0.10176282051282051,
          0.06971153846153846,
          0.10336538461538461,
          0.07131410256410256
         ],
         "z": [
          1.2974658869395712,
          1.095599518891792,
          1.2573215216258466,
          1.2536267432896488,
          1.11414041106196
         ]
        },
        {
         "hovertemplate": "antecedents=frozenset({'onlineforum', 'websites'})<br>confidence=%{x}<br>support=%{y}<br>lift=%{z}<extra></extra>",
         "legendgroup": "frozenset({'onlineforum', 'websites'})",
         "marker": {
          "color": "#FF6692",
          "opacity": 0.7,
          "symbol": "circle"
         },
         "mode": "markers",
         "name": "frozenset({'onlineforum', 'websites'})",
         "scene": "scene",
         "showlegend": true,
         "type": "scatter3d",
         "x": [
          0.541044776119403,
          0.791044776119403,
          0.5335820895522388,
          0.7723880597014926,
          0.7350746268656717
         ],
         "y": [
          0.11618589743589744,
          0.16987179487179488,
          0.11458333333333333,
          0.1658653846153846,
          0.1578525641025641
         ],
         "z": [
          1.3640886476707375,
          1.166931300942098,
          1.3186345500221666,
          1.2835423415545444,
          1.5038903841448497
         ]
        },
        {
         "hovertemplate": "antecedents=frozenset({'onlineforum', 'searchengine'})<br>confidence=%{x}<br>support=%{y}<br>lift=%{z}<extra></extra>",
         "legendgroup": "frozenset({'onlineforum', 'searchengine'})",
         "marker": {
          "color": "#B6E880",
          "opacity": 0.7,
          "symbol": "circle"
         },
         "mode": "markers",
         "name": "frozenset({'onlineforum', 'searchengine'})",
         "scene": "scene",
         "showlegend": true,
         "type": "scatter3d",
         "x": [
          0.5543478260869565,
          0.7644927536231885,
          0.5579710144927537,
          0.7282608695652175,
          0.7137681159420289
         ],
         "y": [
          0.12259615384615384,
          0.16907051282051283,
          0.1233974358974359,
          0.16105769230769232,
          0.1578525641025641
         ],
         "z": [
          1.3976284584980239,
          1.1277623599547744,
          1.378906586310805,
          1.2102124703294161,
          1.5279290029084942
         ]
        },
        {
         "hovertemplate": "antecedents=frozenset({'websites', 'searchengine'})<br>confidence=%{x}<br>support=%{y}<br>lift=%{z}<extra></extra>",
         "legendgroup": "frozenset({'websites', 'searchengine'})",
         "marker": {
          "color": "#FF97FF",
          "opacity": 0.7,
          "symbol": "circle"
         },
         "mode": "markers",
         "name": "frozenset({'websites', 'searchengine'})",
         "scene": "scene",
         "showlegend": true,
         "type": "scatter3d",
         "x": [
          0.5291005291005292,
          0.798941798941799,
          0.5185185185185186,
          0.7275132275132276,
          0.5211640211640212
         ],
         "y": [
          0.16025641025641027,
          0.2419871794871795,
          0.15705128205128205,
          0.2203525641025641,
          0.1578525641025641
         ],
         "z": [
          1.3339746673080008,
          1.1785808097864836,
          1.2814081408140816,
          1.208970050514658,
          1.571045165248064
         ]
        },
        {
         "hovertemplate": "antecedents=frozenset({'obgyn', 'lactationconsult'})<br>confidence=%{x}<br>support=%{y}<br>lift=%{z}<extra></extra>",
         "legendgroup": "frozenset({'obgyn', 'lactationconsult'})",
         "marker": {
          "color": "#FECB52",
          "opacity": 0.7,
          "symbol": "circle"
         },
         "mode": "markers",
         "name": "frozenset({'obgyn', 'lactationconsult'})",
         "scene": "scene",
         "showlegend": true,
         "type": "scatter3d",
         "x": [
          0.6666666666666667,
          0.757201646090535,
          0.6213991769547325,
          0.6666666666666667,
          0.588477366255144
         ],
         "y": [
          0.12980769230769232,
          0.14743589743589744,
          0.12099358974358974,
          0.12980769230769232,
          0.11458333333333333
         ],
         "z": [
          2.122448979591837,
          1.871262681823738,
          1.7705620384463612,
          1.107856191744341,
          1.203966808338393
         ]
        },
        {
         "hovertemplate": "antecedents=frozenset({'pediatrician', 'wic'})<br>confidence=%{x}<br>support=%{y}<br>lift=%{z}<extra></extra>",
         "legendgroup": "frozenset({'pediatrician', 'wic'})",
         "marker": {
          "color": "#636efa",
          "opacity": 0.7,
          "symbol": "circle"
         },
         "mode": "markers",
         "name": "frozenset({'pediatrician', 'wic'})",
         "scene": "scene",
         "showlegend": true,
         "type": "scatter3d",
         "x": [
          0.826530612244898,
          0.7040816326530612,
          0.6938775510204082
         ],
         "y": [
          0.06490384615384616,
          0.055288461538461536,
          0.05448717948717949
         ],
         "z": [
          1.219279201042119,
          1.7399878763386543,
          1.1530748118155385
         ]
        },
        {
         "hovertemplate": "antecedents=frozenset({'pediatrician', 'pinterest'})<br>confidence=%{x}<br>support=%{y}<br>lift=%{z}<extra></extra>",
         "legendgroup": "frozenset({'pediatrician', 'pinterest'})",
         "marker": {
          "color": "#EF553B",
          "opacity": 0.7,
          "symbol": "circle"
         },
         "mode": "markers",
         "name": "frozenset({'pediatrician', 'pinterest'})",
         "scene": "scene",
         "showlegend": true,
         "type": "scatter3d",
         "x": [
          0.8392857142857142,
          0.7410714285714286,
          0.75,
          0.5714285714285714,
          0.625
         ],
         "y": [
          0.07532051282051282,
          0.06650641025641026,
          0.0673076923076923,
          0.05128205128205128,
          0.05608974358974359
         ],
         "z": [
          1.238095238095238,
          1.8314002828854314,
          1.2463382157123835,
          1.2232296005880912,
          1.278688524590164
         ]
        },
        {
         "hovertemplate": "antecedents=frozenset({'obgyn', 'wic'})<br>confidence=%{x}<br>support=%{y}<br>lift=%{z}<extra></extra>",
         "legendgroup": "frozenset({'obgyn', 'wic'})",
         "marker": {
          "color": "#00cc96",
          "opacity": 0.7,
          "symbol": "circle"
         },
         "mode": "markers",
         "name": "frozenset({'obgyn', 'wic'})",
         "scene": "scene",
         "showlegend": true,
         "type": "scatter3d",
         "x": [
          0.8333333333333334
         ],
         "y": [
          0.052083333333333336
         ],
         "z": [
          1.2293144208037825
         ]
        },
        {
         "hovertemplate": "antecedents=frozenset({'facebook', 'obgyn'})<br>confidence=%{x}<br>support=%{y}<br>lift=%{z}<extra></extra>",
         "legendgroup": "frozenset({'facebook', 'obgyn'})",
         "marker": {
          "color": "#ab63fa",
          "opacity": 0.7,
          "symbol": "circle"
         },
         "mode": "markers",
         "name": "frozenset({'facebook', 'obgyn'})",
         "scene": "scene",
         "showlegend": true,
         "type": "scatter3d",
         "x": [
          0.8663101604278076,
          0.679144385026738,
          0.7379679144385026,
          0.6096256684491979,
          0.5080213903743315,
          0.5347593582887701,
          0.6524064171122995
         ],
         "y": [
          0.12980769230769232,
          0.10176282051282051,
          0.11057692307692307,
          0.09134615384615384,
          0.07612179487179487,
          0.08012820512820513,
          0.09775641025641026
         ],
         "z": [
          1.2779610877232905,
          2.1621739604932886,
          1.823730608354953,
          1.737015603252509,
          1.5314267999689992,
          1.1447335834380532,
          1.3347593582887702
         ]
        },
        {
         "hovertemplate": "antecedents=frozenset({'obgyn', 'instagram'})<br>confidence=%{x}<br>support=%{y}<br>lift=%{z}<extra></extra>",
         "legendgroup": "frozenset({'obgyn', 'instagram'})",
         "marker": {
          "color": "#FFA15A",
          "opacity": 0.7,
          "symbol": "circle"
         },
         "mode": "markers",
         "name": "frozenset({'obgyn', 'instagram'})",
         "scene": "scene",
         "showlegend": true,
         "type": "scatter3d",
         "x": [
          0.9130434782608696
         ],
         "y": [
          0.05048076923076923
         ],
         "z": [
          1.3469010175763183
         ]
        },
        {
         "hovertemplate": "antecedents=frozenset({'obgyn', 'pinterest'})<br>confidence=%{x}<br>support=%{y}<br>lift=%{z}<extra></extra>",
         "legendgroup": "frozenset({'obgyn', 'pinterest'})",
         "marker": {
          "color": "#19d3f3",
          "opacity": 0.7,
          "symbol": "circle"
         },
         "mode": "markers",
         "name": "frozenset({'obgyn', 'pinterest'})",
         "scene": "scene",
         "showlegend": true,
         "type": "scatter3d",
         "x": [
          0.8481012658227848
         ],
         "y": [
          0.05368589743589743
         ],
         "z": [
          1.2510997396534698
         ]
        },
        {
         "hovertemplate": "antecedents=frozenset({'midwife', 'nurse'})<br>confidence=%{x}<br>support=%{y}<br>lift=%{z}<extra></extra>",
         "legendgroup": "frozenset({'midwife', 'nurse'})",
         "marker": {
          "color": "#FF6692",
          "opacity": 0.7,
          "symbol": "circle"
         },
         "mode": "markers",
         "name": "frozenset({'midwife', 'nurse'})",
         "scene": "scene",
         "showlegend": true,
         "type": "scatter3d",
         "x": [
          0.8571428571428571,
          0.7472527472527473
         ],
         "y": [
          0.0625,
          0.05448717948717949
         ],
         "z": [
          1.2644376899696048,
          1.2417728742628877
         ]
        },
        {
         "hovertemplate": "antecedents=frozenset({'facebook', 'midwife'})<br>confidence=%{x}<br>support=%{y}<br>lift=%{z}<extra></extra>",
         "legendgroup": "frozenset({'facebook', 'midwife'})",
         "marker": {
          "color": "#B6E880",
          "opacity": 0.7,
          "symbol": "circle"
         },
         "mode": "markers",
         "name": "frozenset({'facebook', 'midwife'})",
         "scene": "scene",
         "showlegend": true,
         "type": "scatter3d",
         "x": [
          0.8490566037735848,
          0.6415094339622641,
          0.7169811320754716,
          0.6320754716981132
         ],
         "y": [
          0.07211538461538461,
          0.05448717948717949,
          0.060897435897435896,
          0.05368589743589743
         ],
         "z": [
          1.2525090325170611,
          1.585354007098823,
          1.5348069516812841,
          1.2931642437364677
         ]
        },
        {
         "hovertemplate": "antecedents=frozenset({'midwife', 'websites'})<br>confidence=%{x}<br>support=%{y}<br>lift=%{z}<extra></extra>",
         "legendgroup": "frozenset({'midwife', 'websites'})",
         "marker": {
          "color": "#FF97FF",
          "opacity": 0.7,
          "symbol": "circle"
         },
         "mode": "markers",
         "name": "frozenset({'midwife', 'websites'})",
         "scene": "scene",
         "showlegend": true,
         "type": "scatter3d",
         "x": [
          0.8695652173913042,
          0.8260869565217391
         ],
         "y": [
          0.0641025641025641,
          0.060897435897435896
         ],
         "z": [
          1.2827628738822077,
          1.3727783245527703
         ]
        },
        {
         "hovertemplate": "antecedents=frozenset({'midwife', 'searchengine'})<br>confidence=%{x}<br>support=%{y}<br>lift=%{z}<extra></extra>",
         "legendgroup": "frozenset({'midwife', 'searchengine'})",
         "marker": {
          "color": "#FECB52",
          "opacity": 0.7,
          "symbol": "circle"
         },
         "mode": "markers",
         "name": "frozenset({'midwife', 'searchengine'})",
         "scene": "scene",
         "showlegend": true,
         "type": "scatter3d",
         "x": [
          0.883720930232558,
          0.7790697674418604
         ],
         "y": [
          0.060897435897435896,
          0.05368589743589743
         ],
         "z": [
          1.3036450602012204,
          1.2946458984919331
         ]
        },
        {
         "hovertemplate": "antecedents=frozenset({'lactationconsult', 'wic'})<br>confidence=%{x}<br>support=%{y}<br>lift=%{z}<extra></extra>",
         "legendgroup": "frozenset({'lactationconsult', 'wic'})",
         "marker": {
          "color": "#636efa",
          "opacity": 0.7,
          "symbol": "circle"
         },
         "mode": "markers",
         "name": "frozenset({'lactationconsult', 'wic'})",
         "scene": "scene",
         "showlegend": true,
         "type": "scatter3d",
         "x": [
          0.5941176470588236,
          0.5235294117647059,
          0.6764705882352943,
          0.5235294117647059
         ],
         "y": [
          0.08092948717948718,
          0.07131410256410256,
          0.0921474358974359,
          0.07131410256410256
         ],
         "z": [
          1.4682352941176473,
          1.491700241740532,
          1.124148194564111,
          1.0710896817743492
         ]
        },
        {
         "hovertemplate": "antecedents=frozenset({'nurse', 'wic'})<br>confidence=%{x}<br>support=%{y}<br>lift=%{z}<extra></extra>",
         "legendgroup": "frozenset({'nurse', 'wic'})",
         "marker": {
          "color": "#EF553B",
          "opacity": 0.7,
          "symbol": "circle"
         },
         "mode": "markers",
         "name": "frozenset({'nurse', 'wic'})",
         "scene": "scene",
         "showlegend": true,
         "type": "scatter3d",
         "x": [
          0.9017857142857143,
          0.6160714285714285,
          0.6339285714285714,
          0.6785714285714286,
          0.5714285714285714
         ],
         "y": [
          0.08092948717948718,
          0.055288461538461536,
          0.05689102564102564,
          0.060897435897435896,
          0.05128205128205128
         ],
         "z": [
          1.3302938196555218,
          1.9613702623906704,
          1.8062622309197651,
          1.1276393380254899,
          1.1690866510538642
         ]
        },
        {
         "hovertemplate": "antecedents=frozenset({'nurse', 'books'})<br>confidence=%{x}<br>support=%{y}<br>lift=%{z}<extra></extra>",
         "legendgroup": "frozenset({'nurse', 'books'})",
         "marker": {
          "color": "#00cc96",
          "opacity": 0.7,
          "symbol": "circle"
         },
         "mode": "markers",
         "name": "frozenset({'nurse', 'books'})",
         "scene": "scene",
         "showlegend": true,
         "type": "scatter3d",
         "x": [
          0.9318181818181819,
          0.7386363636363636,
          0.7954545454545455
         ],
         "y": [
          0.06570512820512821,
          0.052083333333333336,
          0.05608974358974359
         ],
         "z": [
          1.3745970341715024,
          1.581163262123811,
          1.6274217585692998
         ]
        },
        {
         "hovertemplate": "antecedents=frozenset({'facebook', 'lactationconsult'})<br>confidence=%{x}<br>support=%{y}<br>lift=%{z}<extra></extra>",
         "legendgroup": "frozenset({'facebook', 'lactationconsult'})",
         "marker": {
          "color": "#ab63fa",
          "opacity": 0.7,
          "symbol": "circle"
         },
         "mode": "markers",
         "name": "frozenset({'facebook', 'lactationconsult'})",
         "scene": "scene",
         "showlegend": true,
         "type": "scatter3d",
         "x": [
          0.5121951219512195,
          0.6060037523452159,
          0.6022514071294559
         ],
         "y": [
          0.21875,
          0.2588141025641026,
          0.25721153846153844
         ],
         "z": [
          1.2657812122675682,
          1.297243023888215,
          1.2321471411435425
         ]
        },
        {
         "hovertemplate": "antecedents=frozenset({'lactationconsult', 'app'})<br>confidence=%{x}<br>support=%{y}<br>lift=%{z}<extra></extra>",
         "legendgroup": "frozenset({'lactationconsult', 'app'})",
         "marker": {
          "color": "#FFA15A",
          "opacity": 0.7,
          "symbol": "circle"
         },
         "mode": "markers",
         "name": "frozenset({'lactationconsult', 'app'})",
         "scene": "scene",
         "showlegend": true,
         "type": "scatter3d",
         "x": [
          0.6915887850467289,
          0.7570093457943926,
          0.6822429906542056,
          0.6635514018691588,
          0.8598130841121495
         ],
         "y": [
          0.05929487179487179,
          0.06490384615384616,
          0.058493589743589744,
          0.05689102564102564,
          0.07371794871794872
         ],
         "z": [
          1.7091144628481538,
          1.257986236419976,
          2.0566165515373154,
          1.4204325034866385,
          1.7590929983146928
         ]
        },
        {
         "hovertemplate": "antecedents=frozenset({'nurse', 'app'})<br>confidence=%{x}<br>support=%{y}<br>lift=%{z}<extra></extra>",
         "legendgroup": "frozenset({'nurse', 'app'})",
         "marker": {
          "color": "#19d3f3",
          "opacity": 0.7,
          "symbol": "circle"
         },
         "mode": "markers",
         "name": "frozenset({'nurse', 'app'})",
         "scene": "scene",
         "showlegend": true,
         "type": "scatter3d",
         "x": [
          0.9866666666666666,
          0.88
         ],
         "y": [
          0.05929487179487179,
          0.052884615384615384
         ],
         "z": [
          1.4555082742316783,
          1.8003934426229509
         ]
        },
        {
         "hovertemplate": "antecedents=frozenset({'wic', 'hospital'})<br>confidence=%{x}<br>support=%{y}<br>lift=%{z}<extra></extra>",
         "legendgroup": "frozenset({'wic', 'hospital'})",
         "marker": {
          "color": "#FF6692",
          "opacity": 0.7,
          "symbol": "circle"
         },
         "mode": "markers",
         "name": "frozenset({'wic', 'hospital'})",
         "scene": "scene",
         "showlegend": true,
         "type": "scatter3d",
         "x": [
          0.872549019607843,
          0.696078431372549,
          0.6862745098039216
         ],
         "y": [
          0.07131410256410256,
          0.05689102564102564,
          0.05608974358974359
         ],
         "z": [
          1.2871645111945484,
          1.720209668025626,
          1.1404401973838805
         ]
        },
        {
         "hovertemplate": "antecedents=frozenset({'facebook', 'wic'})<br>confidence=%{x}<br>support=%{y}<br>lift=%{z}<extra></extra>",
         "legendgroup": "frozenset({'facebook', 'wic'})",
         "marker": {
          "color": "#B6E880",
          "opacity": 0.7,
          "symbol": "circle"
         },
         "mode": "markers",
         "name": "frozenset({'facebook', 'wic'})",
         "scene": "scene",
         "showlegend": true,
         "type": "scatter3d",
         "x": [
          0.8041958041958043,
          0.5314685314685315,
          0.6083916083916084
         ],
         "y": [
          0.0921474358974359,
          0.060897435897435896,
          0.06971153846153846
         ],
         "z": [
          1.1863313990973565,
          1.3134113411341133,
          1.2447093889716843
         ]
        },
        {
         "hovertemplate": "antecedents=frozenset({'websites', 'wic'})<br>confidence=%{x}<br>support=%{y}<br>lift=%{z}<extra></extra>",
         "legendgroup": "frozenset({'websites', 'wic'})",
         "marker": {
          "color": "#FF97FF",
          "opacity": 0.7,
          "symbol": "circle"
         },
         "mode": "markers",
         "name": "frozenset({'websites', 'wic'})",
         "scene": "scene",
         "showlegend": true,
         "type": "scatter3d",
         "x": [
          0.8250000000000001,
          0.8375
         ],
         "y": [
          0.052884615384615384,
          0.05368589743589743
         ],
         "z": [
          1.2170212765957447,
          1.3917443408788284
         ]
        },
        {
         "hovertemplate": "antecedents=frozenset({'searchengine', 'wic'})<br>confidence=%{x}<br>support=%{y}<br>lift=%{z}<extra></extra>",
         "legendgroup": "frozenset({'searchengine', 'wic'})",
         "marker": {
          "color": "#FECB52",
          "opacity": 0.7,
          "symbol": "circle"
         },
         "mode": "markers",
         "name": "frozenset({'searchengine', 'wic'})",
         "scene": "scene",
         "showlegend": true,
         "type": "scatter3d",
         "x": [
          0.809090909090909,
          0.5818181818181818,
          0.7909090909090909
         ],
         "y": [
          0.07131410256410256,
          0.05128205128205128,
          0.06971153846153846
         ],
         "z": [
          1.1935525467440358,
          1.4378397839783978,
          1.3143203002057862
         ]
        },
        {
         "hovertemplate": "antecedents=frozenset({'books', 'hospital'})<br>confidence=%{x}<br>support=%{y}<br>lift=%{z}<extra></extra>",
         "legendgroup": "frozenset({'books', 'hospital'})",
         "marker": {
          "color": "#636efa",
          "opacity": 0.7,
          "symbol": "circle"
         },
         "mode": "markers",
         "name": "frozenset({'books', 'hospital'})",
         "scene": "scene",
         "showlegend": true,
         "type": "scatter3d",
         "x": [
          0.8795180722891567
         ],
         "y": [
          0.058493589743589744
         ],
         "z": [
          1.2974450995471247
         ]
        },
        {
         "hovertemplate": "antecedents=frozenset({'pinterest', 'hospital'})<br>confidence=%{x}<br>support=%{y}<br>lift=%{z}<extra></extra>",
         "legendgroup": "frozenset({'pinterest', 'hospital'})",
         "marker": {
          "color": "#EF553B",
          "opacity": 0.7,
          "symbol": "circle"
         },
         "mode": "markers",
         "name": "frozenset({'pinterest', 'hospital'})",
         "scene": "scene",
         "showlegend": true,
         "type": "scatter3d",
         "x": [
          0.8999999999999999,
          0.6636363636363636,
          0.7727272727272726,
          0.609090909090909
         ],
         "y": [
          0.07932692307692307,
          0.058493589743589744,
          0.06810897435897435,
          0.05368589743589743
         ],
         "z": [
          1.3276595744680848,
          1.6400360036003598,
          1.2841060404309403,
          1.2461400894187777
         ]
        },
        {
         "hovertemplate": "antecedents=frozenset({'facebook', 'books'})<br>confidence=%{x}<br>support=%{y}<br>lift=%{z}<extra></extra>",
         "legendgroup": "frozenset({'facebook', 'books'})",
         "marker": {
          "color": "#00cc96",
          "opacity": 0.7,
          "symbol": "circle"
         },
         "mode": "markers",
         "name": "frozenset({'facebook', 'books'})",
         "scene": "scene",
         "showlegend": true,
         "type": "scatter3d",
         "x": [
          0.8736842105263158,
          0.7473684210526317,
          0.8
         ],
         "y": [
          0.06650641025641026,
          0.05689102564102564,
          0.060897435897435896
         ],
         "z": [
          1.2888391190742814,
          1.5998555565586352,
          1.63672131147541
         ]
        },
        {
         "hovertemplate": "antecedents=frozenset({'books', 'onlineforum'})<br>confidence=%{x}<br>support=%{y}<br>lift=%{z}<extra></extra>",
         "legendgroup": "frozenset({'books', 'onlineforum'})",
         "marker": {
          "color": "#ab63fa",
          "opacity": 0.7,
          "symbol": "circle"
         },
         "mode": "markers",
         "name": "frozenset({'books', 'onlineforum'})",
         "scene": "scene",
         "showlegend": true,
         "type": "scatter3d",
         "x": [
          0.8205128205128205,
          0.8461538461538461
         ],
         "y": [
          0.05128205128205128,
          0.052884615384615384
         ],
         "z": [
          1.210401891252955,
          1.7311475409836066
         ]
        },
        {
         "hovertemplate": "antecedents=frozenset({'facebook', 'instagram'})<br>confidence=%{x}<br>support=%{y}<br>lift=%{z}<extra></extra>",
         "legendgroup": "frozenset({'facebook', 'instagram'})",
         "marker": {
          "color": "#FFA15A",
          "opacity": 0.7,
          "symbol": "circle"
         },
         "mode": "markers",
         "name": "frozenset({'facebook', 'instagram'})",
         "scene": "scene",
         "showlegend": true,
         "type": "scatter3d",
         "x": [
          0.7404255319148937,
          0.6595744680851064,
          0.6297872340425532
         ],
         "y": [
          0.13942307692307693,
          0.12419871794871795,
          0.11858974358974358
         ],
         "z": [
          1.0922589406971481,
          1.411919273019233,
          1.2884827345657484
         ]
        },
        {
         "hovertemplate": "antecedents=frozenset({'facebook', 'pinterest'})<br>confidence=%{x}<br>support=%{y}<br>lift=%{z}<extra></extra>",
         "legendgroup": "frozenset({'facebook', 'pinterest'})",
         "marker": {
          "color": "#19d3f3",
          "opacity": 0.7,
          "symbol": "circle"
         },
         "mode": "markers",
         "name": "frozenset({'facebook', 'pinterest'})",
         "scene": "scene",
         "showlegend": true,
         "type": "scatter3d",
         "x": [
          0.7323943661971831,
          0.5211267605633803,
          0.6056338028169014
         ],
         "y": [
          0.125,
          0.0889423076923077,
          0.10336538461538461
         ],
         "z": [
          1.0804115472979723,
          1.1155509385644915,
          1.2390671900253982
         ]
        },
        {
         "hovertemplate": "antecedents=frozenset({'facebook', 'onlineforum'})<br>confidence=%{x}<br>support=%{y}<br>lift=%{z}<extra></extra>",
         "legendgroup": "frozenset({'facebook', 'onlineforum'})",
         "marker": {
          "color": "#FF6692",
          "opacity": 0.7,
          "symbol": "circle"
         },
         "mode": "markers",
         "name": "frozenset({'facebook', 'onlineforum'})",
         "scene": "scene",
         "showlegend": true,
         "type": "scatter3d",
         "x": [
          0.7491638795986622,
          0.6923076923076923,
          0.6722408026755853
         ],
         "y": [
          0.1794871794871795,
          0.1658653846153846,
          0.16105769230769232
         ],
         "z": [
          1.1051495528831328,
          1.4819897084048026,
          1.3753385602280828
         ]
        },
        {
         "hovertemplate": "antecedents=frozenset({'facebook', 'websites'})<br>confidence=%{x}<br>support=%{y}<br>lift=%{z}<extra></extra>",
         "legendgroup": "frozenset({'facebook', 'websites'})",
         "marker": {
          "color": "#B6E880",
          "opacity": 0.7,
          "symbol": "circle"
         },
         "mode": "markers",
         "name": "frozenset({'facebook', 'websites'})",
         "scene": "scene",
         "showlegend": true,
         "type": "scatter3d",
         "x": [
          0.7635933806146572,
          0.6501182033096926
         ],
         "y": [
          0.2588141025641026,
          0.2203525641025641
         ],
         "z": [
          1.1264356253038914,
          1.3300778979188466
         ]
        },
        {
         "hovertemplate": "antecedents=frozenset({'facebook', 'app'})<br>confidence=%{x}<br>support=%{y}<br>lift=%{z}<extra></extra>",
         "legendgroup": "frozenset({'facebook', 'app'})",
         "marker": {
          "color": "#FF97FF",
          "opacity": 0.7,
          "symbol": "circle"
         },
         "mode": "markers",
         "name": "frozenset({'facebook', 'app'})",
         "scene": "scene",
         "showlegend": true,
         "type": "scatter3d",
         "x": [
          0.8804347826086957,
          0.717391304347826,
          0.8478260869565217
         ],
         "y": [
          0.06490384615384616,
          0.052884615384615384,
          0.0625
         ],
         "z": [
          1.2987974098057353,
          2.162570888468809,
          1.734568781183179
         ]
        },
        {
         "hovertemplate": "antecedents=frozenset({'pinterest', 'instagram'})<br>confidence=%{x}<br>support=%{y}<br>lift=%{z}<extra></extra>",
         "legendgroup": "frozenset({'pinterest', 'instagram'})",
         "marker": {
          "color": "#FECB52",
          "opacity": 0.7,
          "symbol": "circle"
         },
         "mode": "markers",
         "name": "frozenset({'pinterest', 'instagram'})",
         "scene": "scene",
         "showlegend": true,
         "type": "scatter3d",
         "x": [
          0.7399999999999999,
          0.81
         ],
         "y": [
          0.05929487179487179,
          0.06490384615384616
         ],
         "z": [
          1.0916312056737587,
          1.3460452729693744
         ]
        },
        {
         "hovertemplate": "antecedents=frozenset({'pinterest', 'onlineforum'})<br>confidence=%{x}<br>support=%{y}<br>lift=%{z}<extra></extra>",
         "legendgroup": "frozenset({'pinterest', 'onlineforum'})",
         "marker": {
          "color": "#636efa",
          "opacity": 0.7,
          "symbol": "circle"
         },
         "mode": "markers",
         "name": "frozenset({'pinterest', 'onlineforum'})",
         "scene": "scene",
         "showlegend": true,
         "type": "scatter3d",
         "x": [
          0.7387387387387387,
          0.8018018018018017,
          0.6666666666666666,
          0.6306306306306306
         ],
         "y": [
          0.06570512820512821,
          0.07131410256410256,
          0.05929487179487179,
          0.05608974358974359
         ],
         "z": [
          1.0897706216855152,
          1.3324216360168424,
          1.4271012006861064,
          1.2902082410279132
         ]
        },
        {
         "hovertemplate": "antecedents=frozenset({'pinterest', 'websites'})<br>confidence=%{x}<br>support=%{y}<br>lift=%{z}<extra></extra>",
         "legendgroup": "frozenset({'pinterest', 'websites'})",
         "marker": {
          "color": "#EF553B",
          "opacity": 0.7,
          "symbol": "circle"
         },
         "mode": "markers",
         "name": "frozenset({'pinterest', 'websites'})",
         "scene": "scene",
         "showlegend": true,
         "type": "scatter3d",
         "x": [
          0.7931034482758621,
          0.503448275862069,
          0.7655172413793103,
          0.5103448275862068,
          0.6137931034482759
         ],
         "y": [
          0.0921474358974359,
          0.058493589743589744,
          0.0889423076923077,
          0.05929487179487179,
          0.07131410256410256
         ],
         "z": [
          1.1699682073856688,
          1.244165244110618,
          1.2721245236236742,
          1.538430784607696,
          1.25576031656303
         ]
        },
        {
         "hovertemplate": "antecedents=frozenset({'onlineforum', 'app'})<br>confidence=%{x}<br>support=%{y}<br>lift=%{z}<extra></extra>",
         "legendgroup": "frozenset({'onlineforum', 'app'})",
         "marker": {
          "color": "#00cc96",
          "opacity": 0.7,
          "symbol": "circle"
         },
         "mode": "markers",
         "name": "frozenset({'onlineforum', 'app'})",
         "scene": "scene",
         "showlegend": true,
         "type": "scatter3d",
         "x": [
          0.8690476190476191,
          0.7857142857142857,
          0.8571428571428572
         ],
         "y": [
          0.058493589743589744,
          0.052884615384615384,
          0.057692307692307696
         ],
         "z": [
          1.281999324552516,
          1.3056876545558302,
          1.7536299765807963
         ]
        },
        {
         "hovertemplate": "antecedents=frozenset({'websites', 'app'})<br>confidence=%{x}<br>support=%{y}<br>lift=%{z}<extra></extra>",
         "legendgroup": "frozenset({'websites', 'app'})",
         "marker": {
          "color": "#ab63fa",
          "opacity": 0.7,
          "symbol": "circle"
         },
         "mode": "markers",
         "name": "frozenset({'websites', 'app'})",
         "scene": "scene",
         "showlegend": true,
         "type": "scatter3d",
         "x": [
          0.8658536585365854,
          0.8292682926829268
         ],
         "y": [
          0.05689102564102564,
          0.05448717948717949
         ],
         "z": [
          1.277287666493686,
          1.6966013594562175
         ]
        },
        {
         "hovertemplate": "antecedents=frozenset({'searchengine', 'app'})<br>confidence=%{x}<br>support=%{y}<br>lift=%{z}<extra></extra>",
         "legendgroup": "frozenset({'searchengine', 'app'})",
         "marker": {
          "color": "#FFA15A",
          "opacity": 0.7,
          "symbol": "circle"
         },
         "mode": "markers",
         "name": "frozenset({'searchengine', 'app'})",
         "scene": "scene",
         "showlegend": true,
         "type": "scatter3d",
         "x": [
          0.8761904761904762,
          0.6285714285714286,
          0.7428571428571428,
          0.6857142857142857,
          0.6476190476190475
         ],
         "y": [
          0.07371794871794872,
          0.052884615384615384,
          0.0625,
          0.057692307692307696,
          0.05448717948717949
         ],
         "z": [
          1.2925363053022627,
          1.5533804809052334,
          1.234468327943694,
          2.067080745341615,
          1.3863268806665032
         ]
        }
       ],
       "layout": {
        "legend": {
         "title": {
          "text": "antecedents"
         },
         "tracegroupgap": 0
        },
        "margin": {
         "b": 0,
         "l": 0,
         "r": 0,
         "t": 0
        },
        "scene": {
         "domain": {
          "x": [
           0,
           1
          ],
          "y": [
           0,
           1
          ]
         },
         "xaxis": {
          "title": {
           "text": "confidence"
          }
         },
         "yaxis": {
          "title": {
           "text": "support"
          }
         },
         "zaxis": {
          "title": {
           "text": "lift"
          }
         }
        },
        "template": {
         "data": {
          "bar": [
           {
            "error_x": {
             "color": "#2a3f5f"
            },
            "error_y": {
             "color": "#2a3f5f"
            },
            "marker": {
             "line": {
              "color": "#E5ECF6",
              "width": 0.5
             },
             "pattern": {
              "fillmode": "overlay",
              "size": 10,
              "solidity": 0.2
             }
            },
            "type": "bar"
           }
          ],
          "barpolar": [
           {
            "marker": {
             "line": {
              "color": "#E5ECF6",
              "width": 0.5
             },
             "pattern": {
              "fillmode": "overlay",
              "size": 10,
              "solidity": 0.2
             }
            },
            "type": "barpolar"
           }
          ],
          "carpet": [
           {
            "aaxis": {
             "endlinecolor": "#2a3f5f",
             "gridcolor": "white",
             "linecolor": "white",
             "minorgridcolor": "white",
             "startlinecolor": "#2a3f5f"
            },
            "baxis": {
             "endlinecolor": "#2a3f5f",
             "gridcolor": "white",
             "linecolor": "white",
             "minorgridcolor": "white",
             "startlinecolor": "#2a3f5f"
            },
            "type": "carpet"
           }
          ],
          "choropleth": [
           {
            "colorbar": {
             "outlinewidth": 0,
             "ticks": ""
            },
            "type": "choropleth"
           }
          ],
          "contour": [
           {
            "colorbar": {
             "outlinewidth": 0,
             "ticks": ""
            },
            "colorscale": [
             [
              0,
              "#0d0887"
             ],
             [
              0.1111111111111111,
              "#46039f"
             ],
             [
              0.2222222222222222,
              "#7201a8"
             ],
             [
              0.3333333333333333,
              "#9c179e"
             ],
             [
              0.4444444444444444,
              "#bd3786"
             ],
             [
              0.5555555555555556,
              "#d8576b"
             ],
             [
              0.6666666666666666,
              "#ed7953"
             ],
             [
              0.7777777777777778,
              "#fb9f3a"
             ],
             [
              0.8888888888888888,
              "#fdca26"
             ],
             [
              1,
              "#f0f921"
             ]
            ],
            "type": "contour"
           }
          ],
          "contourcarpet": [
           {
            "colorbar": {
             "outlinewidth": 0,
             "ticks": ""
            },
            "type": "contourcarpet"
           }
          ],
          "heatmap": [
           {
            "colorbar": {
             "outlinewidth": 0,
             "ticks": ""
            },
            "colorscale": [
             [
              0,
              "#0d0887"
             ],
             [
              0.1111111111111111,
              "#46039f"
             ],
             [
              0.2222222222222222,
              "#7201a8"
             ],
             [
              0.3333333333333333,
              "#9c179e"
             ],
             [
              0.4444444444444444,
              "#bd3786"
             ],
             [
              0.5555555555555556,
              "#d8576b"
             ],
             [
              0.6666666666666666,
              "#ed7953"
             ],
             [
              0.7777777777777778,
              "#fb9f3a"
             ],
             [
              0.8888888888888888,
              "#fdca26"
             ],
             [
              1,
              "#f0f921"
             ]
            ],
            "type": "heatmap"
           }
          ],
          "heatmapgl": [
           {
            "colorbar": {
             "outlinewidth": 0,
             "ticks": ""
            },
            "colorscale": [
             [
              0,
              "#0d0887"
             ],
             [
              0.1111111111111111,
              "#46039f"
             ],
             [
              0.2222222222222222,
              "#7201a8"
             ],
             [
              0.3333333333333333,
              "#9c179e"
             ],
             [
              0.4444444444444444,
              "#bd3786"
             ],
             [
              0.5555555555555556,
              "#d8576b"
             ],
             [
              0.6666666666666666,
              "#ed7953"
             ],
             [
              0.7777777777777778,
              "#fb9f3a"
             ],
             [
              0.8888888888888888,
              "#fdca26"
             ],
             [
              1,
              "#f0f921"
             ]
            ],
            "type": "heatmapgl"
           }
          ],
          "histogram": [
           {
            "marker": {
             "pattern": {
              "fillmode": "overlay",
              "size": 10,
              "solidity": 0.2
             }
            },
            "type": "histogram"
           }
          ],
          "histogram2d": [
           {
            "colorbar": {
             "outlinewidth": 0,
             "ticks": ""
            },
            "colorscale": [
             [
              0,
              "#0d0887"
             ],
             [
              0.1111111111111111,
              "#46039f"
             ],
             [
              0.2222222222222222,
              "#7201a8"
             ],
             [
              0.3333333333333333,
              "#9c179e"
             ],
             [
              0.4444444444444444,
              "#bd3786"
             ],
             [
              0.5555555555555556,
              "#d8576b"
             ],
             [
              0.6666666666666666,
              "#ed7953"
             ],
             [
              0.7777777777777778,
              "#fb9f3a"
             ],
             [
              0.8888888888888888,
              "#fdca26"
             ],
             [
              1,
              "#f0f921"
             ]
            ],
            "type": "histogram2d"
           }
          ],
          "histogram2dcontour": [
           {
            "colorbar": {
             "outlinewidth": 0,
             "ticks": ""
            },
            "colorscale": [
             [
              0,
              "#0d0887"
             ],
             [
              0.1111111111111111,
              "#46039f"
             ],
             [
              0.2222222222222222,
              "#7201a8"
             ],
             [
              0.3333333333333333,
              "#9c179e"
             ],
             [
              0.4444444444444444,
              "#bd3786"
             ],
             [
              0.5555555555555556,
              "#d8576b"
             ],
             [
              0.6666666666666666,
              "#ed7953"
             ],
             [
              0.7777777777777778,
              "#fb9f3a"
             ],
             [
              0.8888888888888888,
              "#fdca26"
             ],
             [
              1,
              "#f0f921"
             ]
            ],
            "type": "histogram2dcontour"
           }
          ],
          "mesh3d": [
           {
            "colorbar": {
             "outlinewidth": 0,
             "ticks": ""
            },
            "type": "mesh3d"
           }
          ],
          "parcoords": [
           {
            "line": {
             "colorbar": {
              "outlinewidth": 0,
              "ticks": ""
             }
            },
            "type": "parcoords"
           }
          ],
          "pie": [
           {
            "automargin": true,
            "type": "pie"
           }
          ],
          "scatter": [
           {
            "fillpattern": {
             "fillmode": "overlay",
             "size": 10,
             "solidity": 0.2
            },
            "type": "scatter"
           }
          ],
          "scatter3d": [
           {
            "line": {
             "colorbar": {
              "outlinewidth": 0,
              "ticks": ""
             }
            },
            "marker": {
             "colorbar": {
              "outlinewidth": 0,
              "ticks": ""
             }
            },
            "type": "scatter3d"
           }
          ],
          "scattercarpet": [
           {
            "marker": {
             "colorbar": {
              "outlinewidth": 0,
              "ticks": ""
             }
            },
            "type": "scattercarpet"
           }
          ],
          "scattergeo": [
           {
            "marker": {
             "colorbar": {
              "outlinewidth": 0,
              "ticks": ""
             }
            },
            "type": "scattergeo"
           }
          ],
          "scattergl": [
           {
            "marker": {
             "colorbar": {
              "outlinewidth": 0,
              "ticks": ""
             }
            },
            "type": "scattergl"
           }
          ],
          "scattermapbox": [
           {
            "marker": {
             "colorbar": {
              "outlinewidth": 0,
              "ticks": ""
             }
            },
            "type": "scattermapbox"
           }
          ],
          "scatterpolar": [
           {
            "marker": {
             "colorbar": {
              "outlinewidth": 0,
              "ticks": ""
             }
            },
            "type": "scatterpolar"
           }
          ],
          "scatterpolargl": [
           {
            "marker": {
             "colorbar": {
              "outlinewidth": 0,
              "ticks": ""
             }
            },
            "type": "scatterpolargl"
           }
          ],
          "scatterternary": [
           {
            "marker": {
             "colorbar": {
              "outlinewidth": 0,
              "ticks": ""
             }
            },
            "type": "scatterternary"
           }
          ],
          "surface": [
           {
            "colorbar": {
             "outlinewidth": 0,
             "ticks": ""
            },
            "colorscale": [
             [
              0,
              "#0d0887"
             ],
             [
              0.1111111111111111,
              "#46039f"
             ],
             [
              0.2222222222222222,
              "#7201a8"
             ],
             [
              0.3333333333333333,
              "#9c179e"
             ],
             [
              0.4444444444444444,
              "#bd3786"
             ],
             [
              0.5555555555555556,
              "#d8576b"
             ],
             [
              0.6666666666666666,
              "#ed7953"
             ],
             [
              0.7777777777777778,
              "#fb9f3a"
             ],
             [
              0.8888888888888888,
              "#fdca26"
             ],
             [
              1,
              "#f0f921"
             ]
            ],
            "type": "surface"
           }
          ],
          "table": [
           {
            "cells": {
             "fill": {
              "color": "#EBF0F8"
             },
             "line": {
              "color": "white"
             }
            },
            "header": {
             "fill": {
              "color": "#C8D4E3"
             },
             "line": {
              "color": "white"
             }
            },
            "type": "table"
           }
          ]
         },
         "layout": {
          "annotationdefaults": {
           "arrowcolor": "#2a3f5f",
           "arrowhead": 0,
           "arrowwidth": 1
          },
          "autotypenumbers": "strict",
          "coloraxis": {
           "colorbar": {
            "outlinewidth": 0,
            "ticks": ""
           }
          },
          "colorscale": {
           "diverging": [
            [
             0,
             "#8e0152"
            ],
            [
             0.1,
             "#c51b7d"
            ],
            [
             0.2,
             "#de77ae"
            ],
            [
             0.3,
             "#f1b6da"
            ],
            [
             0.4,
             "#fde0ef"
            ],
            [
             0.5,
             "#f7f7f7"
            ],
            [
             0.6,
             "#e6f5d0"
            ],
            [
             0.7,
             "#b8e186"
            ],
            [
             0.8,
             "#7fbc41"
            ],
            [
             0.9,
             "#4d9221"
            ],
            [
             1,
             "#276419"
            ]
           ],
           "sequential": [
            [
             0,
             "#0d0887"
            ],
            [
             0.1111111111111111,
             "#46039f"
            ],
            [
             0.2222222222222222,
             "#7201a8"
            ],
            [
             0.3333333333333333,
             "#9c179e"
            ],
            [
             0.4444444444444444,
             "#bd3786"
            ],
            [
             0.5555555555555556,
             "#d8576b"
            ],
            [
             0.6666666666666666,
             "#ed7953"
            ],
            [
             0.7777777777777778,
             "#fb9f3a"
            ],
            [
             0.8888888888888888,
             "#fdca26"
            ],
            [
             1,
             "#f0f921"
            ]
           ],
           "sequentialminus": [
            [
             0,
             "#0d0887"
            ],
            [
             0.1111111111111111,
             "#46039f"
            ],
            [
             0.2222222222222222,
             "#7201a8"
            ],
            [
             0.3333333333333333,
             "#9c179e"
            ],
            [
             0.4444444444444444,
             "#bd3786"
            ],
            [
             0.5555555555555556,
             "#d8576b"
            ],
            [
             0.6666666666666666,
             "#ed7953"
            ],
            [
             0.7777777777777778,
             "#fb9f3a"
            ],
            [
             0.8888888888888888,
             "#fdca26"
            ],
            [
             1,
             "#f0f921"
            ]
           ]
          },
          "colorway": [
           "#636efa",
           "#EF553B",
           "#00cc96",
           "#ab63fa",
           "#FFA15A",
           "#19d3f3",
           "#FF6692",
           "#B6E880",
           "#FF97FF",
           "#FECB52"
          ],
          "font": {
           "color": "#2a3f5f"
          },
          "geo": {
           "bgcolor": "white",
           "lakecolor": "white",
           "landcolor": "#E5ECF6",
           "showlakes": true,
           "showland": true,
           "subunitcolor": "white"
          },
          "hoverlabel": {
           "align": "left"
          },
          "hovermode": "closest",
          "mapbox": {
           "style": "light"
          },
          "paper_bgcolor": "white",
          "plot_bgcolor": "#E5ECF6",
          "polar": {
           "angularaxis": {
            "gridcolor": "white",
            "linecolor": "white",
            "ticks": ""
           },
           "bgcolor": "#E5ECF6",
           "radialaxis": {
            "gridcolor": "white",
            "linecolor": "white",
            "ticks": ""
           }
          },
          "scene": {
           "xaxis": {
            "backgroundcolor": "#E5ECF6",
            "gridcolor": "white",
            "gridwidth": 2,
            "linecolor": "white",
            "showbackground": true,
            "ticks": "",
            "zerolinecolor": "white"
           },
           "yaxis": {
            "backgroundcolor": "#E5ECF6",
            "gridcolor": "white",
            "gridwidth": 2,
            "linecolor": "white",
            "showbackground": true,
            "ticks": "",
            "zerolinecolor": "white"
           },
           "zaxis": {
            "backgroundcolor": "#E5ECF6",
            "gridcolor": "white",
            "gridwidth": 2,
            "linecolor": "white",
            "showbackground": true,
            "ticks": "",
            "zerolinecolor": "white"
           }
          },
          "shapedefaults": {
           "line": {
            "color": "#2a3f5f"
           }
          },
          "ternary": {
           "aaxis": {
            "gridcolor": "white",
            "linecolor": "white",
            "ticks": ""
           },
           "baxis": {
            "gridcolor": "white",
            "linecolor": "white",
            "ticks": ""
           },
           "bgcolor": "#E5ECF6",
           "caxis": {
            "gridcolor": "white",
            "linecolor": "white",
            "ticks": ""
           }
          },
          "title": {
           "x": 0.05
          },
          "xaxis": {
           "automargin": true,
           "gridcolor": "white",
           "linecolor": "white",
           "ticks": "",
           "title": {
            "standoff": 15
           },
           "zerolinecolor": "white",
           "zerolinewidth": 2
          },
          "yaxis": {
           "automargin": true,
           "gridcolor": "white",
           "linecolor": "white",
           "ticks": "",
           "title": {
            "standoff": 15
           },
           "zerolinecolor": "white",
           "zerolinewidth": 2
          }
         }
        }
       }
      }
     },
     "metadata": {},
     "output_type": "display_data"
    }
   ],
   "source": [
    "fig = px.scatter_3d(rules, x='confidence', y='support', z='lift', opacity=0.7, color='antecedents')\n",
    "                    #color='petal_length', symbol='species')\n",
    "# tight layout\n",
    "fig.update_layout(margin=dict(l=0, r=0, b=0, t=0))\n",
    "fig.show()"
   ]
  },
  {
   "cell_type": "code",
   "execution_count": 24,
   "metadata": {},
   "outputs": [
    {
     "name": "stderr",
     "output_type": "stream",
     "text": [
      "<>:24: DeprecationWarning:\n",
      "\n",
      "invalid escape sequence \\d\n",
      "\n",
      "<>:24: DeprecationWarning:\n",
      "\n",
      "invalid escape sequence \\d\n",
      "\n",
      "/var/folders/jk/45pfmj415lb9l0__2lq4xmr40000gn/T/ipykernel_52500/3930746849.py:24: DeprecationWarning:\n",
      "\n",
      "invalid escape sequence \\d\n",
      "\n"
     ]
    },
    {
     "data": {
      "image/png": "[encoded data removed]",
      "text/plain": [
       "<Figure size 720x720 with 1 Axes>"
      ]
     },
     "metadata": {},
     "output_type": "display_data"
    }
   ],
   "source": [
    "def draw_network(rules, rules_to_show):\n",
    "      # Directional Graph from NetworkX\n",
    "  network = nx.DiGraph(directed=True)\n",
    "  \n",
    "  # Loop through number of rules to show\n",
    "  for i in range(rules_to_show):\n",
    "    \n",
    "    # Add a Rule Node\n",
    "    network.add_nodes_from([\"R\"+str(i)])\n",
    "    for antecedents in rules.iloc[i]['antecedents']: \n",
    "        # Add antecedent node and link to rule\n",
    "        network.add_nodes_from([antecedents])\n",
    "        network.add_edge(antecedents, \"R\"+str(i),  weight = 2)\n",
    "      \n",
    "    for consequents in rules.iloc[i]['consequents']:\n",
    "        # Add consequent node and link to rule\n",
    "        network.add_nodes_from([consequents])\n",
    "        network.add_edge(\"R\"+str(i), consequents,  weight = 2)\n",
    "\n",
    "  color_map=[]  \n",
    "  \n",
    "  # For every node, if it's a rule, colour as Black, otherwise Orange\n",
    "  for node in network:\n",
    "       if re.compile(\"^[R]\\d+$\").fullmatch(node) != None:\n",
    "            color_map.append('black')\n",
    "       else:\n",
    "            color_map.append('orange')\n",
    "  \n",
    "  # Position nodes using spring layout\n",
    "  pos = nx.spring_layout(network, k=16, scale=1)\n",
    "  # Draw the network graph\n",
    "  nx.draw(network, pos, node_color = color_map, font_size=8)            \n",
    "  \n",
    "  # Shift the text position upwards\n",
    "  for p in pos:  \n",
    "      pos[p][1] += 0.12\n",
    "  nx.draw_networkx_labels(network, pos)\n",
    "  plt.title(\"Network Graph for Association Rules\")\n",
    "  plt.show()\n",
    "\n",
    "draw_network(rules, 10)"
   ]
  },
  {
   "cell_type": "markdown",
   "metadata": {},
   "source": [
    "__Inference:__\n",
    "\n",
    "From the results it’s very clear that, higher the LIFT value, stronger the correlation between the antecedents and the consequents.\n",
    "\n",
    "A lift greater than 1 suggests that the presence of the antecedent increases the chances that the consequent will occur in a given transaction.\n",
    "\n",
    "Lift below 1 indicates that purchasing the antecedent reduces the chances of purchasing the consequent in the same transaction. Note: This could indicate that the items are seen by customers as alternatives to each other.\n",
    "When the lift is 1, then purchasing the antecedent makes no difference on the chances of purchasing the consequent.\n"
   ]
  }
 ],
 "metadata": {
  "kernelspec": {
   "display_name": "Python 3.9.14 64-bit",
   "language": "python",
   "name": "python3"
  },
  "language_info": {
   "codemirror_mode": {
    "name": "ipython",
    "version": 3
   },
   "file_extension": ".py",
   "mimetype": "text/x-python",
   "name": "python",
   "nbconvert_exporter": "python",
   "pygments_lexer": "ipython3",
   "version": "3.9.14"
  },
  "orig_nbformat": 4,
  "vscode": {
   "interpreter": {
    "hash": "a665b5d41d17b532ea9890333293a1b812fa0b73c9c25c950b3cedf1bebd0438"
   }
  }
 },
 "nbformat": 4,
 "nbformat_minor": 2
}
